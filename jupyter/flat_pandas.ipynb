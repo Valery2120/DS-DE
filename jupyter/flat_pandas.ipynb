{
 "cells": [
  {
   "cell_type": "markdown",
   "id": "a76e4b41",
   "metadata": {
    "slideshow": {
     "slide_type": "-"
    }
   },
   "source": [
    "# Анализ характеристик и стоимости квартир.\n",
    "Источник данных: выгрузка из test.csv.\n",
    "\n",
    "*Данные: Список квартир с размерами помещений.*\n",
    "\n",
    "Этапы работы:\n",
    "1. Считать файл.\n",
    "2. Определить сколько квартир в списке и какое количество 1, 2, 3-комнатных квартир.\n",
    "3. Рассчитать площадь и объем квартир.\n",
    "4. Определить квартиры с наименьшей и наибольшей комнатой по площади.\n",
    "5. Определить квартиры с наименьшей и наибольшей ванной по объему.\n",
    "6. Рассчитать стоимость квартир исходя из 600 $ за 1 м2.\n",
    "7. Сохранить в файл xlsx (Адреса, площадь, объем, стоимость).\n",
    "\n",
    "***"
   ]
  },
  {
   "cell_type": "code",
   "execution_count": 1,
   "id": "7700eb36",
   "metadata": {},
   "outputs": [],
   "source": [
    "import matplotlib.pyplot as plt\n",
    "import numpy as np\n",
    "import pandas as pd"
   ]
  },
  {
   "cell_type": "code",
   "execution_count": 2,
   "id": "d5538e3e",
   "metadata": {},
   "outputs": [],
   "source": [
    "flats = pd.read_csv('C:/Users/caven/PycharmProjects/pythonInternship/test.csv', sep=';', \n",
    "                    decimal=',', dtype={'Дом ' :np.str_, 'Квартира' :np.str_}, encoding='cp1251')"
   ]
  },
  {
   "cell_type": "code",
   "execution_count": 3,
   "id": "2f33d91d",
   "metadata": {
    "scrolled": true
   },
   "outputs": [],
   "source": [
    "flats.columns = [column.strip() for column in flats.columns]"
   ]
  },
  {
   "cell_type": "code",
   "execution_count": 4,
   "id": "8c581b98",
   "metadata": {},
   "outputs": [],
   "source": [
    "#Создаем новые столбцы с данными.\n",
    "flats['Адрес'] = flats['Улица'] + ' ' + flats['Дом'] + '-' + flats['Квартира']\n",
    "flats['Площадь, кв.м.'] = flats['Ширина'] * flats['Длина']\n",
    "flats['Объем, куб.м.'] = flats['Площадь, кв.м.'] * flats['Высота']\n",
    "flats['Стоимость, $'] = flats['Площадь, кв.м.'] * 600"
   ]
  },
  {
   "cell_type": "code",
   "execution_count": 5,
   "id": "e9838654",
   "metadata": {},
   "outputs": [],
   "source": [
    "#Определяем количества комнат в квартирах.\n",
    "amount_room = [line for line in flats.groupby('Помещение')['Адрес'].value_counts()['Комната']]"
   ]
  },
  {
   "cell_type": "code",
   "execution_count": 6,
   "id": "0b0f4210",
   "metadata": {},
   "outputs": [],
   "source": [
    "#Формируем словарь в котором значение - количество комната, а ключ - количество квартир с таким количеством комнат.\n",
    "amount_room_per_flat = {i : amount_room.count(i) for i in range(1, 4)}"
   ]
  },
  {
   "cell_type": "code",
   "execution_count": 7,
   "id": "64bf2c00",
   "metadata": {},
   "outputs": [],
   "source": [
    "flats_info = flats[['Адрес', 'Площадь, кв.м.', 'Объем, куб.м.', 'Стоимость, $']].groupby(['Адрес']).sum()"
   ]
  },
  {
   "cell_type": "markdown",
   "id": "88b75e80",
   "metadata": {},
   "source": [
    "##### Сводные данные с характеристиками по каждой квартире  "
   ]
  },
  {
   "cell_type": "code",
   "execution_count": 8,
   "id": "b6c70d01",
   "metadata": {},
   "outputs": [
    {
     "data": {
      "text/html": [
       "<div>\n",
       "<style scoped>\n",
       "    .dataframe tbody tr th:only-of-type {\n",
       "        vertical-align: middle;\n",
       "    }\n",
       "\n",
       "    .dataframe tbody tr th {\n",
       "        vertical-align: top;\n",
       "    }\n",
       "\n",
       "    .dataframe thead th {\n",
       "        text-align: right;\n",
       "    }\n",
       "</style>\n",
       "<table border=\"1\" class=\"dataframe\">\n",
       "  <thead>\n",
       "    <tr style=\"text-align: right;\">\n",
       "      <th></th>\n",
       "      <th>Адрес</th>\n",
       "      <th>Площадь, кв.м.</th>\n",
       "      <th>Объем, куб.м.</th>\n",
       "      <th>Стоимость, $</th>\n",
       "    </tr>\n",
       "  </thead>\n",
       "  <tbody>\n",
       "    <tr>\n",
       "      <th>0</th>\n",
       "      <td>Артема 63-3</td>\n",
       "      <td>43.05</td>\n",
       "      <td>109.7775</td>\n",
       "      <td>25830.0</td>\n",
       "    </tr>\n",
       "    <tr>\n",
       "      <th>1</th>\n",
       "      <td>Билецкого 45-35</td>\n",
       "      <td>17.29</td>\n",
       "      <td>44.9540</td>\n",
       "      <td>10374.0</td>\n",
       "    </tr>\n",
       "    <tr>\n",
       "      <th>2</th>\n",
       "      <td>Кожара 32-54</td>\n",
       "      <td>29.21</td>\n",
       "      <td>74.4855</td>\n",
       "      <td>17526.0</td>\n",
       "    </tr>\n",
       "    <tr>\n",
       "      <th>3</th>\n",
       "      <td>Крайняя 82-5</td>\n",
       "      <td>58.65</td>\n",
       "      <td>152.4900</td>\n",
       "      <td>35190.0</td>\n",
       "    </tr>\n",
       "    <tr>\n",
       "      <th>4</th>\n",
       "      <td>Полесская 74-9</td>\n",
       "      <td>42.45</td>\n",
       "      <td>112.4925</td>\n",
       "      <td>25470.0</td>\n",
       "    </tr>\n",
       "    <tr>\n",
       "      <th>5</th>\n",
       "      <td>Советвская 1-42</td>\n",
       "      <td>30.09</td>\n",
       "      <td>75.2250</td>\n",
       "      <td>18054.0</td>\n",
       "    </tr>\n",
       "  </tbody>\n",
       "</table>\n",
       "</div>"
      ],
      "text/plain": [
       "             Адрес  Площадь, кв.м.  Объем, куб.м.  Стоимость, $\n",
       "0      Артема 63-3           43.05       109.7775       25830.0\n",
       "1  Билецкого 45-35           17.29        44.9540       10374.0\n",
       "2     Кожара 32-54           29.21        74.4855       17526.0\n",
       "3     Крайняя 82-5           58.65       152.4900       35190.0\n",
       "4   Полесская 74-9           42.45       112.4925       25470.0\n",
       "5  Советвская 1-42           30.09        75.2250       18054.0"
      ]
     },
     "execution_count": 8,
     "metadata": {},
     "output_type": "execute_result"
    }
   ],
   "source": [
    "flats_info = flats_info.reset_index()\n",
    "flats_info"
   ]
  },
  {
   "cell_type": "markdown",
   "id": "6972fea1",
   "metadata": {},
   "source": [
    "##### Распределение квартир по их характеристикам "
   ]
  },
  {
   "cell_type": "code",
   "execution_count": 9,
   "id": "28322cbc",
   "metadata": {},
   "outputs": [
    {
     "data": {
      "image/png": "[encoded data removed]",
      "text/plain": [
       "<Figure size 432x288 with 1 Axes>"
      ]
     },
     "metadata": {
      "needs_background": "light"
     },
     "output_type": "display_data"
    }
   ],
   "source": [
    "plt.hist(flats_info['Площадь, кв.м.'])\n",
    "plt.xlabel('кв.м.')\n",
    "plt.title('Распределение площадей квартир')\n",
    "plt.show()"
   ]
  },
  {
   "cell_type": "code",
   "execution_count": 10,
   "id": "634b5d9d",
   "metadata": {},
   "outputs": [
    {
     "data": {
      "image/png": "[encoded data removed]",
      "text/plain": [
       "<Figure size 432x288 with 1 Axes>"
      ]
     },
     "metadata": {
      "needs_background": "light"
     },
     "output_type": "display_data"
    }
   ],
   "source": [
    "plt.hist(flats_info['Объем, куб.м.'])\n",
    "plt.xlabel('куб.м.')\n",
    "plt.title('Распределение объемов квартир')\n",
    "plt.show()"
   ]
  },
  {
   "cell_type": "code",
   "execution_count": 11,
   "id": "c9210b0a",
   "metadata": {},
   "outputs": [
    {
     "data": {
      "image/png": "[encoded data removed]",
      "text/plain": [
       "<Figure size 432x288 with 1 Axes>"
      ]
     },
     "metadata": {
      "needs_background": "light"
     },
     "output_type": "display_data"
    }
   ],
   "source": [
    "plt.hist(flats_info['Стоимость, $'])\n",
    "plt.xlabel('USD')\n",
    "plt.title('Распределение стоимости квартир')\n",
    "plt.show()"
   ]
  },
  {
   "cell_type": "markdown",
   "id": "b7b3bd0a",
   "metadata": {},
   "source": [
    "#### Результирующие данные"
   ]
  },
  {
   "cell_type": "code",
   "execution_count": 12,
   "id": "fb9440ca",
   "metadata": {},
   "outputs": [],
   "source": [
    "data = {'Запрашиваемые данные':\n",
    "        [\n",
    "            'Количество квартир:',\n",
    "            'Количество 1-комнатных квартир:',\n",
    "            'Количество 2-комнатных квартир:',\n",
    "            'Количество 3-комнатных квартир:',\n",
    "            'Квартира с наименьшей комнатой по площади:',\n",
    "            'Квартира с наибольшей комнатой по площади:',\n",
    "            'Квартира с наименьшей ванной по объему:',\n",
    "            'Квартира с наибольшей ванной по объему:'],\n",
    "        'Значение':\n",
    "            [len(flats[\"Адрес\"].unique()),\n",
    "             amount_room_per_flat[1],\n",
    "             amount_room_per_flat[2],\n",
    "             amount_room_per_flat[3],\n",
    "             flats['Адрес'].iloc[flats['Площадь, кв.м.'][flats['Помещение'] == 'Комната'].idxmin()],\n",
    "             flats['Адрес'].iloc[flats['Площадь, кв.м.'][flats['Помещение'] == 'Комната'].idxmax()],\n",
    "             flats['Адрес'].iloc[flats['Объем, куб.м.'][flats['Помещение'] == 'Ванна'].idxmin()],\n",
    "             flats['Адрес'].iloc[flats['Объем, куб.м.'][flats['Помещение'] == 'Ванна'].idxmax()]]}"
   ]
  },
  {
   "cell_type": "code",
   "execution_count": 13,
   "id": "b5239c87",
   "metadata": {},
   "outputs": [
    {
     "data": {
      "text/html": [
       "<div>\n",
       "<style scoped>\n",
       "    .dataframe tbody tr th:only-of-type {\n",
       "        vertical-align: middle;\n",
       "    }\n",
       "\n",
       "    .dataframe tbody tr th {\n",
       "        vertical-align: top;\n",
       "    }\n",
       "\n",
       "    .dataframe thead th {\n",
       "        text-align: right;\n",
       "    }\n",
       "</style>\n",
       "<table border=\"1\" class=\"dataframe\">\n",
       "  <thead>\n",
       "    <tr style=\"text-align: right;\">\n",
       "      <th></th>\n",
       "      <th>Запрашиваемые данные</th>\n",
       "      <th>Значение</th>\n",
       "    </tr>\n",
       "  </thead>\n",
       "  <tbody>\n",
       "    <tr>\n",
       "      <th>0</th>\n",
       "      <td>Количество квартир:</td>\n",
       "      <td>6</td>\n",
       "    </tr>\n",
       "    <tr>\n",
       "      <th>1</th>\n",
       "      <td>Количество 1-комнатных квартир:</td>\n",
       "      <td>2</td>\n",
       "    </tr>\n",
       "    <tr>\n",
       "      <th>2</th>\n",
       "      <td>Количество 2-комнатных квартир:</td>\n",
       "      <td>3</td>\n",
       "    </tr>\n",
       "    <tr>\n",
       "      <th>3</th>\n",
       "      <td>Количество 3-комнатных квартир:</td>\n",
       "      <td>1</td>\n",
       "    </tr>\n",
       "    <tr>\n",
       "      <th>4</th>\n",
       "      <td>Квартира с наименьшей комнатой по площади:</td>\n",
       "      <td>Билецкого 45-35</td>\n",
       "    </tr>\n",
       "    <tr>\n",
       "      <th>5</th>\n",
       "      <td>Квартира с наибольшей комнатой по площади:</td>\n",
       "      <td>Крайняя 82-5</td>\n",
       "    </tr>\n",
       "    <tr>\n",
       "      <th>6</th>\n",
       "      <td>Квартира с наименьшей ванной по объему:</td>\n",
       "      <td>Советвская 1-42</td>\n",
       "    </tr>\n",
       "    <tr>\n",
       "      <th>7</th>\n",
       "      <td>Квартира с наибольшей ванной по объему:</td>\n",
       "      <td>Полесская 74-9</td>\n",
       "    </tr>\n",
       "  </tbody>\n",
       "</table>\n",
       "</div>"
      ],
      "text/plain": [
       "                         Запрашиваемые данные         Значение\n",
       "0                         Количество квартир:                6\n",
       "1             Количество 1-комнатных квартир:                2\n",
       "2             Количество 2-комнатных квартир:                3\n",
       "3             Количество 3-комнатных квартир:                1\n",
       "4  Квартира с наименьшей комнатой по площади:  Билецкого 45-35\n",
       "5  Квартира с наибольшей комнатой по площади:     Крайняя 82-5\n",
       "6     Квартира с наименьшей ванной по объему:  Советвская 1-42\n",
       "7     Квартира с наибольшей ванной по объему:   Полесская 74-9"
      ]
     },
     "execution_count": 13,
     "metadata": {},
     "output_type": "execute_result"
    }
   ],
   "source": [
    "flats_data = pd.DataFrame(data)\n",
    "flats_data"
   ]
  },
  {
   "cell_type": "code",
   "execution_count": 14,
   "id": "2cd0a744",
   "metadata": {},
   "outputs": [],
   "source": [
    "writer = pd.ExcelWriter('test.xlsx', engine='xlsxwriter')\n",
    "flats_info.to_excel(writer, sheet_name='Calculations', index=False)\n",
    "flats_data.to_excel(writer, sheet_name='Analysis', index=False)\n",
    "writer.save()"
   ]
  }
 ],
 "metadata": {
  "kernelspec": {
   "display_name": "Python 3 (ipykernel)",
   "language": "python",
   "name": "python3"
  },
  "language_info": {
   "codemirror_mode": {
    "name": "ipython",
    "version": 3
   },
   "file_extension": ".py",
   "mimetype": "text/x-python",
   "name": "python",
   "nbconvert_exporter": "python",
   "pygments_lexer": "ipython3",
   "version": "3.10.4"
  }
 },
 "nbformat": 4,
 "nbformat_minor": 5
}
