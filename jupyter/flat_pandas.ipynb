{
 "cells": [
  {
   "cell_type": "markdown",
   "id": "a76e4b41",
   "metadata": {
    "pycharm": {
     "name": "#%% md\n"
    },
    "slideshow": {
     "slide_type": "-"
    }
   },
   "source": [
    "# Анализ характеристик и стоимости квартир.\n",
    "Источник данных: выгрузка из test.csv.\n",
    "\n",
    "*Данные: [Список квартир с размерами помещений](https://github.com/Valery2120/Flat/blob/main/jupyter/test.csv).*\n",
    "\n",
    "\n",
    "***"
   ]
  },
  {
   "cell_type": "code",
   "execution_count": 1,
   "id": "7700eb36",
   "metadata": {
    "pycharm": {
     "name": "#%%\n"
    }
   },
   "outputs": [],
   "source": [
    "import matplotlib.pyplot as plt\n",
    "import seaborn as sns\n",
    "import numpy as np\n",
    "import pandas as pd"
   ]
  },
  {
   "cell_type": "markdown",
   "id": "7ff90257",
   "metadata": {
    "pycharm": {
     "name": "#%% md\n"
    }
   },
   "source": [
    "## 1. Загрузка и анализ данных."
   ]
  },
  {
   "cell_type": "code",
   "execution_count": 2,
   "id": "d5538e3e",
   "metadata": {
    "pycharm": {
     "name": "#%%\n"
    }
   },
   "outputs": [
    {
     "data": {
      "text/html": [
       "<div>\n",
       "<style scoped>\n",
       "    .dataframe tbody tr th:only-of-type {\n",
       "        vertical-align: middle;\n",
       "    }\n",
       "\n",
       "    .dataframe tbody tr th {\n",
       "        vertical-align: top;\n",
       "    }\n",
       "\n",
       "    .dataframe thead th {\n",
       "        text-align: right;\n",
       "    }\n",
       "</style>\n",
       "<table border=\"1\" class=\"dataframe\">\n",
       "  <thead>\n",
       "    <tr style=\"text-align: right;\">\n",
       "      <th></th>\n",
       "      <th>Улица</th>\n",
       "      <th>Дом</th>\n",
       "      <th>Квартира</th>\n",
       "      <th>Помещение</th>\n",
       "      <th>Ширина</th>\n",
       "      <th>Длина</th>\n",
       "      <th>Высота</th>\n",
       "    </tr>\n",
       "  </thead>\n",
       "  <tbody>\n",
       "    <tr>\n",
       "      <th>0</th>\n",
       "      <td>Советвская</td>\n",
       "      <td>1</td>\n",
       "      <td>42</td>\n",
       "      <td>Комната</td>\n",
       "      <td>3.0</td>\n",
       "      <td>3.6</td>\n",
       "      <td>2.50</td>\n",
       "    </tr>\n",
       "    <tr>\n",
       "      <th>1</th>\n",
       "      <td>Советвская</td>\n",
       "      <td>1</td>\n",
       "      <td>42</td>\n",
       "      <td>Комната</td>\n",
       "      <td>2.9</td>\n",
       "      <td>3.9</td>\n",
       "      <td>2.50</td>\n",
       "    </tr>\n",
       "    <tr>\n",
       "      <th>2</th>\n",
       "      <td>Советвская</td>\n",
       "      <td>1</td>\n",
       "      <td>42</td>\n",
       "      <td>Кухня</td>\n",
       "      <td>2.3</td>\n",
       "      <td>1.5</td>\n",
       "      <td>2.50</td>\n",
       "    </tr>\n",
       "    <tr>\n",
       "      <th>3</th>\n",
       "      <td>Советвская</td>\n",
       "      <td>1</td>\n",
       "      <td>42</td>\n",
       "      <td>Туалет</td>\n",
       "      <td>1.0</td>\n",
       "      <td>1.8</td>\n",
       "      <td>2.50</td>\n",
       "    </tr>\n",
       "    <tr>\n",
       "      <th>4</th>\n",
       "      <td>Советвская</td>\n",
       "      <td>1</td>\n",
       "      <td>42</td>\n",
       "      <td>Ванна</td>\n",
       "      <td>2.1</td>\n",
       "      <td>1.3</td>\n",
       "      <td>2.50</td>\n",
       "    </tr>\n",
       "    <tr>\n",
       "      <th>5</th>\n",
       "      <td>Билецкого</td>\n",
       "      <td>45</td>\n",
       "      <td>35</td>\n",
       "      <td>Комната</td>\n",
       "      <td>3.7</td>\n",
       "      <td>2.1</td>\n",
       "      <td>2.60</td>\n",
       "    </tr>\n",
       "    <tr>\n",
       "      <th>6</th>\n",
       "      <td>Билецкого</td>\n",
       "      <td>45</td>\n",
       "      <td>35</td>\n",
       "      <td>Кухня</td>\n",
       "      <td>2.2</td>\n",
       "      <td>1.7</td>\n",
       "      <td>2.60</td>\n",
       "    </tr>\n",
       "    <tr>\n",
       "      <th>7</th>\n",
       "      <td>Билецкого</td>\n",
       "      <td>45</td>\n",
       "      <td>35</td>\n",
       "      <td>Туалет</td>\n",
       "      <td>1.1</td>\n",
       "      <td>1.7</td>\n",
       "      <td>2.60</td>\n",
       "    </tr>\n",
       "    <tr>\n",
       "      <th>8</th>\n",
       "      <td>Билецкого</td>\n",
       "      <td>45</td>\n",
       "      <td>35</td>\n",
       "      <td>Ванна</td>\n",
       "      <td>2.3</td>\n",
       "      <td>1.7</td>\n",
       "      <td>2.60</td>\n",
       "    </tr>\n",
       "    <tr>\n",
       "      <th>9</th>\n",
       "      <td>Артема</td>\n",
       "      <td>63</td>\n",
       "      <td>3</td>\n",
       "      <td>Комната</td>\n",
       "      <td>4.0</td>\n",
       "      <td>3.0</td>\n",
       "      <td>2.55</td>\n",
       "    </tr>\n",
       "    <tr>\n",
       "      <th>10</th>\n",
       "      <td>Артема</td>\n",
       "      <td>63</td>\n",
       "      <td>3</td>\n",
       "      <td>Комната</td>\n",
       "      <td>4.5</td>\n",
       "      <td>3.5</td>\n",
       "      <td>2.55</td>\n",
       "    </tr>\n",
       "    <tr>\n",
       "      <th>11</th>\n",
       "      <td>Артема</td>\n",
       "      <td>63</td>\n",
       "      <td>3</td>\n",
       "      <td>Кухня</td>\n",
       "      <td>3.1</td>\n",
       "      <td>2.5</td>\n",
       "      <td>2.55</td>\n",
       "    </tr>\n",
       "    <tr>\n",
       "      <th>12</th>\n",
       "      <td>Артема</td>\n",
       "      <td>63</td>\n",
       "      <td>3</td>\n",
       "      <td>Туалет</td>\n",
       "      <td>1.7</td>\n",
       "      <td>1.6</td>\n",
       "      <td>2.55</td>\n",
       "    </tr>\n",
       "    <tr>\n",
       "      <th>13</th>\n",
       "      <td>Артема</td>\n",
       "      <td>63</td>\n",
       "      <td>3</td>\n",
       "      <td>Ванна</td>\n",
       "      <td>2.3</td>\n",
       "      <td>2.1</td>\n",
       "      <td>2.55</td>\n",
       "    </tr>\n",
       "    <tr>\n",
       "      <th>14</th>\n",
       "      <td>Полесская</td>\n",
       "      <td>74</td>\n",
       "      <td>9</td>\n",
       "      <td>Комната</td>\n",
       "      <td>4.0</td>\n",
       "      <td>4.2</td>\n",
       "      <td>2.65</td>\n",
       "    </tr>\n",
       "    <tr>\n",
       "      <th>15</th>\n",
       "      <td>Полесская</td>\n",
       "      <td>74</td>\n",
       "      <td>9</td>\n",
       "      <td>Комната</td>\n",
       "      <td>3.0</td>\n",
       "      <td>3.5</td>\n",
       "      <td>2.65</td>\n",
       "    </tr>\n",
       "    <tr>\n",
       "      <th>16</th>\n",
       "      <td>Полесская</td>\n",
       "      <td>74</td>\n",
       "      <td>9</td>\n",
       "      <td>Кухня</td>\n",
       "      <td>2.5</td>\n",
       "      <td>2.9</td>\n",
       "      <td>2.65</td>\n",
       "    </tr>\n",
       "    <tr>\n",
       "      <th>17</th>\n",
       "      <td>Полесская</td>\n",
       "      <td>74</td>\n",
       "      <td>9</td>\n",
       "      <td>Туалет</td>\n",
       "      <td>1.4</td>\n",
       "      <td>1.3</td>\n",
       "      <td>2.65</td>\n",
       "    </tr>\n",
       "    <tr>\n",
       "      <th>18</th>\n",
       "      <td>Полесская</td>\n",
       "      <td>74</td>\n",
       "      <td>9</td>\n",
       "      <td>Ванна</td>\n",
       "      <td>1.9</td>\n",
       "      <td>3.2</td>\n",
       "      <td>2.65</td>\n",
       "    </tr>\n",
       "    <tr>\n",
       "      <th>19</th>\n",
       "      <td>Крайняя</td>\n",
       "      <td>82</td>\n",
       "      <td>5</td>\n",
       "      <td>Комната</td>\n",
       "      <td>4.3</td>\n",
       "      <td>4.1</td>\n",
       "      <td>2.60</td>\n",
       "    </tr>\n",
       "    <tr>\n",
       "      <th>20</th>\n",
       "      <td>Крайняя</td>\n",
       "      <td>82</td>\n",
       "      <td>5</td>\n",
       "      <td>Комната</td>\n",
       "      <td>3.8</td>\n",
       "      <td>3.5</td>\n",
       "      <td>2.60</td>\n",
       "    </tr>\n",
       "    <tr>\n",
       "      <th>21</th>\n",
       "      <td>Крайняя</td>\n",
       "      <td>82</td>\n",
       "      <td>5</td>\n",
       "      <td>Комната</td>\n",
       "      <td>3.2</td>\n",
       "      <td>3.5</td>\n",
       "      <td>2.60</td>\n",
       "    </tr>\n",
       "    <tr>\n",
       "      <th>22</th>\n",
       "      <td>Крайняя</td>\n",
       "      <td>82</td>\n",
       "      <td>5</td>\n",
       "      <td>Кухня</td>\n",
       "      <td>3.0</td>\n",
       "      <td>3.2</td>\n",
       "      <td>2.60</td>\n",
       "    </tr>\n",
       "    <tr>\n",
       "      <th>23</th>\n",
       "      <td>Крайняя</td>\n",
       "      <td>82</td>\n",
       "      <td>5</td>\n",
       "      <td>Туалет</td>\n",
       "      <td>1.9</td>\n",
       "      <td>1.1</td>\n",
       "      <td>2.60</td>\n",
       "    </tr>\n",
       "    <tr>\n",
       "      <th>24</th>\n",
       "      <td>Крайняя</td>\n",
       "      <td>82</td>\n",
       "      <td>5</td>\n",
       "      <td>Ванна</td>\n",
       "      <td>2.3</td>\n",
       "      <td>2.1</td>\n",
       "      <td>2.60</td>\n",
       "    </tr>\n",
       "    <tr>\n",
       "      <th>25</th>\n",
       "      <td>Кожара</td>\n",
       "      <td>32</td>\n",
       "      <td>54</td>\n",
       "      <td>Комната</td>\n",
       "      <td>4.1</td>\n",
       "      <td>3.5</td>\n",
       "      <td>2.55</td>\n",
       "    </tr>\n",
       "    <tr>\n",
       "      <th>26</th>\n",
       "      <td>Кожара</td>\n",
       "      <td>32</td>\n",
       "      <td>54</td>\n",
       "      <td>Кухня</td>\n",
       "      <td>3.2</td>\n",
       "      <td>2.3</td>\n",
       "      <td>2.55</td>\n",
       "    </tr>\n",
       "    <tr>\n",
       "      <th>27</th>\n",
       "      <td>Кожара</td>\n",
       "      <td>32</td>\n",
       "      <td>54</td>\n",
       "      <td>Туалет</td>\n",
       "      <td>1.2</td>\n",
       "      <td>1.0</td>\n",
       "      <td>2.55</td>\n",
       "    </tr>\n",
       "    <tr>\n",
       "      <th>28</th>\n",
       "      <td>Кожара</td>\n",
       "      <td>32</td>\n",
       "      <td>54</td>\n",
       "      <td>Ванна</td>\n",
       "      <td>3.0</td>\n",
       "      <td>2.1</td>\n",
       "      <td>2.55</td>\n",
       "    </tr>\n",
       "  </tbody>\n",
       "</table>\n",
       "</div>"
      ],
      "text/plain": [
       "         Улица Дом  Квартира Помещение  Ширина  Длина  Высота\n",
       "0   Советвская    1       42   Комната     3.0    3.6    2.50\n",
       "1   Советвская    1       42   Комната     2.9    3.9    2.50\n",
       "2   Советвская    1       42     Кухня     2.3    1.5    2.50\n",
       "3   Советвская    1       42    Туалет     1.0    1.8    2.50\n",
       "4   Советвская    1       42     Ванна     2.1    1.3    2.50\n",
       "5    Билецкого   45       35   Комната     3.7    2.1    2.60\n",
       "6    Билецкого   45       35     Кухня     2.2    1.7    2.60\n",
       "7    Билецкого   45       35    Туалет     1.1    1.7    2.60\n",
       "8    Билецкого   45       35     Ванна     2.3    1.7    2.60\n",
       "9       Артема   63        3   Комната     4.0    3.0    2.55\n",
       "10      Артема   63        3   Комната     4.5    3.5    2.55\n",
       "11      Артема   63        3     Кухня     3.1    2.5    2.55\n",
       "12      Артема   63        3    Туалет     1.7    1.6    2.55\n",
       "13      Артема   63        3     Ванна     2.3    2.1    2.55\n",
       "14   Полесская   74        9   Комната     4.0    4.2    2.65\n",
       "15   Полесская   74        9   Комната     3.0    3.5    2.65\n",
       "16   Полесская   74        9     Кухня     2.5    2.9    2.65\n",
       "17   Полесская   74        9    Туалет     1.4    1.3    2.65\n",
       "18   Полесская   74        9     Ванна     1.9    3.2    2.65\n",
       "19     Крайняя   82        5   Комната     4.3    4.1    2.60\n",
       "20     Крайняя   82        5   Комната     3.8    3.5    2.60\n",
       "21     Крайняя   82        5   Комната     3.2    3.5    2.60\n",
       "22     Крайняя   82        5     Кухня     3.0    3.2    2.60\n",
       "23     Крайняя   82        5    Туалет     1.9    1.1    2.60\n",
       "24     Крайняя   82        5     Ванна     2.3    2.1    2.60\n",
       "25      Кожара   32       54   Комната     4.1    3.5    2.55\n",
       "26      Кожара   32       54     Кухня     3.2    2.3    2.55\n",
       "27      Кожара   32       54    Туалет     1.2    1.0    2.55\n",
       "28      Кожара   32       54     Ванна     3.0    2.1    2.55"
      ]
     },
     "execution_count": 2,
     "metadata": {},
     "output_type": "execute_result"
    }
   ],
   "source": [
    "flats = pd.read_csv('test.csv', sep=';', \n",
    "                    decimal=',', dtype={'Дом ' :np.str_, 'Квартира' :np.str_}, encoding='cp1251')\n",
    "flats"
   ]
  },
  {
   "cell_type": "code",
   "execution_count": 3,
   "id": "2f33d91d",
   "metadata": {
    "pycharm": {
     "name": "#%%\n"
    },
    "scrolled": true
   },
   "outputs": [],
   "source": [
    "flats.columns = [column.strip() for column in flats.columns]"
   ]
  },
  {
   "cell_type": "code",
   "execution_count": 4,
   "id": "8c581b98",
   "metadata": {
    "pycharm": {
     "name": "#%%\n"
    }
   },
   "outputs": [],
   "source": [
    "flats['Адрес'] = flats['Улица'] + ' ' + flats['Дом'] + '-' + flats['Квартира']\n",
    "flats['Площадь, кв.м.'] = flats['Ширина'] * flats['Длина']\n",
    "flats['Объем, куб.м.'] = flats['Площадь, кв.м.'] * flats['Высота']\n",
    "flats['Стоимость, $'] = flats['Площадь, кв.м.'] * 600"
   ]
  },
  {
   "cell_type": "markdown",
   "id": "f55d24d7",
   "metadata": {
    "pycharm": {
     "name": "#%% md\n"
    }
   },
   "source": [
    "Определяем количество комнат в квартирах и группируем исходные данные по адресам."
   ]
  },
  {
   "cell_type": "code",
   "execution_count": 5,
   "id": "e9838654",
   "metadata": {
    "pycharm": {
     "name": "#%%\n"
    }
   },
   "outputs": [],
   "source": [
    "amount_room = [line for line in flats.groupby('Помещение')['Адрес'].value_counts()['Комната']]"
   ]
  },
  {
   "cell_type": "code",
   "execution_count": 6,
   "id": "0b0f4210",
   "metadata": {
    "pycharm": {
     "name": "#%%\n"
    }
   },
   "outputs": [],
   "source": [
    "#Формируем словарь в котором значение - количество комната, а ключ - количество квартир с таким количеством комнат.\n",
    "amount_room_per_flat = {i : amount_room.count(i) for i in range(1, 4)}"
   ]
  },
  {
   "cell_type": "code",
   "execution_count": 7,
   "id": "64bf2c00",
   "metadata": {
    "pycharm": {
     "name": "#%%\n"
    }
   },
   "outputs": [],
   "source": [
    "flats_info = flats[['Адрес', 'Площадь, кв.м.', 'Объем, куб.м.', 'Стоимость, $']].groupby(['Адрес']).sum()"
   ]
  },
  {
   "cell_type": "markdown",
   "id": "88b75e80",
   "metadata": {
    "pycharm": {
     "name": "#%% md\n"
    }
   },
   "source": [
    "##### Сводные данные с характеристиками по каждой квартире  "
   ]
  },
  {
   "cell_type": "code",
   "execution_count": 8,
   "id": "b6c70d01",
   "metadata": {
    "pycharm": {
     "name": "#%%\n"
    }
   },
   "outputs": [
    {
     "data": {
      "text/html": [
       "<div>\n",
       "<style scoped>\n",
       "    .dataframe tbody tr th:only-of-type {\n",
       "        vertical-align: middle;\n",
       "    }\n",
       "\n",
       "    .dataframe tbody tr th {\n",
       "        vertical-align: top;\n",
       "    }\n",
       "\n",
       "    .dataframe thead th {\n",
       "        text-align: right;\n",
       "    }\n",
       "</style>\n",
       "<table border=\"1\" class=\"dataframe\">\n",
       "  <thead>\n",
       "    <tr style=\"text-align: right;\">\n",
       "      <th></th>\n",
       "      <th>Адрес</th>\n",
       "      <th>Площадь, кв.м.</th>\n",
       "      <th>Объем, куб.м.</th>\n",
       "      <th>Стоимость, $</th>\n",
       "    </tr>\n",
       "  </thead>\n",
       "  <tbody>\n",
       "    <tr>\n",
       "      <th>0</th>\n",
       "      <td>Артема 63-3</td>\n",
       "      <td>43.05</td>\n",
       "      <td>109.7775</td>\n",
       "      <td>25830.0</td>\n",
       "    </tr>\n",
       "    <tr>\n",
       "      <th>1</th>\n",
       "      <td>Билецкого 45-35</td>\n",
       "      <td>17.29</td>\n",
       "      <td>44.9540</td>\n",
       "      <td>10374.0</td>\n",
       "    </tr>\n",
       "    <tr>\n",
       "      <th>2</th>\n",
       "      <td>Кожара 32-54</td>\n",
       "      <td>29.21</td>\n",
       "      <td>74.4855</td>\n",
       "      <td>17526.0</td>\n",
       "    </tr>\n",
       "    <tr>\n",
       "      <th>3</th>\n",
       "      <td>Крайняя 82-5</td>\n",
       "      <td>58.65</td>\n",
       "      <td>152.4900</td>\n",
       "      <td>35190.0</td>\n",
       "    </tr>\n",
       "    <tr>\n",
       "      <th>4</th>\n",
       "      <td>Полесская 74-9</td>\n",
       "      <td>42.45</td>\n",
       "      <td>112.4925</td>\n",
       "      <td>25470.0</td>\n",
       "    </tr>\n",
       "    <tr>\n",
       "      <th>5</th>\n",
       "      <td>Советвская 1-42</td>\n",
       "      <td>30.09</td>\n",
       "      <td>75.2250</td>\n",
       "      <td>18054.0</td>\n",
       "    </tr>\n",
       "  </tbody>\n",
       "</table>\n",
       "</div>"
      ],
      "text/plain": [
       "             Адрес  Площадь, кв.м.  Объем, куб.м.  Стоимость, $\n",
       "0      Артема 63-3           43.05       109.7775       25830.0\n",
       "1  Билецкого 45-35           17.29        44.9540       10374.0\n",
       "2     Кожара 32-54           29.21        74.4855       17526.0\n",
       "3     Крайняя 82-5           58.65       152.4900       35190.0\n",
       "4   Полесская 74-9           42.45       112.4925       25470.0\n",
       "5  Советвская 1-42           30.09        75.2250       18054.0"
      ]
     },
     "execution_count": 8,
     "metadata": {},
     "output_type": "execute_result"
    }
   ],
   "source": [
    "flats_info = flats_info.reset_index()\n",
    "flats_info"
   ]
  },
  {
   "cell_type": "markdown",
   "id": "6972fea1",
   "metadata": {
    "pycharm": {
     "name": "#%% md\n"
    }
   },
   "source": [
    "##### Распределение квартир по их характеристикам "
   ]
  },
  {
   "cell_type": "code",
   "execution_count": 9,
   "id": "28322cbc",
   "metadata": {
    "pycharm": {
     "name": "#%%\n"
    },
    "scrolled": true
   },
   "outputs": [
    {
     "data": {
      "image/png": "[encoded data removed]",
      "text/plain": [
       "<Figure size 432x288 with 1 Axes>"
      ]
     },
     "metadata": {
      "needs_background": "light"
     },
     "output_type": "display_data"
    }
   ],
   "source": [
    "sns.barplot(x='Площадь, кв.м.', y='Адрес', data=flats_info)\n",
    "plt.title('Распределение площадей квартир')\n",
    "plt.show()"
   ]
  },
  {
   "cell_type": "code",
   "execution_count": 10,
   "id": "634b5d9d",
   "metadata": {
    "pycharm": {
     "name": "#%%\n"
    }
   },
   "outputs": [
    {
     "data": {
      "image/png": "[encoded data removed]",
      "text/plain": [
       "<Figure size 432x288 with 1 Axes>"
      ]
     },
     "metadata": {
      "needs_background": "light"
     },
     "output_type": "display_data"
    }
   ],
   "source": [
    "sns.barplot(x=flats_info['Объем, куб.м.'], y=flats_info['Адрес'])\n",
    "plt.title('Распределение объемов квартир')\n",
    "plt.show()"
   ]
  },
  {
   "cell_type": "code",
   "execution_count": 11,
   "id": "c9210b0a",
   "metadata": {
    "pycharm": {
     "name": "#%%\n"
    }
   },
   "outputs": [
    {
     "data": {
      "image/png": "[encoded data removed]",
      "text/plain": [
       "<Figure size 432x288 with 1 Axes>"
      ]
     },
     "metadata": {
      "needs_background": "light"
     },
     "output_type": "display_data"
    }
   ],
   "source": [
    "sns.barplot(x=flats_info['Стоимость, $'], y=flats_info['Адрес'])\n",
    "plt.title('Распределение стоимости квартир')\n",
    "plt.show()"
   ]
  },
  {
   "cell_type": "markdown",
   "id": "b7b3bd0a",
   "metadata": {
    "pycharm": {
     "name": "#%% md\n"
    }
   },
   "source": [
    "## 2. Результирующие данные и выводы."
   ]
  },
  {
   "cell_type": "code",
   "execution_count": 12,
   "id": "fb9440ca",
   "metadata": {
    "pycharm": {
     "name": "#%%\n"
    }
   },
   "outputs": [],
   "source": [
    "data = {'Запрашиваемые данные':\n",
    "        [\n",
    "            'Количество квартир:',\n",
    "            'Количество 1-комнатных квартир:',\n",
    "            'Количество 2-комнатных квартир:',\n",
    "            'Количество 3-комнатных квартир:',\n",
    "            'Квартира с наименьшей комнатой по площади:',\n",
    "            'Квартира с наибольшей комнатой по площади:',\n",
    "            'Квартира с наименьшей ванной по объему:',\n",
    "            'Квартира с наибольшей ванной по объему:'],\n",
    "        'Значение':\n",
    "            [len(flats[\"Адрес\"].unique()),\n",
    "             amount_room_per_flat[1],\n",
    "             amount_room_per_flat[2],\n",
    "             amount_room_per_flat[3],\n",
    "             flats['Адрес'].iloc[flats['Площадь, кв.м.'][flats['Помещение'] == 'Комната'].idxmin()],\n",
    "             flats['Адрес'].iloc[flats['Площадь, кв.м.'][flats['Помещение'] == 'Комната'].idxmax()],\n",
    "             flats['Адрес'].iloc[flats['Объем, куб.м.'][flats['Помещение'] == 'Ванна'].idxmin()],\n",
    "             flats['Адрес'].iloc[flats['Объем, куб.м.'][flats['Помещение'] == 'Ванна'].idxmax()]]}"
   ]
  },
  {
   "cell_type": "code",
   "execution_count": 13,
   "id": "b5239c87",
   "metadata": {
    "pycharm": {
     "name": "#%%\n"
    }
   },
   "outputs": [
    {
     "data": {
      "text/html": [
       "<div>\n",
       "<style scoped>\n",
       "    .dataframe tbody tr th:only-of-type {\n",
       "        vertical-align: middle;\n",
       "    }\n",
       "\n",
       "    .dataframe tbody tr th {\n",
       "        vertical-align: top;\n",
       "    }\n",
       "\n",
       "    .dataframe thead th {\n",
       "        text-align: right;\n",
       "    }\n",
       "</style>\n",
       "<table border=\"1\" class=\"dataframe\">\n",
       "  <thead>\n",
       "    <tr style=\"text-align: right;\">\n",
       "      <th></th>\n",
       "      <th>Запрашиваемые данные</th>\n",
       "      <th>Значение</th>\n",
       "    </tr>\n",
       "  </thead>\n",
       "  <tbody>\n",
       "    <tr>\n",
       "      <th>0</th>\n",
       "      <td>Количество квартир:</td>\n",
       "      <td>6</td>\n",
       "    </tr>\n",
       "    <tr>\n",
       "      <th>1</th>\n",
       "      <td>Количество 1-комнатных квартир:</td>\n",
       "      <td>2</td>\n",
       "    </tr>\n",
       "    <tr>\n",
       "      <th>2</th>\n",
       "      <td>Количество 2-комнатных квартир:</td>\n",
       "      <td>3</td>\n",
       "    </tr>\n",
       "    <tr>\n",
       "      <th>3</th>\n",
       "      <td>Количество 3-комнатных квартир:</td>\n",
       "      <td>1</td>\n",
       "    </tr>\n",
       "    <tr>\n",
       "      <th>4</th>\n",
       "      <td>Квартира с наименьшей комнатой по площади:</td>\n",
       "      <td>Билецкого 45-35</td>\n",
       "    </tr>\n",
       "    <tr>\n",
       "      <th>5</th>\n",
       "      <td>Квартира с наибольшей комнатой по площади:</td>\n",
       "      <td>Крайняя 82-5</td>\n",
       "    </tr>\n",
       "    <tr>\n",
       "      <th>6</th>\n",
       "      <td>Квартира с наименьшей ванной по объему:</td>\n",
       "      <td>Советвская 1-42</td>\n",
       "    </tr>\n",
       "    <tr>\n",
       "      <th>7</th>\n",
       "      <td>Квартира с наибольшей ванной по объему:</td>\n",
       "      <td>Полесская 74-9</td>\n",
       "    </tr>\n",
       "  </tbody>\n",
       "</table>\n",
       "</div>"
      ],
      "text/plain": [
       "                         Запрашиваемые данные         Значение\n",
       "0                         Количество квартир:                6\n",
       "1             Количество 1-комнатных квартир:                2\n",
       "2             Количество 2-комнатных квартир:                3\n",
       "3             Количество 3-комнатных квартир:                1\n",
       "4  Квартира с наименьшей комнатой по площади:  Билецкого 45-35\n",
       "5  Квартира с наибольшей комнатой по площади:     Крайняя 82-5\n",
       "6     Квартира с наименьшей ванной по объему:  Советвская 1-42\n",
       "7     Квартира с наибольшей ванной по объему:   Полесская 74-9"
      ]
     },
     "execution_count": 13,
     "metadata": {},
     "output_type": "execute_result"
    }
   ],
   "source": [
    "flats_data = pd.DataFrame(data)\n",
    "flats_data"
   ]
  },
  {
   "cell_type": "code",
   "execution_count": 14,
   "id": "2cd0a744",
   "metadata": {
    "pycharm": {
     "name": "#%%\n"
    }
   },
   "outputs": [],
   "source": [
    "writer = pd.ExcelWriter('test.xlsx', engine='xlsxwriter')\n",
    "flats_info.to_excel(writer, sheet_name='Calculations', index=False)\n",
    "flats_data.to_excel(writer, sheet_name='Analysis', index=False)\n",
    "writer.save()"
   ]
  },
  {
   "cell_type": "markdown",
   "id": "3a082b8a",
   "metadata": {
    "pycharm": {
     "name": "#%% md\n"
    }
   },
   "source": [
    "### Работа по анализу характеристик квартир состояла из следующих этапов:\n",
    "\n",
    "1. Загрузка данных.\n",
    "2. Определение общего количества квартир в списке и количества 1, 2, 3-комнатных квартир.\n",
    "3. Вычисление площадей и объемов квартир.\n",
    "4. Определение квартиры с наименьшей и наибольшей комнатой по площади.\n",
    "5. Определение квартиры с наименьшей и наибольшей ванной по объему.\n",
    "6. Вычисление стоимости квартир исходя из 600 $ за 1 м2.\n",
    "7. Сохранение данных в файл xlsx (Адреса, площадь, объем, стоимость).\n"
   ]
  },
  {
   "cell_type": "markdown",
   "id": "52344421",
   "metadata": {
    "pycharm": {
     "name": "#%% md\n"
    }
   },
   "source": [
    "### Выводы.\n",
    "Всего в выборке было представлено 6 квартир: 1 - трехкомнатная, 3 - двухкомнатные, 2 - однакомнатные.\n",
    "Так как стоимость 1 кв. метра одинакова для всех квартир соответственно квартира с наибольшей площадью является самой дорогой по стоимости (ул.Крайняя 82-5). С помощью гистрограмм можно легко заметить, что двухкомнатная квартира по ул. Советвская 1-42 и однокомнатная квартира по ул. Кожара 32-54 имееют практически одинаковые характеристики (по площади, объему и стоимости). При этом квартира по ул. Советвская 1-42 имеет наименьшую по объему ванную комнату. Таким образом выбирая между двумя квартирами со со сравнительно одинаковой стоимостью выбор определяется исходя из потребности в просторном помещении или количества комнат."
   ]
  }
 ],
 "metadata": {
  "kernelspec": {
   "display_name": "Python 3 (ipykernel)",
   "language": "python",
   "name": "python3"
  },
  "language_info": {
   "codemirror_mode": {
    "name": "ipython",
    "version": 3
   },
   "file_extension": ".py",
   "mimetype": "text/x-python",
   "name": "python",
   "nbconvert_exporter": "python",
   "pygments_lexer": "ipython3",
   "version": "3.9.12"
  }
 },
 "nbformat": 4,
 "nbformat_minor": 5
}