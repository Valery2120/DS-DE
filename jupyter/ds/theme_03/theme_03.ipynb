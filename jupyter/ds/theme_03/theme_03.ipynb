{
 "cells": [
  {
   "cell_type": "markdown",
   "id": "bf65891b",
   "metadata": {},
   "source": [
    "# Исследование надёжности заёмщиков"
   ]
  },
  {
   "cell_type": "markdown",
   "id": "209ad526",
   "metadata": {},
   "source": [
    "Необходимо подготовить проект для кредитного отдела банка. Нужно разобраться, влияет ли семейное положение и количество детей клиента на факт возврата кредита в срок. Входные данные от банка — статистика о платёжеспособности клиентов.  \n",
    "Результаты проекта будут учтены при построении модели кредитного скоринга — специальной системы, которая оценивает способность потенциального заёмщика вернуть кредит банку."
   ]
  },
  {
   "cell_type": "markdown",
   "id": "634bef3e",
   "metadata": {},
   "source": [
    "## Загрузка данных и изучение общей информации по проекту"
   ]
  },
  {
   "cell_type": "code",
   "execution_count": 1,
   "id": "1511a481",
   "metadata": {},
   "outputs": [],
   "source": [
    "import pandas as pd\n",
    "\n",
    "data = pd.read_csv('data.csv')"
   ]
  },
  {
   "cell_type": "code",
   "execution_count": 2,
   "id": "7cfdb212",
   "metadata": {},
   "outputs": [
    {
     "data": {
      "text/html": [
       "<div>\n",
       "<style scoped>\n",
       "    .dataframe tbody tr th:only-of-type {\n",
       "        vertical-align: middle;\n",
       "    }\n",
       "\n",
       "    .dataframe tbody tr th {\n",
       "        vertical-align: top;\n",
       "    }\n",
       "\n",
       "    .dataframe thead th {\n",
       "        text-align: right;\n",
       "    }\n",
       "</style>\n",
       "<table border=\"1\" class=\"dataframe\">\n",
       "  <thead>\n",
       "    <tr style=\"text-align: right;\">\n",
       "      <th></th>\n",
       "      <th>Unnamed: 0</th>\n",
       "      <th>children</th>\n",
       "      <th>days_employed</th>\n",
       "      <th>dob_years</th>\n",
       "      <th>education</th>\n",
       "      <th>education_id</th>\n",
       "      <th>family_status</th>\n",
       "      <th>family_status_id</th>\n",
       "      <th>gender</th>\n",
       "      <th>income_type</th>\n",
       "      <th>debt</th>\n",
       "      <th>total_income</th>\n",
       "      <th>purpose</th>\n",
       "    </tr>\n",
       "  </thead>\n",
       "  <tbody>\n",
       "    <tr>\n",
       "      <th>21378</th>\n",
       "      <td>21378</td>\n",
       "      <td>0</td>\n",
       "      <td>401256.745090</td>\n",
       "      <td>59</td>\n",
       "      <td>среднее</td>\n",
       "      <td>1</td>\n",
       "      <td>вдовец / вдова</td>\n",
       "      <td>2</td>\n",
       "      <td>F</td>\n",
       "      <td>пенсионер</td>\n",
       "      <td>0</td>\n",
       "      <td>204103.704870</td>\n",
       "      <td>операции со своей недвижимостью</td>\n",
       "    </tr>\n",
       "    <tr>\n",
       "      <th>12150</th>\n",
       "      <td>12150</td>\n",
       "      <td>0</td>\n",
       "      <td>-2167.873499</td>\n",
       "      <td>48</td>\n",
       "      <td>среднее</td>\n",
       "      <td>1</td>\n",
       "      <td>женат / замужем</td>\n",
       "      <td>0</td>\n",
       "      <td>F</td>\n",
       "      <td>компаньон</td>\n",
       "      <td>0</td>\n",
       "      <td>148235.139062</td>\n",
       "      <td>автомобили</td>\n",
       "    </tr>\n",
       "    <tr>\n",
       "      <th>2581</th>\n",
       "      <td>2581</td>\n",
       "      <td>0</td>\n",
       "      <td>NaN</td>\n",
       "      <td>56</td>\n",
       "      <td>высшее</td>\n",
       "      <td>0</td>\n",
       "      <td>в разводе</td>\n",
       "      <td>3</td>\n",
       "      <td>F</td>\n",
       "      <td>госслужащий</td>\n",
       "      <td>0</td>\n",
       "      <td>NaN</td>\n",
       "      <td>строительство недвижимости</td>\n",
       "    </tr>\n",
       "    <tr>\n",
       "      <th>17004</th>\n",
       "      <td>17004</td>\n",
       "      <td>2</td>\n",
       "      <td>-248.561425</td>\n",
       "      <td>27</td>\n",
       "      <td>среднее</td>\n",
       "      <td>1</td>\n",
       "      <td>женат / замужем</td>\n",
       "      <td>0</td>\n",
       "      <td>M</td>\n",
       "      <td>сотрудник</td>\n",
       "      <td>0</td>\n",
       "      <td>161800.813560</td>\n",
       "      <td>образование</td>\n",
       "    </tr>\n",
       "    <tr>\n",
       "      <th>10105</th>\n",
       "      <td>10105</td>\n",
       "      <td>0</td>\n",
       "      <td>-4408.189939</td>\n",
       "      <td>58</td>\n",
       "      <td>среднее</td>\n",
       "      <td>1</td>\n",
       "      <td>женат / замужем</td>\n",
       "      <td>0</td>\n",
       "      <td>F</td>\n",
       "      <td>сотрудник</td>\n",
       "      <td>0</td>\n",
       "      <td>155395.006618</td>\n",
       "      <td>операции со своей недвижимостью</td>\n",
       "    </tr>\n",
       "    <tr>\n",
       "      <th>18173</th>\n",
       "      <td>18173</td>\n",
       "      <td>0</td>\n",
       "      <td>344186.984083</td>\n",
       "      <td>56</td>\n",
       "      <td>среднее</td>\n",
       "      <td>1</td>\n",
       "      <td>женат / замужем</td>\n",
       "      <td>0</td>\n",
       "      <td>F</td>\n",
       "      <td>пенсионер</td>\n",
       "      <td>0</td>\n",
       "      <td>81886.000355</td>\n",
       "      <td>строительство собственной недвижимости</td>\n",
       "    </tr>\n",
       "    <tr>\n",
       "      <th>484</th>\n",
       "      <td>484</td>\n",
       "      <td>1</td>\n",
       "      <td>-1101.890185</td>\n",
       "      <td>45</td>\n",
       "      <td>среднее</td>\n",
       "      <td>1</td>\n",
       "      <td>женат / замужем</td>\n",
       "      <td>0</td>\n",
       "      <td>M</td>\n",
       "      <td>сотрудник</td>\n",
       "      <td>0</td>\n",
       "      <td>167580.842430</td>\n",
       "      <td>автомобили</td>\n",
       "    </tr>\n",
       "    <tr>\n",
       "      <th>20827</th>\n",
       "      <td>20827</td>\n",
       "      <td>1</td>\n",
       "      <td>-1264.290386</td>\n",
       "      <td>42</td>\n",
       "      <td>среднее</td>\n",
       "      <td>1</td>\n",
       "      <td>женат / замужем</td>\n",
       "      <td>0</td>\n",
       "      <td>F</td>\n",
       "      <td>сотрудник</td>\n",
       "      <td>0</td>\n",
       "      <td>133987.017989</td>\n",
       "      <td>недвижимость</td>\n",
       "    </tr>\n",
       "    <tr>\n",
       "      <th>8140</th>\n",
       "      <td>8140</td>\n",
       "      <td>1</td>\n",
       "      <td>333028.640100</td>\n",
       "      <td>61</td>\n",
       "      <td>среднее</td>\n",
       "      <td>1</td>\n",
       "      <td>женат / замужем</td>\n",
       "      <td>0</td>\n",
       "      <td>F</td>\n",
       "      <td>пенсионер</td>\n",
       "      <td>0</td>\n",
       "      <td>128279.673929</td>\n",
       "      <td>покупка жилья для сдачи</td>\n",
       "    </tr>\n",
       "    <tr>\n",
       "      <th>14925</th>\n",
       "      <td>14925</td>\n",
       "      <td>0</td>\n",
       "      <td>368945.757693</td>\n",
       "      <td>62</td>\n",
       "      <td>среднее</td>\n",
       "      <td>1</td>\n",
       "      <td>гражданский брак</td>\n",
       "      <td>1</td>\n",
       "      <td>F</td>\n",
       "      <td>пенсионер</td>\n",
       "      <td>0</td>\n",
       "      <td>144149.728877</td>\n",
       "      <td>сыграть свадьбу</td>\n",
       "    </tr>\n",
       "    <tr>\n",
       "      <th>20104</th>\n",
       "      <td>20104</td>\n",
       "      <td>0</td>\n",
       "      <td>330424.670378</td>\n",
       "      <td>53</td>\n",
       "      <td>среднее</td>\n",
       "      <td>1</td>\n",
       "      <td>женат / замужем</td>\n",
       "      <td>0</td>\n",
       "      <td>F</td>\n",
       "      <td>пенсионер</td>\n",
       "      <td>0</td>\n",
       "      <td>97213.988663</td>\n",
       "      <td>на покупку автомобиля</td>\n",
       "    </tr>\n",
       "    <tr>\n",
       "      <th>2824</th>\n",
       "      <td>2824</td>\n",
       "      <td>0</td>\n",
       "      <td>-3424.468482</td>\n",
       "      <td>58</td>\n",
       "      <td>среднее</td>\n",
       "      <td>1</td>\n",
       "      <td>женат / замужем</td>\n",
       "      <td>0</td>\n",
       "      <td>F</td>\n",
       "      <td>компаньон</td>\n",
       "      <td>0</td>\n",
       "      <td>394465.196881</td>\n",
       "      <td>покупка жилья</td>\n",
       "    </tr>\n",
       "    <tr>\n",
       "      <th>7597</th>\n",
       "      <td>7597</td>\n",
       "      <td>0</td>\n",
       "      <td>381692.104806</td>\n",
       "      <td>60</td>\n",
       "      <td>среднее</td>\n",
       "      <td>1</td>\n",
       "      <td>женат / замужем</td>\n",
       "      <td>0</td>\n",
       "      <td>F</td>\n",
       "      <td>пенсионер</td>\n",
       "      <td>0</td>\n",
       "      <td>214472.285175</td>\n",
       "      <td>образование</td>\n",
       "    </tr>\n",
       "    <tr>\n",
       "      <th>6717</th>\n",
       "      <td>6717</td>\n",
       "      <td>0</td>\n",
       "      <td>-138.992068</td>\n",
       "      <td>24</td>\n",
       "      <td>среднее</td>\n",
       "      <td>1</td>\n",
       "      <td>женат / замужем</td>\n",
       "      <td>0</td>\n",
       "      <td>M</td>\n",
       "      <td>сотрудник</td>\n",
       "      <td>0</td>\n",
       "      <td>143907.938046</td>\n",
       "      <td>недвижимость</td>\n",
       "    </tr>\n",
       "    <tr>\n",
       "      <th>8900</th>\n",
       "      <td>8900</td>\n",
       "      <td>0</td>\n",
       "      <td>-2961.406306</td>\n",
       "      <td>58</td>\n",
       "      <td>среднее</td>\n",
       "      <td>1</td>\n",
       "      <td>вдовец / вдова</td>\n",
       "      <td>2</td>\n",
       "      <td>F</td>\n",
       "      <td>сотрудник</td>\n",
       "      <td>0</td>\n",
       "      <td>114025.383237</td>\n",
       "      <td>покупка коммерческой недвижимости</td>\n",
       "    </tr>\n",
       "  </tbody>\n",
       "</table>\n",
       "</div>"
      ],
      "text/plain": [
       "       Unnamed: 0  children  days_employed  dob_years education  education_id  \\\n",
       "21378       21378         0  401256.745090         59   среднее             1   \n",
       "12150       12150         0   -2167.873499         48   среднее             1   \n",
       "2581         2581         0            NaN         56    высшее             0   \n",
       "17004       17004         2    -248.561425         27   среднее             1   \n",
       "10105       10105         0   -4408.189939         58   среднее             1   \n",
       "18173       18173         0  344186.984083         56   среднее             1   \n",
       "484           484         1   -1101.890185         45   среднее             1   \n",
       "20827       20827         1   -1264.290386         42   среднее             1   \n",
       "8140         8140         1  333028.640100         61   среднее             1   \n",
       "14925       14925         0  368945.757693         62   среднее             1   \n",
       "20104       20104         0  330424.670378         53   среднее             1   \n",
       "2824         2824         0   -3424.468482         58   среднее             1   \n",
       "7597         7597         0  381692.104806         60   среднее             1   \n",
       "6717         6717         0    -138.992068         24   среднее             1   \n",
       "8900         8900         0   -2961.406306         58   среднее             1   \n",
       "\n",
       "          family_status  family_status_id gender  income_type  debt  \\\n",
       "21378    вдовец / вдова                 2      F    пенсионер     0   \n",
       "12150   женат / замужем                 0      F    компаньон     0   \n",
       "2581          в разводе                 3      F  госслужащий     0   \n",
       "17004   женат / замужем                 0      M    сотрудник     0   \n",
       "10105   женат / замужем                 0      F    сотрудник     0   \n",
       "18173   женат / замужем                 0      F    пенсионер     0   \n",
       "484     женат / замужем                 0      M    сотрудник     0   \n",
       "20827   женат / замужем                 0      F    сотрудник     0   \n",
       "8140    женат / замужем                 0      F    пенсионер     0   \n",
       "14925  гражданский брак                 1      F    пенсионер     0   \n",
       "20104   женат / замужем                 0      F    пенсионер     0   \n",
       "2824    женат / замужем                 0      F    компаньон     0   \n",
       "7597    женат / замужем                 0      F    пенсионер     0   \n",
       "6717    женат / замужем                 0      M    сотрудник     0   \n",
       "8900     вдовец / вдова                 2      F    сотрудник     0   \n",
       "\n",
       "        total_income                                 purpose  \n",
       "21378  204103.704870         операции со своей недвижимостью  \n",
       "12150  148235.139062                              автомобили  \n",
       "2581             NaN              строительство недвижимости  \n",
       "17004  161800.813560                             образование  \n",
       "10105  155395.006618         операции со своей недвижимостью  \n",
       "18173   81886.000355  строительство собственной недвижимости  \n",
       "484    167580.842430                              автомобили  \n",
       "20827  133987.017989                            недвижимость  \n",
       "8140   128279.673929                 покупка жилья для сдачи  \n",
       "14925  144149.728877                         сыграть свадьбу  \n",
       "20104   97213.988663                   на покупку автомобиля  \n",
       "2824   394465.196881                           покупка жилья  \n",
       "7597   214472.285175                             образование  \n",
       "6717   143907.938046                            недвижимость  \n",
       "8900   114025.383237       покупка коммерческой недвижимости  "
      ]
     },
     "execution_count": 2,
     "metadata": {},
     "output_type": "execute_result"
    }
   ],
   "source": [
    "data.sample(15)"
   ]
  },
  {
   "cell_type": "code",
   "execution_count": 3,
   "id": "93cbdfa5",
   "metadata": {},
   "outputs": [
    {
     "data": {
      "text/html": [
       "<div>\n",
       "<style scoped>\n",
       "    .dataframe tbody tr th:only-of-type {\n",
       "        vertical-align: middle;\n",
       "    }\n",
       "\n",
       "    .dataframe tbody tr th {\n",
       "        vertical-align: top;\n",
       "    }\n",
       "\n",
       "    .dataframe thead th {\n",
       "        text-align: right;\n",
       "    }\n",
       "</style>\n",
       "<table border=\"1\" class=\"dataframe\">\n",
       "  <thead>\n",
       "    <tr style=\"text-align: right;\">\n",
       "      <th></th>\n",
       "      <th>Unnamed: 0</th>\n",
       "      <th>children</th>\n",
       "      <th>days_employed</th>\n",
       "      <th>dob_years</th>\n",
       "      <th>education_id</th>\n",
       "      <th>family_status_id</th>\n",
       "      <th>debt</th>\n",
       "      <th>total_income</th>\n",
       "    </tr>\n",
       "  </thead>\n",
       "  <tbody>\n",
       "    <tr>\n",
       "      <th>count</th>\n",
       "      <td>21525.000000</td>\n",
       "      <td>21525.000000</td>\n",
       "      <td>19351.000000</td>\n",
       "      <td>21525.000000</td>\n",
       "      <td>21525.000000</td>\n",
       "      <td>21525.000000</td>\n",
       "      <td>21525.000000</td>\n",
       "      <td>1.935100e+04</td>\n",
       "    </tr>\n",
       "    <tr>\n",
       "      <th>mean</th>\n",
       "      <td>10762.000000</td>\n",
       "      <td>0.538908</td>\n",
       "      <td>63046.497661</td>\n",
       "      <td>43.293380</td>\n",
       "      <td>0.817236</td>\n",
       "      <td>0.972544</td>\n",
       "      <td>0.080883</td>\n",
       "      <td>1.674223e+05</td>\n",
       "    </tr>\n",
       "    <tr>\n",
       "      <th>std</th>\n",
       "      <td>6213.876608</td>\n",
       "      <td>1.381587</td>\n",
       "      <td>140827.311974</td>\n",
       "      <td>12.574584</td>\n",
       "      <td>0.548138</td>\n",
       "      <td>1.420324</td>\n",
       "      <td>0.272661</td>\n",
       "      <td>1.029716e+05</td>\n",
       "    </tr>\n",
       "    <tr>\n",
       "      <th>min</th>\n",
       "      <td>0.000000</td>\n",
       "      <td>-1.000000</td>\n",
       "      <td>-18388.949901</td>\n",
       "      <td>0.000000</td>\n",
       "      <td>0.000000</td>\n",
       "      <td>0.000000</td>\n",
       "      <td>0.000000</td>\n",
       "      <td>2.066726e+04</td>\n",
       "    </tr>\n",
       "    <tr>\n",
       "      <th>25%</th>\n",
       "      <td>5381.000000</td>\n",
       "      <td>0.000000</td>\n",
       "      <td>-2747.423625</td>\n",
       "      <td>33.000000</td>\n",
       "      <td>1.000000</td>\n",
       "      <td>0.000000</td>\n",
       "      <td>0.000000</td>\n",
       "      <td>1.030532e+05</td>\n",
       "    </tr>\n",
       "    <tr>\n",
       "      <th>50%</th>\n",
       "      <td>10762.000000</td>\n",
       "      <td>0.000000</td>\n",
       "      <td>-1203.369529</td>\n",
       "      <td>42.000000</td>\n",
       "      <td>1.000000</td>\n",
       "      <td>0.000000</td>\n",
       "      <td>0.000000</td>\n",
       "      <td>1.450179e+05</td>\n",
       "    </tr>\n",
       "    <tr>\n",
       "      <th>75%</th>\n",
       "      <td>16143.000000</td>\n",
       "      <td>1.000000</td>\n",
       "      <td>-291.095954</td>\n",
       "      <td>53.000000</td>\n",
       "      <td>1.000000</td>\n",
       "      <td>1.000000</td>\n",
       "      <td>0.000000</td>\n",
       "      <td>2.034351e+05</td>\n",
       "    </tr>\n",
       "    <tr>\n",
       "      <th>max</th>\n",
       "      <td>21524.000000</td>\n",
       "      <td>20.000000</td>\n",
       "      <td>401755.400475</td>\n",
       "      <td>75.000000</td>\n",
       "      <td>4.000000</td>\n",
       "      <td>4.000000</td>\n",
       "      <td>1.000000</td>\n",
       "      <td>2.265604e+06</td>\n",
       "    </tr>\n",
       "  </tbody>\n",
       "</table>\n",
       "</div>"
      ],
      "text/plain": [
       "         Unnamed: 0      children  days_employed     dob_years  education_id  \\\n",
       "count  21525.000000  21525.000000   19351.000000  21525.000000  21525.000000   \n",
       "mean   10762.000000      0.538908   63046.497661     43.293380      0.817236   \n",
       "std     6213.876608      1.381587  140827.311974     12.574584      0.548138   \n",
       "min        0.000000     -1.000000  -18388.949901      0.000000      0.000000   \n",
       "25%     5381.000000      0.000000   -2747.423625     33.000000      1.000000   \n",
       "50%    10762.000000      0.000000   -1203.369529     42.000000      1.000000   \n",
       "75%    16143.000000      1.000000    -291.095954     53.000000      1.000000   \n",
       "max    21524.000000     20.000000  401755.400475     75.000000      4.000000   \n",
       "\n",
       "       family_status_id          debt  total_income  \n",
       "count      21525.000000  21525.000000  1.935100e+04  \n",
       "mean           0.972544      0.080883  1.674223e+05  \n",
       "std            1.420324      0.272661  1.029716e+05  \n",
       "min            0.000000      0.000000  2.066726e+04  \n",
       "25%            0.000000      0.000000  1.030532e+05  \n",
       "50%            0.000000      0.000000  1.450179e+05  \n",
       "75%            1.000000      0.000000  2.034351e+05  \n",
       "max            4.000000      1.000000  2.265604e+06  "
      ]
     },
     "execution_count": 3,
     "metadata": {},
     "output_type": "execute_result"
    }
   ],
   "source": [
    "data.describe()"
   ]
  },
  {
   "cell_type": "markdown",
   "id": "401fb92a",
   "metadata": {},
   "source": [
    "С помощью описательной статистики мы выявили следующие недостатки данных: минимальный возраст 0, минимальное количество детей -1, максимальное количество детей 20, данные из столбца days_employed не репрезетантивны (содержат, в том числе, и отрицательные значения), данные из столбца total_income следует преобразовать к целочисленному типу для удобства чтения."
   ]
  },
  {
   "cell_type": "markdown",
   "id": "4cb9fcfb",
   "metadata": {},
   "source": [
    "Чтобы посмотреть общую информацию по датафрейму и всем признакам, используем метод info:"
   ]
  },
  {
   "cell_type": "code",
   "execution_count": 4,
   "id": "243efc71",
   "metadata": {},
   "outputs": [
    {
     "name": "stdout",
     "output_type": "stream",
     "text": [
      "<class 'pandas.core.frame.DataFrame'>\n",
      "RangeIndex: 21525 entries, 0 to 21524\n",
      "Data columns (total 13 columns):\n",
      " #   Column            Non-Null Count  Dtype  \n",
      "---  ------            --------------  -----  \n",
      " 0   Unnamed: 0        21525 non-null  int64  \n",
      " 1   children          21525 non-null  int64  \n",
      " 2   days_employed     19351 non-null  float64\n",
      " 3   dob_years         21525 non-null  int64  \n",
      " 4   education         21525 non-null  object \n",
      " 5   education_id      21525 non-null  int64  \n",
      " 6   family_status     21525 non-null  object \n",
      " 7   family_status_id  21525 non-null  int64  \n",
      " 8   gender            21525 non-null  object \n",
      " 9   income_type       21525 non-null  object \n",
      " 10  debt              21525 non-null  int64  \n",
      " 11  total_income      19351 non-null  float64\n",
      " 12  purpose           21525 non-null  object \n",
      "dtypes: float64(2), int64(6), object(5)\n",
      "memory usage: 2.1+ MB\n"
     ]
    }
   ],
   "source": [
    "data.info()"
   ]
  },
  {
   "cell_type": "markdown",
   "id": "c47a74fc",
   "metadata": {},
   "source": [
    "Воспользовавшись методом info можно заметить, что количество не пустых значений в столбцах 'days_employed' и 'total_income' отличается от общего количества значений в других столбцах."
   ]
  },
  {
   "cell_type": "code",
   "execution_count": 5,
   "id": "7422f54b",
   "metadata": {},
   "outputs": [
    {
     "data": {
      "text/plain": [
       "Unnamed: 0             0\n",
       "children               0\n",
       "days_employed       2174\n",
       "dob_years              0\n",
       "education              0\n",
       "education_id           0\n",
       "family_status          0\n",
       "family_status_id       0\n",
       "gender                 0\n",
       "income_type            0\n",
       "debt                   0\n",
       "total_income        2174\n",
       "purpose                0\n",
       "dtype: int64"
      ]
     },
     "execution_count": 5,
     "metadata": {},
     "output_type": "execute_result"
    }
   ],
   "source": [
    "#Подсчитываем количество пропущенных значений\n",
    "data.isnull().sum()"
   ]
  },
  {
   "cell_type": "markdown",
   "id": "195fcaac",
   "metadata": {},
   "source": [
    "Общее количество пропущенных значений в столбцах 'days_employed' и 'total_income' равно 2174, что составляет более 10% от общего количества данных в соответсвующих категориях. Так как удаление такого большого объема данных может повлиять на дальнейший анализ, необходимо произвести замену пустых значений в данных столбцах."
   ]
  },
  {
   "cell_type": "markdown",
   "id": "f800eb1c",
   "metadata": {},
   "source": [
    "## Предобработка данных"
   ]
  },
  {
   "cell_type": "markdown",
   "id": "f2b8275a",
   "metadata": {},
   "source": [
    "Более подроное изученим данные в каждом столбце таблицы по отдельности. Проверим строки в которых имеется хотя бы одно пустое значение"
   ]
  },
  {
   "cell_type": "code",
   "execution_count": 6,
   "id": "beac90b8",
   "metadata": {},
   "outputs": [
    {
     "data": {
      "text/html": [
       "<div>\n",
       "<style scoped>\n",
       "    .dataframe tbody tr th:only-of-type {\n",
       "        vertical-align: middle;\n",
       "    }\n",
       "\n",
       "    .dataframe tbody tr th {\n",
       "        vertical-align: top;\n",
       "    }\n",
       "\n",
       "    .dataframe thead th {\n",
       "        text-align: right;\n",
       "    }\n",
       "</style>\n",
       "<table border=\"1\" class=\"dataframe\">\n",
       "  <thead>\n",
       "    <tr style=\"text-align: right;\">\n",
       "      <th></th>\n",
       "      <th>Unnamed: 0</th>\n",
       "      <th>children</th>\n",
       "      <th>days_employed</th>\n",
       "      <th>dob_years</th>\n",
       "      <th>education</th>\n",
       "      <th>education_id</th>\n",
       "      <th>family_status</th>\n",
       "      <th>family_status_id</th>\n",
       "      <th>gender</th>\n",
       "      <th>income_type</th>\n",
       "      <th>debt</th>\n",
       "      <th>total_income</th>\n",
       "      <th>purpose</th>\n",
       "    </tr>\n",
       "  </thead>\n",
       "  <tbody>\n",
       "    <tr>\n",
       "      <th>7299</th>\n",
       "      <td>7299</td>\n",
       "      <td>0</td>\n",
       "      <td>NaN</td>\n",
       "      <td>31</td>\n",
       "      <td>высшее</td>\n",
       "      <td>0</td>\n",
       "      <td>Не женат / не замужем</td>\n",
       "      <td>4</td>\n",
       "      <td>F</td>\n",
       "      <td>сотрудник</td>\n",
       "      <td>0</td>\n",
       "      <td>NaN</td>\n",
       "      <td>на покупку подержанного автомобиля</td>\n",
       "    </tr>\n",
       "    <tr>\n",
       "      <th>19514</th>\n",
       "      <td>19514</td>\n",
       "      <td>0</td>\n",
       "      <td>NaN</td>\n",
       "      <td>66</td>\n",
       "      <td>среднее</td>\n",
       "      <td>1</td>\n",
       "      <td>гражданский брак</td>\n",
       "      <td>1</td>\n",
       "      <td>F</td>\n",
       "      <td>пенсионер</td>\n",
       "      <td>0</td>\n",
       "      <td>NaN</td>\n",
       "      <td>строительство недвижимости</td>\n",
       "    </tr>\n",
       "    <tr>\n",
       "      <th>16204</th>\n",
       "      <td>16204</td>\n",
       "      <td>0</td>\n",
       "      <td>NaN</td>\n",
       "      <td>56</td>\n",
       "      <td>среднее</td>\n",
       "      <td>1</td>\n",
       "      <td>женат / замужем</td>\n",
       "      <td>0</td>\n",
       "      <td>F</td>\n",
       "      <td>пенсионер</td>\n",
       "      <td>0</td>\n",
       "      <td>NaN</td>\n",
       "      <td>на покупку автомобиля</td>\n",
       "    </tr>\n",
       "    <tr>\n",
       "      <th>14130</th>\n",
       "      <td>14130</td>\n",
       "      <td>0</td>\n",
       "      <td>NaN</td>\n",
       "      <td>44</td>\n",
       "      <td>неоконченное высшее</td>\n",
       "      <td>2</td>\n",
       "      <td>гражданский брак</td>\n",
       "      <td>1</td>\n",
       "      <td>F</td>\n",
       "      <td>сотрудник</td>\n",
       "      <td>0</td>\n",
       "      <td>NaN</td>\n",
       "      <td>свой автомобиль</td>\n",
       "    </tr>\n",
       "    <tr>\n",
       "      <th>19570</th>\n",
       "      <td>19570</td>\n",
       "      <td>0</td>\n",
       "      <td>NaN</td>\n",
       "      <td>23</td>\n",
       "      <td>среднее</td>\n",
       "      <td>1</td>\n",
       "      <td>гражданский брак</td>\n",
       "      <td>1</td>\n",
       "      <td>M</td>\n",
       "      <td>сотрудник</td>\n",
       "      <td>0</td>\n",
       "      <td>NaN</td>\n",
       "      <td>на покупку автомобиля</td>\n",
       "    </tr>\n",
       "  </tbody>\n",
       "</table>\n",
       "</div>"
      ],
      "text/plain": [
       "       Unnamed: 0  children  days_employed  dob_years            education  \\\n",
       "7299         7299         0            NaN         31               высшее   \n",
       "19514       19514         0            NaN         66              среднее   \n",
       "16204       16204         0            NaN         56              среднее   \n",
       "14130       14130         0            NaN         44  неоконченное высшее   \n",
       "19570       19570         0            NaN         23              среднее   \n",
       "\n",
       "       education_id          family_status  family_status_id gender  \\\n",
       "7299              0  Не женат / не замужем                 4      F   \n",
       "19514             1       гражданский брак                 1      F   \n",
       "16204             1        женат / замужем                 0      F   \n",
       "14130             2       гражданский брак                 1      F   \n",
       "19570             1       гражданский брак                 1      M   \n",
       "\n",
       "      income_type  debt  total_income                             purpose  \n",
       "7299    сотрудник     0           NaN  на покупку подержанного автомобиля  \n",
       "19514   пенсионер     0           NaN          строительство недвижимости  \n",
       "16204   пенсионер     0           NaN               на покупку автомобиля  \n",
       "14130   сотрудник     0           NaN                     свой автомобиль  \n",
       "19570   сотрудник     0           NaN               на покупку автомобиля  "
      ]
     },
     "execution_count": 6,
     "metadata": {},
     "output_type": "execute_result"
    }
   ],
   "source": [
    "data[data.isnull().any(axis=1)].sample(5)"
   ]
  },
  {
   "cell_type": "markdown",
   "id": "06a83925",
   "metadata": {},
   "source": [
    "Проверка строк с пропусками показывает взаимосвязь между трудовым стажем и месячным доходом (данные в соответствующих столбцах отсутствуют в одних и тех же строках). Возможно это связано с тем, что клиентом не предоставлена справка о доходах в которой обычно отражается период работы в организации."
   ]
  },
  {
   "cell_type": "code",
   "execution_count": 7,
   "id": "b0df8644",
   "metadata": {},
   "outputs": [
    {
     "data": {
      "text/plain": [
       "пенсионер      3443\n",
       "безработный       2\n",
       "Name: income_type, dtype: int64"
      ]
     },
     "execution_count": 7,
     "metadata": {},
     "output_type": "execute_result"
    }
   ],
   "source": [
    "data[(data.days_employed >= 0)]['income_type'].value_counts()"
   ]
  },
  {
   "cell_type": "code",
   "execution_count": 9,
   "id": "effade20",
   "metadata": {},
   "outputs": [
    {
     "data": {
      "text/plain": [
       "сотрудник          11119\n",
       "компаньон           5085\n",
       "пенсионер           3856\n",
       "госслужащий         1459\n",
       "безработный            2\n",
       "предприниматель        2\n",
       "студент                1\n",
       "в декрете              1\n",
       "Name: income_type, dtype: int64"
      ]
     },
     "execution_count": 9,
     "metadata": {},
     "output_type": "execute_result"
    }
   ],
   "source": [
    "data.income_type.value_counts()"
   ]
  },
  {
   "cell_type": "markdown",
   "id": "74adaa43",
   "metadata": {},
   "source": [
    "Выборочная проверка данных позволила выдвинуть теорию о том, что трудовой стаж находится в зависимости от типа занятости. Дальнейшая проверка показала, что только две катогории имеют положительно значение в столбце days_employed: пенсионеры и безработные, т.е. люди которые на момент предоставления информация не работают, остальные категории имеют отрицательное значение и пустое. В рамках текущего проекта обработать данные по столбцу days_employed и привести их к репрезентативному виду не представляется возможным и необходимым (так как эти данные не влияют на исследование). Можно предположить, что некорректные данные появились во время выгрузки данных, но при этом сохранена определенная зависимость. Таким образом при заполнении данных необходимо учитывать тип занятости."
   ]
  },
  {
   "cell_type": "code",
   "execution_count": 10,
   "id": "dcbf4faa",
   "metadata": {},
   "outputs": [],
   "source": [
    "categories = data['income_type'].unique()\n",
    "for i in categories:\n",
    "    data.loc[(data['days_employed'].isna()) & (data['income_type'] == i), 'days_employed'] \\\n",
    "    = data.loc[data['income_type'] == i, 'days_employed'].median()\n",
    "    data.loc[(data['total_income'].isna()) & (data['income_type'] == i), 'total_income'] \\\n",
    "    = data.loc[data['income_type'] == i, 'total_income'].median()"
   ]
  },
  {
   "cell_type": "code",
   "execution_count": 11,
   "id": "9ec1ba85",
   "metadata": {},
   "outputs": [
    {
     "name": "stdout",
     "output_type": "stream",
     "text": [
      "<class 'pandas.core.frame.DataFrame'>\n",
      "RangeIndex: 21525 entries, 0 to 21524\n",
      "Data columns (total 13 columns):\n",
      " #   Column            Non-Null Count  Dtype  \n",
      "---  ------            --------------  -----  \n",
      " 0   Unnamed: 0        21525 non-null  int64  \n",
      " 1   children          21525 non-null  int64  \n",
      " 2   days_employed     21525 non-null  float64\n",
      " 3   dob_years         21525 non-null  int64  \n",
      " 4   education         21525 non-null  object \n",
      " 5   education_id      21525 non-null  int64  \n",
      " 6   family_status     21525 non-null  object \n",
      " 7   family_status_id  21525 non-null  int64  \n",
      " 8   gender            21525 non-null  object \n",
      " 9   income_type       21525 non-null  object \n",
      " 10  debt              21525 non-null  int64  \n",
      " 11  total_income      21525 non-null  float64\n",
      " 12  purpose           21525 non-null  object \n",
      "dtypes: float64(2), int64(6), object(5)\n",
      "memory usage: 2.1+ MB\n"
     ]
    }
   ],
   "source": [
    "data.info()"
   ]
  },
  {
   "cell_type": "markdown",
   "id": "557def2d",
   "metadata": {},
   "source": [
    "Проверка показывает, что пропущенные значения отсутствуют."
   ]
  },
  {
   "cell_type": "code",
   "execution_count": 12,
   "id": "ed1c9edb",
   "metadata": {},
   "outputs": [
    {
     "data": {
      "text/plain": [
       " 0     14149\n",
       " 1      4818\n",
       " 2      2055\n",
       " 3       330\n",
       " 20       76\n",
       "-1        47\n",
       " 4        41\n",
       " 5         9\n",
       "Name: children, dtype: int64"
      ]
     },
     "execution_count": 12,
     "metadata": {},
     "output_type": "execute_result"
    }
   ],
   "source": [
    "data.children.value_counts()"
   ]
  },
  {
   "cell_type": "code",
   "execution_count": 13,
   "id": "5d164460",
   "metadata": {},
   "outputs": [
    {
     "data": {
      "text/plain": [
       "5"
      ]
     },
     "execution_count": 13,
     "metadata": {},
     "output_type": "execute_result"
    }
   ],
   "source": [
    "data[(data.children == 20) & (data.dob_years <= 25)]['dob_years'].value_counts().sum()"
   ]
  },
  {
   "cell_type": "markdown",
   "id": "d867c09e",
   "metadata": {},
   "source": [
    "Проверка данных по стабцу children показывает, что cтроки содержащие значение от '6' до '19' отсутствуют, что косвенно свидетельствует на ошибку ввода. Цифра 20 в категории 'Количество детей' была указана ошибочно, так как такие данные были указаны в том числе по отношении к клиентам, которые не могли иметь такое количество детей в силу возраста. Скорее всего данные были не правильно занесены в базу и вместо '20' должно быть указано '2', а вместо '-1' - '1'. При этом количество строк, содержащих значение '-1' составляет меньше процента от количества семей с одним ребенком, поэтому такие данные допустимо удалить. Частотность значени '20' составляет 3,7% от количество семей с 2 детьми, поэтому такие значения целесообразно изменить на '2'. "
   ]
  },
  {
   "cell_type": "code",
   "execution_count": 14,
   "id": "73c8b97e",
   "metadata": {},
   "outputs": [
    {
     "data": {
      "text/plain": [
       "0    14149\n",
       "1     4818\n",
       "2     2131\n",
       "3      330\n",
       "4       41\n",
       "5        9\n",
       "Name: children, dtype: int64"
      ]
     },
     "execution_count": 14,
     "metadata": {},
     "output_type": "execute_result"
    }
   ],
   "source": [
    "data = data[data['children'] != -1]\n",
    "data.loc[data['children'] == 20, 'children'] = 2\n",
    "data.children.value_counts()"
   ]
  },
  {
   "cell_type": "code",
   "execution_count": 15,
   "id": "e7d2f92b",
   "metadata": {},
   "outputs": [
    {
     "data": {
      "text/plain": [
       "0    101\n",
       "Name: dob_years, dtype: int64"
      ]
     },
     "execution_count": 15,
     "metadata": {},
     "output_type": "execute_result"
    }
   ],
   "source": [
    "data[(data.dob_years <= 18)]['dob_years'].value_counts()"
   ]
  },
  {
   "cell_type": "code",
   "execution_count": 16,
   "id": "8b00e12c",
   "metadata": {},
   "outputs": [
    {
     "data": {
      "text/html": [
       "<div>\n",
       "<style scoped>\n",
       "    .dataframe tbody tr th:only-of-type {\n",
       "        vertical-align: middle;\n",
       "    }\n",
       "\n",
       "    .dataframe tbody tr th {\n",
       "        vertical-align: top;\n",
       "    }\n",
       "\n",
       "    .dataframe thead th {\n",
       "        text-align: right;\n",
       "    }\n",
       "</style>\n",
       "<table border=\"1\" class=\"dataframe\">\n",
       "  <thead>\n",
       "    <tr style=\"text-align: right;\">\n",
       "      <th></th>\n",
       "      <th>Unnamed: 0</th>\n",
       "      <th>children</th>\n",
       "      <th>days_employed</th>\n",
       "      <th>dob_years</th>\n",
       "      <th>education</th>\n",
       "      <th>education_id</th>\n",
       "      <th>family_status</th>\n",
       "      <th>family_status_id</th>\n",
       "      <th>gender</th>\n",
       "      <th>income_type</th>\n",
       "      <th>debt</th>\n",
       "      <th>total_income</th>\n",
       "      <th>purpose</th>\n",
       "    </tr>\n",
       "  </thead>\n",
       "  <tbody>\n",
       "    <tr>\n",
       "      <th>99</th>\n",
       "      <td>99</td>\n",
       "      <td>0</td>\n",
       "      <td>346541.618895</td>\n",
       "      <td>0</td>\n",
       "      <td>Среднее</td>\n",
       "      <td>1</td>\n",
       "      <td>женат / замужем</td>\n",
       "      <td>0</td>\n",
       "      <td>F</td>\n",
       "      <td>пенсионер</td>\n",
       "      <td>0</td>\n",
       "      <td>71291.522491</td>\n",
       "      <td>автомобиль</td>\n",
       "    </tr>\n",
       "    <tr>\n",
       "      <th>149</th>\n",
       "      <td>149</td>\n",
       "      <td>0</td>\n",
       "      <td>-2664.273168</td>\n",
       "      <td>0</td>\n",
       "      <td>среднее</td>\n",
       "      <td>1</td>\n",
       "      <td>в разводе</td>\n",
       "      <td>3</td>\n",
       "      <td>F</td>\n",
       "      <td>сотрудник</td>\n",
       "      <td>0</td>\n",
       "      <td>70176.435951</td>\n",
       "      <td>операции с жильем</td>\n",
       "    </tr>\n",
       "    <tr>\n",
       "      <th>270</th>\n",
       "      <td>270</td>\n",
       "      <td>3</td>\n",
       "      <td>-1872.663186</td>\n",
       "      <td>0</td>\n",
       "      <td>среднее</td>\n",
       "      <td>1</td>\n",
       "      <td>женат / замужем</td>\n",
       "      <td>0</td>\n",
       "      <td>F</td>\n",
       "      <td>сотрудник</td>\n",
       "      <td>0</td>\n",
       "      <td>102166.458894</td>\n",
       "      <td>ремонт жилью</td>\n",
       "    </tr>\n",
       "    <tr>\n",
       "      <th>578</th>\n",
       "      <td>578</td>\n",
       "      <td>0</td>\n",
       "      <td>397856.565013</td>\n",
       "      <td>0</td>\n",
       "      <td>среднее</td>\n",
       "      <td>1</td>\n",
       "      <td>женат / замужем</td>\n",
       "      <td>0</td>\n",
       "      <td>F</td>\n",
       "      <td>пенсионер</td>\n",
       "      <td>0</td>\n",
       "      <td>97620.687042</td>\n",
       "      <td>строительство собственной недвижимости</td>\n",
       "    </tr>\n",
       "    <tr>\n",
       "      <th>1040</th>\n",
       "      <td>1040</td>\n",
       "      <td>0</td>\n",
       "      <td>-1158.029561</td>\n",
       "      <td>0</td>\n",
       "      <td>высшее</td>\n",
       "      <td>0</td>\n",
       "      <td>в разводе</td>\n",
       "      <td>3</td>\n",
       "      <td>F</td>\n",
       "      <td>компаньон</td>\n",
       "      <td>0</td>\n",
       "      <td>303994.134987</td>\n",
       "      <td>свой автомобиль</td>\n",
       "    </tr>\n",
       "    <tr>\n",
       "      <th>...</th>\n",
       "      <td>...</td>\n",
       "      <td>...</td>\n",
       "      <td>...</td>\n",
       "      <td>...</td>\n",
       "      <td>...</td>\n",
       "      <td>...</td>\n",
       "      <td>...</td>\n",
       "      <td>...</td>\n",
       "      <td>...</td>\n",
       "      <td>...</td>\n",
       "      <td>...</td>\n",
       "      <td>...</td>\n",
       "      <td>...</td>\n",
       "    </tr>\n",
       "    <tr>\n",
       "      <th>19829</th>\n",
       "      <td>19829</td>\n",
       "      <td>0</td>\n",
       "      <td>-1574.202821</td>\n",
       "      <td>0</td>\n",
       "      <td>среднее</td>\n",
       "      <td>1</td>\n",
       "      <td>женат / замужем</td>\n",
       "      <td>0</td>\n",
       "      <td>F</td>\n",
       "      <td>сотрудник</td>\n",
       "      <td>0</td>\n",
       "      <td>142594.396847</td>\n",
       "      <td>жилье</td>\n",
       "    </tr>\n",
       "    <tr>\n",
       "      <th>20462</th>\n",
       "      <td>20462</td>\n",
       "      <td>0</td>\n",
       "      <td>338734.868540</td>\n",
       "      <td>0</td>\n",
       "      <td>среднее</td>\n",
       "      <td>1</td>\n",
       "      <td>женат / замужем</td>\n",
       "      <td>0</td>\n",
       "      <td>F</td>\n",
       "      <td>пенсионер</td>\n",
       "      <td>0</td>\n",
       "      <td>259193.920299</td>\n",
       "      <td>покупка своего жилья</td>\n",
       "    </tr>\n",
       "    <tr>\n",
       "      <th>20577</th>\n",
       "      <td>20577</td>\n",
       "      <td>0</td>\n",
       "      <td>331741.271455</td>\n",
       "      <td>0</td>\n",
       "      <td>среднее</td>\n",
       "      <td>1</td>\n",
       "      <td>Не женат / не замужем</td>\n",
       "      <td>4</td>\n",
       "      <td>F</td>\n",
       "      <td>пенсионер</td>\n",
       "      <td>0</td>\n",
       "      <td>129788.762899</td>\n",
       "      <td>недвижимость</td>\n",
       "    </tr>\n",
       "    <tr>\n",
       "      <th>21179</th>\n",
       "      <td>21179</td>\n",
       "      <td>2</td>\n",
       "      <td>-108.967042</td>\n",
       "      <td>0</td>\n",
       "      <td>высшее</td>\n",
       "      <td>0</td>\n",
       "      <td>женат / замужем</td>\n",
       "      <td>0</td>\n",
       "      <td>M</td>\n",
       "      <td>компаньон</td>\n",
       "      <td>0</td>\n",
       "      <td>240702.007382</td>\n",
       "      <td>строительство жилой недвижимости</td>\n",
       "    </tr>\n",
       "    <tr>\n",
       "      <th>21313</th>\n",
       "      <td>21313</td>\n",
       "      <td>0</td>\n",
       "      <td>-1268.487728</td>\n",
       "      <td>0</td>\n",
       "      <td>среднее</td>\n",
       "      <td>1</td>\n",
       "      <td>Не женат / не замужем</td>\n",
       "      <td>4</td>\n",
       "      <td>M</td>\n",
       "      <td>сотрудник</td>\n",
       "      <td>0</td>\n",
       "      <td>152419.184851</td>\n",
       "      <td>операции с жильем</td>\n",
       "    </tr>\n",
       "  </tbody>\n",
       "</table>\n",
       "<p>101 rows × 13 columns</p>\n",
       "</div>"
      ],
      "text/plain": [
       "       Unnamed: 0  children  days_employed  dob_years education  education_id  \\\n",
       "99             99         0  346541.618895          0   Среднее             1   \n",
       "149           149         0   -2664.273168          0   среднее             1   \n",
       "270           270         3   -1872.663186          0   среднее             1   \n",
       "578           578         0  397856.565013          0   среднее             1   \n",
       "1040         1040         0   -1158.029561          0    высшее             0   \n",
       "...           ...       ...            ...        ...       ...           ...   \n",
       "19829       19829         0   -1574.202821          0   среднее             1   \n",
       "20462       20462         0  338734.868540          0   среднее             1   \n",
       "20577       20577         0  331741.271455          0   среднее             1   \n",
       "21179       21179         2    -108.967042          0    высшее             0   \n",
       "21313       21313         0   -1268.487728          0   среднее             1   \n",
       "\n",
       "               family_status  family_status_id gender income_type  debt  \\\n",
       "99           женат / замужем                 0      F   пенсионер     0   \n",
       "149                в разводе                 3      F   сотрудник     0   \n",
       "270          женат / замужем                 0      F   сотрудник     0   \n",
       "578          женат / замужем                 0      F   пенсионер     0   \n",
       "1040               в разводе                 3      F   компаньон     0   \n",
       "...                      ...               ...    ...         ...   ...   \n",
       "19829        женат / замужем                 0      F   сотрудник     0   \n",
       "20462        женат / замужем                 0      F   пенсионер     0   \n",
       "20577  Не женат / не замужем                 4      F   пенсионер     0   \n",
       "21179        женат / замужем                 0      M   компаньон     0   \n",
       "21313  Не женат / не замужем                 4      M   сотрудник     0   \n",
       "\n",
       "        total_income                                 purpose  \n",
       "99      71291.522491                              автомобиль  \n",
       "149     70176.435951                       операции с жильем  \n",
       "270    102166.458894                            ремонт жилью  \n",
       "578     97620.687042  строительство собственной недвижимости  \n",
       "1040   303994.134987                         свой автомобиль  \n",
       "...              ...                                     ...  \n",
       "19829  142594.396847                                   жилье  \n",
       "20462  259193.920299                    покупка своего жилья  \n",
       "20577  129788.762899                            недвижимость  \n",
       "21179  240702.007382        строительство жилой недвижимости  \n",
       "21313  152419.184851                       операции с жильем  \n",
       "\n",
       "[101 rows x 13 columns]"
      ]
     },
     "execution_count": 16,
     "metadata": {},
     "output_type": "execute_result"
    }
   ],
   "source": [
    "data[(data.dob_years == 0)]"
   ]
  },
  {
   "cell_type": "markdown",
   "id": "4343d3ec",
   "metadata": {},
   "source": [
    "В столбце dob_years значение '0' встречается 101 раз, при этом какие-либо закономерности, которые могут влиять на такое значение не выявлены, т.е. такие данные могут быть случайны. Так как общее количество строк, содержащих такое значение не велико (менее 0,5%), то такие строки не могут повлиять на дальнейшее исследование и могут быть удалены."
   ]
  },
  {
   "cell_type": "code",
   "execution_count": 17,
   "id": "7433d3ee",
   "metadata": {},
   "outputs": [
    {
     "data": {
      "text/plain": [
       "count    21377.000000\n",
       "mean        43.499509\n",
       "std         12.248988\n",
       "min         19.000000\n",
       "25%         33.000000\n",
       "50%         43.000000\n",
       "75%         53.000000\n",
       "max         75.000000\n",
       "Name: dob_years, dtype: float64"
      ]
     },
     "execution_count": 17,
     "metadata": {},
     "output_type": "execute_result"
    }
   ],
   "source": [
    "data = data[data['dob_years'] != 0]\n",
    "data.dob_years.describe()"
   ]
  },
  {
   "cell_type": "code",
   "execution_count": 18,
   "id": "91d794d3",
   "metadata": {},
   "outputs": [
    {
     "data": {
      "text/plain": [
       "среднее                13660\n",
       "высшее                  4678\n",
       "СРЕДНЕЕ                  766\n",
       "Среднее                  706\n",
       "неоконченное высшее      665\n",
       "ВЫСШЕЕ                   272\n",
       "Высшее                   266\n",
       "начальное                250\n",
       "Неоконченное высшее       47\n",
       "НЕОКОНЧЕННОЕ ВЫСШЕЕ       29\n",
       "НАЧАЛЬНОЕ                 17\n",
       "Начальное                 15\n",
       "ученая степень             4\n",
       "Ученая степень             1\n",
       "УЧЕНАЯ СТЕПЕНЬ             1\n",
       "Name: education, dtype: int64"
      ]
     },
     "execution_count": 18,
     "metadata": {},
     "output_type": "execute_result"
    }
   ],
   "source": [
    "data['education'].value_counts()"
   ]
  },
  {
   "cell_type": "markdown",
   "id": "43f0aa10",
   "metadata": {},
   "source": [
    "Изучение данных стоблца education показывает наличие дубликатов: имеются одинаковые категории с разным регистром. Чтобы учесть такие дубликаты, все символы в строке приводим к нижнему регистру."
   ]
  },
  {
   "cell_type": "code",
   "execution_count": 92,
   "id": "d567e293",
   "metadata": {},
   "outputs": [
    {
     "data": {
      "text/plain": [
       "среднее                15132\n",
       "высшее                  5216\n",
       "неоконченное высшее      741\n",
       "начальное                282\n",
       "ученая степень             6\n",
       "Name: education, dtype: int64"
      ]
     },
     "execution_count": 92,
     "metadata": {},
     "output_type": "execute_result"
    }
   ],
   "source": [
    "data['education'] = data['education'].str.lower()\n",
    "data['education'].value_counts()"
   ]
  },
  {
   "cell_type": "markdown",
   "id": "0d63742c",
   "metadata": {},
   "source": [
    "Проверка показывает, что после обработки дубликаты в столбце education отсутствуют."
   ]
  },
  {
   "cell_type": "code",
   "execution_count": 20,
   "id": "e3205be8",
   "metadata": {},
   "outputs": [
    {
     "data": {
      "text/plain": [
       "F      14129\n",
       "M       7247\n",
       "XNA        1\n",
       "Name: gender, dtype: int64"
      ]
     },
     "execution_count": 20,
     "metadata": {},
     "output_type": "execute_result"
    }
   ],
   "source": [
    "data['gender'].value_counts()"
   ]
  },
  {
   "cell_type": "markdown",
   "id": "91dd59fb",
   "metadata": {},
   "source": [
    "Проверка данных в столбце gender показывает наличие неиндефицируемого значения 'XNA'. С учетом того, что такое значение единично его можно было бы удалить, однако такое значение можно и заменить на другое (на исследование это не повлияет). Так как значение категориальное и представлено всего двумя видами данных будет целесообразным заменить его на самое распространенное, т.е. на значение моды."
   ]
  },
  {
   "cell_type": "code",
   "execution_count": 21,
   "id": "6411fd24",
   "metadata": {},
   "outputs": [
    {
     "data": {
      "text/plain": [
       "0    F\n",
       "Name: gender, dtype: object"
      ]
     },
     "execution_count": 21,
     "metadata": {},
     "output_type": "execute_result"
    }
   ],
   "source": [
    "data.gender.mode()"
   ]
  },
  {
   "cell_type": "code",
   "execution_count": 22,
   "id": "bf5d17db",
   "metadata": {},
   "outputs": [
    {
     "data": {
      "text/plain": [
       "F    14130\n",
       "M     7247\n",
       "Name: gender, dtype: int64"
      ]
     },
     "execution_count": 22,
     "metadata": {},
     "output_type": "execute_result"
    }
   ],
   "source": [
    "#Заменяем некорректные данные на моду\n",
    "\n",
    "data.loc[data['gender'] == 'XNA', 'gender'] = 'F'\n",
    "data['gender'].value_counts(dropna=False)"
   ]
  },
  {
   "cell_type": "code",
   "execution_count": 23,
   "id": "4385a764",
   "metadata": {},
   "outputs": [
    {
     "data": {
      "text/plain": [
       "женат / замужем          12302\n",
       "гражданский брак          4151\n",
       "Не женат / не замужем     2792\n",
       "в разводе                 1181\n",
       "вдовец / вдова             951\n",
       "Name: family_status, dtype: int64"
      ]
     },
     "execution_count": 23,
     "metadata": {},
     "output_type": "execute_result"
    }
   ],
   "source": [
    "data['family_status'].value_counts(dropna=False)"
   ]
  },
  {
   "cell_type": "markdown",
   "id": "1bc476c3",
   "metadata": {},
   "source": [
    "В столбце family_status особых замечание по хранящемся в нем значений нет. Дубликатов и пропусков данных нет."
   ]
  },
  {
   "cell_type": "code",
   "execution_count": 24,
   "id": "cc666150",
   "metadata": {},
   "outputs": [
    {
     "data": {
      "text/plain": [
       "0    19645\n",
       "1     1732\n",
       "Name: debt, dtype: int64"
      ]
     },
     "execution_count": 24,
     "metadata": {},
     "output_type": "execute_result"
    }
   ],
   "source": [
    "data.debt.value_counts(dropna=False)"
   ]
  },
  {
   "cell_type": "markdown",
   "id": "d85e3dc6",
   "metadata": {},
   "source": [
    "Столбец debt представлен двумя значениеми: 0, который судя по всему обозначает 'False' (т.е. отсутвие долга по кредиту) и 1 -'True' (т.е. имеется долг по кредиту)."
   ]
  },
  {
   "cell_type": "markdown",
   "id": "7d104b8d",
   "metadata": {},
   "source": [
    "## Заменяем типы данных"
   ]
  },
  {
   "cell_type": "markdown",
   "id": "f67bc1c2",
   "metadata": {},
   "source": [
    "Для дальнейшего удобстав представления данных поменяем из тип в столбце total_income."
   ]
  },
  {
   "cell_type": "code",
   "execution_count": 25,
   "id": "d3b5fada",
   "metadata": {},
   "outputs": [
    {
     "name": "stdout",
     "output_type": "stream",
     "text": [
      "<class 'pandas.core.frame.DataFrame'>\n",
      "Int64Index: 21377 entries, 0 to 21524\n",
      "Data columns (total 13 columns):\n",
      " #   Column            Non-Null Count  Dtype  \n",
      "---  ------            --------------  -----  \n",
      " 0   Unnamed: 0        21377 non-null  int64  \n",
      " 1   children          21377 non-null  int64  \n",
      " 2   days_employed     21377 non-null  float64\n",
      " 3   dob_years         21377 non-null  int64  \n",
      " 4   education         21377 non-null  object \n",
      " 5   education_id      21377 non-null  int64  \n",
      " 6   family_status     21377 non-null  object \n",
      " 7   family_status_id  21377 non-null  int64  \n",
      " 8   gender            21377 non-null  object \n",
      " 9   income_type       21377 non-null  object \n",
      " 10  debt              21377 non-null  int64  \n",
      " 11  total_income      21377 non-null  int32  \n",
      " 12  purpose           21377 non-null  object \n",
      "dtypes: float64(1), int32(1), int64(6), object(5)\n",
      "memory usage: 2.2+ MB\n"
     ]
    }
   ],
   "source": [
    "data['total_income'] = data['total_income'].astype('int')\n",
    "data.info()"
   ]
  },
  {
   "cell_type": "markdown",
   "id": "943a0668",
   "metadata": {},
   "source": [
    "## Лемматизация данных"
   ]
  },
  {
   "cell_type": "code",
   "execution_count": 27,
   "id": "279e24ee",
   "metadata": {},
   "outputs": [
    {
     "data": {
      "text/plain": [
       "свадьба                                   792\n",
       "на проведение свадьбы                     772\n",
       "сыграть свадьбу                           768\n",
       "операции с недвижимостью                  671\n",
       "покупка коммерческой недвижимости         661\n",
       "покупка жилья для сдачи                   650\n",
       "операции с коммерческой недвижимостью     648\n",
       "операции с жильем                         646\n",
       "покупка жилья для семьи                   640\n",
       "жилье                                     640\n",
       "покупка жилья                             638\n",
       "строительство собственной недвижимости    632\n",
       "недвижимость                              629\n",
       "операции со своей недвижимостью           627\n",
       "строительство недвижимости                620\n",
       "строительство жилой недвижимости          620\n",
       "покупка своего жилья                      618\n",
       "покупка недвижимости                      618\n",
       "ремонт жилью                              609\n",
       "покупка жилой недвижимости                602\n",
       "на покупку своего автомобиля              501\n",
       "заняться высшим образованием              493\n",
       "автомобиль                                489\n",
       "сделка с подержанным автомобилем          486\n",
       "на покупку подержанного автомобиля        478\n",
       "автомобили                                475\n",
       "свой автомобиль                           475\n",
       "на покупку автомобиля                     466\n",
       "дополнительное образование                458\n",
       "приобретение автомобиля                   458\n",
       "сделка с автомобилем                      454\n",
       "высшее образование                        449\n",
       "получение дополнительного образования     444\n",
       "получение образования                     441\n",
       "образование                               441\n",
       "профильное образование                    433\n",
       "получение высшего образования             424\n",
       "заняться образованием                     411\n",
       "Name: purpose, dtype: int64"
      ]
     },
     "execution_count": 27,
     "metadata": {},
     "output_type": "execute_result"
    }
   ],
   "source": [
    "data['purpose'].value_counts(dropna=False)"
   ]
  },
  {
   "cell_type": "markdown",
   "id": "7e93c4b5",
   "metadata": {},
   "source": [
    "Изучение столбца purpose показавает большое количество одних и тех же категорий записанных по разному. Для обработки таких данных проведем над ними лемматизацию."
   ]
  },
  {
   "cell_type": "code",
   "execution_count": 93,
   "id": "da8c8542",
   "metadata": {},
   "outputs": [],
   "source": [
    "from pymystem3 import Mystem\n",
    "m = Mystem()\n",
    "\n",
    "text = ' '.join(data['purpose'].unique())\n",
    "lemmas = m.lemmatize(text)"
   ]
  },
  {
   "cell_type": "markdown",
   "id": "3badf449",
   "metadata": {},
   "source": [
    "На основе списка лемматизированных слов осуществим категоризацию данных: появятся 4 категории, которые будут охватывать все ранее представленные."
   ]
  },
  {
   "cell_type": "code",
   "execution_count": 94,
   "id": "80434fe1",
   "metadata": {},
   "outputs": [
    {
     "data": {
      "text/plain": [
       "недвижимость    10769\n",
       "автомобиль       4282\n",
       "образование      3994\n",
       "свадьба          2332\n",
       "Name: purpose, dtype: int64"
      ]
     },
     "execution_count": 94,
     "metadata": {},
     "output_type": "execute_result"
    }
   ],
   "source": [
    "def purpose_group(lemmas):\n",
    "    for word in lemmas.split(' '): \n",
    "        if 'недвижимост' in word or 'жил' in word:\n",
    "            return 'недвижимость'\n",
    "        if 'авто' in word:\n",
    "            return 'автомобиль'\n",
    "        if 'свадьб' in word:\n",
    "            return 'свадьба'      \n",
    "    return 'образование'\n",
    "\n",
    "data['purpose'] = data['purpose'].apply(purpose_group)\n",
    "data['purpose'].value_counts(dropna=False)"
   ]
  },
  {
   "cell_type": "code",
   "execution_count": 30,
   "id": "cd7a5c2f",
   "metadata": {},
   "outputs": [
    {
     "data": {
      "text/html": [
       "<div>\n",
       "<style scoped>\n",
       "    .dataframe tbody tr th:only-of-type {\n",
       "        vertical-align: middle;\n",
       "    }\n",
       "\n",
       "    .dataframe tbody tr th {\n",
       "        vertical-align: top;\n",
       "    }\n",
       "\n",
       "    .dataframe thead th {\n",
       "        text-align: right;\n",
       "    }\n",
       "</style>\n",
       "<table border=\"1\" class=\"dataframe\">\n",
       "  <thead>\n",
       "    <tr style=\"text-align: right;\">\n",
       "      <th></th>\n",
       "      <th>Unnamed: 0</th>\n",
       "      <th>children</th>\n",
       "      <th>days_employed</th>\n",
       "      <th>dob_years</th>\n",
       "      <th>education</th>\n",
       "      <th>education_id</th>\n",
       "      <th>family_status</th>\n",
       "      <th>family_status_id</th>\n",
       "      <th>gender</th>\n",
       "      <th>income_type</th>\n",
       "      <th>debt</th>\n",
       "      <th>total_income</th>\n",
       "      <th>purpose</th>\n",
       "    </tr>\n",
       "  </thead>\n",
       "  <tbody>\n",
       "    <tr>\n",
       "      <th>0</th>\n",
       "      <td>0</td>\n",
       "      <td>1</td>\n",
       "      <td>-8437.673028</td>\n",
       "      <td>42</td>\n",
       "      <td>высшее</td>\n",
       "      <td>0</td>\n",
       "      <td>женат / замужем</td>\n",
       "      <td>0</td>\n",
       "      <td>F</td>\n",
       "      <td>сотрудник</td>\n",
       "      <td>0</td>\n",
       "      <td>253875</td>\n",
       "      <td>недвижимость</td>\n",
       "    </tr>\n",
       "    <tr>\n",
       "      <th>1</th>\n",
       "      <td>1</td>\n",
       "      <td>1</td>\n",
       "      <td>-4024.803754</td>\n",
       "      <td>36</td>\n",
       "      <td>среднее</td>\n",
       "      <td>1</td>\n",
       "      <td>женат / замужем</td>\n",
       "      <td>0</td>\n",
       "      <td>F</td>\n",
       "      <td>сотрудник</td>\n",
       "      <td>0</td>\n",
       "      <td>112080</td>\n",
       "      <td>автомобиль</td>\n",
       "    </tr>\n",
       "    <tr>\n",
       "      <th>2</th>\n",
       "      <td>2</td>\n",
       "      <td>0</td>\n",
       "      <td>-5623.422610</td>\n",
       "      <td>33</td>\n",
       "      <td>среднее</td>\n",
       "      <td>1</td>\n",
       "      <td>женат / замужем</td>\n",
       "      <td>0</td>\n",
       "      <td>M</td>\n",
       "      <td>сотрудник</td>\n",
       "      <td>0</td>\n",
       "      <td>145885</td>\n",
       "      <td>недвижимость</td>\n",
       "    </tr>\n",
       "    <tr>\n",
       "      <th>3</th>\n",
       "      <td>3</td>\n",
       "      <td>3</td>\n",
       "      <td>-4124.747207</td>\n",
       "      <td>32</td>\n",
       "      <td>среднее</td>\n",
       "      <td>1</td>\n",
       "      <td>женат / замужем</td>\n",
       "      <td>0</td>\n",
       "      <td>M</td>\n",
       "      <td>сотрудник</td>\n",
       "      <td>0</td>\n",
       "      <td>267628</td>\n",
       "      <td>образование</td>\n",
       "    </tr>\n",
       "    <tr>\n",
       "      <th>4</th>\n",
       "      <td>4</td>\n",
       "      <td>0</td>\n",
       "      <td>340266.072047</td>\n",
       "      <td>53</td>\n",
       "      <td>среднее</td>\n",
       "      <td>1</td>\n",
       "      <td>гражданский брак</td>\n",
       "      <td>1</td>\n",
       "      <td>F</td>\n",
       "      <td>пенсионер</td>\n",
       "      <td>0</td>\n",
       "      <td>158616</td>\n",
       "      <td>свадьба</td>\n",
       "    </tr>\n",
       "    <tr>\n",
       "      <th>...</th>\n",
       "      <td>...</td>\n",
       "      <td>...</td>\n",
       "      <td>...</td>\n",
       "      <td>...</td>\n",
       "      <td>...</td>\n",
       "      <td>...</td>\n",
       "      <td>...</td>\n",
       "      <td>...</td>\n",
       "      <td>...</td>\n",
       "      <td>...</td>\n",
       "      <td>...</td>\n",
       "      <td>...</td>\n",
       "      <td>...</td>\n",
       "    </tr>\n",
       "    <tr>\n",
       "      <th>21520</th>\n",
       "      <td>21520</td>\n",
       "      <td>1</td>\n",
       "      <td>-4529.316663</td>\n",
       "      <td>43</td>\n",
       "      <td>среднее</td>\n",
       "      <td>1</td>\n",
       "      <td>гражданский брак</td>\n",
       "      <td>1</td>\n",
       "      <td>F</td>\n",
       "      <td>компаньон</td>\n",
       "      <td>0</td>\n",
       "      <td>224791</td>\n",
       "      <td>недвижимость</td>\n",
       "    </tr>\n",
       "    <tr>\n",
       "      <th>21521</th>\n",
       "      <td>21521</td>\n",
       "      <td>0</td>\n",
       "      <td>343937.404131</td>\n",
       "      <td>67</td>\n",
       "      <td>среднее</td>\n",
       "      <td>1</td>\n",
       "      <td>женат / замужем</td>\n",
       "      <td>0</td>\n",
       "      <td>F</td>\n",
       "      <td>пенсионер</td>\n",
       "      <td>0</td>\n",
       "      <td>155999</td>\n",
       "      <td>автомобиль</td>\n",
       "    </tr>\n",
       "    <tr>\n",
       "      <th>21522</th>\n",
       "      <td>21522</td>\n",
       "      <td>1</td>\n",
       "      <td>-2113.346888</td>\n",
       "      <td>38</td>\n",
       "      <td>среднее</td>\n",
       "      <td>1</td>\n",
       "      <td>гражданский брак</td>\n",
       "      <td>1</td>\n",
       "      <td>M</td>\n",
       "      <td>сотрудник</td>\n",
       "      <td>1</td>\n",
       "      <td>89672</td>\n",
       "      <td>недвижимость</td>\n",
       "    </tr>\n",
       "    <tr>\n",
       "      <th>21523</th>\n",
       "      <td>21523</td>\n",
       "      <td>3</td>\n",
       "      <td>-3112.481705</td>\n",
       "      <td>38</td>\n",
       "      <td>среднее</td>\n",
       "      <td>1</td>\n",
       "      <td>женат / замужем</td>\n",
       "      <td>0</td>\n",
       "      <td>M</td>\n",
       "      <td>сотрудник</td>\n",
       "      <td>1</td>\n",
       "      <td>244093</td>\n",
       "      <td>автомобиль</td>\n",
       "    </tr>\n",
       "    <tr>\n",
       "      <th>21524</th>\n",
       "      <td>21524</td>\n",
       "      <td>2</td>\n",
       "      <td>-1984.507589</td>\n",
       "      <td>40</td>\n",
       "      <td>среднее</td>\n",
       "      <td>1</td>\n",
       "      <td>женат / замужем</td>\n",
       "      <td>0</td>\n",
       "      <td>F</td>\n",
       "      <td>сотрудник</td>\n",
       "      <td>0</td>\n",
       "      <td>82047</td>\n",
       "      <td>автомобиль</td>\n",
       "    </tr>\n",
       "  </tbody>\n",
       "</table>\n",
       "<p>21377 rows × 13 columns</p>\n",
       "</div>"
      ],
      "text/plain": [
       "       Unnamed: 0  children  days_employed  dob_years education  education_id  \\\n",
       "0               0         1   -8437.673028         42    высшее             0   \n",
       "1               1         1   -4024.803754         36   среднее             1   \n",
       "2               2         0   -5623.422610         33   среднее             1   \n",
       "3               3         3   -4124.747207         32   среднее             1   \n",
       "4               4         0  340266.072047         53   среднее             1   \n",
       "...           ...       ...            ...        ...       ...           ...   \n",
       "21520       21520         1   -4529.316663         43   среднее             1   \n",
       "21521       21521         0  343937.404131         67   среднее             1   \n",
       "21522       21522         1   -2113.346888         38   среднее             1   \n",
       "21523       21523         3   -3112.481705         38   среднее             1   \n",
       "21524       21524         2   -1984.507589         40   среднее             1   \n",
       "\n",
       "          family_status  family_status_id gender income_type  debt  \\\n",
       "0       женат / замужем                 0      F   сотрудник     0   \n",
       "1       женат / замужем                 0      F   сотрудник     0   \n",
       "2       женат / замужем                 0      M   сотрудник     0   \n",
       "3       женат / замужем                 0      M   сотрудник     0   \n",
       "4      гражданский брак                 1      F   пенсионер     0   \n",
       "...                 ...               ...    ...         ...   ...   \n",
       "21520  гражданский брак                 1      F   компаньон     0   \n",
       "21521   женат / замужем                 0      F   пенсионер     0   \n",
       "21522  гражданский брак                 1      M   сотрудник     1   \n",
       "21523   женат / замужем                 0      M   сотрудник     1   \n",
       "21524   женат / замужем                 0      F   сотрудник     0   \n",
       "\n",
       "       total_income       purpose  \n",
       "0            253875  недвижимость  \n",
       "1            112080    автомобиль  \n",
       "2            145885  недвижимость  \n",
       "3            267628   образование  \n",
       "4            158616       свадьба  \n",
       "...             ...           ...  \n",
       "21520        224791  недвижимость  \n",
       "21521        155999    автомобиль  \n",
       "21522         89672  недвижимость  \n",
       "21523        244093    автомобиль  \n",
       "21524         82047    автомобиль  \n",
       "\n",
       "[21377 rows x 13 columns]"
      ]
     },
     "execution_count": 30,
     "metadata": {},
     "output_type": "execute_result"
    }
   ],
   "source": [
    "data"
   ]
  },
  {
   "cell_type": "markdown",
   "id": "3a64efc5",
   "metadata": {},
   "source": [
    "После всех проведенных манипуляций с данными проведем проверку на дубликаты с помощью метода .duplicated()"
   ]
  },
  {
   "cell_type": "code",
   "execution_count": 32,
   "id": "f18f63df",
   "metadata": {},
   "outputs": [
    {
     "data": {
      "text/plain": [
       "0"
      ]
     },
     "execution_count": 32,
     "metadata": {},
     "output_type": "execute_result"
    }
   ],
   "source": [
    "data.duplicated().sum()"
   ]
  },
  {
   "cell_type": "markdown",
   "id": "7171ace1",
   "metadata": {},
   "source": [
    "Дубликатов не выявлено."
   ]
  },
  {
   "cell_type": "markdown",
   "id": "3307becd",
   "metadata": {},
   "source": [
    "## Анализ данных"
   ]
  },
  {
   "cell_type": "code",
   "execution_count": 95,
   "id": "216de63b",
   "metadata": {},
   "outputs": [],
   "source": [
    "#Функция для отображения необходимых данных в сводной таблице\n",
    "def pivot_table(data, index):\n",
    "    data_pivot = data.pivot_table(index=index, values='debt', aggfunc=['count', 'sum'])\n",
    "    data_pivot.columns = ['total_amount', 'debt']\n",
    "    data_pivot['debt %'] = data_pivot['debt'] * 100 / data_pivot['total_amount']\n",
    "    data_pivot = data_pivot.fillna(0)\n",
    "    return data_pivot"
   ]
  },
  {
   "cell_type": "code",
   "execution_count": 96,
   "id": "44e1b8a3",
   "metadata": {},
   "outputs": [
    {
     "data": {
      "text/html": [
       "<div>\n",
       "<style scoped>\n",
       "    .dataframe tbody tr th:only-of-type {\n",
       "        vertical-align: middle;\n",
       "    }\n",
       "\n",
       "    .dataframe tbody tr th {\n",
       "        vertical-align: top;\n",
       "    }\n",
       "\n",
       "    .dataframe thead th {\n",
       "        text-align: right;\n",
       "    }\n",
       "</style>\n",
       "<table border=\"1\" class=\"dataframe\">\n",
       "  <thead>\n",
       "    <tr style=\"text-align: right;\">\n",
       "      <th></th>\n",
       "      <th>total_amount</th>\n",
       "      <th>debt</th>\n",
       "      <th>debt %</th>\n",
       "    </tr>\n",
       "    <tr>\n",
       "      <th>children</th>\n",
       "      <th></th>\n",
       "      <th></th>\n",
       "      <th></th>\n",
       "    </tr>\n",
       "  </thead>\n",
       "  <tbody>\n",
       "    <tr>\n",
       "      <th>0</th>\n",
       "      <td>14080</td>\n",
       "      <td>1058</td>\n",
       "      <td>7.514205</td>\n",
       "    </tr>\n",
       "    <tr>\n",
       "      <th>1</th>\n",
       "      <td>4802</td>\n",
       "      <td>441</td>\n",
       "      <td>9.183673</td>\n",
       "    </tr>\n",
       "    <tr>\n",
       "      <th>2</th>\n",
       "      <td>2117</td>\n",
       "      <td>202</td>\n",
       "      <td>9.541804</td>\n",
       "    </tr>\n",
       "    <tr>\n",
       "      <th>3</th>\n",
       "      <td>328</td>\n",
       "      <td>27</td>\n",
       "      <td>8.231707</td>\n",
       "    </tr>\n",
       "    <tr>\n",
       "      <th>4</th>\n",
       "      <td>41</td>\n",
       "      <td>4</td>\n",
       "      <td>9.756098</td>\n",
       "    </tr>\n",
       "    <tr>\n",
       "      <th>5</th>\n",
       "      <td>9</td>\n",
       "      <td>0</td>\n",
       "      <td>0.000000</td>\n",
       "    </tr>\n",
       "  </tbody>\n",
       "</table>\n",
       "</div>"
      ],
      "text/plain": [
       "          total_amount  debt    debt %\n",
       "children                              \n",
       "0                14080  1058  7.514205\n",
       "1                 4802   441  9.183673\n",
       "2                 2117   202  9.541804\n",
       "3                  328    27  8.231707\n",
       "4                   41     4  9.756098\n",
       "5                    9     0  0.000000"
      ]
     },
     "execution_count": 96,
     "metadata": {},
     "output_type": "execute_result"
    }
   ],
   "source": [
    "pivot_table(data, 'children')"
   ]
  },
  {
   "cell_type": "markdown",
   "id": "d2dab808",
   "metadata": {},
   "source": [
    "Наблюдается прямая зависимость между наличием детей и погашением кредитных обязательств в срок: клиенты без детей более ответсвенно относятся к выплатам по кредиту."
   ]
  },
  {
   "cell_type": "code",
   "execution_count": 70,
   "id": "c794b221",
   "metadata": {},
   "outputs": [
    {
     "data": {
      "text/html": [
       "<div>\n",
       "<style scoped>\n",
       "    .dataframe tbody tr th:only-of-type {\n",
       "        vertical-align: middle;\n",
       "    }\n",
       "\n",
       "    .dataframe tbody tr th {\n",
       "        vertical-align: top;\n",
       "    }\n",
       "\n",
       "    .dataframe thead th {\n",
       "        text-align: right;\n",
       "    }\n",
       "</style>\n",
       "<table border=\"1\" class=\"dataframe\">\n",
       "  <thead>\n",
       "    <tr style=\"text-align: right;\">\n",
       "      <th></th>\n",
       "      <th>total_amount</th>\n",
       "      <th>debt</th>\n",
       "      <th>%</th>\n",
       "    </tr>\n",
       "    <tr>\n",
       "      <th>family_status</th>\n",
       "      <th></th>\n",
       "      <th></th>\n",
       "      <th></th>\n",
       "    </tr>\n",
       "  </thead>\n",
       "  <tbody>\n",
       "    <tr>\n",
       "      <th>Не женат / не замужем</th>\n",
       "      <td>2792</td>\n",
       "      <td>273</td>\n",
       "      <td>9.777937</td>\n",
       "    </tr>\n",
       "    <tr>\n",
       "      <th>в разводе</th>\n",
       "      <td>1181</td>\n",
       "      <td>85</td>\n",
       "      <td>7.197290</td>\n",
       "    </tr>\n",
       "    <tr>\n",
       "      <th>вдовец / вдова</th>\n",
       "      <td>951</td>\n",
       "      <td>62</td>\n",
       "      <td>6.519453</td>\n",
       "    </tr>\n",
       "    <tr>\n",
       "      <th>гражданский брак</th>\n",
       "      <td>4151</td>\n",
       "      <td>386</td>\n",
       "      <td>9.298964</td>\n",
       "    </tr>\n",
       "    <tr>\n",
       "      <th>женат / замужем</th>\n",
       "      <td>12302</td>\n",
       "      <td>926</td>\n",
       "      <td>7.527231</td>\n",
       "    </tr>\n",
       "  </tbody>\n",
       "</table>\n",
       "</div>"
      ],
      "text/plain": [
       "                       total_amount  debt         %\n",
       "family_status                                      \n",
       "Не женат / не замужем          2792   273  9.777937\n",
       "в разводе                      1181    85  7.197290\n",
       "вдовец / вдова                  951    62  6.519453\n",
       "гражданский брак               4151   386  9.298964\n",
       "женат / замужем               12302   926  7.527231"
      ]
     },
     "execution_count": 70,
     "metadata": {},
     "output_type": "execute_result"
    }
   ],
   "source": [
    "pivot_table(data, 'family_status')"
   ]
  },
  {
   "cell_type": "markdown",
   "id": "76d838d4",
   "metadata": {},
   "source": [
    "Наблюдается прямая зависимость между наличием или отсутствием супруга/супруги (в том числе если если клиент ранее был в браке) и выплатой кредита в срок. При этом наиболее дисциплинироваными являются вдовцы."
   ]
  },
  {
   "cell_type": "markdown",
   "id": "94579d87",
   "metadata": {},
   "source": [
    "Для определения зависимости между уровнем доходов и наличием задолженности по кредиту проведем категоризацию по уровню даходу. Разабьем данные на 3 примерно равные группы со средним доходом, ниже и выше среднего."
   ]
  },
  {
   "cell_type": "code",
   "execution_count": 89,
   "id": "129c75ac",
   "metadata": {},
   "outputs": [],
   "source": [
    "data['income_level'] = pd.qcut(data['total_income'],\n",
    "                              q=3,\n",
    "                              labels=['ниже среднего', 'средний', 'выше среднего'])"
   ]
  },
  {
   "cell_type": "code",
   "execution_count": 90,
   "id": "fb79e4d1",
   "metadata": {},
   "outputs": [
    {
     "data": {
      "text/html": [
       "<div>\n",
       "<style scoped>\n",
       "    .dataframe tbody tr th:only-of-type {\n",
       "        vertical-align: middle;\n",
       "    }\n",
       "\n",
       "    .dataframe tbody tr th {\n",
       "        vertical-align: top;\n",
       "    }\n",
       "\n",
       "    .dataframe thead th {\n",
       "        text-align: right;\n",
       "    }\n",
       "</style>\n",
       "<table border=\"1\" class=\"dataframe\">\n",
       "  <thead>\n",
       "    <tr style=\"text-align: right;\">\n",
       "      <th></th>\n",
       "      <th>total_amount</th>\n",
       "      <th>debt</th>\n",
       "      <th>%</th>\n",
       "    </tr>\n",
       "    <tr>\n",
       "      <th>income_level</th>\n",
       "      <th></th>\n",
       "      <th></th>\n",
       "      <th></th>\n",
       "    </tr>\n",
       "  </thead>\n",
       "  <tbody>\n",
       "    <tr>\n",
       "      <th>ниже среднего</th>\n",
       "      <td>7126</td>\n",
       "      <td>578</td>\n",
       "      <td>8.111142</td>\n",
       "    </tr>\n",
       "    <tr>\n",
       "      <th>средний</th>\n",
       "      <td>7279</td>\n",
       "      <td>628</td>\n",
       "      <td>8.627559</td>\n",
       "    </tr>\n",
       "    <tr>\n",
       "      <th>выше среднего</th>\n",
       "      <td>6972</td>\n",
       "      <td>526</td>\n",
       "      <td>7.544464</td>\n",
       "    </tr>\n",
       "  </tbody>\n",
       "</table>\n",
       "</div>"
      ],
      "text/plain": [
       "               total_amount  debt         %\n",
       "income_level                               \n",
       "ниже среднего          7126   578  8.111142\n",
       "средний                7279   628  8.627559\n",
       "выше среднего          6972   526  7.544464"
      ]
     },
     "execution_count": 90,
     "metadata": {},
     "output_type": "execute_result"
    }
   ],
   "source": [
    "pivot_table(data, 'income_level')"
   ]
  },
  {
   "cell_type": "code",
   "execution_count": null,
   "id": "8976b322",
   "metadata": {},
   "outputs": [],
   "source": [
    "Выборка показывает, что клиенты с более высоким уровнем дохода наиболее дисциплинированы"
   ]
  },
  {
   "cell_type": "code",
   "execution_count": 72,
   "id": "278e0584",
   "metadata": {},
   "outputs": [
    {
     "data": {
      "text/html": [
       "<div>\n",
       "<style scoped>\n",
       "    .dataframe tbody tr th:only-of-type {\n",
       "        vertical-align: middle;\n",
       "    }\n",
       "\n",
       "    .dataframe tbody tr th {\n",
       "        vertical-align: top;\n",
       "    }\n",
       "\n",
       "    .dataframe thead th {\n",
       "        text-align: right;\n",
       "    }\n",
       "</style>\n",
       "<table border=\"1\" class=\"dataframe\">\n",
       "  <thead>\n",
       "    <tr style=\"text-align: right;\">\n",
       "      <th></th>\n",
       "      <th>total_amount</th>\n",
       "      <th>debt</th>\n",
       "      <th>%</th>\n",
       "    </tr>\n",
       "    <tr>\n",
       "      <th>purpose</th>\n",
       "      <th></th>\n",
       "      <th></th>\n",
       "      <th></th>\n",
       "    </tr>\n",
       "  </thead>\n",
       "  <tbody>\n",
       "    <tr>\n",
       "      <th>автомобиль</th>\n",
       "      <td>4282</td>\n",
       "      <td>399</td>\n",
       "      <td>9.318076</td>\n",
       "    </tr>\n",
       "    <tr>\n",
       "      <th>недвижимость</th>\n",
       "      <td>10769</td>\n",
       "      <td>779</td>\n",
       "      <td>7.233726</td>\n",
       "    </tr>\n",
       "    <tr>\n",
       "      <th>образование</th>\n",
       "      <td>3994</td>\n",
       "      <td>370</td>\n",
       "      <td>9.263896</td>\n",
       "    </tr>\n",
       "    <tr>\n",
       "      <th>свадьба</th>\n",
       "      <td>2332</td>\n",
       "      <td>184</td>\n",
       "      <td>7.890223</td>\n",
       "    </tr>\n",
       "  </tbody>\n",
       "</table>\n",
       "</div>"
      ],
      "text/plain": [
       "              total_amount  debt         %\n",
       "purpose                                   \n",
       "автомобиль            4282   399  9.318076\n",
       "недвижимость         10769   779  7.233726\n",
       "образование           3994   370  9.263896\n",
       "свадьба               2332   184  7.890223"
      ]
     },
     "execution_count": 72,
     "metadata": {},
     "output_type": "execute_result"
    }
   ],
   "source": [
    "pivot_table(data, 'purpose')"
   ]
  },
  {
   "cell_type": "markdown",
   "id": "2b3f09f6",
   "metadata": {},
   "source": [
    "Согласно имеющихся данных наиболее дисциплинированы клиенты, которые берут кредит на приобретение недвижимости или организацию свадьбы. "
   ]
  },
  {
   "cell_type": "markdown",
   "id": "a7720e2f",
   "metadata": {},
   "source": [
    "## Вывод"
   ]
  },
  {
   "cell_type": "markdown",
   "id": "4f409d68",
   "metadata": {},
   "source": [
    "В ходе выполнения проекта были решены следующие задачи. \n",
    "\n",
    "При предобработке данных были выявлены пустые значения в категориях 'трудовой стаж' и 'доход в месяц', которые могли быть не внесены изначально в базу из-за не предоставления соответсвующих сведений клиентом. Такие данные были заменены медианным значением. С помощью ручного поиска с учетом регистра были выявлены дубликаты в категории 'образование', что свидетельствует о некорректном вводе данных в базу. Все данные в указанной категории были приведены к одному регистру. В столбце total_income с помощью метода .astype() был изменен тип данных на целый для лучшей удобства работы. Лемматизацию данных столбца purpose провели с помощью библиотеки pymystem3. Для этого столбца сделали категоризацию, т.к. изначально одни и теже категории были записаны разными словами. Кроме того, была проведана категоризация по уровню дохода, чтобы в последствии применить новые категории в анализе зависимости между уровнем дохода и возвратом кредита.\n",
    "\n",
    "Анализ предоставленных данных показал, что вдовец без детей, но с высоким уровнем дохода, берущий кредит на организацию свадьбы, наиболее предпочтителен для кредитной организации.)\n"
   ]
  },
  {
   "cell_type": "code",
   "execution_count": null,
   "id": "a88e6d47",
   "metadata": {},
   "outputs": [],
   "source": []
  }
 ],
 "metadata": {
  "kernelspec": {
   "display_name": "Python 3 (ipykernel)",
   "language": "python",
   "name": "python3"
  },
  "language_info": {
   "codemirror_mode": {
    "name": "ipython",
    "version": 3
   },
   "file_extension": ".py",
   "mimetype": "text/x-python",
   "name": "python",
   "nbconvert_exporter": "python",
   "pygments_lexer": "ipython3",
   "version": "3.10.4"
  }
 },
 "nbformat": 4,
 "nbformat_minor": 5
}
