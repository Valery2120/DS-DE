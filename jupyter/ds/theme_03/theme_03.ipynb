{
 "cells": [
  {
   "cell_type": "markdown",
   "id": "bf65891b",
   "metadata": {},
   "source": [
    "# Исследование надёжности заёмщиков"
   ]
  },
  {
   "cell_type": "markdown",
   "id": "209ad526",
   "metadata": {},
   "source": [
    "<p>Заказчик - кредитный отдел банка.</p>\n",
    "<p>Данные - статистика о платёжеспособности клиентов.</p>\n",
    "<p>Цель - разобраться, влияет ли семейное положение и количество детей клиента на факт возврата кредита в срок. \n",
    "Результаты проекта будут учтены при построении модели кредитного скоринга — специальной системы, которая оценивает способность потенциального заёмщика вернуть кредит банку.</p>"
   ]
  },
  {
   "cell_type": "markdown",
   "id": "b8b4f838",
   "metadata": {},
   "source": [
    "#### Описание данных\n",
    "- children - количество детей в семье\n",
    "- days_employed — общий трудовой стаж в днях\n",
    "- dob_years — возраст клиента в годах\n",
    "- education — уровень образования клиента\n",
    "- education_id — идентификатор уровня образования\n",
    "- family_status — семейное положение\n",
    "- family_status_id — идентификатор семейного положения\n",
    "- gender — пол клиента\n",
    "- income_type — тип занятости\n",
    "- debt — имел ли задолженность по возврату кредитов\n",
    "- total_income — ежемесячный доход\n",
    "- purpose — цель получения кредита"
   ]
  },
  {
   "cell_type": "markdown",
   "id": "9c332f4a",
   "metadata": {},
   "source": [
    "## Оглавление\n",
    "1. [Загрузка данных и изучение общей информации по проекту](#download-data)\n",
    "2. [Предобработка данных](#data-preprocessing)\n",
    "- [Обработка пустых значений](#processing-empty-values)\n",
    "- [Замена типа данных](#сhange-type)\n",
    "- [Обработка дубликатов](#processing-duplicates)\n",
    "- [Лемматизация данных](#lemmatization)\n",
    "- [Категоризация данных](#categorization)\n",
    "3. [Анализ данных](#data-analyse)\n",
    "5. [Выводы](#conclusions)"
   ]
  },
  {
   "cell_type": "markdown",
   "id": "b93664f4",
   "metadata": {},
   "source": [
    "<div style=\"border:solid green 2px; padding: 20px\"> <h1 style=\"color:green; margin-bottom:20px\">Комментарий </h1>\n",
    "Отсутствие оглавления.\n",
    "<br>1. Для чего нужно: 1 – это некий план согласно которого ты выполняешь задачу, 2 – проверяющему или пользователю легче ориентироваться в работе.\n",
    "<br>2. Оглавление должно быть интерактивным – нажимаем –> переходим к тому или иному пункту решения поставленной задачи.\n",
    "<br>3. Отсутствует описание данных.\n",
    "</div>"
   ]
  },
  {
   "cell_type": "markdown",
   "id": "634bef3e",
   "metadata": {},
   "source": [
    "## <a id='download-data'><span style=\"color:black\">1. Загрузка данных и изучение общей информации по проекту</span></a>"
   ]
  },
  {
   "cell_type": "code",
   "execution_count": 1,
   "id": "1511a481",
   "metadata": {},
   "outputs": [],
   "source": [
    "import pandas as pd\n",
    "import numpy as np\n",
    "data = pd.read_csv('data.csv', index_col='Unnamed: 0')"
   ]
  },
  {
   "cell_type": "code",
   "execution_count": 2,
   "id": "c06f53cb",
   "metadata": {},
   "outputs": [
    {
     "data": {
      "text/html": [
       "<div>\n",
       "<style scoped>\n",
       "    .dataframe tbody tr th:only-of-type {\n",
       "        vertical-align: middle;\n",
       "    }\n",
       "\n",
       "    .dataframe tbody tr th {\n",
       "        vertical-align: top;\n",
       "    }\n",
       "\n",
       "    .dataframe thead th {\n",
       "        text-align: right;\n",
       "    }\n",
       "</style>\n",
       "<table border=\"1\" class=\"dataframe\">\n",
       "  <thead>\n",
       "    <tr style=\"text-align: right;\">\n",
       "      <th></th>\n",
       "      <th>children</th>\n",
       "      <th>days_employed</th>\n",
       "      <th>dob_years</th>\n",
       "      <th>education</th>\n",
       "      <th>education_id</th>\n",
       "      <th>family_status</th>\n",
       "      <th>family_status_id</th>\n",
       "      <th>gender</th>\n",
       "      <th>income_type</th>\n",
       "      <th>debt</th>\n",
       "      <th>total_income</th>\n",
       "      <th>purpose</th>\n",
       "    </tr>\n",
       "  </thead>\n",
       "  <tbody>\n",
       "    <tr>\n",
       "      <th>0</th>\n",
       "      <td>1</td>\n",
       "      <td>-8437.673028</td>\n",
       "      <td>42</td>\n",
       "      <td>высшее</td>\n",
       "      <td>0</td>\n",
       "      <td>женат / замужем</td>\n",
       "      <td>0</td>\n",
       "      <td>F</td>\n",
       "      <td>сотрудник</td>\n",
       "      <td>0</td>\n",
       "      <td>253875.639453</td>\n",
       "      <td>покупка жилья</td>\n",
       "    </tr>\n",
       "    <tr>\n",
       "      <th>1</th>\n",
       "      <td>1</td>\n",
       "      <td>-4024.803754</td>\n",
       "      <td>36</td>\n",
       "      <td>среднее</td>\n",
       "      <td>1</td>\n",
       "      <td>женат / замужем</td>\n",
       "      <td>0</td>\n",
       "      <td>F</td>\n",
       "      <td>сотрудник</td>\n",
       "      <td>0</td>\n",
       "      <td>112080.014102</td>\n",
       "      <td>приобретение автомобиля</td>\n",
       "    </tr>\n",
       "    <tr>\n",
       "      <th>2</th>\n",
       "      <td>0</td>\n",
       "      <td>-5623.422610</td>\n",
       "      <td>33</td>\n",
       "      <td>Среднее</td>\n",
       "      <td>1</td>\n",
       "      <td>женат / замужем</td>\n",
       "      <td>0</td>\n",
       "      <td>M</td>\n",
       "      <td>сотрудник</td>\n",
       "      <td>0</td>\n",
       "      <td>145885.952297</td>\n",
       "      <td>покупка жилья</td>\n",
       "    </tr>\n",
       "    <tr>\n",
       "      <th>3</th>\n",
       "      <td>3</td>\n",
       "      <td>-4124.747207</td>\n",
       "      <td>32</td>\n",
       "      <td>среднее</td>\n",
       "      <td>1</td>\n",
       "      <td>женат / замужем</td>\n",
       "      <td>0</td>\n",
       "      <td>M</td>\n",
       "      <td>сотрудник</td>\n",
       "      <td>0</td>\n",
       "      <td>267628.550329</td>\n",
       "      <td>дополнительное образование</td>\n",
       "    </tr>\n",
       "    <tr>\n",
       "      <th>4</th>\n",
       "      <td>0</td>\n",
       "      <td>340266.072047</td>\n",
       "      <td>53</td>\n",
       "      <td>среднее</td>\n",
       "      <td>1</td>\n",
       "      <td>гражданский брак</td>\n",
       "      <td>1</td>\n",
       "      <td>F</td>\n",
       "      <td>пенсионер</td>\n",
       "      <td>0</td>\n",
       "      <td>158616.077870</td>\n",
       "      <td>сыграть свадьбу</td>\n",
       "    </tr>\n",
       "    <tr>\n",
       "      <th>...</th>\n",
       "      <td>...</td>\n",
       "      <td>...</td>\n",
       "      <td>...</td>\n",
       "      <td>...</td>\n",
       "      <td>...</td>\n",
       "      <td>...</td>\n",
       "      <td>...</td>\n",
       "      <td>...</td>\n",
       "      <td>...</td>\n",
       "      <td>...</td>\n",
       "      <td>...</td>\n",
       "      <td>...</td>\n",
       "    </tr>\n",
       "    <tr>\n",
       "      <th>21520</th>\n",
       "      <td>1</td>\n",
       "      <td>-4529.316663</td>\n",
       "      <td>43</td>\n",
       "      <td>среднее</td>\n",
       "      <td>1</td>\n",
       "      <td>гражданский брак</td>\n",
       "      <td>1</td>\n",
       "      <td>F</td>\n",
       "      <td>компаньон</td>\n",
       "      <td>0</td>\n",
       "      <td>224791.862382</td>\n",
       "      <td>операции с жильем</td>\n",
       "    </tr>\n",
       "    <tr>\n",
       "      <th>21521</th>\n",
       "      <td>0</td>\n",
       "      <td>343937.404131</td>\n",
       "      <td>67</td>\n",
       "      <td>среднее</td>\n",
       "      <td>1</td>\n",
       "      <td>женат / замужем</td>\n",
       "      <td>0</td>\n",
       "      <td>F</td>\n",
       "      <td>пенсионер</td>\n",
       "      <td>0</td>\n",
       "      <td>155999.806512</td>\n",
       "      <td>сделка с автомобилем</td>\n",
       "    </tr>\n",
       "    <tr>\n",
       "      <th>21522</th>\n",
       "      <td>1</td>\n",
       "      <td>-2113.346888</td>\n",
       "      <td>38</td>\n",
       "      <td>среднее</td>\n",
       "      <td>1</td>\n",
       "      <td>гражданский брак</td>\n",
       "      <td>1</td>\n",
       "      <td>M</td>\n",
       "      <td>сотрудник</td>\n",
       "      <td>1</td>\n",
       "      <td>89672.561153</td>\n",
       "      <td>недвижимость</td>\n",
       "    </tr>\n",
       "    <tr>\n",
       "      <th>21523</th>\n",
       "      <td>3</td>\n",
       "      <td>-3112.481705</td>\n",
       "      <td>38</td>\n",
       "      <td>среднее</td>\n",
       "      <td>1</td>\n",
       "      <td>женат / замужем</td>\n",
       "      <td>0</td>\n",
       "      <td>M</td>\n",
       "      <td>сотрудник</td>\n",
       "      <td>1</td>\n",
       "      <td>244093.050500</td>\n",
       "      <td>на покупку своего автомобиля</td>\n",
       "    </tr>\n",
       "    <tr>\n",
       "      <th>21524</th>\n",
       "      <td>2</td>\n",
       "      <td>-1984.507589</td>\n",
       "      <td>40</td>\n",
       "      <td>среднее</td>\n",
       "      <td>1</td>\n",
       "      <td>женат / замужем</td>\n",
       "      <td>0</td>\n",
       "      <td>F</td>\n",
       "      <td>сотрудник</td>\n",
       "      <td>0</td>\n",
       "      <td>82047.418899</td>\n",
       "      <td>на покупку автомобиля</td>\n",
       "    </tr>\n",
       "  </tbody>\n",
       "</table>\n",
       "<p>21525 rows × 12 columns</p>\n",
       "</div>"
      ],
      "text/plain": [
       "       children  days_employed  dob_years education  education_id  \\\n",
       "0             1   -8437.673028         42    высшее             0   \n",
       "1             1   -4024.803754         36   среднее             1   \n",
       "2             0   -5623.422610         33   Среднее             1   \n",
       "3             3   -4124.747207         32   среднее             1   \n",
       "4             0  340266.072047         53   среднее             1   \n",
       "...         ...            ...        ...       ...           ...   \n",
       "21520         1   -4529.316663         43   среднее             1   \n",
       "21521         0  343937.404131         67   среднее             1   \n",
       "21522         1   -2113.346888         38   среднее             1   \n",
       "21523         3   -3112.481705         38   среднее             1   \n",
       "21524         2   -1984.507589         40   среднее             1   \n",
       "\n",
       "          family_status  family_status_id gender income_type  debt  \\\n",
       "0       женат / замужем                 0      F   сотрудник     0   \n",
       "1       женат / замужем                 0      F   сотрудник     0   \n",
       "2       женат / замужем                 0      M   сотрудник     0   \n",
       "3       женат / замужем                 0      M   сотрудник     0   \n",
       "4      гражданский брак                 1      F   пенсионер     0   \n",
       "...                 ...               ...    ...         ...   ...   \n",
       "21520  гражданский брак                 1      F   компаньон     0   \n",
       "21521   женат / замужем                 0      F   пенсионер     0   \n",
       "21522  гражданский брак                 1      M   сотрудник     1   \n",
       "21523   женат / замужем                 0      M   сотрудник     1   \n",
       "21524   женат / замужем                 0      F   сотрудник     0   \n",
       "\n",
       "        total_income                       purpose  \n",
       "0      253875.639453                 покупка жилья  \n",
       "1      112080.014102       приобретение автомобиля  \n",
       "2      145885.952297                 покупка жилья  \n",
       "3      267628.550329    дополнительное образование  \n",
       "4      158616.077870               сыграть свадьбу  \n",
       "...              ...                           ...  \n",
       "21520  224791.862382             операции с жильем  \n",
       "21521  155999.806512          сделка с автомобилем  \n",
       "21522   89672.561153                  недвижимость  \n",
       "21523  244093.050500  на покупку своего автомобиля  \n",
       "21524   82047.418899         на покупку автомобиля  \n",
       "\n",
       "[21525 rows x 12 columns]"
      ]
     },
     "metadata": {},
     "output_type": "display_data"
    },
    {
     "data": {
      "text/html": [
       "<div>\n",
       "<style scoped>\n",
       "    .dataframe tbody tr th:only-of-type {\n",
       "        vertical-align: middle;\n",
       "    }\n",
       "\n",
       "    .dataframe tbody tr th {\n",
       "        vertical-align: top;\n",
       "    }\n",
       "\n",
       "    .dataframe thead th {\n",
       "        text-align: right;\n",
       "    }\n",
       "</style>\n",
       "<table border=\"1\" class=\"dataframe\">\n",
       "  <thead>\n",
       "    <tr style=\"text-align: right;\">\n",
       "      <th></th>\n",
       "      <th>children</th>\n",
       "      <th>days_employed</th>\n",
       "      <th>dob_years</th>\n",
       "      <th>education_id</th>\n",
       "      <th>family_status_id</th>\n",
       "      <th>debt</th>\n",
       "      <th>total_income</th>\n",
       "    </tr>\n",
       "  </thead>\n",
       "  <tbody>\n",
       "    <tr>\n",
       "      <th>count</th>\n",
       "      <td>21525.000000</td>\n",
       "      <td>19351.000000</td>\n",
       "      <td>21525.000000</td>\n",
       "      <td>21525.000000</td>\n",
       "      <td>21525.000000</td>\n",
       "      <td>21525.000000</td>\n",
       "      <td>1.935100e+04</td>\n",
       "    </tr>\n",
       "    <tr>\n",
       "      <th>mean</th>\n",
       "      <td>0.538908</td>\n",
       "      <td>63046.497661</td>\n",
       "      <td>43.293380</td>\n",
       "      <td>0.817236</td>\n",
       "      <td>0.972544</td>\n",
       "      <td>0.080883</td>\n",
       "      <td>1.674223e+05</td>\n",
       "    </tr>\n",
       "    <tr>\n",
       "      <th>std</th>\n",
       "      <td>1.381587</td>\n",
       "      <td>140827.311974</td>\n",
       "      <td>12.574584</td>\n",
       "      <td>0.548138</td>\n",
       "      <td>1.420324</td>\n",
       "      <td>0.272661</td>\n",
       "      <td>1.029716e+05</td>\n",
       "    </tr>\n",
       "    <tr>\n",
       "      <th>min</th>\n",
       "      <td>-1.000000</td>\n",
       "      <td>-18388.949901</td>\n",
       "      <td>0.000000</td>\n",
       "      <td>0.000000</td>\n",
       "      <td>0.000000</td>\n",
       "      <td>0.000000</td>\n",
       "      <td>2.066726e+04</td>\n",
       "    </tr>\n",
       "    <tr>\n",
       "      <th>25%</th>\n",
       "      <td>0.000000</td>\n",
       "      <td>-2747.423625</td>\n",
       "      <td>33.000000</td>\n",
       "      <td>1.000000</td>\n",
       "      <td>0.000000</td>\n",
       "      <td>0.000000</td>\n",
       "      <td>1.030532e+05</td>\n",
       "    </tr>\n",
       "    <tr>\n",
       "      <th>50%</th>\n",
       "      <td>0.000000</td>\n",
       "      <td>-1203.369529</td>\n",
       "      <td>42.000000</td>\n",
       "      <td>1.000000</td>\n",
       "      <td>0.000000</td>\n",
       "      <td>0.000000</td>\n",
       "      <td>1.450179e+05</td>\n",
       "    </tr>\n",
       "    <tr>\n",
       "      <th>75%</th>\n",
       "      <td>1.000000</td>\n",
       "      <td>-291.095954</td>\n",
       "      <td>53.000000</td>\n",
       "      <td>1.000000</td>\n",
       "      <td>1.000000</td>\n",
       "      <td>0.000000</td>\n",
       "      <td>2.034351e+05</td>\n",
       "    </tr>\n",
       "    <tr>\n",
       "      <th>max</th>\n",
       "      <td>20.000000</td>\n",
       "      <td>401755.400475</td>\n",
       "      <td>75.000000</td>\n",
       "      <td>4.000000</td>\n",
       "      <td>4.000000</td>\n",
       "      <td>1.000000</td>\n",
       "      <td>2.265604e+06</td>\n",
       "    </tr>\n",
       "  </tbody>\n",
       "</table>\n",
       "</div>"
      ],
      "text/plain": [
       "           children  days_employed     dob_years  education_id  \\\n",
       "count  21525.000000   19351.000000  21525.000000  21525.000000   \n",
       "mean       0.538908   63046.497661     43.293380      0.817236   \n",
       "std        1.381587  140827.311974     12.574584      0.548138   \n",
       "min       -1.000000  -18388.949901      0.000000      0.000000   \n",
       "25%        0.000000   -2747.423625     33.000000      1.000000   \n",
       "50%        0.000000   -1203.369529     42.000000      1.000000   \n",
       "75%        1.000000    -291.095954     53.000000      1.000000   \n",
       "max       20.000000  401755.400475     75.000000      4.000000   \n",
       "\n",
       "       family_status_id          debt  total_income  \n",
       "count      21525.000000  21525.000000  1.935100e+04  \n",
       "mean           0.972544      0.080883  1.674223e+05  \n",
       "std            1.420324      0.272661  1.029716e+05  \n",
       "min            0.000000      0.000000  2.066726e+04  \n",
       "25%            0.000000      0.000000  1.030532e+05  \n",
       "50%            0.000000      0.000000  1.450179e+05  \n",
       "75%            1.000000      0.000000  2.034351e+05  \n",
       "max            4.000000      1.000000  2.265604e+06  "
      ]
     },
     "metadata": {},
     "output_type": "display_data"
    },
    {
     "name": "stdout",
     "output_type": "stream",
     "text": [
      "<class 'pandas.core.frame.DataFrame'>\n",
      "Int64Index: 21525 entries, 0 to 21524\n",
      "Data columns (total 12 columns):\n",
      " #   Column            Non-Null Count  Dtype  \n",
      "---  ------            --------------  -----  \n",
      " 0   children          21525 non-null  int64  \n",
      " 1   days_employed     19351 non-null  float64\n",
      " 2   dob_years         21525 non-null  int64  \n",
      " 3   education         21525 non-null  object \n",
      " 4   education_id      21525 non-null  int64  \n",
      " 5   family_status     21525 non-null  object \n",
      " 6   family_status_id  21525 non-null  int64  \n",
      " 7   gender            21525 non-null  object \n",
      " 8   income_type       21525 non-null  object \n",
      " 9   debt              21525 non-null  int64  \n",
      " 10  total_income      19351 non-null  float64\n",
      " 11  purpose           21525 non-null  object \n",
      "dtypes: float64(2), int64(5), object(5)\n",
      "memory usage: 11.4 MB\n"
     ]
    },
    {
     "data": {
      "text/plain": [
       "None"
      ]
     },
     "metadata": {},
     "output_type": "display_data"
    }
   ],
   "source": [
    "display(data)\n",
    "\n",
    "display(data.describe())\n",
    "display(data.info(memory_usage='deep'))"
   ]
  },
  {
   "cell_type": "markdown",
   "id": "401fb92a",
   "metadata": {},
   "source": [
    "С помощью описательной статистики мы выявили следующие недостатки данных: \n",
    "- минимальный возраст 0, \n",
    "- минимальное количество детей -1, \n",
    "- максимальное количество детей 20, \n",
    "- данные из столбца days_employed не репрезетантивны (содержат, в том числе, и отрицательные значения), \n",
    "- данные из столбца total_income следует преобразовать к целочисленному типу для удобства чтения."
   ]
  },
  {
   "cell_type": "markdown",
   "id": "c47a74fc",
   "metadata": {},
   "source": [
    "Воспользовавшись методом info можно заметить, что количество не пустых значений в столбцах 'days_employed' и 'total_income' отличается от общего количества значений в других столбцах."
   ]
  },
  {
   "cell_type": "markdown",
   "id": "a5546ab9",
   "metadata": {},
   "source": [
    "<div style=\"border:solid green 2px; padding: 20px\"> <h1 style=\"color:green; margin-bottom:20px\">Комментарий </h1>\n",
    "<br>1. sample/head/tail, describe, info лучше все в одной ячейке и используй display.\n",
    "<br>2. Когда делаешь выводы, старайся делать и предположения почему так произошло или какова причина. Почему 20 детей? Многодетная семья, сомнительно. Скорее всего ошиблись при вводе. Опять же можно посмотреть, это единичное значение или нет.\n",
    "Проверяющему будет проще проследить ход мыслей и поправить/подсказать.\n",
    "<br>3. Что за столбец Unnamed: 0. Перед загрузкай всегда смотри файл с помощью текстового редактора, чтобы иметь представление что ты загружаешь, тогда при загрузке можешь указать типы для явных данных (только если уверен на 99%) или указать столбец с индексом.\n",
    "</div>"
   ]
  },
  {
   "cell_type": "markdown",
   "id": "f800eb1c",
   "metadata": {},
   "source": [
    "## <a id='data-preprocessing'><span style=\"color:black\">1. Предобработка данных</span></a>"
   ]
  },
  {
   "cell_type": "markdown",
   "id": "3aa1831b",
   "metadata": {},
   "source": [
    "### <a id='processing-empty-values'><span style=\"color:black\">Обработка пустых значений</span></a>"
   ]
  },
  {
   "cell_type": "markdown",
   "id": "a35cafec",
   "metadata": {},
   "source": [
    "Подсчитаем количество пропущенных значений в базе данных."
   ]
  },
  {
   "cell_type": "code",
   "execution_count": 3,
   "id": "7422f54b",
   "metadata": {
    "scrolled": true
   },
   "outputs": [
    {
     "data": {
      "text/plain": [
       "children               0\n",
       "days_employed       2174\n",
       "dob_years              0\n",
       "education              0\n",
       "education_id           0\n",
       "family_status          0\n",
       "family_status_id       0\n",
       "gender                 0\n",
       "income_type            0\n",
       "debt                   0\n",
       "total_income        2174\n",
       "purpose                0\n",
       "dtype: int64"
      ]
     },
     "metadata": {},
     "output_type": "display_data"
    }
   ],
   "source": [
    "display(data.isnull().sum())"
   ]
  },
  {
   "cell_type": "markdown",
   "id": "737442f5",
   "metadata": {},
   "source": [
    "<div style=\"border:solid green 2px; padding: 20px\"> <h1 style=\"color:green; margin-bottom:20px\">Комментарий </h1>\n",
    "<br>1. В ячейках кода только пояснение к коду. Никаких комментариев по выполнению работы в ячейках с кдом не должно быть, для этого есть Markdown ячейки.\n",
    "</div>"
   ]
  },
  {
   "cell_type": "markdown",
   "id": "195fcaac",
   "metadata": {},
   "source": [
    "Общее количество пропущенных значений в столбцах 'days_employed' и 'total_income' равно 2174, что составляет более 10% от общего количества данных в соответсвующих категориях. Так как удаление такого большого объема данных может повлиять на дальнейший анализ, необходимо произвести замену пустых значений в данных столбцах."
   ]
  },
  {
   "cell_type": "markdown",
   "id": "20d5e6a2",
   "metadata": {},
   "source": [
    "<div style=\"border:solid green 2px; padding: 20px\"> <h1 style=\"color:green; margin-bottom:20px\">Комментарий </h1>\n",
    "<br>1. Из практики - 10% это не много, если данные однообразны (необходимо обосновать) и их больше ~100 000, то можно пожертвовать, если ограничено время на исследование данных. Но если стоит задача поиска аномалий - категорически нельзя удалять. Но лучше конечно пропуски заполнять.\n",
    "</div>"
   ]
  },
  {
   "cell_type": "markdown",
   "id": "f2b8275a",
   "metadata": {},
   "source": [
    "Более подроное изучение данные в каждом столбце таблицы по отдельности. Проверим строки в которых имеется хотя бы одно пустое значение"
   ]
  },
  {
   "cell_type": "code",
   "execution_count": 4,
   "id": "beac90b8",
   "metadata": {},
   "outputs": [
    {
     "data": {
      "text/html": [
       "<div>\n",
       "<style scoped>\n",
       "    .dataframe tbody tr th:only-of-type {\n",
       "        vertical-align: middle;\n",
       "    }\n",
       "\n",
       "    .dataframe tbody tr th {\n",
       "        vertical-align: top;\n",
       "    }\n",
       "\n",
       "    .dataframe thead th {\n",
       "        text-align: right;\n",
       "    }\n",
       "</style>\n",
       "<table border=\"1\" class=\"dataframe\">\n",
       "  <thead>\n",
       "    <tr style=\"text-align: right;\">\n",
       "      <th></th>\n",
       "      <th>children</th>\n",
       "      <th>days_employed</th>\n",
       "      <th>dob_years</th>\n",
       "      <th>education</th>\n",
       "      <th>education_id</th>\n",
       "      <th>family_status</th>\n",
       "      <th>family_status_id</th>\n",
       "      <th>gender</th>\n",
       "      <th>income_type</th>\n",
       "      <th>debt</th>\n",
       "      <th>total_income</th>\n",
       "      <th>purpose</th>\n",
       "    </tr>\n",
       "  </thead>\n",
       "  <tbody>\n",
       "    <tr>\n",
       "      <th>10980</th>\n",
       "      <td>2</td>\n",
       "      <td>NaN</td>\n",
       "      <td>30</td>\n",
       "      <td>среднее</td>\n",
       "      <td>1</td>\n",
       "      <td>женат / замужем</td>\n",
       "      <td>0</td>\n",
       "      <td>F</td>\n",
       "      <td>сотрудник</td>\n",
       "      <td>0</td>\n",
       "      <td>NaN</td>\n",
       "      <td>высшее образование</td>\n",
       "    </tr>\n",
       "    <tr>\n",
       "      <th>12373</th>\n",
       "      <td>0</td>\n",
       "      <td>NaN</td>\n",
       "      <td>58</td>\n",
       "      <td>среднее</td>\n",
       "      <td>1</td>\n",
       "      <td>женат / замужем</td>\n",
       "      <td>0</td>\n",
       "      <td>M</td>\n",
       "      <td>сотрудник</td>\n",
       "      <td>0</td>\n",
       "      <td>NaN</td>\n",
       "      <td>покупка недвижимости</td>\n",
       "    </tr>\n",
       "    <tr>\n",
       "      <th>20343</th>\n",
       "      <td>0</td>\n",
       "      <td>NaN</td>\n",
       "      <td>51</td>\n",
       "      <td>среднее</td>\n",
       "      <td>1</td>\n",
       "      <td>гражданский брак</td>\n",
       "      <td>1</td>\n",
       "      <td>F</td>\n",
       "      <td>пенсионер</td>\n",
       "      <td>0</td>\n",
       "      <td>NaN</td>\n",
       "      <td>строительство недвижимости</td>\n",
       "    </tr>\n",
       "    <tr>\n",
       "      <th>6599</th>\n",
       "      <td>0</td>\n",
       "      <td>NaN</td>\n",
       "      <td>65</td>\n",
       "      <td>среднее</td>\n",
       "      <td>1</td>\n",
       "      <td>Не женат / не замужем</td>\n",
       "      <td>4</td>\n",
       "      <td>F</td>\n",
       "      <td>пенсионер</td>\n",
       "      <td>0</td>\n",
       "      <td>NaN</td>\n",
       "      <td>на покупку подержанного автомобиля</td>\n",
       "    </tr>\n",
       "    <tr>\n",
       "      <th>18230</th>\n",
       "      <td>1</td>\n",
       "      <td>NaN</td>\n",
       "      <td>30</td>\n",
       "      <td>среднее</td>\n",
       "      <td>1</td>\n",
       "      <td>женат / замужем</td>\n",
       "      <td>0</td>\n",
       "      <td>F</td>\n",
       "      <td>госслужащий</td>\n",
       "      <td>0</td>\n",
       "      <td>NaN</td>\n",
       "      <td>дополнительное образование</td>\n",
       "    </tr>\n",
       "  </tbody>\n",
       "</table>\n",
       "</div>"
      ],
      "text/plain": [
       "       children  days_employed  dob_years education  education_id  \\\n",
       "10980         2            NaN         30   среднее             1   \n",
       "12373         0            NaN         58   среднее             1   \n",
       "20343         0            NaN         51   среднее             1   \n",
       "6599          0            NaN         65   среднее             1   \n",
       "18230         1            NaN         30   среднее             1   \n",
       "\n",
       "               family_status  family_status_id gender  income_type  debt  \\\n",
       "10980        женат / замужем                 0      F    сотрудник     0   \n",
       "12373        женат / замужем                 0      M    сотрудник     0   \n",
       "20343       гражданский брак                 1      F    пенсионер     0   \n",
       "6599   Не женат / не замужем                 4      F    пенсионер     0   \n",
       "18230        женат / замужем                 0      F  госслужащий     0   \n",
       "\n",
       "       total_income                             purpose  \n",
       "10980           NaN                  высшее образование  \n",
       "12373           NaN                покупка недвижимости  \n",
       "20343           NaN          строительство недвижимости  \n",
       "6599            NaN  на покупку подержанного автомобиля  \n",
       "18230           NaN          дополнительное образование  "
      ]
     },
     "metadata": {},
     "output_type": "display_data"
    }
   ],
   "source": [
    "display(data[data.isnull().any(axis=1)].sample(5))"
   ]
  },
  {
   "cell_type": "markdown",
   "id": "06a83925",
   "metadata": {},
   "source": [
    "Проверка строк с пропусками показывает взаимосвязь между трудовым стажем и месячным доходом (данные в соответствующих столбцах отсутствуют в одних и тех же строках). Возможно это связано с тем, что клиентом не предоставлена справка о доходах в которой обычно отражается период работы в организации."
   ]
  },
  {
   "cell_type": "markdown",
   "id": "98585b29",
   "metadata": {},
   "source": [
    "<div style=\"border:solid green 2px; padding: 20px\"> <h1 style=\"color:green; margin-bottom:20px\">Комментарий </h1>\n",
    "<br>Неплохое предположение.\n",
    "</div>"
   ]
  },
  {
   "cell_type": "code",
   "execution_count": 5,
   "id": "b0df8644",
   "metadata": {},
   "outputs": [
    {
     "data": {
      "text/plain": [
       "пенсионер      3443\n",
       "безработный       2\n",
       "Name: income_type, dtype: int64"
      ]
     },
     "metadata": {},
     "output_type": "display_data"
    }
   ],
   "source": [
    "display(data[(data.days_employed >= 0)]['income_type'].value_counts())"
   ]
  },
  {
   "cell_type": "code",
   "execution_count": 6,
   "id": "effade20",
   "metadata": {},
   "outputs": [
    {
     "data": {
      "text/plain": [
       "сотрудник          11119\n",
       "компаньон           5085\n",
       "пенсионер           3856\n",
       "госслужащий         1459\n",
       "безработный            2\n",
       "предприниматель        2\n",
       "студент                1\n",
       "в декрете              1\n",
       "Name: income_type, dtype: int64"
      ]
     },
     "metadata": {},
     "output_type": "display_data"
    }
   ],
   "source": [
    "display(data.income_type.value_counts())"
   ]
  },
  {
   "cell_type": "markdown",
   "id": "74adaa43",
   "metadata": {},
   "source": [
    "Выборочная проверка данных позволила выдвинуть теорию о том, что трудовой стаж находится в зависимости от типа занятости. Дальнейшая проверка показала, что только две катогории имеют положительно значение в столбце days_employed: пенсионеры и безработные, т.е. люди которые на момент предоставления информация не работают, остальные категории имеют отрицательное значение и пустое. В рамках текущего проекта обработать данные по столбцу days_employed и привести их к репрезентативному виду не представляется возможным и необходимым (так как эти данные не влияют на исследование). Можно предположить, что некорректные данные появились во время выгрузки данных, но при этом сохранена определенная зависимость. Таким образом при заполнении данных необходимо учитывать тип занятости, а столбец 'days_employed' можно удалить для оптимизации используемой памяти."
   ]
  },
  {
   "cell_type": "code",
   "execution_count": 7,
   "id": "dcbf4faa",
   "metadata": {},
   "outputs": [
    {
     "name": "stdout",
     "output_type": "stream",
     "text": [
      "<class 'pandas.core.frame.DataFrame'>\n",
      "Int64Index: 21525 entries, 0 to 21524\n",
      "Data columns (total 11 columns):\n",
      " #   Column            Non-Null Count  Dtype  \n",
      "---  ------            --------------  -----  \n",
      " 0   children          21525 non-null  int64  \n",
      " 1   dob_years         21525 non-null  int64  \n",
      " 2   education         21525 non-null  object \n",
      " 3   education_id      21525 non-null  int64  \n",
      " 4   family_status     21525 non-null  object \n",
      " 5   family_status_id  21525 non-null  int64  \n",
      " 6   gender            21525 non-null  object \n",
      " 7   income_type       21525 non-null  object \n",
      " 8   debt              21525 non-null  int64  \n",
      " 9   total_income      21525 non-null  float64\n",
      " 10  purpose           21525 non-null  object \n",
      "dtypes: float64(1), int64(5), object(5)\n",
      "memory usage: 2.0+ MB\n"
     ]
    },
    {
     "data": {
      "text/plain": [
       "None"
      ]
     },
     "metadata": {},
     "output_type": "display_data"
    }
   ],
   "source": [
    "data = data.drop('days_employed', axis=1)\n",
    "categories = data['income_type'].unique()\n",
    "for i in categories:\n",
    "    data.loc[(data['total_income'].isna()) & (data['income_type'] == i), 'total_income'] \\\n",
    "    = data.loc[data['income_type'] == i, 'total_income'].median()\n",
    "display(data.info())"
   ]
  },
  {
   "cell_type": "markdown",
   "id": "ddb3deb2",
   "metadata": {},
   "source": [
    "<div style=\"border:solid green 2px; padding: 20px\"> <h1 style=\"color:green; margin-bottom:20px\">Комментарий </h1>\n",
    "<br>1. Заполнение медианным значением в зависимости от категорий - простой, но достаточно эффективный способ. Однако у тебя зависисмость только от категорий одного критерия, можно сделать больее сложную, вложенную структуру. Есть еще более эффективные способы. Но на текущий момент это самый оптимальный.\n",
    "<br>2. !!!! Придерживайся принципа - действие + отображение в ОДНОЙ ячейке.\n",
    "</div>"
   ]
  },
  {
   "cell_type": "markdown",
   "id": "557def2d",
   "metadata": {},
   "source": [
    "Проверка показывает, что пропущенные значения отсутствуют."
   ]
  },
  {
   "cell_type": "code",
   "execution_count": 8,
   "id": "ed1c9edb",
   "metadata": {},
   "outputs": [
    {
     "data": {
      "text/plain": [
       " 0     14149\n",
       " 1      4818\n",
       " 2      2055\n",
       " 3       330\n",
       " 20       76\n",
       "-1        47\n",
       " 4        41\n",
       " 5         9\n",
       "Name: children, dtype: int64"
      ]
     },
     "metadata": {},
     "output_type": "display_data"
    }
   ],
   "source": [
    "display(data.children.value_counts())"
   ]
  },
  {
   "cell_type": "code",
   "execution_count": 9,
   "id": "5d164460",
   "metadata": {},
   "outputs": [
    {
     "data": {
      "text/plain": [
       "'Количество клиентов в возрасте до 25 лет, имеющих 20 детей: 5'"
      ]
     },
     "metadata": {},
     "output_type": "display_data"
    }
   ],
   "source": [
    "display(f'Количество клиентов в возрасте до 25 лет, имеющих 20 детей: \\\n",
    "{data[(data.children == 20) & (data.dob_years <= 25)][\"dob_years\"].value_counts().sum()}')"
   ]
  },
  {
   "cell_type": "markdown",
   "id": "d867c09e",
   "metadata": {},
   "source": [
    "Проверка данных по стабцу children показывает, что cтроки содержащие значение от '6' до '19' отсутствуют, что косвенно свидетельствует на ошибку ввода. Цифра 20 в категории 'Количество детей' была указана ошибочно, так как такие данные были указаны в том числе по отношении к клиентам, которые не могли иметь такое количество детей в силу возраста. Скорее всего данные были не правильно занесены в базу и вместо '20' должно быть указано '2', а вместо '-1' - '1'. При этом количество строк, содержащих значение '-1' составляет меньше процента от количества семей с одним ребенком, поэтому такие данные допустимо удалить. Частотность значени '20' составляет 3,7% от количество семей с 2 детьми, поэтому такие значения целесообразно изменить на '2'. "
   ]
  },
  {
   "cell_type": "code",
   "execution_count": 10,
   "id": "73c8b97e",
   "metadata": {},
   "outputs": [
    {
     "data": {
      "text/plain": [
       "0    14149\n",
       "1     4818\n",
       "2     2131\n",
       "3      330\n",
       "4       41\n",
       "5        9\n",
       "Name: children, dtype: int64"
      ]
     },
     "metadata": {},
     "output_type": "display_data"
    }
   ],
   "source": [
    "data = data[data['children'] != -1]\n",
    "data.loc[data['children'] == 20, 'children'] = 2\n",
    "display(data.children.value_counts())"
   ]
  },
  {
   "cell_type": "markdown",
   "id": "13ff63f1",
   "metadata": {},
   "source": [
    "<div style=\"border:solid green 2px; padding: 20px\"> <h1 style=\"color:green; margin-bottom:20px\">Комментарий </h1>\n",
    "<br>Я бы тоже так сделал исходя из моего комментария выше. Тут хорошо.\n",
    "</div>"
   ]
  },
  {
   "cell_type": "markdown",
   "id": "527ace71",
   "metadata": {},
   "source": [
    "Кредит не может быть выдан несовершеннолетему, поэтому проверим столбец 'dob_years' на наличие таких значений."
   ]
  },
  {
   "cell_type": "code",
   "execution_count": 11,
   "id": "e7d2f92b",
   "metadata": {},
   "outputs": [
    {
     "data": {
      "text/plain": [
       "0    101\n",
       "Name: dob_years, dtype: int64"
      ]
     },
     "metadata": {},
     "output_type": "display_data"
    }
   ],
   "source": [
    "display(data[(data.dob_years < 18)]['dob_years'].value_counts())"
   ]
  },
  {
   "cell_type": "markdown",
   "id": "d888d1c2",
   "metadata": {},
   "source": [
    "Проверяем данные со значением dob_years равное нулю на предмет возможных закономерностей."
   ]
  },
  {
   "cell_type": "code",
   "execution_count": 12,
   "id": "8b00e12c",
   "metadata": {},
   "outputs": [
    {
     "data": {
      "text/html": [
       "<div>\n",
       "<style scoped>\n",
       "    .dataframe tbody tr th:only-of-type {\n",
       "        vertical-align: middle;\n",
       "    }\n",
       "\n",
       "    .dataframe tbody tr th {\n",
       "        vertical-align: top;\n",
       "    }\n",
       "\n",
       "    .dataframe thead th {\n",
       "        text-align: right;\n",
       "    }\n",
       "</style>\n",
       "<table border=\"1\" class=\"dataframe\">\n",
       "  <thead>\n",
       "    <tr style=\"text-align: right;\">\n",
       "      <th></th>\n",
       "      <th>children</th>\n",
       "      <th>dob_years</th>\n",
       "      <th>education</th>\n",
       "      <th>education_id</th>\n",
       "      <th>family_status</th>\n",
       "      <th>family_status_id</th>\n",
       "      <th>gender</th>\n",
       "      <th>income_type</th>\n",
       "      <th>debt</th>\n",
       "      <th>total_income</th>\n",
       "      <th>purpose</th>\n",
       "    </tr>\n",
       "  </thead>\n",
       "  <tbody>\n",
       "    <tr>\n",
       "      <th>6859</th>\n",
       "      <td>1</td>\n",
       "      <td>0</td>\n",
       "      <td>неоконченное высшее</td>\n",
       "      <td>2</td>\n",
       "      <td>гражданский брак</td>\n",
       "      <td>1</td>\n",
       "      <td>F</td>\n",
       "      <td>сотрудник</td>\n",
       "      <td>0</td>\n",
       "      <td>128246.646591</td>\n",
       "      <td>покупка недвижимости</td>\n",
       "    </tr>\n",
       "    <tr>\n",
       "      <th>13741</th>\n",
       "      <td>0</td>\n",
       "      <td>0</td>\n",
       "      <td>среднее</td>\n",
       "      <td>1</td>\n",
       "      <td>гражданский брак</td>\n",
       "      <td>1</td>\n",
       "      <td>F</td>\n",
       "      <td>сотрудник</td>\n",
       "      <td>0</td>\n",
       "      <td>142594.396847</td>\n",
       "      <td>на проведение свадьбы</td>\n",
       "    </tr>\n",
       "    <tr>\n",
       "      <th>13423</th>\n",
       "      <td>1</td>\n",
       "      <td>0</td>\n",
       "      <td>высшее</td>\n",
       "      <td>0</td>\n",
       "      <td>гражданский брак</td>\n",
       "      <td>1</td>\n",
       "      <td>F</td>\n",
       "      <td>сотрудник</td>\n",
       "      <td>0</td>\n",
       "      <td>91924.300059</td>\n",
       "      <td>на проведение свадьбы</td>\n",
       "    </tr>\n",
       "    <tr>\n",
       "      <th>4147</th>\n",
       "      <td>0</td>\n",
       "      <td>0</td>\n",
       "      <td>среднее</td>\n",
       "      <td>1</td>\n",
       "      <td>в разводе</td>\n",
       "      <td>3</td>\n",
       "      <td>M</td>\n",
       "      <td>сотрудник</td>\n",
       "      <td>0</td>\n",
       "      <td>108130.933212</td>\n",
       "      <td>покупка жилой недвижимости</td>\n",
       "    </tr>\n",
       "    <tr>\n",
       "      <th>1149</th>\n",
       "      <td>0</td>\n",
       "      <td>0</td>\n",
       "      <td>среднее</td>\n",
       "      <td>1</td>\n",
       "      <td>женат / замужем</td>\n",
       "      <td>0</td>\n",
       "      <td>F</td>\n",
       "      <td>компаньон</td>\n",
       "      <td>0</td>\n",
       "      <td>201852.430096</td>\n",
       "      <td>покупка недвижимости</td>\n",
       "    </tr>\n",
       "    <tr>\n",
       "      <th>7344</th>\n",
       "      <td>0</td>\n",
       "      <td>0</td>\n",
       "      <td>среднее</td>\n",
       "      <td>1</td>\n",
       "      <td>женат / замужем</td>\n",
       "      <td>0</td>\n",
       "      <td>M</td>\n",
       "      <td>сотрудник</td>\n",
       "      <td>0</td>\n",
       "      <td>158913.767700</td>\n",
       "      <td>операции с жильем</td>\n",
       "    </tr>\n",
       "    <tr>\n",
       "      <th>12403</th>\n",
       "      <td>3</td>\n",
       "      <td>0</td>\n",
       "      <td>среднее</td>\n",
       "      <td>1</td>\n",
       "      <td>женат / замужем</td>\n",
       "      <td>0</td>\n",
       "      <td>M</td>\n",
       "      <td>сотрудник</td>\n",
       "      <td>0</td>\n",
       "      <td>142594.396847</td>\n",
       "      <td>операции с коммерческой недвижимостью</td>\n",
       "    </tr>\n",
       "    <tr>\n",
       "      <th>11289</th>\n",
       "      <td>1</td>\n",
       "      <td>0</td>\n",
       "      <td>неоконченное высшее</td>\n",
       "      <td>2</td>\n",
       "      <td>гражданский брак</td>\n",
       "      <td>1</td>\n",
       "      <td>M</td>\n",
       "      <td>сотрудник</td>\n",
       "      <td>0</td>\n",
       "      <td>256070.541695</td>\n",
       "      <td>сыграть свадьбу</td>\n",
       "    </tr>\n",
       "    <tr>\n",
       "      <th>10306</th>\n",
       "      <td>0</td>\n",
       "      <td>0</td>\n",
       "      <td>высшее</td>\n",
       "      <td>0</td>\n",
       "      <td>женат / замужем</td>\n",
       "      <td>0</td>\n",
       "      <td>F</td>\n",
       "      <td>сотрудник</td>\n",
       "      <td>0</td>\n",
       "      <td>103136.721735</td>\n",
       "      <td>покупка коммерческой недвижимости</td>\n",
       "    </tr>\n",
       "    <tr>\n",
       "      <th>17613</th>\n",
       "      <td>0</td>\n",
       "      <td>0</td>\n",
       "      <td>высшее</td>\n",
       "      <td>0</td>\n",
       "      <td>женат / замужем</td>\n",
       "      <td>0</td>\n",
       "      <td>F</td>\n",
       "      <td>сотрудник</td>\n",
       "      <td>0</td>\n",
       "      <td>114124.233190</td>\n",
       "      <td>покупка коммерческой недвижимости</td>\n",
       "    </tr>\n",
       "    <tr>\n",
       "      <th>1898</th>\n",
       "      <td>0</td>\n",
       "      <td>0</td>\n",
       "      <td>среднее</td>\n",
       "      <td>1</td>\n",
       "      <td>вдовец / вдова</td>\n",
       "      <td>2</td>\n",
       "      <td>F</td>\n",
       "      <td>пенсионер</td>\n",
       "      <td>0</td>\n",
       "      <td>127400.268338</td>\n",
       "      <td>на покупку автомобиля</td>\n",
       "    </tr>\n",
       "    <tr>\n",
       "      <th>11576</th>\n",
       "      <td>0</td>\n",
       "      <td>0</td>\n",
       "      <td>высшее</td>\n",
       "      <td>0</td>\n",
       "      <td>женат / замужем</td>\n",
       "      <td>0</td>\n",
       "      <td>M</td>\n",
       "      <td>сотрудник</td>\n",
       "      <td>0</td>\n",
       "      <td>162427.060843</td>\n",
       "      <td>операции с жильем</td>\n",
       "    </tr>\n",
       "    <tr>\n",
       "      <th>6071</th>\n",
       "      <td>1</td>\n",
       "      <td>0</td>\n",
       "      <td>среднее</td>\n",
       "      <td>1</td>\n",
       "      <td>гражданский брак</td>\n",
       "      <td>1</td>\n",
       "      <td>F</td>\n",
       "      <td>сотрудник</td>\n",
       "      <td>0</td>\n",
       "      <td>106956.800302</td>\n",
       "      <td>на покупку автомобиля</td>\n",
       "    </tr>\n",
       "    <tr>\n",
       "      <th>10595</th>\n",
       "      <td>1</td>\n",
       "      <td>0</td>\n",
       "      <td>среднее</td>\n",
       "      <td>1</td>\n",
       "      <td>женат / замужем</td>\n",
       "      <td>0</td>\n",
       "      <td>M</td>\n",
       "      <td>сотрудник</td>\n",
       "      <td>0</td>\n",
       "      <td>158458.734055</td>\n",
       "      <td>жилье</td>\n",
       "    </tr>\n",
       "    <tr>\n",
       "      <th>13117</th>\n",
       "      <td>0</td>\n",
       "      <td>0</td>\n",
       "      <td>высшее</td>\n",
       "      <td>0</td>\n",
       "      <td>женат / замужем</td>\n",
       "      <td>0</td>\n",
       "      <td>M</td>\n",
       "      <td>сотрудник</td>\n",
       "      <td>0</td>\n",
       "      <td>250757.078968</td>\n",
       "      <td>покупка жилья</td>\n",
       "    </tr>\n",
       "    <tr>\n",
       "      <th>17306</th>\n",
       "      <td>0</td>\n",
       "      <td>0</td>\n",
       "      <td>среднее</td>\n",
       "      <td>1</td>\n",
       "      <td>гражданский брак</td>\n",
       "      <td>1</td>\n",
       "      <td>F</td>\n",
       "      <td>компаньон</td>\n",
       "      <td>0</td>\n",
       "      <td>83019.106740</td>\n",
       "      <td>свадьба</td>\n",
       "    </tr>\n",
       "    <tr>\n",
       "      <th>15433</th>\n",
       "      <td>0</td>\n",
       "      <td>0</td>\n",
       "      <td>среднее</td>\n",
       "      <td>1</td>\n",
       "      <td>в разводе</td>\n",
       "      <td>3</td>\n",
       "      <td>F</td>\n",
       "      <td>сотрудник</td>\n",
       "      <td>0</td>\n",
       "      <td>73509.183779</td>\n",
       "      <td>приобретение автомобиля</td>\n",
       "    </tr>\n",
       "    <tr>\n",
       "      <th>270</th>\n",
       "      <td>3</td>\n",
       "      <td>0</td>\n",
       "      <td>среднее</td>\n",
       "      <td>1</td>\n",
       "      <td>женат / замужем</td>\n",
       "      <td>0</td>\n",
       "      <td>F</td>\n",
       "      <td>сотрудник</td>\n",
       "      <td>0</td>\n",
       "      <td>102166.458894</td>\n",
       "      <td>ремонт жилью</td>\n",
       "    </tr>\n",
       "    <tr>\n",
       "      <th>10545</th>\n",
       "      <td>0</td>\n",
       "      <td>0</td>\n",
       "      <td>высшее</td>\n",
       "      <td>0</td>\n",
       "      <td>женат / замужем</td>\n",
       "      <td>0</td>\n",
       "      <td>F</td>\n",
       "      <td>компаньон</td>\n",
       "      <td>0</td>\n",
       "      <td>77733.846697</td>\n",
       "      <td>дополнительное образование</td>\n",
       "    </tr>\n",
       "    <tr>\n",
       "      <th>6778</th>\n",
       "      <td>0</td>\n",
       "      <td>0</td>\n",
       "      <td>высшее</td>\n",
       "      <td>0</td>\n",
       "      <td>Не женат / не замужем</td>\n",
       "      <td>4</td>\n",
       "      <td>F</td>\n",
       "      <td>сотрудник</td>\n",
       "      <td>0</td>\n",
       "      <td>157362.970952</td>\n",
       "      <td>получение высшего образования</td>\n",
       "    </tr>\n",
       "  </tbody>\n",
       "</table>\n",
       "</div>"
      ],
      "text/plain": [
       "       children  dob_years            education  education_id  \\\n",
       "6859          1          0  неоконченное высшее             2   \n",
       "13741         0          0              среднее             1   \n",
       "13423         1          0               высшее             0   \n",
       "4147          0          0              среднее             1   \n",
       "1149          0          0              среднее             1   \n",
       "7344          0          0              среднее             1   \n",
       "12403         3          0              среднее             1   \n",
       "11289         1          0  неоконченное высшее             2   \n",
       "10306         0          0               высшее             0   \n",
       "17613         0          0               высшее             0   \n",
       "1898          0          0              среднее             1   \n",
       "11576         0          0               высшее             0   \n",
       "6071          1          0              среднее             1   \n",
       "10595         1          0              среднее             1   \n",
       "13117         0          0               высшее             0   \n",
       "17306         0          0              среднее             1   \n",
       "15433         0          0              среднее             1   \n",
       "270           3          0              среднее             1   \n",
       "10545         0          0               высшее             0   \n",
       "6778          0          0               высшее             0   \n",
       "\n",
       "               family_status  family_status_id gender income_type  debt  \\\n",
       "6859        гражданский брак                 1      F   сотрудник     0   \n",
       "13741       гражданский брак                 1      F   сотрудник     0   \n",
       "13423       гражданский брак                 1      F   сотрудник     0   \n",
       "4147               в разводе                 3      M   сотрудник     0   \n",
       "1149         женат / замужем                 0      F   компаньон     0   \n",
       "7344         женат / замужем                 0      M   сотрудник     0   \n",
       "12403        женат / замужем                 0      M   сотрудник     0   \n",
       "11289       гражданский брак                 1      M   сотрудник     0   \n",
       "10306        женат / замужем                 0      F   сотрудник     0   \n",
       "17613        женат / замужем                 0      F   сотрудник     0   \n",
       "1898          вдовец / вдова                 2      F   пенсионер     0   \n",
       "11576        женат / замужем                 0      M   сотрудник     0   \n",
       "6071        гражданский брак                 1      F   сотрудник     0   \n",
       "10595        женат / замужем                 0      M   сотрудник     0   \n",
       "13117        женат / замужем                 0      M   сотрудник     0   \n",
       "17306       гражданский брак                 1      F   компаньон     0   \n",
       "15433              в разводе                 3      F   сотрудник     0   \n",
       "270          женат / замужем                 0      F   сотрудник     0   \n",
       "10545        женат / замужем                 0      F   компаньон     0   \n",
       "6778   Не женат / не замужем                 4      F   сотрудник     0   \n",
       "\n",
       "        total_income                                purpose  \n",
       "6859   128246.646591                   покупка недвижимости  \n",
       "13741  142594.396847                  на проведение свадьбы  \n",
       "13423   91924.300059                  на проведение свадьбы  \n",
       "4147   108130.933212             покупка жилой недвижимости  \n",
       "1149   201852.430096                   покупка недвижимости  \n",
       "7344   158913.767700                      операции с жильем  \n",
       "12403  142594.396847  операции с коммерческой недвижимостью  \n",
       "11289  256070.541695                        сыграть свадьбу  \n",
       "10306  103136.721735      покупка коммерческой недвижимости  \n",
       "17613  114124.233190      покупка коммерческой недвижимости  \n",
       "1898   127400.268338                  на покупку автомобиля  \n",
       "11576  162427.060843                      операции с жильем  \n",
       "6071   106956.800302                  на покупку автомобиля  \n",
       "10595  158458.734055                                  жилье  \n",
       "13117  250757.078968                          покупка жилья  \n",
       "17306   83019.106740                                свадьба  \n",
       "15433   73509.183779                приобретение автомобиля  \n",
       "270    102166.458894                           ремонт жилью  \n",
       "10545   77733.846697             дополнительное образование  \n",
       "6778   157362.970952          получение высшего образования  "
      ]
     },
     "metadata": {},
     "output_type": "display_data"
    }
   ],
   "source": [
    "display(data[(data.dob_years == 0)].sample(20))"
   ]
  },
  {
   "cell_type": "markdown",
   "id": "4343d3ec",
   "metadata": {},
   "source": [
    "В столбце dob_years значение '0' встречается 101 раз, при этом какие-либо закономерности, которые могут влиять на такое значение не выявлены: таким клиентам соответсвуют разные значения в категориях \"образование\" (есть в том числе и данные о клиентах с высшим образование, чей возраст не может быть менее 20 лет), \"дети\", \"семейное положение\", \"пол\", \"тип занятости\" и \"цель полочения кредита\". Так как общее количество строк, содержащих такое значение не велико (менее 0,5%), и сформировать какую-то определенную выборку не возможно, то такие строки не могут повлиять на дальнейшее исследование и могут быть удалены."
   ]
  },
  {
   "cell_type": "markdown",
   "id": "56758ad5",
   "metadata": {},
   "source": [
    "<div style=\"border:solid green 2px; padding: 20px\"> <h1 style=\"color:green; margin-bottom:20px\">Комментарий </h1>\n",
    "<br>Как я говорил, удаляем, если данные однообразны, но это надо обосновать. Иначе, допустим, все представители одной категории некого критерия оказались в той выборке, которую ты удалил. Следовательно ты не сможешь описать, сделать выводы и т.д. по этой категории, а клиент не зная ничего о этой категории, может потерять выгоду.\n",
    "</div>"
   ]
  },
  {
   "cell_type": "code",
   "execution_count": 13,
   "id": "7433d3ee",
   "metadata": {},
   "outputs": [
    {
     "data": {
      "text/plain": [
       "count    21377.000000\n",
       "mean        43.499509\n",
       "std         12.248988\n",
       "min         19.000000\n",
       "25%         33.000000\n",
       "50%         43.000000\n",
       "75%         53.000000\n",
       "max         75.000000\n",
       "Name: dob_years, dtype: float64"
      ]
     },
     "metadata": {},
     "output_type": "display_data"
    }
   ],
   "source": [
    "data = data[data['dob_years'] != 0]\n",
    "display(data.dob_years.describe())"
   ]
  },
  {
   "cell_type": "markdown",
   "id": "b154a1c3",
   "metadata": {},
   "source": [
    "Аномалия с возрастом клиентов устранена из базы данных."
   ]
  },
  {
   "cell_type": "code",
   "execution_count": 14,
   "id": "e3205be8",
   "metadata": {},
   "outputs": [
    {
     "data": {
      "text/plain": [
       "F      14129\n",
       "M       7247\n",
       "XNA        1\n",
       "Name: gender, dtype: int64"
      ]
     },
     "metadata": {},
     "output_type": "display_data"
    }
   ],
   "source": [
    "display(data['gender'].value_counts())"
   ]
  },
  {
   "cell_type": "markdown",
   "id": "91dd59fb",
   "metadata": {},
   "source": [
    "Проверка данных в столбце gender показывает наличие неиндефицируемого значения 'XNA'. С учетом того, что такое значение единично его можно было бы удалить, однако такое значение можно и заменить на другое (на исследование это не повлияет). Так как значение категориальное и представлено всего двумя видами данных будет целесообразным заменить его на самое распространенное, т.е. на значение моды."
   ]
  },
  {
   "cell_type": "markdown",
   "id": "c99fc70b",
   "metadata": {},
   "source": [
    "<div style=\"border:solid green 2px; padding: 20px\"> <h1 style=\"color:green; margin-bottom:20px\">Комментарий </h1>\n",
    "<br>В таких случаях обычно описывают категории (F и M), и сравнивают с неизвестным значением или можно воспользоваться машинным обучением (задачи классификации). Поскольку здесь одно значение, можно сделаить так, как ты сделал, или удалить.\n",
    "</div>"
   ]
  },
  {
   "cell_type": "code",
   "execution_count": 15,
   "id": "6411fd24",
   "metadata": {},
   "outputs": [
    {
     "data": {
      "text/plain": [
       "0    F\n",
       "Name: gender, dtype: object"
      ]
     },
     "metadata": {},
     "output_type": "display_data"
    }
   ],
   "source": [
    "display(data.gender.mode())"
   ]
  },
  {
   "cell_type": "code",
   "execution_count": 16,
   "id": "bf5d17db",
   "metadata": {},
   "outputs": [
    {
     "data": {
      "text/plain": [
       "F    14130\n",
       "M     7247\n",
       "Name: gender, dtype: int64"
      ]
     },
     "metadata": {},
     "output_type": "display_data"
    }
   ],
   "source": [
    "data.loc[data['gender'] == 'XNA', 'gender'] = 'F'\n",
    "display(data['gender'].value_counts(dropna=False))"
   ]
  },
  {
   "cell_type": "markdown",
   "id": "cf92c264",
   "metadata": {},
   "source": [
    "### <a id='processing-duplicates'><span style=\"color:black\">Обработка дубликатов</span></a>"
   ]
  },
  {
   "cell_type": "code",
   "execution_count": 17,
   "id": "91d794d3",
   "metadata": {},
   "outputs": [
    {
     "data": {
      "text/plain": [
       "среднее                13660\n",
       "высшее                  4678\n",
       "СРЕДНЕЕ                  766\n",
       "Среднее                  706\n",
       "неоконченное высшее      665\n",
       "ВЫСШЕЕ                   272\n",
       "Высшее                   266\n",
       "начальное                250\n",
       "Неоконченное высшее       47\n",
       "НЕОКОНЧЕННОЕ ВЫСШЕЕ       29\n",
       "НАЧАЛЬНОЕ                 17\n",
       "Начальное                 15\n",
       "ученая степень             4\n",
       "Ученая степень             1\n",
       "УЧЕНАЯ СТЕПЕНЬ             1\n",
       "Name: education, dtype: int64"
      ]
     },
     "metadata": {},
     "output_type": "display_data"
    }
   ],
   "source": [
    "display(data['education'].value_counts())"
   ]
  },
  {
   "cell_type": "markdown",
   "id": "43f0aa10",
   "metadata": {},
   "source": [
    "Изучение данных стоблца education показывает наличие дубликатов: имеются одинаковые категории с разным регистром. Чтобы учесть такие дубликаты, все символы в строке приводим к нижнему регистру."
   ]
  },
  {
   "cell_type": "code",
   "execution_count": 18,
   "id": "d567e293",
   "metadata": {},
   "outputs": [
    {
     "data": {
      "text/plain": [
       "среднее                15132\n",
       "высшее                  5216\n",
       "неоконченное высшее      741\n",
       "начальное                282\n",
       "ученая степень             6\n",
       "Name: education, dtype: int64"
      ]
     },
     "metadata": {},
     "output_type": "display_data"
    }
   ],
   "source": [
    "data['education'] = data['education'].str.lower()\n",
    "display(data['education'].value_counts())"
   ]
  },
  {
   "cell_type": "markdown",
   "id": "0d63742c",
   "metadata": {},
   "source": [
    "Проверка показывает, что после обработки дубликаты в столбце education отсутствуют."
   ]
  },
  {
   "cell_type": "code",
   "execution_count": 19,
   "id": "4385a764",
   "metadata": {},
   "outputs": [
    {
     "data": {
      "text/plain": [
       "женат / замужем          12302\n",
       "гражданский брак          4151\n",
       "Не женат / не замужем     2792\n",
       "в разводе                 1181\n",
       "вдовец / вдова             951\n",
       "Name: family_status, dtype: int64"
      ]
     },
     "metadata": {},
     "output_type": "display_data"
    }
   ],
   "source": [
    "display(data['family_status'].value_counts(dropna=False))"
   ]
  },
  {
   "cell_type": "markdown",
   "id": "1bc476c3",
   "metadata": {},
   "source": [
    "В столбце family_status особых замечание по хранящемся в нем значений нет. Дубликатов и пропусков данных нет."
   ]
  },
  {
   "cell_type": "markdown",
   "id": "7d104b8d",
   "metadata": {},
   "source": [
    "### <a id='сhange-type'><span style=\"color:black\">Заменяем типы данных</span></a>"
   ]
  },
  {
   "cell_type": "markdown",
   "id": "7d04a2dc",
   "metadata": {},
   "source": [
    "Для дальнейшего удобства представления данных поменяем их тип в столбце total_income."
   ]
  },
  {
   "cell_type": "code",
   "execution_count": 20,
   "id": "ee3eafef",
   "metadata": {},
   "outputs": [
    {
     "name": "stdout",
     "output_type": "stream",
     "text": [
      "<class 'pandas.core.frame.DataFrame'>\n",
      "Int64Index: 21377 entries, 0 to 21524\n",
      "Data columns (total 11 columns):\n",
      " #   Column            Non-Null Count  Dtype \n",
      "---  ------            --------------  ----- \n",
      " 0   children          21377 non-null  int64 \n",
      " 1   dob_years         21377 non-null  int64 \n",
      " 2   education         21377 non-null  object\n",
      " 3   education_id      21377 non-null  int64 \n",
      " 4   family_status     21377 non-null  object\n",
      " 5   family_status_id  21377 non-null  int64 \n",
      " 6   gender            21377 non-null  object\n",
      " 7   income_type       21377 non-null  object\n",
      " 8   debt              21377 non-null  int64 \n",
      " 9   total_income      21377 non-null  int32 \n",
      " 10  purpose           21377 non-null  object\n",
      "dtypes: int32(1), int64(5), object(5)\n",
      "memory usage: 1.9+ MB\n"
     ]
    },
    {
     "data": {
      "text/plain": [
       "None"
      ]
     },
     "metadata": {},
     "output_type": "display_data"
    }
   ],
   "source": [
    "data['total_income'] = data['total_income'].astype('int')\n",
    "display(data.info())"
   ]
  },
  {
   "cell_type": "markdown",
   "id": "f67bc1c2",
   "metadata": {},
   "source": [
    "Для оптимизации использования памяти проведем соответствующий анализ по типу числовых данных."
   ]
  },
  {
   "cell_type": "code",
   "execution_count": 21,
   "id": "21a685e5",
   "metadata": {},
   "outputs": [
    {
     "name": "stdout",
     "output_type": "stream",
     "text": [
      "Machine parameters for int8\n",
      "---------------------------------------------------------------\n",
      "min = -128\n",
      "max = 127\n",
      "---------------------------------------------------------------\n",
      "\n",
      "Machine parameters for int16\n",
      "---------------------------------------------------------------\n",
      "min = -32768\n",
      "max = 32767\n",
      "---------------------------------------------------------------\n",
      "\n",
      "Machine parameters for int32\n",
      "---------------------------------------------------------------\n",
      "min = -2147483648\n",
      "max = 2147483647\n",
      "---------------------------------------------------------------\n",
      "\n",
      "Machine parameters for int64\n",
      "---------------------------------------------------------------\n",
      "min = -9223372036854775808\n",
      "max = 9223372036854775807\n",
      "---------------------------------------------------------------\n",
      "\n",
      "Machine parameters for float16\n",
      "---------------------------------------------------------------\n",
      "precision =   3   resolution = 1.00040e-03\n",
      "machep =    -10   eps =        9.76562e-04\n",
      "negep =     -11   epsneg =     4.88281e-04\n",
      "minexp =    -14   tiny =       6.10352e-05\n",
      "maxexp =     16   max =        6.55040e+04\n",
      "nexp =        5   min =        -max\n",
      "smallest_normal = 6.10352e-05   smallest_subnormal = 5.96046e-08\n",
      "---------------------------------------------------------------\n",
      "\n",
      "Machine parameters for float32\n",
      "---------------------------------------------------------------\n",
      "precision =   6   resolution = 1.0000000e-06\n",
      "machep =    -23   eps =        1.1920929e-07\n",
      "negep =     -24   epsneg =     5.9604645e-08\n",
      "minexp =   -126   tiny =       1.1754944e-38\n",
      "maxexp =    128   max =        3.4028235e+38\n",
      "nexp =        8   min =        -max\n",
      "smallest_normal = 1.1754944e-38   smallest_subnormal = 1.4012985e-45\n",
      "---------------------------------------------------------------\n",
      "\n",
      "Machine parameters for float64\n",
      "---------------------------------------------------------------\n",
      "precision =  15   resolution = 1.0000000000000001e-15\n",
      "machep =    -52   eps =        2.2204460492503131e-16\n",
      "negep =     -53   epsneg =     1.1102230246251565e-16\n",
      "minexp =  -1022   tiny =       2.2250738585072014e-308\n",
      "maxexp =   1024   max =        1.7976931348623157e+308\n",
      "nexp =       11   min =        -max\n",
      "smallest_normal = 2.2250738585072014e-308   smallest_subnormal = 4.9406564584124654e-324\n",
      "---------------------------------------------------------------\n",
      "\n"
     ]
    }
   ],
   "source": [
    "int_types = [\"int8\", \"int16\", \"int32\", \"int64\"]\n",
    "float_types = [\"float16\", \"float32\", \"float64\"]\n",
    "for it in int_types:\n",
    "    print(np.iinfo(it))\n",
    "for it in float_types:\n",
    "    print(np.finfo(it))"
   ]
  },
  {
   "cell_type": "markdown",
   "id": "c3f73763",
   "metadata": {},
   "source": [
    "В Python есть различные подтипы данных для хранения целых и вещественных чисел, которые могут использовать меньшее число байт для представления каждого значения. Применим функцию для оптимизации использования памяти для хранения числовых данных исходя из их минимальных и максимальных значений, а также изменим тип данных столбцов, хранящих данные типа object, в которых уникальными являются менее 50% значений. Если все значения в столбце уникальны, то использование типа category приведёт к повышению уровня использования памяти."
   ]
  },
  {
   "cell_type": "code",
   "execution_count": 22,
   "id": "8599892e",
   "metadata": {},
   "outputs": [
    {
     "name": "stdout",
     "output_type": "stream",
     "text": [
      "Memory usage size: before 1.8756 Mb - after 0.4507 Mb (76.0%).\n",
      "<class 'pandas.core.frame.DataFrame'>\n",
      "Int64Index: 21377 entries, 0 to 21524\n",
      "Data columns (total 11 columns):\n",
      " #   Column            Non-Null Count  Dtype   \n",
      "---  ------            --------------  -----   \n",
      " 0   children          21377 non-null  int8    \n",
      " 1   dob_years         21377 non-null  int8    \n",
      " 2   education         21377 non-null  category\n",
      " 3   education_id      21377 non-null  int8    \n",
      " 4   family_status     21377 non-null  category\n",
      " 5   family_status_id  21377 non-null  int8    \n",
      " 6   gender            21377 non-null  category\n",
      " 7   income_type       21377 non-null  category\n",
      " 8   debt              21377 non-null  int8    \n",
      " 9   total_income      21377 non-null  int32   \n",
      " 10  purpose           21377 non-null  category\n",
      "dtypes: category(5), int32(1), int8(5)\n",
      "memory usage: 461.5 KB\n"
     ]
    },
    {
     "data": {
      "text/plain": [
       "None"
      ]
     },
     "metadata": {},
     "output_type": "display_data"
    },
    {
     "data": {
      "text/plain": [
       "Index               171016\n",
       "children             21377\n",
       "dob_years            21377\n",
       "education            21589\n",
       "education_id         21377\n",
       "family_status        21589\n",
       "family_status_id     21377\n",
       "gender               21501\n",
       "income_type          21741\n",
       "debt                 21377\n",
       "total_income         85508\n",
       "purpose              22753\n",
       "dtype: int64"
      ]
     },
     "metadata": {},
     "output_type": "display_data"
    }
   ],
   "source": [
    "def optimize_memory_usage(df, print_size=True):\n",
    "    numerics = ['int8', 'int16', 'int32', 'int64', 'float16', 'float32', 'float64']\n",
    "    before_size = df.memory_usage().sum() / 1024**2    \n",
    "    for column in df.columns:\n",
    "        column_type = df[column].dtypes\n",
    "        if column_type in numerics:\n",
    "            column_min = df[column].min()\n",
    "            column_max = df[column].max()\n",
    "            if str(column_type).startswith('int'):\n",
    "                if column_min > np.iinfo(np.int8).min and column_max < np.iinfo(np.int8).max:\n",
    "                    df[column] = df[column].astype(np.int8)\n",
    "                elif column_min > np.iinfo(np.int16).min and column_max < np.iinfo(np.int16).max:\n",
    "                    df[column] = df[column].astype(np.int16)\n",
    "                elif column_min > np.iinfo(np.int32).min and column_max < np.iinfo(np.int32).max:\n",
    "                    df[column] = df[column].astype(np.int32)\n",
    "                elif column_min > np.iinfo(np.int64).min and column_max < np.iinfo(np.int64).max:\n",
    "                    df[column] = df[column].astype(np.int64)  \n",
    "            elif str(column_type).startswith('float'):\n",
    "                if column_min > np.finfo(np.float16).min and column_max < np.finfo(np.float16).max:\n",
    "                    df[column] = df[column].astype(np.float16)\n",
    "                elif  column_min > np.finfo(np.float32).min and column_max < np.finfo(np.float32).max:\n",
    "                    df[column] = df[column].astype(np.float32)\n",
    "                else:\n",
    "                    df[column] = df[column].astype(np.float64)\n",
    "        elif column_type == 'object':\n",
    "            num_unique_values = len(df[column].unique())\n",
    "            num_total_values = len(df[column])\n",
    "            if num_unique_values / num_total_values < 0.5:\n",
    "                df[column] = df[column].astype('category')\n",
    "                \n",
    "\n",
    "    after_size = df.memory_usage().sum() / 1024**2\n",
    "    if print_size: print('Memory usage size: before {:5.4f} Mb - after {:5.4f} Mb ({:.1f}%).'.format(before_size, after_size, 100 * (before_size - after_size) / before_size))\n",
    "    return df\n",
    "optimize_memory_usage(data)\n",
    "display(data.info())\n",
    "display(data.memory_usage())"
   ]
  },
  {
   "cell_type": "markdown",
   "id": "1d6b154d",
   "metadata": {},
   "source": [
    "Замена подтипов числовых данных и данных, имевших значение типа object, позволила значительно уменьшить потребление памяти при этом сами данные отображаются корректно."
   ]
  },
  {
   "cell_type": "markdown",
   "id": "3c869123",
   "metadata": {},
   "source": [
    "<div style=\"border:solid green 2px; padding: 20px\"> <h1 style=\"color:green; margin-bottom:20px\">Комментарий </h1>\n",
    "<br>Есть типы данных int32, float32 и другие. Посмотри возможные варианты. Выполни небольшой анализ по зависимости memory usage от типов данных. \n",
    "</div>"
   ]
  },
  {
   "cell_type": "markdown",
   "id": "943a0668",
   "metadata": {},
   "source": [
    "### <a id='lemmatization'><span style=\"color:black\">Лемматизация данных</span></a>"
   ]
  },
  {
   "cell_type": "code",
   "execution_count": 23,
   "id": "279e24ee",
   "metadata": {},
   "outputs": [
    {
     "data": {
      "text/plain": [
       "свадьба                                   792\n",
       "на проведение свадьбы                     772\n",
       "сыграть свадьбу                           768\n",
       "операции с недвижимостью                  671\n",
       "покупка коммерческой недвижимости         661\n",
       "покупка жилья для сдачи                   650\n",
       "операции с коммерческой недвижимостью     648\n",
       "операции с жильем                         646\n",
       "жилье                                     640\n",
       "покупка жилья для семьи                   640\n",
       "покупка жилья                             638\n",
       "строительство собственной недвижимости    632\n",
       "недвижимость                              629\n",
       "операции со своей недвижимостью           627\n",
       "строительство жилой недвижимости          620\n",
       "строительство недвижимости                620\n",
       "покупка своего жилья                      618\n",
       "покупка недвижимости                      618\n",
       "ремонт жилью                              609\n",
       "покупка жилой недвижимости                602\n",
       "на покупку своего автомобиля              501\n",
       "заняться высшим образованием              493\n",
       "автомобиль                                489\n",
       "сделка с подержанным автомобилем          486\n",
       "на покупку подержанного автомобиля        478\n",
       "свой автомобиль                           475\n",
       "автомобили                                475\n",
       "на покупку автомобиля                     466\n",
       "приобретение автомобиля                   458\n",
       "дополнительное образование                458\n",
       "сделка с автомобилем                      454\n",
       "высшее образование                        449\n",
       "получение дополнительного образования     444\n",
       "получение образования                     441\n",
       "образование                               441\n",
       "профильное образование                    433\n",
       "получение высшего образования             424\n",
       "заняться образованием                     411\n",
       "Name: purpose, dtype: int64"
      ]
     },
     "execution_count": 23,
     "metadata": {},
     "output_type": "execute_result"
    }
   ],
   "source": [
    "data['purpose'].value_counts(dropna=False)"
   ]
  },
  {
   "cell_type": "markdown",
   "id": "7e93c4b5",
   "metadata": {},
   "source": [
    "Изучение столбца purpose показавает большое количество одних и тех же категорий записанных по разному. Для обработки таких данных проведем над ними лемматизацию."
   ]
  },
  {
   "cell_type": "code",
   "execution_count": 24,
   "id": "da8c8542",
   "metadata": {},
   "outputs": [],
   "source": [
    "from pymystem3 import Mystem\n",
    "m = Mystem()\n",
    "\n",
    "text = ' '.join(data['purpose'].unique())\n",
    "lemmas = m.lemmatize(text)"
   ]
  },
  {
   "cell_type": "markdown",
   "id": "35d7559c",
   "metadata": {},
   "source": [
    "### <a id='categorization'><span style=\"color:black\">Категоризация данных</span></a>"
   ]
  },
  {
   "cell_type": "markdown",
   "id": "3badf449",
   "metadata": {},
   "source": [
    "На основе списка лемматизированных слов осуществим категоризацию данных: появятся 4 категории, которые будут охватывать все ранее представленные."
   ]
  },
  {
   "cell_type": "code",
   "execution_count": 25,
   "id": "80434fe1",
   "metadata": {},
   "outputs": [
    {
     "data": {
      "text/plain": [
       "недвижимость    10769\n",
       "автомобиль       4282\n",
       "образование      3994\n",
       "свадьба          2332\n",
       "Name: purpose, dtype: int64"
      ]
     },
     "execution_count": 25,
     "metadata": {},
     "output_type": "execute_result"
    }
   ],
   "source": [
    "def purpose_group(lemmas):\n",
    "    for word in lemmas.split(' '): \n",
    "        if 'недвижимост' in word or 'жил' in word:\n",
    "            return 'недвижимость'\n",
    "        if 'авто' in word:\n",
    "            return 'автомобиль'\n",
    "        if 'свадьб' in word:\n",
    "            return 'свадьба'      \n",
    "    return 'образование'\n",
    "\n",
    "data['purpose'] = data['purpose'].apply(purpose_group)\n",
    "data['purpose'].value_counts(dropna=False)"
   ]
  },
  {
   "cell_type": "markdown",
   "id": "238d9c9a",
   "metadata": {},
   "source": [
    "<div style=\"border:solid green 2px; padding: 20px\"> <h1 style=\"color:green; margin-bottom:20px\">Комментарий </h1>\n",
    "<br>Тут все верно. \n",
    "</div>"
   ]
  },
  {
   "cell_type": "code",
   "execution_count": 26,
   "id": "cd7a5c2f",
   "metadata": {},
   "outputs": [
    {
     "data": {
      "text/html": [
       "<div>\n",
       "<style scoped>\n",
       "    .dataframe tbody tr th:only-of-type {\n",
       "        vertical-align: middle;\n",
       "    }\n",
       "\n",
       "    .dataframe tbody tr th {\n",
       "        vertical-align: top;\n",
       "    }\n",
       "\n",
       "    .dataframe thead th {\n",
       "        text-align: right;\n",
       "    }\n",
       "</style>\n",
       "<table border=\"1\" class=\"dataframe\">\n",
       "  <thead>\n",
       "    <tr style=\"text-align: right;\">\n",
       "      <th></th>\n",
       "      <th>children</th>\n",
       "      <th>dob_years</th>\n",
       "      <th>education</th>\n",
       "      <th>education_id</th>\n",
       "      <th>family_status</th>\n",
       "      <th>family_status_id</th>\n",
       "      <th>gender</th>\n",
       "      <th>income_type</th>\n",
       "      <th>debt</th>\n",
       "      <th>total_income</th>\n",
       "      <th>purpose</th>\n",
       "    </tr>\n",
       "  </thead>\n",
       "  <tbody>\n",
       "    <tr>\n",
       "      <th>29</th>\n",
       "      <td>0</td>\n",
       "      <td>63</td>\n",
       "      <td>среднее</td>\n",
       "      <td>1</td>\n",
       "      <td>Не женат / не замужем</td>\n",
       "      <td>4</td>\n",
       "      <td>F</td>\n",
       "      <td>пенсионер</td>\n",
       "      <td>0</td>\n",
       "      <td>118514</td>\n",
       "      <td>недвижимость</td>\n",
       "    </tr>\n",
       "    <tr>\n",
       "      <th>41</th>\n",
       "      <td>0</td>\n",
       "      <td>50</td>\n",
       "      <td>среднее</td>\n",
       "      <td>1</td>\n",
       "      <td>женат / замужем</td>\n",
       "      <td>0</td>\n",
       "      <td>F</td>\n",
       "      <td>госслужащий</td>\n",
       "      <td>0</td>\n",
       "      <td>150447</td>\n",
       "      <td>автомобиль</td>\n",
       "    </tr>\n",
       "    <tr>\n",
       "      <th>67</th>\n",
       "      <td>0</td>\n",
       "      <td>52</td>\n",
       "      <td>высшее</td>\n",
       "      <td>0</td>\n",
       "      <td>женат / замужем</td>\n",
       "      <td>0</td>\n",
       "      <td>F</td>\n",
       "      <td>пенсионер</td>\n",
       "      <td>0</td>\n",
       "      <td>118514</td>\n",
       "      <td>недвижимость</td>\n",
       "    </tr>\n",
       "    <tr>\n",
       "      <th>90</th>\n",
       "      <td>2</td>\n",
       "      <td>35</td>\n",
       "      <td>высшее</td>\n",
       "      <td>0</td>\n",
       "      <td>женат / замужем</td>\n",
       "      <td>0</td>\n",
       "      <td>F</td>\n",
       "      <td>сотрудник</td>\n",
       "      <td>0</td>\n",
       "      <td>142594</td>\n",
       "      <td>недвижимость</td>\n",
       "    </tr>\n",
       "    <tr>\n",
       "      <th>97</th>\n",
       "      <td>0</td>\n",
       "      <td>47</td>\n",
       "      <td>высшее</td>\n",
       "      <td>0</td>\n",
       "      <td>женат / замужем</td>\n",
       "      <td>0</td>\n",
       "      <td>F</td>\n",
       "      <td>сотрудник</td>\n",
       "      <td>0</td>\n",
       "      <td>142594</td>\n",
       "      <td>образование</td>\n",
       "    </tr>\n",
       "    <tr>\n",
       "      <th>...</th>\n",
       "      <td>...</td>\n",
       "      <td>...</td>\n",
       "      <td>...</td>\n",
       "      <td>...</td>\n",
       "      <td>...</td>\n",
       "      <td>...</td>\n",
       "      <td>...</td>\n",
       "      <td>...</td>\n",
       "      <td>...</td>\n",
       "      <td>...</td>\n",
       "      <td>...</td>\n",
       "    </tr>\n",
       "    <tr>\n",
       "      <th>19570</th>\n",
       "      <td>0</td>\n",
       "      <td>23</td>\n",
       "      <td>среднее</td>\n",
       "      <td>1</td>\n",
       "      <td>гражданский брак</td>\n",
       "      <td>1</td>\n",
       "      <td>M</td>\n",
       "      <td>сотрудник</td>\n",
       "      <td>0</td>\n",
       "      <td>142594</td>\n",
       "      <td>автомобиль</td>\n",
       "    </tr>\n",
       "    <tr>\n",
       "      <th>19632</th>\n",
       "      <td>0</td>\n",
       "      <td>47</td>\n",
       "      <td>среднее</td>\n",
       "      <td>1</td>\n",
       "      <td>женат / замужем</td>\n",
       "      <td>0</td>\n",
       "      <td>F</td>\n",
       "      <td>компаньон</td>\n",
       "      <td>0</td>\n",
       "      <td>172357</td>\n",
       "      <td>недвижимость</td>\n",
       "    </tr>\n",
       "    <tr>\n",
       "      <th>20324</th>\n",
       "      <td>0</td>\n",
       "      <td>54</td>\n",
       "      <td>среднее</td>\n",
       "      <td>1</td>\n",
       "      <td>женат / замужем</td>\n",
       "      <td>0</td>\n",
       "      <td>F</td>\n",
       "      <td>пенсионер</td>\n",
       "      <td>0</td>\n",
       "      <td>118514</td>\n",
       "      <td>недвижимость</td>\n",
       "    </tr>\n",
       "    <tr>\n",
       "      <th>20415</th>\n",
       "      <td>0</td>\n",
       "      <td>52</td>\n",
       "      <td>среднее</td>\n",
       "      <td>1</td>\n",
       "      <td>женат / замужем</td>\n",
       "      <td>0</td>\n",
       "      <td>F</td>\n",
       "      <td>компаньон</td>\n",
       "      <td>0</td>\n",
       "      <td>172357</td>\n",
       "      <td>недвижимость</td>\n",
       "    </tr>\n",
       "    <tr>\n",
       "      <th>20966</th>\n",
       "      <td>0</td>\n",
       "      <td>50</td>\n",
       "      <td>среднее</td>\n",
       "      <td>1</td>\n",
       "      <td>женат / замужем</td>\n",
       "      <td>0</td>\n",
       "      <td>M</td>\n",
       "      <td>сотрудник</td>\n",
       "      <td>0</td>\n",
       "      <td>142594</td>\n",
       "      <td>недвижимость</td>\n",
       "    </tr>\n",
       "  </tbody>\n",
       "</table>\n",
       "<p>404 rows × 11 columns</p>\n",
       "</div>"
      ],
      "text/plain": [
       "       children  dob_years education  education_id          family_status  \\\n",
       "29            0         63   среднее             1  Не женат / не замужем   \n",
       "41            0         50   среднее             1        женат / замужем   \n",
       "67            0         52    высшее             0        женат / замужем   \n",
       "90            2         35    высшее             0        женат / замужем   \n",
       "97            0         47    высшее             0        женат / замужем   \n",
       "...         ...        ...       ...           ...                    ...   \n",
       "19570         0         23   среднее             1       гражданский брак   \n",
       "19632         0         47   среднее             1        женат / замужем   \n",
       "20324         0         54   среднее             1        женат / замужем   \n",
       "20415         0         52   среднее             1        женат / замужем   \n",
       "20966         0         50   среднее             1        женат / замужем   \n",
       "\n",
       "       family_status_id gender  income_type  debt  total_income       purpose  \n",
       "29                    4      F    пенсионер     0        118514  недвижимость  \n",
       "41                    0      F  госслужащий     0        150447    автомобиль  \n",
       "67                    0      F    пенсионер     0        118514  недвижимость  \n",
       "90                    0      F    сотрудник     0        142594  недвижимость  \n",
       "97                    0      F    сотрудник     0        142594   образование  \n",
       "...                 ...    ...          ...   ...           ...           ...  \n",
       "19570                 1      M    сотрудник     0        142594    автомобиль  \n",
       "19632                 0      F    компаньон     0        172357  недвижимость  \n",
       "20324                 0      F    пенсионер     0        118514  недвижимость  \n",
       "20415                 0      F    компаньон     0        172357  недвижимость  \n",
       "20966                 0      M    сотрудник     0        142594  недвижимость  \n",
       "\n",
       "[404 rows x 11 columns]"
      ]
     },
     "execution_count": 26,
     "metadata": {},
     "output_type": "execute_result"
    }
   ],
   "source": [
    "data[data.duplicated(keep='last')]"
   ]
  },
  {
   "cell_type": "markdown",
   "id": "3a64efc5",
   "metadata": {},
   "source": [
    "После всех проведенных манипуляций с данными проведем проверку на дубликаты с помощью метода .duplicated()"
   ]
  },
  {
   "cell_type": "code",
   "execution_count": 27,
   "id": "f18f63df",
   "metadata": {},
   "outputs": [
    {
     "data": {
      "text/plain": [
       "404"
      ]
     },
     "metadata": {},
     "output_type": "display_data"
    }
   ],
   "source": [
    "display(data.duplicated().sum())"
   ]
  },
  {
   "cell_type": "code",
   "execution_count": 35,
   "id": "8a257237",
   "metadata": {},
   "outputs": [
    {
     "data": {
      "text/plain": [
       "0"
      ]
     },
     "metadata": {},
     "output_type": "display_data"
    }
   ],
   "source": [
    "data = data.drop_duplicates()\n",
    "display(data.duplicated().sum())"
   ]
  },
  {
   "cell_type": "markdown",
   "id": "7171ace1",
   "metadata": {},
   "source": [
    "Выявленные дубликаты были удалены с помощью метода .drop_duplicates()."
   ]
  },
  {
   "cell_type": "markdown",
   "id": "bf13f77e",
   "metadata": {},
   "source": [
    "<div style=\"border:solid green 2px; padding: 20px\"> <h1 style=\"color:green; margin-bottom:20px\">Комментарий </h1>\n",
    "<br>Если days_employed не информативен, то его стоило сразу удалить после сделанного вывода.\n",
    "</div>"
   ]
  },
  {
   "cell_type": "markdown",
   "id": "3307becd",
   "metadata": {},
   "source": [
    "## <a id='data-analyse'><span style=\"color:black\">3. Анализ данных</span></a>"
   ]
  },
  {
   "cell_type": "code",
   "execution_count": 29,
   "id": "216de63b",
   "metadata": {},
   "outputs": [],
   "source": [
    "#Функция для отображения необходимых данных в сводной таблице\n",
    "def pivot_table(data, index):\n",
    "    data_pivot = data.pivot_table(index=index, values='debt', aggfunc=['count', 'sum'])\n",
    "    data_pivot.columns = ['total_amount', 'debt']\n",
    "    data_pivot['debt %'] = data_pivot['debt'] * 100 / data_pivot['total_amount']\n",
    "    data_pivot = data_pivot.fillna(0)\n",
    "    return data_pivot"
   ]
  },
  {
   "cell_type": "code",
   "execution_count": 30,
   "id": "44e1b8a3",
   "metadata": {},
   "outputs": [
    {
     "data": {
      "text/html": [
       "<div>\n",
       "<style scoped>\n",
       "    .dataframe tbody tr th:only-of-type {\n",
       "        vertical-align: middle;\n",
       "    }\n",
       "\n",
       "    .dataframe tbody tr th {\n",
       "        vertical-align: top;\n",
       "    }\n",
       "\n",
       "    .dataframe thead th {\n",
       "        text-align: right;\n",
       "    }\n",
       "</style>\n",
       "<table border=\"1\" class=\"dataframe\">\n",
       "  <thead>\n",
       "    <tr style=\"text-align: right;\">\n",
       "      <th></th>\n",
       "      <th>total_amount</th>\n",
       "      <th>debt</th>\n",
       "      <th>debt %</th>\n",
       "    </tr>\n",
       "    <tr>\n",
       "      <th>children</th>\n",
       "      <th></th>\n",
       "      <th></th>\n",
       "      <th></th>\n",
       "    </tr>\n",
       "  </thead>\n",
       "  <tbody>\n",
       "    <tr>\n",
       "      <th>0</th>\n",
       "      <td>13761</td>\n",
       "      <td>1056</td>\n",
       "      <td>7.673861</td>\n",
       "    </tr>\n",
       "    <tr>\n",
       "      <th>1</th>\n",
       "      <td>4735</td>\n",
       "      <td>441</td>\n",
       "      <td>9.313622</td>\n",
       "    </tr>\n",
       "    <tr>\n",
       "      <th>2</th>\n",
       "      <td>2101</td>\n",
       "      <td>202</td>\n",
       "      <td>9.614469</td>\n",
       "    </tr>\n",
       "    <tr>\n",
       "      <th>3</th>\n",
       "      <td>327</td>\n",
       "      <td>27</td>\n",
       "      <td>8.256881</td>\n",
       "    </tr>\n",
       "    <tr>\n",
       "      <th>4</th>\n",
       "      <td>40</td>\n",
       "      <td>4</td>\n",
       "      <td>10.000000</td>\n",
       "    </tr>\n",
       "    <tr>\n",
       "      <th>5</th>\n",
       "      <td>9</td>\n",
       "      <td>0</td>\n",
       "      <td>0.000000</td>\n",
       "    </tr>\n",
       "  </tbody>\n",
       "</table>\n",
       "</div>"
      ],
      "text/plain": [
       "          total_amount  debt     debt %\n",
       "children                               \n",
       "0                13761  1056   7.673861\n",
       "1                 4735   441   9.313622\n",
       "2                 2101   202   9.614469\n",
       "3                  327    27   8.256881\n",
       "4                   40     4  10.000000\n",
       "5                    9     0   0.000000"
      ]
     },
     "metadata": {},
     "output_type": "display_data"
    }
   ],
   "source": [
    "display(pivot_table(data, 'children'))"
   ]
  },
  {
   "cell_type": "markdown",
   "id": "d2dab808",
   "metadata": {},
   "source": [
    "Наблюдается прямая зависимость между наличием детей и погашением кредитных обязательств в срок: клиенты без детей меньше подвержены рискам невозврата кредита, имеют больший доход, приходящийся на каждого члена семьи (при ее наличии), не имееют затрат, связанных с воспитанием и содержанием детей."
   ]
  },
  {
   "cell_type": "code",
   "execution_count": 29,
   "id": "8a2e2252",
   "metadata": {},
   "outputs": [
    {
     "data": {
      "text/plain": [
       "0"
      ]
     },
     "execution_count": 29,
     "metadata": {},
     "output_type": "execute_result"
    }
   ],
   "source": []
  },
  {
   "cell_type": "markdown",
   "id": "c684c590",
   "metadata": {},
   "source": [
    "<div style=\"border:solid green 2px; padding: 20px\"> <h1 style=\"color:green; margin-bottom:20px\">Комментарий </h1>\n",
    "<br>Я бы не сказал, что клиенты без детей более \"ответсвенно\" относятся к выплатам по кредиту, я бы сказал что они меньше подвержены рискам, связанным с наличем детей.\n",
    "</div>"
   ]
  },
  {
   "cell_type": "code",
   "execution_count": 31,
   "id": "c794b221",
   "metadata": {},
   "outputs": [
    {
     "data": {
      "text/html": [
       "<div>\n",
       "<style scoped>\n",
       "    .dataframe tbody tr th:only-of-type {\n",
       "        vertical-align: middle;\n",
       "    }\n",
       "\n",
       "    .dataframe tbody tr th {\n",
       "        vertical-align: top;\n",
       "    }\n",
       "\n",
       "    .dataframe thead th {\n",
       "        text-align: right;\n",
       "    }\n",
       "</style>\n",
       "<table border=\"1\" class=\"dataframe\">\n",
       "  <thead>\n",
       "    <tr style=\"text-align: right;\">\n",
       "      <th></th>\n",
       "      <th>total_amount</th>\n",
       "      <th>debt</th>\n",
       "      <th>debt %</th>\n",
       "    </tr>\n",
       "    <tr>\n",
       "      <th>family_status</th>\n",
       "      <th></th>\n",
       "      <th></th>\n",
       "      <th></th>\n",
       "    </tr>\n",
       "  </thead>\n",
       "  <tbody>\n",
       "    <tr>\n",
       "      <th>Не женат / не замужем</th>\n",
       "      <td>2763</td>\n",
       "      <td>273</td>\n",
       "      <td>9.880565</td>\n",
       "    </tr>\n",
       "    <tr>\n",
       "      <th>в разводе</th>\n",
       "      <td>1179</td>\n",
       "      <td>85</td>\n",
       "      <td>7.209500</td>\n",
       "    </tr>\n",
       "    <tr>\n",
       "      <th>вдовец / вдова</th>\n",
       "      <td>934</td>\n",
       "      <td>62</td>\n",
       "      <td>6.638116</td>\n",
       "    </tr>\n",
       "    <tr>\n",
       "      <th>гражданский брак</th>\n",
       "      <td>4098</td>\n",
       "      <td>386</td>\n",
       "      <td>9.419229</td>\n",
       "    </tr>\n",
       "    <tr>\n",
       "      <th>женат / замужем</th>\n",
       "      <td>11999</td>\n",
       "      <td>924</td>\n",
       "      <td>7.700642</td>\n",
       "    </tr>\n",
       "  </tbody>\n",
       "</table>\n",
       "</div>"
      ],
      "text/plain": [
       "                       total_amount  debt    debt %\n",
       "family_status                                      \n",
       "Не женат / не замужем          2763   273  9.880565\n",
       "в разводе                      1179    85  7.209500\n",
       "вдовец / вдова                  934    62  6.638116\n",
       "гражданский брак               4098   386  9.419229\n",
       "женат / замужем               11999   924  7.700642"
      ]
     },
     "metadata": {},
     "output_type": "display_data"
    }
   ],
   "source": [
    "display(pivot_table(data, 'family_status'))"
   ]
  },
  {
   "cell_type": "markdown",
   "id": "76d838d4",
   "metadata": {},
   "source": [
    "Наблюдается прямая зависимость между наличием или отсутствием супруга/супруги (в том числе если если клиент ранее был в браке) и выплатой кредита в срок. Не женатые/замужние клиенты менее подвержены рискам не возврата кредитов. Как и в случае с детьми это может быть связано с большим доходом, приходящимся на 1 человека, а также меньши потребностями одинокого (не семейного) человека."
   ]
  },
  {
   "cell_type": "markdown",
   "id": "94579d87",
   "metadata": {},
   "source": [
    "Для определения зависимости между уровнем доходов и наличием задолженности по кредиту проведем категоризацию по уровню доходу. Разабьем данные на 3 примерно равные группы со средним доходом, ниже и выше среднего."
   ]
  },
  {
   "cell_type": "code",
   "execution_count": 32,
   "id": "129c75ac",
   "metadata": {},
   "outputs": [],
   "source": [
    "data['income_level'] = pd.qcut(data['total_income'],\n",
    "                              q=3,\n",
    "                              labels=['ниже среднего', 'средний', 'выше среднего'])"
   ]
  },
  {
   "cell_type": "code",
   "execution_count": 33,
   "id": "fb79e4d1",
   "metadata": {},
   "outputs": [
    {
     "data": {
      "text/html": [
       "<div>\n",
       "<style scoped>\n",
       "    .dataframe tbody tr th:only-of-type {\n",
       "        vertical-align: middle;\n",
       "    }\n",
       "\n",
       "    .dataframe tbody tr th {\n",
       "        vertical-align: top;\n",
       "    }\n",
       "\n",
       "    .dataframe thead th {\n",
       "        text-align: right;\n",
       "    }\n",
       "</style>\n",
       "<table border=\"1\" class=\"dataframe\">\n",
       "  <thead>\n",
       "    <tr style=\"text-align: right;\">\n",
       "      <th></th>\n",
       "      <th>total_amount</th>\n",
       "      <th>debt</th>\n",
       "      <th>debt %</th>\n",
       "    </tr>\n",
       "    <tr>\n",
       "      <th>income_level</th>\n",
       "      <th></th>\n",
       "      <th></th>\n",
       "      <th></th>\n",
       "    </tr>\n",
       "  </thead>\n",
       "  <tbody>\n",
       "    <tr>\n",
       "      <th>ниже среднего</th>\n",
       "      <td>6991</td>\n",
       "      <td>578</td>\n",
       "      <td>8.267773</td>\n",
       "    </tr>\n",
       "    <tr>\n",
       "      <th>средний</th>\n",
       "      <td>7010</td>\n",
       "      <td>626</td>\n",
       "      <td>8.930100</td>\n",
       "    </tr>\n",
       "    <tr>\n",
       "      <th>выше среднего</th>\n",
       "      <td>6972</td>\n",
       "      <td>526</td>\n",
       "      <td>7.544464</td>\n",
       "    </tr>\n",
       "  </tbody>\n",
       "</table>\n",
       "</div>"
      ],
      "text/plain": [
       "               total_amount  debt    debt %\n",
       "income_level                               \n",
       "ниже среднего          6991   578  8.267773\n",
       "средний                7010   626  8.930100\n",
       "выше среднего          6972   526  7.544464"
      ]
     },
     "metadata": {},
     "output_type": "display_data"
    }
   ],
   "source": [
    "display(pivot_table(data, 'income_level'))"
   ]
  },
  {
   "cell_type": "markdown",
   "id": "12264f40",
   "metadata": {},
   "source": [
    "Выборка показывает, что клиенты с более высоким уровнем имеют больше возможностей для погашения кредита при равных затратах, а также такие люди более финасово грамотны и умеют распоряжатся своими деньгами."
   ]
  },
  {
   "cell_type": "markdown",
   "id": "e4987a45",
   "metadata": {},
   "source": [
    "<div style=\"border:solid green 2px; padding: 20px\"> <h1 style=\"color:green; margin-bottom:20px\">Комментарий </h1>\n",
    "<br>Аналогично с комментарием выше. \"Дисциплинированы\" лучше не употреблять. Я бы написал так. У кого выше доход, у тех больше возможностей погасить кредит. Также обычно такие люди более финасово грамотны и умеют распоряжатся своими деньгами.\n",
    "</div>"
   ]
  },
  {
   "cell_type": "code",
   "execution_count": 34,
   "id": "278e0584",
   "metadata": {},
   "outputs": [
    {
     "data": {
      "text/html": [
       "<div>\n",
       "<style scoped>\n",
       "    .dataframe tbody tr th:only-of-type {\n",
       "        vertical-align: middle;\n",
       "    }\n",
       "\n",
       "    .dataframe tbody tr th {\n",
       "        vertical-align: top;\n",
       "    }\n",
       "\n",
       "    .dataframe thead th {\n",
       "        text-align: right;\n",
       "    }\n",
       "</style>\n",
       "<table border=\"1\" class=\"dataframe\">\n",
       "  <thead>\n",
       "    <tr style=\"text-align: right;\">\n",
       "      <th></th>\n",
       "      <th>total_amount</th>\n",
       "      <th>debt</th>\n",
       "      <th>debt %</th>\n",
       "    </tr>\n",
       "    <tr>\n",
       "      <th>purpose</th>\n",
       "      <th></th>\n",
       "      <th></th>\n",
       "      <th></th>\n",
       "    </tr>\n",
       "  </thead>\n",
       "  <tbody>\n",
       "    <tr>\n",
       "      <th>автомобиль</th>\n",
       "      <td>4239</td>\n",
       "      <td>398</td>\n",
       "      <td>9.389007</td>\n",
       "    </tr>\n",
       "    <tr>\n",
       "      <th>недвижимость</th>\n",
       "      <td>10508</td>\n",
       "      <td>778</td>\n",
       "      <td>7.403883</td>\n",
       "    </tr>\n",
       "    <tr>\n",
       "      <th>образование</th>\n",
       "      <td>3936</td>\n",
       "      <td>370</td>\n",
       "      <td>9.400407</td>\n",
       "    </tr>\n",
       "    <tr>\n",
       "      <th>свадьба</th>\n",
       "      <td>2290</td>\n",
       "      <td>184</td>\n",
       "      <td>8.034934</td>\n",
       "    </tr>\n",
       "  </tbody>\n",
       "</table>\n",
       "</div>"
      ],
      "text/plain": [
       "              total_amount  debt    debt %\n",
       "purpose                                   \n",
       "автомобиль            4239   398  9.389007\n",
       "недвижимость         10508   778  7.403883\n",
       "образование           3936   370  9.400407\n",
       "свадьба               2290   184  8.034934"
      ]
     },
     "metadata": {},
     "output_type": "display_data"
    }
   ],
   "source": [
    "display(pivot_table(data, 'purpose'))"
   ]
  },
  {
   "cell_type": "markdown",
   "id": "2b3f09f6",
   "metadata": {},
   "source": [
    "Кредиты, выданные на приобретение недвижимости или организацию свадьбы, являются более надежными. \n",
    "Это может быть связано со следующими причинами: \n",
    "- кредиты на приобретение недвижимости обычно выдают под залог этого имущества, что побуждает клиентов своевременно погашать кредиты чтобы не потерять собственность;\n",
    "- своевременное погашение кредитов организацию свадьбы возможно связано с эмоцианальной составлющей - если такой кредит является краткосрочным существует меньше рисков его не погашения, т.к. на первый год совместной жизни приходится наименьшее количество расходов согласно статистике (разведеные не очень заинтересованы в погашении такого кредита);\n",
    "- погашение кредитов на автомобиль связан с рисками утери такого имущества, например в ДТП или в результата угона;\n",
    "- кредитование на цели образования связанос с рисками утраты клиентом интереса к получению такого образования."
   ]
  },
  {
   "cell_type": "markdown",
   "id": "a7720e2f",
   "metadata": {},
   "source": [
    "## <a id='conclusions'><span style=\"color:black\">4. Выводы</span></a>"
   ]
  },
  {
   "cell_type": "markdown",
   "id": "4f409d68",
   "metadata": {},
   "source": [
    "В ходе выполнения проекта были решены следующие задачи. \n",
    "\n",
    "- При предобработке данных были выявлены пустые значения в категориях 'трудовой стаж' и 'доход в месяц', которые могли быть не внесены изначально в базу из-за не предоставления соответсвующих сведений клиентом. Такие данные были заменены медианным значением. \n",
    "- С помощью ручного поиска с учетом регистра были выявлены дубликаты в категории 'образование', что свидетельствует о некорректном вводе данных в базу. Все данные в указанной категории были приведены к одному регистру. \n",
    "- В столбце total_income с помощью метода .astype() был изменен тип данных на целый для лучшей удобства работы. \n",
    "- Лемматизацию данных столбца purpose провели с помощью библиотеки pymystem3. \n",
    "- Для этого столбца сделали категоризацию, т.к. изначально одни и теже категории были записаны разными словами. Кроме того, была проведана категоризация по уровню дохода, чтобы в последствии применить новые категории в анализе зависимости между уровнем дохода и возвратом кредита.\n",
    "\n",
    "Анализ предоставленных данных показал, что неженатый клиент, не имеющий детей, но с высоким уровнем дохода, берущий кредит на организацию свадьбы, наиболее предпочтителен для кредитной организации.\n"
   ]
  },
  {
   "cell_type": "markdown",
   "id": "3b492d83",
   "metadata": {},
   "source": [
    "<div style=\"border:solid green 2px; padding: 20px\"> <h1 style=\"color:green; margin-bottom:20px\">Комментарий </h1>\n",
    "<br>1. Выводы всегда и везде выводы делай в виде списка. А так \"каша\" получается.\n",
    "<br>2. Выводы по работе офрмляй так, чтобы это было понятно, что это выводы. В том числе и по тексту. Выводы имеют свой стиль формления, комментарии по работе свой. Но не такое офрмление, что выколи глаз (не надо разноцветных текстов и т.д.). Используй списки, Bold, Italic и т.д.\n",
    "<br>3. Выводы старайся делать после кадого этапа (этапы согласно оглавлению), кратко что сделал и основные выводы. В конце работы проделанные этапы и ключевые выводы.\n",
    "<br>4. Про вдавца исправь на неженатый)   \n",
    "<br>5. Мои комментарии не удаляй!!!\n",
    "</div>"
   ]
  },
  {
   "cell_type": "code",
   "execution_count": null,
   "id": "52b33ad7",
   "metadata": {},
   "outputs": [],
   "source": []
  }
 ],
 "metadata": {
  "kernelspec": {
   "display_name": "Python 3 (ipykernel)",
   "language": "python",
   "name": "python3"
  },
  "language_info": {
   "codemirror_mode": {
    "name": "ipython",
    "version": 3
   },
   "file_extension": ".py",
   "mimetype": "text/x-python",
   "name": "python",
   "nbconvert_exporter": "python",
   "pygments_lexer": "ipython3",
   "version": "3.10.4"
  }
 },
 "nbformat": 4,
 "nbformat_minor": 5
}
