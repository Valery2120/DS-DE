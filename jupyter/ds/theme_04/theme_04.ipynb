{
 "cells": [
  {
   "cell_type": "markdown",
   "id": "f62128e0",
   "metadata": {},
   "source": [
    "# Исследование объявлений о продаже квартир"
   ]
  },
  {
   "cell_type": "markdown",
   "id": "b29bca34",
   "metadata": {},
   "source": [
    "**Данные** - <em>архив объявлений о продаже квартир в Санкт-Петербурге и соседних населённых пунктов за несколько лет.</em><br>\n",
    "**Цель** - <em>установить параметры для построения автоматизированной системы, которая отследит аномалии и мошенническую деятельность.</em><br>\n",
    "По каждой квартире на продажу доступны два вида данных. Первые вписаны пользователем, вторые — получены автоматически на основе картографических данных. Например, расстояние до центра, аэропорта, ближайшего парка и водоёма."
   ]
  },
  {
   "cell_type": "markdown",
   "id": "1cab5bf8",
   "metadata": {},
   "source": [
    "**Описание данных**\n",
    "-\tairports_nearest — расстояние до ближайшего аэропорта в метрах (м)\n",
    "-\tbalcony — число балконов\n",
    "-\tceiling_height — высота потолков (м)\n",
    "-\tcityCenters_nearest — расстояние до центра города (м)\n",
    "-\tdays_exposition — сколько дней было размещено объявление (от публикации до снятия)\n",
    "-\tfirst_day_exposition — дата публикации\n",
    "-\tfloor — этаж\n",
    "-\tfloors_total — всего этажей в доме\n",
    "-\tis_apartment — апартаменты (булев тип)\n",
    "-\tkitchen_area — площадь кухни в квадратных метрах (м²)\n",
    "-\tlast_price — цена на момент снятия с публикации\n",
    "-\tliving_area — жилая площадь в квадратных метрах(м²)\n",
    "-\tlocality_name — название населённого пункта\n",
    "-\topen_plan — свободная планировка (булев тип)\n",
    "-\tparks_around3000 — число парков в радиусе 3 км\n",
    "-\tparks_nearest — расстояние до ближайшего парка (м)\n",
    "-\tponds_around3000 — число водоёмов в радиусе 3 км\n",
    "-\tponds_nearest — расстояние до ближайшего водоёма (м)\n",
    "-\trooms — число комнат\n",
    "-\tstudio — квартира-студия (булев тип)\n",
    "-\ttotal_area — площадь квартиры в квадратных метрах (м²)\n",
    "-\ttotal_images — число фотографий квартиры в объявлении<br></em>\n",
    "\n",
    "**Пояснение:** <em>апартаменты — это нежилые помещения, не относящиеся к жилому фонду, но имеющие необходимые условия для проживания.</em>\n"
   ]
  },
  {
   "cell_type": "markdown",
   "id": "2646ccb8",
   "metadata": {},
   "source": [
    "## Оглавление\n",
    "1. [Загрузка данных и изучение общей информации по проекту](#download-data)\n",
    "2. [Предобработка данных](#data-preprocessing)\n",
    "    - [Обработка пустых значений](#processing-empty-values)\n",
    "    - [Замена типа данных](#data-type-change)\n",
    "3. [Расчет данных  и добавление их таблицу](#data-counting)\n",
    "    - [Расчет стоимости 1 квадратного метра](#calculating-the-price-per-square-meter)\n",
    "    - [Определение дня недели, месяца и года публикации объявления](#determine-the-day-of-the-week-month-and-year)\n",
    "    - [Категорирование квартиры по этажности](#categorizing-the-apartment-by-floor)\n",
    "    - [Определение соотношения жилой и общей площади, отношения площади кухни к общей](#determination-of-the-ratio)\n",
    "4. [Анализ данных](#data-analysis)\n",
    "    - [Исследование типичных параметров продаваемых квартир: площадь, цена, число комнат и т.д.](#research-parameters)\n",
    "    - [Исследование времени продажи квартиры](#researching-days-exposition)\n",
    "    - [Обработка необычных значений параметров](#processing-rare&knockout-values)\n",
    "    - [Исследование факторов, влияющих на стоимость квартиры](#research-factors-affecting-cost)\n",
    "    - [Исследование 10 населённых пунктов с наибольшим числом объявлений](#research-exposition-location)\n",
    "    - [Исследование характеристик типичных квартир в центре и вне центра](#research-centre-or-no-centre)\n",
    "    - [Исследование характерных параметров для апартаментов, студий и квартир свободной планировки](#research-nontypical-flat)\n",
    "5. [Выводы](#conclusions)"
   ]
  },
  {
   "cell_type": "markdown",
   "id": "e3b0e3fa",
   "metadata": {},
   "source": [
    "<div style=\"border:solid green 2px; padding: 20px\"> <h1 style=\"color:green; margin-bottom:20px\">Комментарий </h1>\n",
    "Хорошее меню.\n",
    "</div>"
   ]
  },
  {
   "cell_type": "markdown",
   "id": "45406805",
   "metadata": {},
   "source": [
    "## <a id='download-data'><span style=\"color:black\">1. Загрузка данных и изучение общей информации по проекту</span></a>"
   ]
  },
  {
   "cell_type": "markdown",
   "id": "625e57d4",
   "metadata": {},
   "source": [
    "Предварительное изучение данных с помощью текствого редактора позволило определить столбец 'Unnamed: 0' в качестве индекса, что позволяет оптимизировать размер используемой\n",
    "память."
   ]
  },
  {
   "cell_type": "code",
   "execution_count": 1,
   "id": "4310d353",
   "metadata": {},
   "outputs": [],
   "source": [
    "import pandas as pd\n",
    "import matplotlib.pyplot as plt\n",
    "import seaborn as sns\n",
    "import warnings\n",
    "warnings.filterwarnings(\"ignore\")\n",
    "# код для отображения 30 столбцов\n",
    "pd.options.display.max_columns = 30"
   ]
  },
  {
   "cell_type": "code",
   "execution_count": 2,
   "id": "20dad718",
   "metadata": {},
   "outputs": [
    {
     "data": {
      "text/html": [
       "<div>\n",
       "<style scoped>\n",
       "    .dataframe tbody tr th:only-of-type {\n",
       "        vertical-align: middle;\n",
       "    }\n",
       "\n",
       "    .dataframe tbody tr th {\n",
       "        vertical-align: top;\n",
       "    }\n",
       "\n",
       "    .dataframe thead th {\n",
       "        text-align: right;\n",
       "    }\n",
       "</style>\n",
       "<table border=\"1\" class=\"dataframe\">\n",
       "  <thead>\n",
       "    <tr style=\"text-align: right;\">\n",
       "      <th></th>\n",
       "      <th>total_images</th>\n",
       "      <th>last_price</th>\n",
       "      <th>total_area</th>\n",
       "      <th>first_day_exposition</th>\n",
       "      <th>rooms</th>\n",
       "      <th>ceiling_height</th>\n",
       "      <th>floors_total</th>\n",
       "      <th>living_area</th>\n",
       "      <th>floor</th>\n",
       "      <th>is_apartment</th>\n",
       "      <th>studio</th>\n",
       "      <th>open_plan</th>\n",
       "      <th>kitchen_area</th>\n",
       "      <th>balcony</th>\n",
       "      <th>locality_name</th>\n",
       "      <th>airports_nearest</th>\n",
       "      <th>cityCenters_nearest</th>\n",
       "      <th>parks_around3000</th>\n",
       "      <th>parks_nearest</th>\n",
       "      <th>ponds_around3000</th>\n",
       "      <th>ponds_nearest</th>\n",
       "      <th>days_exposition</th>\n",
       "    </tr>\n",
       "  </thead>\n",
       "  <tbody>\n",
       "    <tr>\n",
       "      <th>0</th>\n",
       "      <td>20</td>\n",
       "      <td>13000000.0</td>\n",
       "      <td>108.00</td>\n",
       "      <td>2019-03-07T00:00:00</td>\n",
       "      <td>3</td>\n",
       "      <td>2.70</td>\n",
       "      <td>16.0</td>\n",
       "      <td>51.0</td>\n",
       "      <td>8</td>\n",
       "      <td>NaN</td>\n",
       "      <td>False</td>\n",
       "      <td>False</td>\n",
       "      <td>25.00</td>\n",
       "      <td>NaN</td>\n",
       "      <td>Санкт-Петербург</td>\n",
       "      <td>18863.0</td>\n",
       "      <td>16028.0</td>\n",
       "      <td>1.0</td>\n",
       "      <td>482.0</td>\n",
       "      <td>2.0</td>\n",
       "      <td>755.0</td>\n",
       "      <td>NaN</td>\n",
       "    </tr>\n",
       "    <tr>\n",
       "      <th>1</th>\n",
       "      <td>7</td>\n",
       "      <td>3350000.0</td>\n",
       "      <td>40.40</td>\n",
       "      <td>2018-12-04T00:00:00</td>\n",
       "      <td>1</td>\n",
       "      <td>NaN</td>\n",
       "      <td>11.0</td>\n",
       "      <td>18.6</td>\n",
       "      <td>1</td>\n",
       "      <td>NaN</td>\n",
       "      <td>False</td>\n",
       "      <td>False</td>\n",
       "      <td>11.00</td>\n",
       "      <td>2.0</td>\n",
       "      <td>посёлок Шушары</td>\n",
       "      <td>12817.0</td>\n",
       "      <td>18603.0</td>\n",
       "      <td>0.0</td>\n",
       "      <td>NaN</td>\n",
       "      <td>0.0</td>\n",
       "      <td>NaN</td>\n",
       "      <td>81.0</td>\n",
       "    </tr>\n",
       "    <tr>\n",
       "      <th>2</th>\n",
       "      <td>10</td>\n",
       "      <td>5196000.0</td>\n",
       "      <td>56.00</td>\n",
       "      <td>2015-08-20T00:00:00</td>\n",
       "      <td>2</td>\n",
       "      <td>NaN</td>\n",
       "      <td>5.0</td>\n",
       "      <td>34.3</td>\n",
       "      <td>4</td>\n",
       "      <td>NaN</td>\n",
       "      <td>False</td>\n",
       "      <td>False</td>\n",
       "      <td>8.30</td>\n",
       "      <td>0.0</td>\n",
       "      <td>Санкт-Петербург</td>\n",
       "      <td>21741.0</td>\n",
       "      <td>13933.0</td>\n",
       "      <td>1.0</td>\n",
       "      <td>90.0</td>\n",
       "      <td>2.0</td>\n",
       "      <td>574.0</td>\n",
       "      <td>558.0</td>\n",
       "    </tr>\n",
       "    <tr>\n",
       "      <th>3</th>\n",
       "      <td>0</td>\n",
       "      <td>64900000.0</td>\n",
       "      <td>159.00</td>\n",
       "      <td>2015-07-24T00:00:00</td>\n",
       "      <td>3</td>\n",
       "      <td>NaN</td>\n",
       "      <td>14.0</td>\n",
       "      <td>NaN</td>\n",
       "      <td>9</td>\n",
       "      <td>NaN</td>\n",
       "      <td>False</td>\n",
       "      <td>False</td>\n",
       "      <td>NaN</td>\n",
       "      <td>0.0</td>\n",
       "      <td>Санкт-Петербург</td>\n",
       "      <td>28098.0</td>\n",
       "      <td>6800.0</td>\n",
       "      <td>2.0</td>\n",
       "      <td>84.0</td>\n",
       "      <td>3.0</td>\n",
       "      <td>234.0</td>\n",
       "      <td>424.0</td>\n",
       "    </tr>\n",
       "    <tr>\n",
       "      <th>4</th>\n",
       "      <td>2</td>\n",
       "      <td>10000000.0</td>\n",
       "      <td>100.00</td>\n",
       "      <td>2018-06-19T00:00:00</td>\n",
       "      <td>2</td>\n",
       "      <td>3.03</td>\n",
       "      <td>14.0</td>\n",
       "      <td>32.0</td>\n",
       "      <td>13</td>\n",
       "      <td>NaN</td>\n",
       "      <td>False</td>\n",
       "      <td>False</td>\n",
       "      <td>41.00</td>\n",
       "      <td>NaN</td>\n",
       "      <td>Санкт-Петербург</td>\n",
       "      <td>31856.0</td>\n",
       "      <td>8098.0</td>\n",
       "      <td>2.0</td>\n",
       "      <td>112.0</td>\n",
       "      <td>1.0</td>\n",
       "      <td>48.0</td>\n",
       "      <td>121.0</td>\n",
       "    </tr>\n",
       "    <tr>\n",
       "      <th>...</th>\n",
       "      <td>...</td>\n",
       "      <td>...</td>\n",
       "      <td>...</td>\n",
       "      <td>...</td>\n",
       "      <td>...</td>\n",
       "      <td>...</td>\n",
       "      <td>...</td>\n",
       "      <td>...</td>\n",
       "      <td>...</td>\n",
       "      <td>...</td>\n",
       "      <td>...</td>\n",
       "      <td>...</td>\n",
       "      <td>...</td>\n",
       "      <td>...</td>\n",
       "      <td>...</td>\n",
       "      <td>...</td>\n",
       "      <td>...</td>\n",
       "      <td>...</td>\n",
       "      <td>...</td>\n",
       "      <td>...</td>\n",
       "      <td>...</td>\n",
       "      <td>...</td>\n",
       "    </tr>\n",
       "    <tr>\n",
       "      <th>23694</th>\n",
       "      <td>9</td>\n",
       "      <td>9700000.0</td>\n",
       "      <td>133.81</td>\n",
       "      <td>2017-03-21T00:00:00</td>\n",
       "      <td>3</td>\n",
       "      <td>3.70</td>\n",
       "      <td>5.0</td>\n",
       "      <td>73.3</td>\n",
       "      <td>3</td>\n",
       "      <td>NaN</td>\n",
       "      <td>False</td>\n",
       "      <td>False</td>\n",
       "      <td>13.83</td>\n",
       "      <td>NaN</td>\n",
       "      <td>Санкт-Петербург</td>\n",
       "      <td>24665.0</td>\n",
       "      <td>4232.0</td>\n",
       "      <td>1.0</td>\n",
       "      <td>796.0</td>\n",
       "      <td>3.0</td>\n",
       "      <td>381.0</td>\n",
       "      <td>NaN</td>\n",
       "    </tr>\n",
       "    <tr>\n",
       "      <th>23695</th>\n",
       "      <td>14</td>\n",
       "      <td>3100000.0</td>\n",
       "      <td>59.00</td>\n",
       "      <td>2018-01-15T00:00:00</td>\n",
       "      <td>3</td>\n",
       "      <td>NaN</td>\n",
       "      <td>5.0</td>\n",
       "      <td>38.0</td>\n",
       "      <td>4</td>\n",
       "      <td>NaN</td>\n",
       "      <td>False</td>\n",
       "      <td>False</td>\n",
       "      <td>8.50</td>\n",
       "      <td>NaN</td>\n",
       "      <td>Тосно</td>\n",
       "      <td>NaN</td>\n",
       "      <td>NaN</td>\n",
       "      <td>NaN</td>\n",
       "      <td>NaN</td>\n",
       "      <td>NaN</td>\n",
       "      <td>NaN</td>\n",
       "      <td>45.0</td>\n",
       "    </tr>\n",
       "    <tr>\n",
       "      <th>23696</th>\n",
       "      <td>18</td>\n",
       "      <td>2500000.0</td>\n",
       "      <td>56.70</td>\n",
       "      <td>2018-02-11T00:00:00</td>\n",
       "      <td>2</td>\n",
       "      <td>NaN</td>\n",
       "      <td>3.0</td>\n",
       "      <td>29.7</td>\n",
       "      <td>1</td>\n",
       "      <td>NaN</td>\n",
       "      <td>False</td>\n",
       "      <td>False</td>\n",
       "      <td>NaN</td>\n",
       "      <td>NaN</td>\n",
       "      <td>село Рождествено</td>\n",
       "      <td>NaN</td>\n",
       "      <td>NaN</td>\n",
       "      <td>NaN</td>\n",
       "      <td>NaN</td>\n",
       "      <td>NaN</td>\n",
       "      <td>NaN</td>\n",
       "      <td>NaN</td>\n",
       "    </tr>\n",
       "    <tr>\n",
       "      <th>23697</th>\n",
       "      <td>13</td>\n",
       "      <td>11475000.0</td>\n",
       "      <td>76.75</td>\n",
       "      <td>2017-03-28T00:00:00</td>\n",
       "      <td>2</td>\n",
       "      <td>3.00</td>\n",
       "      <td>17.0</td>\n",
       "      <td>NaN</td>\n",
       "      <td>12</td>\n",
       "      <td>NaN</td>\n",
       "      <td>False</td>\n",
       "      <td>False</td>\n",
       "      <td>23.30</td>\n",
       "      <td>2.0</td>\n",
       "      <td>Санкт-Петербург</td>\n",
       "      <td>39140.0</td>\n",
       "      <td>10364.0</td>\n",
       "      <td>2.0</td>\n",
       "      <td>173.0</td>\n",
       "      <td>3.0</td>\n",
       "      <td>196.0</td>\n",
       "      <td>602.0</td>\n",
       "    </tr>\n",
       "    <tr>\n",
       "      <th>23698</th>\n",
       "      <td>4</td>\n",
       "      <td>1350000.0</td>\n",
       "      <td>32.30</td>\n",
       "      <td>2017-07-21T00:00:00</td>\n",
       "      <td>1</td>\n",
       "      <td>2.50</td>\n",
       "      <td>5.0</td>\n",
       "      <td>12.3</td>\n",
       "      <td>1</td>\n",
       "      <td>NaN</td>\n",
       "      <td>False</td>\n",
       "      <td>False</td>\n",
       "      <td>9.00</td>\n",
       "      <td>NaN</td>\n",
       "      <td>поселок Новый Учхоз</td>\n",
       "      <td>NaN</td>\n",
       "      <td>NaN</td>\n",
       "      <td>NaN</td>\n",
       "      <td>NaN</td>\n",
       "      <td>NaN</td>\n",
       "      <td>NaN</td>\n",
       "      <td>NaN</td>\n",
       "    </tr>\n",
       "  </tbody>\n",
       "</table>\n",
       "<p>23699 rows × 22 columns</p>\n",
       "</div>"
      ],
      "text/plain": [
       "       total_images  last_price  total_area first_day_exposition  rooms  \\\n",
       "0                20  13000000.0      108.00  2019-03-07T00:00:00      3   \n",
       "1                 7   3350000.0       40.40  2018-12-04T00:00:00      1   \n",
       "2                10   5196000.0       56.00  2015-08-20T00:00:00      2   \n",
       "3                 0  64900000.0      159.00  2015-07-24T00:00:00      3   \n",
       "4                 2  10000000.0      100.00  2018-06-19T00:00:00      2   \n",
       "...             ...         ...         ...                  ...    ...   \n",
       "23694             9   9700000.0      133.81  2017-03-21T00:00:00      3   \n",
       "23695            14   3100000.0       59.00  2018-01-15T00:00:00      3   \n",
       "23696            18   2500000.0       56.70  2018-02-11T00:00:00      2   \n",
       "23697            13  11475000.0       76.75  2017-03-28T00:00:00      2   \n",
       "23698             4   1350000.0       32.30  2017-07-21T00:00:00      1   \n",
       "\n",
       "       ceiling_height  floors_total  living_area  floor is_apartment  studio  \\\n",
       "0                2.70          16.0         51.0      8          NaN   False   \n",
       "1                 NaN          11.0         18.6      1          NaN   False   \n",
       "2                 NaN           5.0         34.3      4          NaN   False   \n",
       "3                 NaN          14.0          NaN      9          NaN   False   \n",
       "4                3.03          14.0         32.0     13          NaN   False   \n",
       "...               ...           ...          ...    ...          ...     ...   \n",
       "23694            3.70           5.0         73.3      3          NaN   False   \n",
       "23695             NaN           5.0         38.0      4          NaN   False   \n",
       "23696             NaN           3.0         29.7      1          NaN   False   \n",
       "23697            3.00          17.0          NaN     12          NaN   False   \n",
       "23698            2.50           5.0         12.3      1          NaN   False   \n",
       "\n",
       "       open_plan  kitchen_area  balcony        locality_name  \\\n",
       "0          False         25.00      NaN      Санкт-Петербург   \n",
       "1          False         11.00      2.0       посёлок Шушары   \n",
       "2          False          8.30      0.0      Санкт-Петербург   \n",
       "3          False           NaN      0.0      Санкт-Петербург   \n",
       "4          False         41.00      NaN      Санкт-Петербург   \n",
       "...          ...           ...      ...                  ...   \n",
       "23694      False         13.83      NaN      Санкт-Петербург   \n",
       "23695      False          8.50      NaN                Тосно   \n",
       "23696      False           NaN      NaN     село Рождествено   \n",
       "23697      False         23.30      2.0      Санкт-Петербург   \n",
       "23698      False          9.00      NaN  поселок Новый Учхоз   \n",
       "\n",
       "       airports_nearest  cityCenters_nearest  parks_around3000  parks_nearest  \\\n",
       "0               18863.0              16028.0               1.0          482.0   \n",
       "1               12817.0              18603.0               0.0            NaN   \n",
       "2               21741.0              13933.0               1.0           90.0   \n",
       "3               28098.0               6800.0               2.0           84.0   \n",
       "4               31856.0               8098.0               2.0          112.0   \n",
       "...                 ...                  ...               ...            ...   \n",
       "23694           24665.0               4232.0               1.0          796.0   \n",
       "23695               NaN                  NaN               NaN            NaN   \n",
       "23696               NaN                  NaN               NaN            NaN   \n",
       "23697           39140.0              10364.0               2.0          173.0   \n",
       "23698               NaN                  NaN               NaN            NaN   \n",
       "\n",
       "       ponds_around3000  ponds_nearest  days_exposition  \n",
       "0                   2.0          755.0              NaN  \n",
       "1                   0.0            NaN             81.0  \n",
       "2                   2.0          574.0            558.0  \n",
       "3                   3.0          234.0            424.0  \n",
       "4                   1.0           48.0            121.0  \n",
       "...                 ...            ...              ...  \n",
       "23694               3.0          381.0              NaN  \n",
       "23695               NaN            NaN             45.0  \n",
       "23696               NaN            NaN              NaN  \n",
       "23697               3.0          196.0            602.0  \n",
       "23698               NaN            NaN              NaN  \n",
       "\n",
       "[23699 rows x 22 columns]"
      ]
     },
     "metadata": {},
     "output_type": "display_data"
    },
    {
     "data": {
      "text/html": [
       "<div>\n",
       "<style scoped>\n",
       "    .dataframe tbody tr th:only-of-type {\n",
       "        vertical-align: middle;\n",
       "    }\n",
       "\n",
       "    .dataframe tbody tr th {\n",
       "        vertical-align: top;\n",
       "    }\n",
       "\n",
       "    .dataframe thead th {\n",
       "        text-align: right;\n",
       "    }\n",
       "</style>\n",
       "<table border=\"1\" class=\"dataframe\">\n",
       "  <thead>\n",
       "    <tr style=\"text-align: right;\">\n",
       "      <th></th>\n",
       "      <th>total_images</th>\n",
       "      <th>last_price</th>\n",
       "      <th>total_area</th>\n",
       "      <th>rooms</th>\n",
       "      <th>ceiling_height</th>\n",
       "      <th>floors_total</th>\n",
       "      <th>living_area</th>\n",
       "      <th>floor</th>\n",
       "      <th>kitchen_area</th>\n",
       "      <th>balcony</th>\n",
       "      <th>airports_nearest</th>\n",
       "      <th>cityCenters_nearest</th>\n",
       "      <th>parks_around3000</th>\n",
       "      <th>parks_nearest</th>\n",
       "      <th>ponds_around3000</th>\n",
       "      <th>ponds_nearest</th>\n",
       "      <th>days_exposition</th>\n",
       "    </tr>\n",
       "  </thead>\n",
       "  <tbody>\n",
       "    <tr>\n",
       "      <th>count</th>\n",
       "      <td>23699.000000</td>\n",
       "      <td>2.369900e+04</td>\n",
       "      <td>23699.000000</td>\n",
       "      <td>23699.000000</td>\n",
       "      <td>14504.000000</td>\n",
       "      <td>23613.000000</td>\n",
       "      <td>21796.000000</td>\n",
       "      <td>23699.000000</td>\n",
       "      <td>21421.000000</td>\n",
       "      <td>12180.000000</td>\n",
       "      <td>18157.000000</td>\n",
       "      <td>18180.000000</td>\n",
       "      <td>18181.000000</td>\n",
       "      <td>8079.000000</td>\n",
       "      <td>18181.000000</td>\n",
       "      <td>9110.000000</td>\n",
       "      <td>20518.000000</td>\n",
       "    </tr>\n",
       "    <tr>\n",
       "      <th>mean</th>\n",
       "      <td>9.858475</td>\n",
       "      <td>6.541549e+06</td>\n",
       "      <td>60.348651</td>\n",
       "      <td>2.070636</td>\n",
       "      <td>2.771499</td>\n",
       "      <td>10.673824</td>\n",
       "      <td>34.457852</td>\n",
       "      <td>5.892358</td>\n",
       "      <td>10.569807</td>\n",
       "      <td>1.150082</td>\n",
       "      <td>28793.672193</td>\n",
       "      <td>14191.277833</td>\n",
       "      <td>0.611408</td>\n",
       "      <td>490.804555</td>\n",
       "      <td>0.770255</td>\n",
       "      <td>517.980900</td>\n",
       "      <td>180.888634</td>\n",
       "    </tr>\n",
       "    <tr>\n",
       "      <th>std</th>\n",
       "      <td>5.682529</td>\n",
       "      <td>1.088701e+07</td>\n",
       "      <td>35.654083</td>\n",
       "      <td>1.078405</td>\n",
       "      <td>1.261056</td>\n",
       "      <td>6.597173</td>\n",
       "      <td>22.030445</td>\n",
       "      <td>4.885249</td>\n",
       "      <td>5.905438</td>\n",
       "      <td>1.071300</td>\n",
       "      <td>12630.880622</td>\n",
       "      <td>8608.386210</td>\n",
       "      <td>0.802074</td>\n",
       "      <td>342.317995</td>\n",
       "      <td>0.938346</td>\n",
       "      <td>277.720643</td>\n",
       "      <td>219.727988</td>\n",
       "    </tr>\n",
       "    <tr>\n",
       "      <th>min</th>\n",
       "      <td>0.000000</td>\n",
       "      <td>1.219000e+04</td>\n",
       "      <td>12.000000</td>\n",
       "      <td>0.000000</td>\n",
       "      <td>1.000000</td>\n",
       "      <td>1.000000</td>\n",
       "      <td>2.000000</td>\n",
       "      <td>1.000000</td>\n",
       "      <td>1.300000</td>\n",
       "      <td>0.000000</td>\n",
       "      <td>0.000000</td>\n",
       "      <td>181.000000</td>\n",
       "      <td>0.000000</td>\n",
       "      <td>1.000000</td>\n",
       "      <td>0.000000</td>\n",
       "      <td>13.000000</td>\n",
       "      <td>1.000000</td>\n",
       "    </tr>\n",
       "    <tr>\n",
       "      <th>25%</th>\n",
       "      <td>6.000000</td>\n",
       "      <td>3.400000e+06</td>\n",
       "      <td>40.000000</td>\n",
       "      <td>1.000000</td>\n",
       "      <td>2.520000</td>\n",
       "      <td>5.000000</td>\n",
       "      <td>18.600000</td>\n",
       "      <td>2.000000</td>\n",
       "      <td>7.000000</td>\n",
       "      <td>0.000000</td>\n",
       "      <td>18585.000000</td>\n",
       "      <td>9238.000000</td>\n",
       "      <td>0.000000</td>\n",
       "      <td>288.000000</td>\n",
       "      <td>0.000000</td>\n",
       "      <td>294.000000</td>\n",
       "      <td>45.000000</td>\n",
       "    </tr>\n",
       "    <tr>\n",
       "      <th>50%</th>\n",
       "      <td>9.000000</td>\n",
       "      <td>4.650000e+06</td>\n",
       "      <td>52.000000</td>\n",
       "      <td>2.000000</td>\n",
       "      <td>2.650000</td>\n",
       "      <td>9.000000</td>\n",
       "      <td>30.000000</td>\n",
       "      <td>4.000000</td>\n",
       "      <td>9.100000</td>\n",
       "      <td>1.000000</td>\n",
       "      <td>26726.000000</td>\n",
       "      <td>13098.500000</td>\n",
       "      <td>0.000000</td>\n",
       "      <td>455.000000</td>\n",
       "      <td>1.000000</td>\n",
       "      <td>502.000000</td>\n",
       "      <td>95.000000</td>\n",
       "    </tr>\n",
       "    <tr>\n",
       "      <th>75%</th>\n",
       "      <td>14.000000</td>\n",
       "      <td>6.800000e+06</td>\n",
       "      <td>69.900000</td>\n",
       "      <td>3.000000</td>\n",
       "      <td>2.800000</td>\n",
       "      <td>16.000000</td>\n",
       "      <td>42.300000</td>\n",
       "      <td>8.000000</td>\n",
       "      <td>12.000000</td>\n",
       "      <td>2.000000</td>\n",
       "      <td>37273.000000</td>\n",
       "      <td>16293.000000</td>\n",
       "      <td>1.000000</td>\n",
       "      <td>612.000000</td>\n",
       "      <td>1.000000</td>\n",
       "      <td>729.000000</td>\n",
       "      <td>232.000000</td>\n",
       "    </tr>\n",
       "    <tr>\n",
       "      <th>max</th>\n",
       "      <td>50.000000</td>\n",
       "      <td>7.630000e+08</td>\n",
       "      <td>900.000000</td>\n",
       "      <td>19.000000</td>\n",
       "      <td>100.000000</td>\n",
       "      <td>60.000000</td>\n",
       "      <td>409.700000</td>\n",
       "      <td>33.000000</td>\n",
       "      <td>112.000000</td>\n",
       "      <td>5.000000</td>\n",
       "      <td>84869.000000</td>\n",
       "      <td>65968.000000</td>\n",
       "      <td>3.000000</td>\n",
       "      <td>3190.000000</td>\n",
       "      <td>3.000000</td>\n",
       "      <td>1344.000000</td>\n",
       "      <td>1580.000000</td>\n",
       "    </tr>\n",
       "  </tbody>\n",
       "</table>\n",
       "</div>"
      ],
      "text/plain": [
       "       total_images    last_price    total_area         rooms  ceiling_height  \\\n",
       "count  23699.000000  2.369900e+04  23699.000000  23699.000000    14504.000000   \n",
       "mean       9.858475  6.541549e+06     60.348651      2.070636        2.771499   \n",
       "std        5.682529  1.088701e+07     35.654083      1.078405        1.261056   \n",
       "min        0.000000  1.219000e+04     12.000000      0.000000        1.000000   \n",
       "25%        6.000000  3.400000e+06     40.000000      1.000000        2.520000   \n",
       "50%        9.000000  4.650000e+06     52.000000      2.000000        2.650000   \n",
       "75%       14.000000  6.800000e+06     69.900000      3.000000        2.800000   \n",
       "max       50.000000  7.630000e+08    900.000000     19.000000      100.000000   \n",
       "\n",
       "       floors_total   living_area         floor  kitchen_area       balcony  \\\n",
       "count  23613.000000  21796.000000  23699.000000  21421.000000  12180.000000   \n",
       "mean      10.673824     34.457852      5.892358     10.569807      1.150082   \n",
       "std        6.597173     22.030445      4.885249      5.905438      1.071300   \n",
       "min        1.000000      2.000000      1.000000      1.300000      0.000000   \n",
       "25%        5.000000     18.600000      2.000000      7.000000      0.000000   \n",
       "50%        9.000000     30.000000      4.000000      9.100000      1.000000   \n",
       "75%       16.000000     42.300000      8.000000     12.000000      2.000000   \n",
       "max       60.000000    409.700000     33.000000    112.000000      5.000000   \n",
       "\n",
       "       airports_nearest  cityCenters_nearest  parks_around3000  parks_nearest  \\\n",
       "count      18157.000000         18180.000000      18181.000000    8079.000000   \n",
       "mean       28793.672193         14191.277833          0.611408     490.804555   \n",
       "std        12630.880622          8608.386210          0.802074     342.317995   \n",
       "min            0.000000           181.000000          0.000000       1.000000   \n",
       "25%        18585.000000          9238.000000          0.000000     288.000000   \n",
       "50%        26726.000000         13098.500000          0.000000     455.000000   \n",
       "75%        37273.000000         16293.000000          1.000000     612.000000   \n",
       "max        84869.000000         65968.000000          3.000000    3190.000000   \n",
       "\n",
       "       ponds_around3000  ponds_nearest  days_exposition  \n",
       "count      18181.000000    9110.000000     20518.000000  \n",
       "mean           0.770255     517.980900       180.888634  \n",
       "std            0.938346     277.720643       219.727988  \n",
       "min            0.000000      13.000000         1.000000  \n",
       "25%            0.000000     294.000000        45.000000  \n",
       "50%            1.000000     502.000000        95.000000  \n",
       "75%            1.000000     729.000000       232.000000  \n",
       "max            3.000000    1344.000000      1580.000000  "
      ]
     },
     "metadata": {},
     "output_type": "display_data"
    },
    {
     "name": "stdout",
     "output_type": "stream",
     "text": [
      "<class 'pandas.core.frame.DataFrame'>\n",
      "Int64Index: 23699 entries, 0 to 23698\n",
      "Data columns (total 22 columns):\n",
      " #   Column                Non-Null Count  Dtype  \n",
      "---  ------                --------------  -----  \n",
      " 0   total_images          23699 non-null  int64  \n",
      " 1   last_price            23699 non-null  float64\n",
      " 2   total_area            23699 non-null  float64\n",
      " 3   first_day_exposition  23699 non-null  object \n",
      " 4   rooms                 23699 non-null  int64  \n",
      " 5   ceiling_height        14504 non-null  float64\n",
      " 6   floors_total          23613 non-null  float64\n",
      " 7   living_area           21796 non-null  float64\n",
      " 8   floor                 23699 non-null  int64  \n",
      " 9   is_apartment          2775 non-null   object \n",
      " 10  studio                23699 non-null  bool   \n",
      " 11  open_plan             23699 non-null  bool   \n",
      " 12  kitchen_area          21421 non-null  float64\n",
      " 13  balcony               12180 non-null  float64\n",
      " 14  locality_name         23650 non-null  object \n",
      " 15  airports_nearest      18157 non-null  float64\n",
      " 16  cityCenters_nearest   18180 non-null  float64\n",
      " 17  parks_around3000      18181 non-null  float64\n",
      " 18  parks_nearest         8079 non-null   float64\n",
      " 19  ponds_around3000      18181 non-null  float64\n",
      " 20  ponds_nearest         9110 non-null   float64\n",
      " 21  days_exposition       20518 non-null  float64\n",
      "dtypes: bool(2), float64(14), int64(3), object(3)\n",
      "memory usage: 8.2 MB\n"
     ]
    },
    {
     "data": {
      "text/plain": [
       "None"
      ]
     },
     "metadata": {},
     "output_type": "display_data"
    },
    {
     "data": {
      "text/plain": [
       "False    2725\n",
       "True       50\n",
       "Name: is_apartment, dtype: int64"
      ]
     },
     "metadata": {},
     "output_type": "display_data"
    }
   ],
   "source": [
    "data = pd.read_csv('datasets/real_estate_data.csv', index_col='Unnamed: 0')\n",
    "display(data)\n",
    "display(data.describe())\n",
    "display(data.info(memory_usage='deep'))\n",
    "display(data[(data['is_apartment'].notnull())]['is_apartment'].value_counts())"
   ]
  },
  {
   "cell_type": "markdown",
   "id": "416de69f",
   "metadata": {},
   "source": [
    "Предоставленная база данных состоит из 23699 строк и 22 столбцов. Данные имеют следующий тип данных bool, float, int, object. Первично изучение данных позволяет увидеть следующие недостатки и аномалий:\n",
    "- столбец total_images - избыточен, т.е. в анализе данных применятся не будет. Данный столбец нужно удалить с целью уменьшения размера используемой памяти.\n",
    "- столбец last_price - пропущенных значений не имеет, для удобства представления тип данных можно изменить на int.\n",
    "- total_area - пропущенных значений не имеет, тип данных float.\n",
    "- ceiling_height - имеет пропущенные значения, которые необходимо заполнить. Скорее всего данные не были указанны собственниками при подаче объявления, т.к. посчитали такую информацию не важной. Обычно в таком случае высота потолков имеет стандартный размер  (2.5-2.7 м). Кроме того, обращает на себя внимание, что минимальное значение в данном стролбце равно 1 и максимальное значение 100, что не возможно и такие данные должным быть заменены другими.\n",
    "- floors_total - имеет незначительное количество пустых значений, которые могут быть удалены или оставлены пустыми, тип данных нужно изменить на int.\n",
    "- living_area - имеет около 10% пустых значений, данная категория имеет существенное значение при определении стоимости квартиры. Нужно рассмотреть возможность заполнения пропусков.\n",
    "- is_apartment - имеет тип данных object, но должен быть изменен на bool. Большое количество пустых значений, при этом значений True только 50. Скорее всего такие данные не были предоставлены собственниками как не существенные. Такая информация указывается только если помещение является аппартаментами, поэтому все пропущенные значения должны быть заменены на False.\n",
    "- kitchen_area - имеет около 10% пустых значений, данная категория может иметь существенное значение при определении стоимости квартиры. Нужно рассмотреть возможность заполнения пропусков.\n",
    "- balcony - имеет пропуски, скорее всего человек не указал число балконов, так как их нет. Такие пропуски правильно заменить на 0. Тип данных необходимо заменить на int. Максимальное значение в данной категории равно 5, что само по себе вызывает вопрос в реальности такой информации.\n",
    "- locality_name, airports_nearest, cityCenters_nearest, parks_around3000, parks_nearest, ponds_around3000, ponds_nearest - имеют некоторое количество пропусков."
   ]
  },
  {
   "cell_type": "markdown",
   "id": "53e3e3ed",
   "metadata": {},
   "source": [
    "Перед тем как приступить к обработке пустых значений удалим столбец total_images из базы данных."
   ]
  },
  {
   "cell_type": "markdown",
   "id": "60e44524",
   "metadata": {},
   "source": [
    "<div style=\"border:solid green 2px; padding: 20px\"> <h1 style=\"color:green; margin-bottom:20px\">Комментарий </h1>\n",
    "Вопрос на подумать. На какую квартиру пользователь обратит внимание, на квартиру у которой нет фотографий или у которой есть фотографии? \n",
    "</div>"
   ]
  },
  {
   "cell_type": "code",
   "execution_count": 3,
   "id": "fb954543",
   "metadata": {},
   "outputs": [
    {
     "data": {
      "text/html": [
       "<div>\n",
       "<style scoped>\n",
       "    .dataframe tbody tr th:only-of-type {\n",
       "        vertical-align: middle;\n",
       "    }\n",
       "\n",
       "    .dataframe tbody tr th {\n",
       "        vertical-align: top;\n",
       "    }\n",
       "\n",
       "    .dataframe thead th {\n",
       "        text-align: right;\n",
       "    }\n",
       "</style>\n",
       "<table border=\"1\" class=\"dataframe\">\n",
       "  <thead>\n",
       "    <tr style=\"text-align: right;\">\n",
       "      <th></th>\n",
       "      <th>last_price</th>\n",
       "      <th>total_area</th>\n",
       "      <th>first_day_exposition</th>\n",
       "      <th>rooms</th>\n",
       "      <th>ceiling_height</th>\n",
       "      <th>floors_total</th>\n",
       "      <th>living_area</th>\n",
       "      <th>floor</th>\n",
       "      <th>is_apartment</th>\n",
       "      <th>studio</th>\n",
       "      <th>open_plan</th>\n",
       "      <th>kitchen_area</th>\n",
       "      <th>balcony</th>\n",
       "      <th>locality_name</th>\n",
       "      <th>airports_nearest</th>\n",
       "      <th>cityCenters_nearest</th>\n",
       "      <th>parks_around3000</th>\n",
       "      <th>parks_nearest</th>\n",
       "      <th>ponds_around3000</th>\n",
       "      <th>ponds_nearest</th>\n",
       "      <th>days_exposition</th>\n",
       "    </tr>\n",
       "  </thead>\n",
       "  <tbody>\n",
       "    <tr>\n",
       "      <th>0</th>\n",
       "      <td>13000000.0</td>\n",
       "      <td>108.0</td>\n",
       "      <td>2019-03-07T00:00:00</td>\n",
       "      <td>3</td>\n",
       "      <td>2.70</td>\n",
       "      <td>16.0</td>\n",
       "      <td>51.0</td>\n",
       "      <td>8</td>\n",
       "      <td>NaN</td>\n",
       "      <td>False</td>\n",
       "      <td>False</td>\n",
       "      <td>25.0</td>\n",
       "      <td>NaN</td>\n",
       "      <td>Санкт-Петербург</td>\n",
       "      <td>18863.0</td>\n",
       "      <td>16028.0</td>\n",
       "      <td>1.0</td>\n",
       "      <td>482.0</td>\n",
       "      <td>2.0</td>\n",
       "      <td>755.0</td>\n",
       "      <td>NaN</td>\n",
       "    </tr>\n",
       "    <tr>\n",
       "      <th>1</th>\n",
       "      <td>3350000.0</td>\n",
       "      <td>40.4</td>\n",
       "      <td>2018-12-04T00:00:00</td>\n",
       "      <td>1</td>\n",
       "      <td>NaN</td>\n",
       "      <td>11.0</td>\n",
       "      <td>18.6</td>\n",
       "      <td>1</td>\n",
       "      <td>NaN</td>\n",
       "      <td>False</td>\n",
       "      <td>False</td>\n",
       "      <td>11.0</td>\n",
       "      <td>2.0</td>\n",
       "      <td>посёлок Шушары</td>\n",
       "      <td>12817.0</td>\n",
       "      <td>18603.0</td>\n",
       "      <td>0.0</td>\n",
       "      <td>NaN</td>\n",
       "      <td>0.0</td>\n",
       "      <td>NaN</td>\n",
       "      <td>81.0</td>\n",
       "    </tr>\n",
       "    <tr>\n",
       "      <th>2</th>\n",
       "      <td>5196000.0</td>\n",
       "      <td>56.0</td>\n",
       "      <td>2015-08-20T00:00:00</td>\n",
       "      <td>2</td>\n",
       "      <td>NaN</td>\n",
       "      <td>5.0</td>\n",
       "      <td>34.3</td>\n",
       "      <td>4</td>\n",
       "      <td>NaN</td>\n",
       "      <td>False</td>\n",
       "      <td>False</td>\n",
       "      <td>8.3</td>\n",
       "      <td>0.0</td>\n",
       "      <td>Санкт-Петербург</td>\n",
       "      <td>21741.0</td>\n",
       "      <td>13933.0</td>\n",
       "      <td>1.0</td>\n",
       "      <td>90.0</td>\n",
       "      <td>2.0</td>\n",
       "      <td>574.0</td>\n",
       "      <td>558.0</td>\n",
       "    </tr>\n",
       "    <tr>\n",
       "      <th>3</th>\n",
       "      <td>64900000.0</td>\n",
       "      <td>159.0</td>\n",
       "      <td>2015-07-24T00:00:00</td>\n",
       "      <td>3</td>\n",
       "      <td>NaN</td>\n",
       "      <td>14.0</td>\n",
       "      <td>NaN</td>\n",
       "      <td>9</td>\n",
       "      <td>NaN</td>\n",
       "      <td>False</td>\n",
       "      <td>False</td>\n",
       "      <td>NaN</td>\n",
       "      <td>0.0</td>\n",
       "      <td>Санкт-Петербург</td>\n",
       "      <td>28098.0</td>\n",
       "      <td>6800.0</td>\n",
       "      <td>2.0</td>\n",
       "      <td>84.0</td>\n",
       "      <td>3.0</td>\n",
       "      <td>234.0</td>\n",
       "      <td>424.0</td>\n",
       "    </tr>\n",
       "    <tr>\n",
       "      <th>4</th>\n",
       "      <td>10000000.0</td>\n",
       "      <td>100.0</td>\n",
       "      <td>2018-06-19T00:00:00</td>\n",
       "      <td>2</td>\n",
       "      <td>3.03</td>\n",
       "      <td>14.0</td>\n",
       "      <td>32.0</td>\n",
       "      <td>13</td>\n",
       "      <td>NaN</td>\n",
       "      <td>False</td>\n",
       "      <td>False</td>\n",
       "      <td>41.0</td>\n",
       "      <td>NaN</td>\n",
       "      <td>Санкт-Петербург</td>\n",
       "      <td>31856.0</td>\n",
       "      <td>8098.0</td>\n",
       "      <td>2.0</td>\n",
       "      <td>112.0</td>\n",
       "      <td>1.0</td>\n",
       "      <td>48.0</td>\n",
       "      <td>121.0</td>\n",
       "    </tr>\n",
       "  </tbody>\n",
       "</table>\n",
       "</div>"
      ],
      "text/plain": [
       "   last_price  total_area first_day_exposition  rooms  ceiling_height  \\\n",
       "0  13000000.0       108.0  2019-03-07T00:00:00      3            2.70   \n",
       "1   3350000.0        40.4  2018-12-04T00:00:00      1             NaN   \n",
       "2   5196000.0        56.0  2015-08-20T00:00:00      2             NaN   \n",
       "3  64900000.0       159.0  2015-07-24T00:00:00      3             NaN   \n",
       "4  10000000.0       100.0  2018-06-19T00:00:00      2            3.03   \n",
       "\n",
       "   floors_total  living_area  floor is_apartment  studio  open_plan  \\\n",
       "0          16.0         51.0      8          NaN   False      False   \n",
       "1          11.0         18.6      1          NaN   False      False   \n",
       "2           5.0         34.3      4          NaN   False      False   \n",
       "3          14.0          NaN      9          NaN   False      False   \n",
       "4          14.0         32.0     13          NaN   False      False   \n",
       "\n",
       "   kitchen_area  balcony    locality_name  airports_nearest  \\\n",
       "0          25.0      NaN  Санкт-Петербург           18863.0   \n",
       "1          11.0      2.0   посёлок Шушары           12817.0   \n",
       "2           8.3      0.0  Санкт-Петербург           21741.0   \n",
       "3           NaN      0.0  Санкт-Петербург           28098.0   \n",
       "4          41.0      NaN  Санкт-Петербург           31856.0   \n",
       "\n",
       "   cityCenters_nearest  parks_around3000  parks_nearest  ponds_around3000  \\\n",
       "0              16028.0               1.0          482.0               2.0   \n",
       "1              18603.0               0.0            NaN               0.0   \n",
       "2              13933.0               1.0           90.0               2.0   \n",
       "3               6800.0               2.0           84.0               3.0   \n",
       "4               8098.0               2.0          112.0               1.0   \n",
       "\n",
       "   ponds_nearest  days_exposition  \n",
       "0          755.0              NaN  \n",
       "1            NaN             81.0  \n",
       "2          574.0            558.0  \n",
       "3          234.0            424.0  \n",
       "4           48.0            121.0  "
      ]
     },
     "metadata": {},
     "output_type": "display_data"
    }
   ],
   "source": [
    "data = data.drop('total_images', axis=1)\n",
    "display(data.head())"
   ]
  },
  {
   "cell_type": "markdown",
   "id": "2a9f86c7",
   "metadata": {},
   "source": [
    "**Вывод:** Изучение данных позволило выявить ряд недостатков и аномалий, которые необходимо устранить до перехода к анализу."
   ]
  },
  {
   "cell_type": "markdown",
   "id": "dc5b613f",
   "metadata": {},
   "source": [
    "## <a id='data-preprocessing'><span style=\"color:black\">2. Предобработка данных</span></a>"
   ]
  },
  {
   "cell_type": "markdown",
   "id": "78bd8ec6",
   "metadata": {},
   "source": [
    "### <a id='processing-empty-values'><span style=\"color:black\">Обработка пустых значений</span></a>"
   ]
  },
  {
   "cell_type": "markdown",
   "id": "c56ea1f3",
   "metadata": {},
   "source": [
    "Произведем замену пустых и аномальных значений в столбце ceiling_height. Согласно строительным нормам минимальная высота потолка не может быть меньше 2.4 метра. Максимальная высота потолка строительными нормами не установлена. Встречаются постройки с высотой выше 4 метров (особенно это касается домов дореволюционной постройки). Заменим пустые значения и значения меньше 2,4 метра или от 5 метров на медианную величину."
   ]
  },
  {
   "cell_type": "code",
   "execution_count": 4,
   "id": "67a3fa55",
   "metadata": {},
   "outputs": [],
   "source": [
    "data.loc[(data['ceiling_height'].isna()) | (data['ceiling_height'] >= 5) | (data['ceiling_height'] < 2.4), 'ceiling_height'] \\\n",
    "= data.ceiling_height.median()"
   ]
  },
  {
   "cell_type": "code",
   "execution_count": 5,
   "id": "dd282e48",
   "metadata": {
    "scrolled": true
   },
   "outputs": [
    {
     "data": {
      "text/plain": [
       "count    23699.000000\n",
       "mean         2.696356\n",
       "std          0.214352\n",
       "min          2.400000\n",
       "25%          2.600000\n",
       "50%          2.650000\n",
       "75%          2.700000\n",
       "max          4.900000\n",
       "Name: ceiling_height, dtype: float64"
      ]
     },
     "metadata": {},
     "output_type": "display_data"
    },
    {
     "name": "stdout",
     "output_type": "stream",
     "text": [
      "<class 'pandas.core.series.Series'>\n",
      "Int64Index: 23699 entries, 0 to 23698\n",
      "Series name: ceiling_height\n",
      "Non-Null Count  Dtype  \n",
      "--------------  -----  \n",
      "23699 non-null  float64\n",
      "dtypes: float64(1)\n",
      "memory usage: 370.3 KB\n"
     ]
    },
    {
     "data": {
      "text/plain": [
       "None"
      ]
     },
     "metadata": {},
     "output_type": "display_data"
    }
   ],
   "source": [
    "display(data.ceiling_height.describe())\n",
    "display(data.ceiling_height.info())"
   ]
  },
  {
   "cell_type": "markdown",
   "id": "2fe3a952",
   "metadata": {},
   "source": [
    "<div style=\"border:solid green 2px; padding: 20px\"> <h1 style=\"color:green; margin-bottom:20px\">Комментарий </h1>\n",
    "В одну ячейку можно было.\n",
    "</div>"
   ]
  },
  {
   "cell_type": "markdown",
   "id": "75af2e9f",
   "metadata": {},
   "source": [
    "Проверка показывает, что задача выполнена корректно: пустые значения отсутствуют, минимальное значение составляет 2,4 м и максимальное - 4,9 м."
   ]
  },
  {
   "cell_type": "markdown",
   "id": "948874a0",
   "metadata": {},
   "source": [
    "Рассмотрим пропущенные значения в столбце floors_total."
   ]
  },
  {
   "cell_type": "code",
   "execution_count": 6,
   "id": "ff049614",
   "metadata": {},
   "outputs": [
    {
     "data": {
      "text/html": [
       "<div>\n",
       "<style scoped>\n",
       "    .dataframe tbody tr th:only-of-type {\n",
       "        vertical-align: middle;\n",
       "    }\n",
       "\n",
       "    .dataframe tbody tr th {\n",
       "        vertical-align: top;\n",
       "    }\n",
       "\n",
       "    .dataframe thead th {\n",
       "        text-align: right;\n",
       "    }\n",
       "</style>\n",
       "<table border=\"1\" class=\"dataframe\">\n",
       "  <thead>\n",
       "    <tr style=\"text-align: right;\">\n",
       "      <th></th>\n",
       "      <th>last_price</th>\n",
       "      <th>total_area</th>\n",
       "      <th>first_day_exposition</th>\n",
       "      <th>rooms</th>\n",
       "      <th>ceiling_height</th>\n",
       "      <th>floors_total</th>\n",
       "      <th>living_area</th>\n",
       "      <th>floor</th>\n",
       "      <th>is_apartment</th>\n",
       "      <th>studio</th>\n",
       "      <th>open_plan</th>\n",
       "      <th>kitchen_area</th>\n",
       "      <th>balcony</th>\n",
       "      <th>locality_name</th>\n",
       "      <th>airports_nearest</th>\n",
       "      <th>cityCenters_nearest</th>\n",
       "      <th>parks_around3000</th>\n",
       "      <th>parks_nearest</th>\n",
       "      <th>ponds_around3000</th>\n",
       "      <th>ponds_nearest</th>\n",
       "      <th>days_exposition</th>\n",
       "    </tr>\n",
       "  </thead>\n",
       "  <tbody>\n",
       "    <tr>\n",
       "      <th>186</th>\n",
       "      <td>11640000.0</td>\n",
       "      <td>65.2</td>\n",
       "      <td>2018-10-02T00:00:00</td>\n",
       "      <td>2</td>\n",
       "      <td>2.65</td>\n",
       "      <td>NaN</td>\n",
       "      <td>30.80</td>\n",
       "      <td>4</td>\n",
       "      <td>NaN</td>\n",
       "      <td>False</td>\n",
       "      <td>False</td>\n",
       "      <td>12.00</td>\n",
       "      <td>NaN</td>\n",
       "      <td>Санкт-Петербург</td>\n",
       "      <td>39197.0</td>\n",
       "      <td>12373.0</td>\n",
       "      <td>1.0</td>\n",
       "      <td>123.0</td>\n",
       "      <td>0.0</td>\n",
       "      <td>NaN</td>\n",
       "      <td>49.0</td>\n",
       "    </tr>\n",
       "    <tr>\n",
       "      <th>237</th>\n",
       "      <td>2438033.0</td>\n",
       "      <td>28.1</td>\n",
       "      <td>2016-11-23T00:00:00</td>\n",
       "      <td>1</td>\n",
       "      <td>2.65</td>\n",
       "      <td>NaN</td>\n",
       "      <td>20.75</td>\n",
       "      <td>1</td>\n",
       "      <td>NaN</td>\n",
       "      <td>False</td>\n",
       "      <td>False</td>\n",
       "      <td>NaN</td>\n",
       "      <td>0.0</td>\n",
       "      <td>Санкт-Петербург</td>\n",
       "      <td>22041.0</td>\n",
       "      <td>17369.0</td>\n",
       "      <td>0.0</td>\n",
       "      <td>NaN</td>\n",
       "      <td>1.0</td>\n",
       "      <td>374.0</td>\n",
       "      <td>251.0</td>\n",
       "    </tr>\n",
       "    <tr>\n",
       "      <th>457</th>\n",
       "      <td>9788348.0</td>\n",
       "      <td>70.8</td>\n",
       "      <td>2015-08-01T00:00:00</td>\n",
       "      <td>2</td>\n",
       "      <td>2.65</td>\n",
       "      <td>NaN</td>\n",
       "      <td>38.40</td>\n",
       "      <td>12</td>\n",
       "      <td>NaN</td>\n",
       "      <td>False</td>\n",
       "      <td>False</td>\n",
       "      <td>10.63</td>\n",
       "      <td>0.0</td>\n",
       "      <td>Санкт-Петербург</td>\n",
       "      <td>37364.0</td>\n",
       "      <td>8322.0</td>\n",
       "      <td>2.0</td>\n",
       "      <td>309.0</td>\n",
       "      <td>2.0</td>\n",
       "      <td>706.0</td>\n",
       "      <td>727.0</td>\n",
       "    </tr>\n",
       "    <tr>\n",
       "      <th>671</th>\n",
       "      <td>6051191.0</td>\n",
       "      <td>93.6</td>\n",
       "      <td>2017-04-06T00:00:00</td>\n",
       "      <td>3</td>\n",
       "      <td>2.65</td>\n",
       "      <td>NaN</td>\n",
       "      <td>47.10</td>\n",
       "      <td>8</td>\n",
       "      <td>NaN</td>\n",
       "      <td>False</td>\n",
       "      <td>False</td>\n",
       "      <td>16.80</td>\n",
       "      <td>0.0</td>\n",
       "      <td>Санкт-Петербург</td>\n",
       "      <td>22041.0</td>\n",
       "      <td>17369.0</td>\n",
       "      <td>0.0</td>\n",
       "      <td>NaN</td>\n",
       "      <td>1.0</td>\n",
       "      <td>374.0</td>\n",
       "      <td>123.0</td>\n",
       "    </tr>\n",
       "    <tr>\n",
       "      <th>1757</th>\n",
       "      <td>3600000.0</td>\n",
       "      <td>39.0</td>\n",
       "      <td>2017-04-22T00:00:00</td>\n",
       "      <td>1</td>\n",
       "      <td>2.65</td>\n",
       "      <td>NaN</td>\n",
       "      <td>NaN</td>\n",
       "      <td>9</td>\n",
       "      <td>NaN</td>\n",
       "      <td>False</td>\n",
       "      <td>False</td>\n",
       "      <td>NaN</td>\n",
       "      <td>0.0</td>\n",
       "      <td>Санкт-Петербург</td>\n",
       "      <td>22735.0</td>\n",
       "      <td>11618.0</td>\n",
       "      <td>1.0</td>\n",
       "      <td>835.0</td>\n",
       "      <td>1.0</td>\n",
       "      <td>652.0</td>\n",
       "      <td>77.0</td>\n",
       "    </tr>\n",
       "    <tr>\n",
       "      <th>...</th>\n",
       "      <td>...</td>\n",
       "      <td>...</td>\n",
       "      <td>...</td>\n",
       "      <td>...</td>\n",
       "      <td>...</td>\n",
       "      <td>...</td>\n",
       "      <td>...</td>\n",
       "      <td>...</td>\n",
       "      <td>...</td>\n",
       "      <td>...</td>\n",
       "      <td>...</td>\n",
       "      <td>...</td>\n",
       "      <td>...</td>\n",
       "      <td>...</td>\n",
       "      <td>...</td>\n",
       "      <td>...</td>\n",
       "      <td>...</td>\n",
       "      <td>...</td>\n",
       "      <td>...</td>\n",
       "      <td>...</td>\n",
       "      <td>...</td>\n",
       "    </tr>\n",
       "    <tr>\n",
       "      <th>22542</th>\n",
       "      <td>8500000.0</td>\n",
       "      <td>63.5</td>\n",
       "      <td>2017-05-24T00:00:00</td>\n",
       "      <td>2</td>\n",
       "      <td>2.80</td>\n",
       "      <td>NaN</td>\n",
       "      <td>NaN</td>\n",
       "      <td>3</td>\n",
       "      <td>NaN</td>\n",
       "      <td>False</td>\n",
       "      <td>False</td>\n",
       "      <td>NaN</td>\n",
       "      <td>NaN</td>\n",
       "      <td>Санкт-Петербург</td>\n",
       "      <td>51340.0</td>\n",
       "      <td>15363.0</td>\n",
       "      <td>0.0</td>\n",
       "      <td>NaN</td>\n",
       "      <td>1.0</td>\n",
       "      <td>853.0</td>\n",
       "      <td>512.0</td>\n",
       "    </tr>\n",
       "    <tr>\n",
       "      <th>22656</th>\n",
       "      <td>4574160.0</td>\n",
       "      <td>64.5</td>\n",
       "      <td>2017-04-02T00:00:00</td>\n",
       "      <td>2</td>\n",
       "      <td>2.65</td>\n",
       "      <td>NaN</td>\n",
       "      <td>31.70</td>\n",
       "      <td>20</td>\n",
       "      <td>NaN</td>\n",
       "      <td>False</td>\n",
       "      <td>False</td>\n",
       "      <td>14.40</td>\n",
       "      <td>0.0</td>\n",
       "      <td>Санкт-Петербург</td>\n",
       "      <td>22041.0</td>\n",
       "      <td>17369.0</td>\n",
       "      <td>0.0</td>\n",
       "      <td>NaN</td>\n",
       "      <td>1.0</td>\n",
       "      <td>374.0</td>\n",
       "      <td>127.0</td>\n",
       "    </tr>\n",
       "    <tr>\n",
       "      <th>22808</th>\n",
       "      <td>14569263.0</td>\n",
       "      <td>110.4</td>\n",
       "      <td>2016-11-20T00:00:00</td>\n",
       "      <td>3</td>\n",
       "      <td>2.65</td>\n",
       "      <td>NaN</td>\n",
       "      <td>45.38</td>\n",
       "      <td>6</td>\n",
       "      <td>NaN</td>\n",
       "      <td>False</td>\n",
       "      <td>False</td>\n",
       "      <td>23.42</td>\n",
       "      <td>0.0</td>\n",
       "      <td>Санкт-Петербург</td>\n",
       "      <td>19095.0</td>\n",
       "      <td>4529.0</td>\n",
       "      <td>0.0</td>\n",
       "      <td>NaN</td>\n",
       "      <td>0.0</td>\n",
       "      <td>NaN</td>\n",
       "      <td>260.0</td>\n",
       "    </tr>\n",
       "    <tr>\n",
       "      <th>23590</th>\n",
       "      <td>21187872.0</td>\n",
       "      <td>123.3</td>\n",
       "      <td>2017-04-25T00:00:00</td>\n",
       "      <td>3</td>\n",
       "      <td>2.65</td>\n",
       "      <td>NaN</td>\n",
       "      <td>50.40</td>\n",
       "      <td>18</td>\n",
       "      <td>NaN</td>\n",
       "      <td>False</td>\n",
       "      <td>False</td>\n",
       "      <td>23.60</td>\n",
       "      <td>0.0</td>\n",
       "      <td>Санкт-Петербург</td>\n",
       "      <td>19095.0</td>\n",
       "      <td>4529.0</td>\n",
       "      <td>0.0</td>\n",
       "      <td>NaN</td>\n",
       "      <td>0.0</td>\n",
       "      <td>NaN</td>\n",
       "      <td>104.0</td>\n",
       "    </tr>\n",
       "    <tr>\n",
       "      <th>23658</th>\n",
       "      <td>3063600.0</td>\n",
       "      <td>43.8</td>\n",
       "      <td>2016-11-28T00:00:00</td>\n",
       "      <td>1</td>\n",
       "      <td>2.70</td>\n",
       "      <td>NaN</td>\n",
       "      <td>14.00</td>\n",
       "      <td>8</td>\n",
       "      <td>NaN</td>\n",
       "      <td>False</td>\n",
       "      <td>False</td>\n",
       "      <td>15.50</td>\n",
       "      <td>2.0</td>\n",
       "      <td>Санкт-Петербург</td>\n",
       "      <td>8426.0</td>\n",
       "      <td>12082.0</td>\n",
       "      <td>2.0</td>\n",
       "      <td>24.0</td>\n",
       "      <td>1.0</td>\n",
       "      <td>271.0</td>\n",
       "      <td>246.0</td>\n",
       "    </tr>\n",
       "  </tbody>\n",
       "</table>\n",
       "<p>86 rows × 21 columns</p>\n",
       "</div>"
      ],
      "text/plain": [
       "       last_price  total_area first_day_exposition  rooms  ceiling_height  \\\n",
       "186    11640000.0        65.2  2018-10-02T00:00:00      2            2.65   \n",
       "237     2438033.0        28.1  2016-11-23T00:00:00      1            2.65   \n",
       "457     9788348.0        70.8  2015-08-01T00:00:00      2            2.65   \n",
       "671     6051191.0        93.6  2017-04-06T00:00:00      3            2.65   \n",
       "1757    3600000.0        39.0  2017-04-22T00:00:00      1            2.65   \n",
       "...           ...         ...                  ...    ...             ...   \n",
       "22542   8500000.0        63.5  2017-05-24T00:00:00      2            2.80   \n",
       "22656   4574160.0        64.5  2017-04-02T00:00:00      2            2.65   \n",
       "22808  14569263.0       110.4  2016-11-20T00:00:00      3            2.65   \n",
       "23590  21187872.0       123.3  2017-04-25T00:00:00      3            2.65   \n",
       "23658   3063600.0        43.8  2016-11-28T00:00:00      1            2.70   \n",
       "\n",
       "       floors_total  living_area  floor is_apartment  studio  open_plan  \\\n",
       "186             NaN        30.80      4          NaN   False      False   \n",
       "237             NaN        20.75      1          NaN   False      False   \n",
       "457             NaN        38.40     12          NaN   False      False   \n",
       "671             NaN        47.10      8          NaN   False      False   \n",
       "1757            NaN          NaN      9          NaN   False      False   \n",
       "...             ...          ...    ...          ...     ...        ...   \n",
       "22542           NaN          NaN      3          NaN   False      False   \n",
       "22656           NaN        31.70     20          NaN   False      False   \n",
       "22808           NaN        45.38      6          NaN   False      False   \n",
       "23590           NaN        50.40     18          NaN   False      False   \n",
       "23658           NaN        14.00      8          NaN   False      False   \n",
       "\n",
       "       kitchen_area  balcony    locality_name  airports_nearest  \\\n",
       "186           12.00      NaN  Санкт-Петербург           39197.0   \n",
       "237             NaN      0.0  Санкт-Петербург           22041.0   \n",
       "457           10.63      0.0  Санкт-Петербург           37364.0   \n",
       "671           16.80      0.0  Санкт-Петербург           22041.0   \n",
       "1757            NaN      0.0  Санкт-Петербург           22735.0   \n",
       "...             ...      ...              ...               ...   \n",
       "22542           NaN      NaN  Санкт-Петербург           51340.0   \n",
       "22656         14.40      0.0  Санкт-Петербург           22041.0   \n",
       "22808         23.42      0.0  Санкт-Петербург           19095.0   \n",
       "23590         23.60      0.0  Санкт-Петербург           19095.0   \n",
       "23658         15.50      2.0  Санкт-Петербург            8426.0   \n",
       "\n",
       "       cityCenters_nearest  parks_around3000  parks_nearest  ponds_around3000  \\\n",
       "186                12373.0               1.0          123.0               0.0   \n",
       "237                17369.0               0.0            NaN               1.0   \n",
       "457                 8322.0               2.0          309.0               2.0   \n",
       "671                17369.0               0.0            NaN               1.0   \n",
       "1757               11618.0               1.0          835.0               1.0   \n",
       "...                    ...               ...            ...               ...   \n",
       "22542              15363.0               0.0            NaN               1.0   \n",
       "22656              17369.0               0.0            NaN               1.0   \n",
       "22808               4529.0               0.0            NaN               0.0   \n",
       "23590               4529.0               0.0            NaN               0.0   \n",
       "23658              12082.0               2.0           24.0               1.0   \n",
       "\n",
       "       ponds_nearest  days_exposition  \n",
       "186              NaN             49.0  \n",
       "237            374.0            251.0  \n",
       "457            706.0            727.0  \n",
       "671            374.0            123.0  \n",
       "1757           652.0             77.0  \n",
       "...              ...              ...  \n",
       "22542          853.0            512.0  \n",
       "22656          374.0            127.0  \n",
       "22808            NaN            260.0  \n",
       "23590            NaN            104.0  \n",
       "23658          271.0            246.0  \n",
       "\n",
       "[86 rows x 21 columns]"
      ]
     },
     "metadata": {},
     "output_type": "display_data"
    }
   ],
   "source": [
    "display(data[data['floors_total'].isnull()])"
   ]
  },
  {
   "cell_type": "markdown",
   "id": "99e32bd0",
   "metadata": {},
   "source": [
    "В представленной таблице данных значения в столбце floors_total пропущены 86 раз. При этом какая-либо взаимосвязь между квартирами не наблюдается. Скорее всего данные не представлены собственником. Обычно это происходит когда собственник стремится утаить информацию о том, что квартира находится на первом или последнем этаже. При этом в связи с развитием коммерческой недвижимости жилые помещения на первом этаже также могут быть востребованы. Так как имеется информация на каком этаже находится квартира то заменим значение в столбце floors_total на соответствующее значение из столбца floor."
   ]
  },
  {
   "cell_type": "code",
   "execution_count": 7,
   "id": "545e697b",
   "metadata": {},
   "outputs": [
    {
     "name": "stdout",
     "output_type": "stream",
     "text": [
      "<class 'pandas.core.series.Series'>\n",
      "Int64Index: 23699 entries, 0 to 23698\n",
      "Series name: floors_total\n",
      "Non-Null Count  Dtype  \n",
      "--------------  -----  \n",
      "23699 non-null  float64\n",
      "dtypes: float64(1)\n",
      "memory usage: 886.3 KB\n"
     ]
    },
    {
     "data": {
      "text/plain": [
       "None"
      ]
     },
     "metadata": {},
     "output_type": "display_data"
    }
   ],
   "source": [
    "data.loc[(data['floors_total'].isna()), 'floors_total'] = data['floor']\n",
    "display(data.floors_total.info())"
   ]
  },
  {
   "cell_type": "markdown",
   "id": "6b146c4f",
   "metadata": {},
   "source": [
    "Студия — это однокомнатная квартира без перегородок. Комната и кухня не разделены стеной, а находятся в одном пространстве. Т.е. площадь кухни входит в жилую площадь и нет смысла указывать ее отдельно. Проверим каким образом в базе данных отображены данные о площади кухни в квартире-студии."
   ]
  },
  {
   "cell_type": "code",
   "execution_count": 8,
   "id": "c9d088f8",
   "metadata": {},
   "outputs": [
    {
     "data": {
      "text/plain": [
       "True    149\n",
       "Name: studio, dtype: int64"
      ]
     },
     "metadata": {},
     "output_type": "display_data"
    },
    {
     "data": {
      "text/plain": [
       "True    149\n",
       "Name: studio, dtype: int64"
      ]
     },
     "metadata": {},
     "output_type": "display_data"
    }
   ],
   "source": [
    "display(data[data['studio'] == True]['studio'].value_counts(dropna=False))\n",
    "display(data[(data['studio'] == True) & (data['kitchen_area'].isnull())]['studio'].value_counts(dropna=False))"
   ]
  },
  {
   "cell_type": "markdown",
   "id": "da6037ac",
   "metadata": {},
   "source": [
    "Как видно в квартирах-студиях площадь кухни не указана. Для того, чтобы избежать возможных ошибок при дальнейших расчетах заменим пустые значения площадей кухонь студий на 0."
   ]
  },
  {
   "cell_type": "code",
   "execution_count": 9,
   "id": "55a2a478",
   "metadata": {},
   "outputs": [],
   "source": [
    "data.loc[(data['studio'] == True) & (data['kitchen_area'].isnull()), 'kitchen_area'] = 0"
   ]
  },
  {
   "cell_type": "code",
   "execution_count": 10,
   "id": "30423e99",
   "metadata": {},
   "outputs": [
    {
     "data": {
      "text/html": [
       "<div>\n",
       "<style scoped>\n",
       "    .dataframe tbody tr th:only-of-type {\n",
       "        vertical-align: middle;\n",
       "    }\n",
       "\n",
       "    .dataframe tbody tr th {\n",
       "        vertical-align: top;\n",
       "    }\n",
       "\n",
       "    .dataframe thead th {\n",
       "        text-align: right;\n",
       "    }\n",
       "</style>\n",
       "<table border=\"1\" class=\"dataframe\">\n",
       "  <thead>\n",
       "    <tr style=\"text-align: right;\">\n",
       "      <th></th>\n",
       "      <th>last_price</th>\n",
       "      <th>total_area</th>\n",
       "      <th>first_day_exposition</th>\n",
       "      <th>rooms</th>\n",
       "      <th>ceiling_height</th>\n",
       "      <th>floors_total</th>\n",
       "      <th>living_area</th>\n",
       "      <th>floor</th>\n",
       "      <th>is_apartment</th>\n",
       "      <th>studio</th>\n",
       "      <th>open_plan</th>\n",
       "      <th>kitchen_area</th>\n",
       "      <th>balcony</th>\n",
       "      <th>locality_name</th>\n",
       "      <th>airports_nearest</th>\n",
       "      <th>cityCenters_nearest</th>\n",
       "      <th>parks_around3000</th>\n",
       "      <th>parks_nearest</th>\n",
       "      <th>ponds_around3000</th>\n",
       "      <th>ponds_nearest</th>\n",
       "      <th>days_exposition</th>\n",
       "    </tr>\n",
       "  </thead>\n",
       "  <tbody>\n",
       "    <tr>\n",
       "      <th>3</th>\n",
       "      <td>64900000.0</td>\n",
       "      <td>159.0</td>\n",
       "      <td>2015-07-24T00:00:00</td>\n",
       "      <td>3</td>\n",
       "      <td>2.65</td>\n",
       "      <td>14.0</td>\n",
       "      <td>NaN</td>\n",
       "      <td>9</td>\n",
       "      <td>NaN</td>\n",
       "      <td>False</td>\n",
       "      <td>False</td>\n",
       "      <td>NaN</td>\n",
       "      <td>0.0</td>\n",
       "      <td>Санкт-Петербург</td>\n",
       "      <td>28098.0</td>\n",
       "      <td>6800.0</td>\n",
       "      <td>2.0</td>\n",
       "      <td>84.0</td>\n",
       "      <td>3.0</td>\n",
       "      <td>234.0</td>\n",
       "      <td>424.0</td>\n",
       "    </tr>\n",
       "    <tr>\n",
       "      <th>7</th>\n",
       "      <td>7915000.0</td>\n",
       "      <td>71.6</td>\n",
       "      <td>2019-04-18T00:00:00</td>\n",
       "      <td>2</td>\n",
       "      <td>2.65</td>\n",
       "      <td>24.0</td>\n",
       "      <td>NaN</td>\n",
       "      <td>22</td>\n",
       "      <td>NaN</td>\n",
       "      <td>False</td>\n",
       "      <td>False</td>\n",
       "      <td>18.9</td>\n",
       "      <td>2.0</td>\n",
       "      <td>Санкт-Петербург</td>\n",
       "      <td>23982.0</td>\n",
       "      <td>11634.0</td>\n",
       "      <td>0.0</td>\n",
       "      <td>NaN</td>\n",
       "      <td>0.0</td>\n",
       "      <td>NaN</td>\n",
       "      <td>NaN</td>\n",
       "    </tr>\n",
       "    <tr>\n",
       "      <th>30</th>\n",
       "      <td>2200000.0</td>\n",
       "      <td>32.8</td>\n",
       "      <td>2018-02-19T00:00:00</td>\n",
       "      <td>1</td>\n",
       "      <td>2.65</td>\n",
       "      <td>9.0</td>\n",
       "      <td>NaN</td>\n",
       "      <td>2</td>\n",
       "      <td>NaN</td>\n",
       "      <td>False</td>\n",
       "      <td>False</td>\n",
       "      <td>NaN</td>\n",
       "      <td>NaN</td>\n",
       "      <td>Коммунар</td>\n",
       "      <td>NaN</td>\n",
       "      <td>NaN</td>\n",
       "      <td>NaN</td>\n",
       "      <td>NaN</td>\n",
       "      <td>NaN</td>\n",
       "      <td>NaN</td>\n",
       "      <td>63.0</td>\n",
       "    </tr>\n",
       "    <tr>\n",
       "      <th>37</th>\n",
       "      <td>1990000.0</td>\n",
       "      <td>45.8</td>\n",
       "      <td>2017-10-28T00:00:00</td>\n",
       "      <td>2</td>\n",
       "      <td>2.50</td>\n",
       "      <td>5.0</td>\n",
       "      <td>NaN</td>\n",
       "      <td>1</td>\n",
       "      <td>NaN</td>\n",
       "      <td>False</td>\n",
       "      <td>False</td>\n",
       "      <td>NaN</td>\n",
       "      <td>NaN</td>\n",
       "      <td>поселок городского типа Красный Бор</td>\n",
       "      <td>NaN</td>\n",
       "      <td>NaN</td>\n",
       "      <td>NaN</td>\n",
       "      <td>NaN</td>\n",
       "      <td>NaN</td>\n",
       "      <td>NaN</td>\n",
       "      <td>196.0</td>\n",
       "    </tr>\n",
       "    <tr>\n",
       "      <th>44</th>\n",
       "      <td>5350000.0</td>\n",
       "      <td>40.0</td>\n",
       "      <td>2018-11-18T00:00:00</td>\n",
       "      <td>1</td>\n",
       "      <td>2.65</td>\n",
       "      <td>22.0</td>\n",
       "      <td>NaN</td>\n",
       "      <td>3</td>\n",
       "      <td>NaN</td>\n",
       "      <td>False</td>\n",
       "      <td>False</td>\n",
       "      <td>NaN</td>\n",
       "      <td>1.0</td>\n",
       "      <td>Санкт-Петербург</td>\n",
       "      <td>30471.0</td>\n",
       "      <td>11603.0</td>\n",
       "      <td>1.0</td>\n",
       "      <td>620.0</td>\n",
       "      <td>1.0</td>\n",
       "      <td>1152.0</td>\n",
       "      <td>NaN</td>\n",
       "    </tr>\n",
       "  </tbody>\n",
       "</table>\n",
       "</div>"
      ],
      "text/plain": [
       "    last_price  total_area first_day_exposition  rooms  ceiling_height  \\\n",
       "3   64900000.0       159.0  2015-07-24T00:00:00      3            2.65   \n",
       "7    7915000.0        71.6  2019-04-18T00:00:00      2            2.65   \n",
       "30   2200000.0        32.8  2018-02-19T00:00:00      1            2.65   \n",
       "37   1990000.0        45.8  2017-10-28T00:00:00      2            2.50   \n",
       "44   5350000.0        40.0  2018-11-18T00:00:00      1            2.65   \n",
       "\n",
       "    floors_total  living_area  floor is_apartment  studio  open_plan  \\\n",
       "3           14.0          NaN      9          NaN   False      False   \n",
       "7           24.0          NaN     22          NaN   False      False   \n",
       "30           9.0          NaN      2          NaN   False      False   \n",
       "37           5.0          NaN      1          NaN   False      False   \n",
       "44          22.0          NaN      3          NaN   False      False   \n",
       "\n",
       "    kitchen_area  balcony                        locality_name  \\\n",
       "3            NaN      0.0                      Санкт-Петербург   \n",
       "7           18.9      2.0                      Санкт-Петербург   \n",
       "30           NaN      NaN                             Коммунар   \n",
       "37           NaN      NaN  поселок городского типа Красный Бор   \n",
       "44           NaN      1.0                      Санкт-Петербург   \n",
       "\n",
       "    airports_nearest  cityCenters_nearest  parks_around3000  parks_nearest  \\\n",
       "3            28098.0               6800.0               2.0           84.0   \n",
       "7            23982.0              11634.0               0.0            NaN   \n",
       "30               NaN                  NaN               NaN            NaN   \n",
       "37               NaN                  NaN               NaN            NaN   \n",
       "44           30471.0              11603.0               1.0          620.0   \n",
       "\n",
       "    ponds_around3000  ponds_nearest  days_exposition  \n",
       "3                3.0          234.0            424.0  \n",
       "7                0.0            NaN              NaN  \n",
       "30               NaN            NaN             63.0  \n",
       "37               NaN            NaN            196.0  \n",
       "44               1.0         1152.0              NaN  "
      ]
     },
     "metadata": {},
     "output_type": "display_data"
    }
   ],
   "source": [
    "display(data[data['living_area'].isnull()].head())"
   ]
  },
  {
   "cell_type": "markdown",
   "id": "262a9dde",
   "metadata": {},
   "source": [
    "Для заполнения пропусков значений жилой площади и площади кухни исходим из того, что квартиры имеют обычно схожие параменты соотношения указанных площадей к общей площади квартиры. Отдельно сделаем расчет соотношения по типовым квартирам и квартирам студиям, применим медиану."
   ]
  },
  {
   "cell_type": "code",
   "execution_count": 11,
   "id": "3a211fd4",
   "metadata": {},
   "outputs": [
    {
     "data": {
      "text/plain": [
       "0.17"
      ]
     },
     "metadata": {},
     "output_type": "display_data"
    },
    {
     "data": {
      "text/plain": [
       "last_price                        2200000.0\n",
       "total_area                             32.8\n",
       "first_day_exposition    2018-02-19T00:00:00\n",
       "rooms                                     1\n",
       "ceiling_height                         2.65\n",
       "floors_total                            9.0\n",
       "living_area                             NaN\n",
       "floor                                     2\n",
       "is_apartment                            NaN\n",
       "studio                                False\n",
       "open_plan                             False\n",
       "kitchen_area                           5.58\n",
       "balcony                                 NaN\n",
       "locality_name                      Коммунар\n",
       "airports_nearest                        NaN\n",
       "cityCenters_nearest                     NaN\n",
       "parks_around3000                        NaN\n",
       "parks_nearest                           NaN\n",
       "ponds_around3000                        NaN\n",
       "ponds_nearest                           NaN\n",
       "days_exposition                        63.0\n",
       "Name: 30, dtype: object"
      ]
     },
     "metadata": {},
     "output_type": "display_data"
    }
   ],
   "source": [
    "proportion_kitchen = pd.DataFrame()\n",
    "proportion_kitchen['ratio'] = data.loc[(data['studio'] == False), 'kitchen_area'] /  data.loc[(data['studio'] == False), 'total_area']\n",
    "display(round(proportion_kitchen.ratio.median(),2))\n",
    "\n",
    "data.loc[(data['kitchen_area'].isnull()) & (data['studio'] == False), 'kitchen_area'] \\\n",
    "    = round(data.loc[(data['kitchen_area'].isnull()) & (data['studio'] == False), 'total_area'] \\\n",
    "    * (round(proportion_kitchen.ratio.median(),2)), 2)\n",
    "display(data.iloc[30])"
   ]
  },
  {
   "cell_type": "code",
   "execution_count": 12,
   "id": "c6536207",
   "metadata": {},
   "outputs": [
    {
     "data": {
      "text/plain": [
       "1.76"
      ]
     },
     "metadata": {},
     "output_type": "display_data"
    },
    {
     "data": {
      "text/plain": [
       "last_price                        2200000.0\n",
       "total_area                             32.8\n",
       "first_day_exposition    2018-02-19T00:00:00\n",
       "rooms                                     1\n",
       "ceiling_height                         2.65\n",
       "floors_total                            9.0\n",
       "living_area                           18.64\n",
       "floor                                     2\n",
       "is_apartment                            NaN\n",
       "studio                                False\n",
       "open_plan                             False\n",
       "kitchen_area                           5.58\n",
       "balcony                                 NaN\n",
       "locality_name                      Коммунар\n",
       "airports_nearest                        NaN\n",
       "cityCenters_nearest                     NaN\n",
       "parks_around3000                        NaN\n",
       "parks_nearest                           NaN\n",
       "ponds_around3000                        NaN\n",
       "ponds_nearest                           NaN\n",
       "days_exposition                        63.0\n",
       "Name: 30, dtype: object"
      ]
     },
     "metadata": {},
     "output_type": "display_data"
    }
   ],
   "source": [
    "proportion_living_area = pd.DataFrame()\n",
    "proportion_living_area['ratio'] = data.loc[(data['studio'] == False), 'total_area'] /  data.loc[(data['studio'] == False), 'living_area']\n",
    "display(round(proportion_living_area.ratio.median(), 2))\n",
    "\n",
    "data.loc[(data['living_area'].isnull()) & (data['studio'] == False), 'living_area'] \\\n",
    "    = round(data.loc[(data['living_area'].isnull()) & (data['studio'] == False), 'total_area'] \\\n",
    "    / (round(proportion_living_area.ratio.median(), 2)), 2)\n",
    "display(data.iloc[30])"
   ]
  },
  {
   "cell_type": "code",
   "execution_count": 13,
   "id": "1657b624",
   "metadata": {},
   "outputs": [
    {
     "data": {
      "text/plain": [
       "1.45"
      ]
     },
     "metadata": {},
     "output_type": "display_data"
    },
    {
     "data": {
      "text/plain": [
       "last_price                        1850000.0\n",
       "total_area                             25.0\n",
       "first_day_exposition    2019-02-20T00:00:00\n",
       "rooms                                     0\n",
       "ceiling_height                         2.65\n",
       "floors_total                           10.0\n",
       "living_area                           17.24\n",
       "floor                                     7\n",
       "is_apartment                            NaN\n",
       "studio                                 True\n",
       "open_plan                             False\n",
       "kitchen_area                            0.0\n",
       "balcony                                 NaN\n",
       "locality_name                посёлок Шушары\n",
       "airports_nearest                        NaN\n",
       "cityCenters_nearest                     NaN\n",
       "parks_around3000                        NaN\n",
       "parks_nearest                           NaN\n",
       "ponds_around3000                        NaN\n",
       "ponds_nearest                           NaN\n",
       "days_exposition                        29.0\n",
       "Name: 608, dtype: object"
      ]
     },
     "metadata": {},
     "output_type": "display_data"
    }
   ],
   "source": [
    "proportion_studio = pd.DataFrame()\n",
    "proportion_studio['ratio'] = data.loc[(data['studio'] == True), 'total_area'] /  data.loc[(data['studio'] == True), 'living_area']\n",
    "display(round(proportion_studio.ratio.median(),2))\n",
    "\n",
    "data.loc[(data['living_area'].isnull()) & (data['studio'] == True), 'living_area'] \\\n",
    "    = round(data.loc[(data['living_area'].isnull()) & (data['studio'] == True), 'total_area'] \\\n",
    "    / (round(proportion_studio.ratio.median(),2)), 2)\n",
    "display(data.iloc[608])"
   ]
  },
  {
   "cell_type": "code",
   "execution_count": 14,
   "id": "b360c031",
   "metadata": {},
   "outputs": [
    {
     "data": {
      "text/plain": [
       "last_price                  0\n",
       "total_area                  0\n",
       "first_day_exposition        0\n",
       "rooms                       0\n",
       "ceiling_height              0\n",
       "floors_total                0\n",
       "living_area                 0\n",
       "floor                       0\n",
       "is_apartment            20924\n",
       "studio                      0\n",
       "open_plan                   0\n",
       "kitchen_area                0\n",
       "balcony                 11519\n",
       "locality_name              49\n",
       "airports_nearest         5542\n",
       "cityCenters_nearest      5519\n",
       "parks_around3000         5518\n",
       "parks_nearest           15620\n",
       "ponds_around3000         5518\n",
       "ponds_nearest           14589\n",
       "days_exposition          3181\n",
       "dtype: int64"
      ]
     },
     "metadata": {},
     "output_type": "display_data"
    }
   ],
   "source": [
    "display(data.isnull().sum())"
   ]
  },
  {
   "cell_type": "markdown",
   "id": "7f990d11",
   "metadata": {},
   "source": [
    "Проверка, в том числе выборочная строк, в которых имелись пропуски значений жилой площади и площади кухни, показывает что пропущенные значения заполнены. Результаты выглядят реалистично."
   ]
  },
  {
   "cell_type": "markdown",
   "id": "e5b237b1",
   "metadata": {},
   "source": [
    "Заменим пропущенные значения в столбце is_apartment. Указанный столбце имеет значения: True, False и NaN."
   ]
  },
  {
   "cell_type": "code",
   "execution_count": 15,
   "id": "9305c793",
   "metadata": {},
   "outputs": [
    {
     "data": {
      "text/plain": [
       "NaN      20924\n",
       "False     2725\n",
       "True        50\n",
       "Name: is_apartment, dtype: int64"
      ]
     },
     "metadata": {},
     "output_type": "display_data"
    }
   ],
   "source": [
    "display(data.is_apartment.value_counts(dropna=False))"
   ]
  },
  {
   "cell_type": "markdown",
   "id": "bf27db0e",
   "metadata": {},
   "source": [
    "Большинство непропущенных данных принимает значение False, что означает помещение не является апартаментами. Так как данная информация была предоставлена пользовательм и является существенной только если данное помещение является апартаментами. Т.е. если продается обычное жилое помещение, то для собственника естественно не указать в объявление информацию о том, что помещение не является апартаментами. Исходя из изложенного заменим пустые значения на False."
   ]
  },
  {
   "cell_type": "code",
   "execution_count": 16,
   "id": "1affd200",
   "metadata": {},
   "outputs": [
    {
     "data": {
      "text/plain": [
       "False    23649\n",
       "True        50\n",
       "Name: is_apartment, dtype: int64"
      ]
     },
     "metadata": {},
     "output_type": "display_data"
    },
    {
     "name": "stdout",
     "output_type": "stream",
     "text": [
      "<class 'pandas.core.series.Series'>\n",
      "Int64Index: 23699 entries, 0 to 23698\n",
      "Series name: is_apartment\n",
      "Non-Null Count  Dtype \n",
      "--------------  ----- \n",
      "23699 non-null  object\n",
      "dtypes: object(1)\n",
      "memory usage: 886.3+ KB\n"
     ]
    },
    {
     "data": {
      "text/plain": [
       "None"
      ]
     },
     "metadata": {},
     "output_type": "display_data"
    }
   ],
   "source": [
    "data.loc[(data['is_apartment'].isna()), 'is_apartment'] = False\n",
    "display(data.is_apartment.value_counts(dropna=False))\n",
    "display(data.is_apartment.info())"
   ]
  },
  {
   "cell_type": "markdown",
   "id": "d72ac81b",
   "metadata": {},
   "source": [
    "Заменим пропущенные значения в столбце balcony на 0, так как скорее всего собственником не указана в объявлении такая информация из-за отсутствия балкона: в объявлении обычно указывается информация способствующая продаже и наоборот информация, которая может иметь негативный оттенок - не указывается."
   ]
  },
  {
   "cell_type": "code",
   "execution_count": 17,
   "id": "78b8401b",
   "metadata": {},
   "outputs": [
    {
     "data": {
      "text/plain": [
       "0.0    15277\n",
       "1.0     4195\n",
       "2.0     3659\n",
       "5.0      304\n",
       "4.0      183\n",
       "3.0       81\n",
       "Name: balcony, dtype: int64"
      ]
     },
     "metadata": {},
     "output_type": "display_data"
    }
   ],
   "source": [
    "data.loc[(data['balcony'].isna()), 'balcony'] = 0\n",
    "display(data.balcony.value_counts(dropna=False))"
   ]
  },
  {
   "cell_type": "code",
   "execution_count": 18,
   "id": "988afed9",
   "metadata": {},
   "outputs": [
    {
     "name": "stdout",
     "output_type": "stream",
     "text": [
      "<class 'pandas.core.frame.DataFrame'>\n",
      "Int64Index: 24 entries, 42 to 23549\n",
      "Data columns (total 21 columns):\n",
      " #   Column                Non-Null Count  Dtype  \n",
      "---  ------                --------------  -----  \n",
      " 0   last_price            24 non-null     float64\n",
      " 1   total_area            24 non-null     float64\n",
      " 2   first_day_exposition  24 non-null     object \n",
      " 3   rooms                 24 non-null     int64  \n",
      " 4   ceiling_height        24 non-null     float64\n",
      " 5   floors_total          24 non-null     float64\n",
      " 6   living_area           24 non-null     float64\n",
      " 7   floor                 24 non-null     int64  \n",
      " 8   is_apartment          24 non-null     object \n",
      " 9   studio                24 non-null     bool   \n",
      " 10  open_plan             24 non-null     bool   \n",
      " 11  kitchen_area          24 non-null     float64\n",
      " 12  balcony               24 non-null     float64\n",
      " 13  locality_name         24 non-null     object \n",
      " 14  airports_nearest      21 non-null     float64\n",
      " 15  cityCenters_nearest   21 non-null     float64\n",
      " 16  parks_around3000      21 non-null     float64\n",
      " 17  parks_nearest         14 non-null     float64\n",
      " 18  ponds_around3000      21 non-null     float64\n",
      " 19  ponds_nearest         13 non-null     float64\n",
      " 20  days_exposition       18 non-null     float64\n",
      "dtypes: bool(2), float64(14), int64(2), object(3)\n",
      "memory usage: 3.8+ KB\n"
     ]
    }
   ],
   "source": [
    "data[(data['balcony'] >= 3) & (data['total_area'] > 150)].info()"
   ]
  },
  {
   "cell_type": "markdown",
   "id": "4c33ff89",
   "metadata": {},
   "source": [
    "Наличие более 2 балконов в типовой квартире маловероятно. При этом в теории большее количестов балконов можно допустить в квартирах площадью > 150 кв.м. (например, если такая квартира имеет несколько уровней). Причиной по которой возникла такая аномалия может быть простая описка, а также если собственник или продавец квартиры посчитал одну или две большие лоджии как несколько балконов. Считаю целесообразным заменить значения не подподающие под указанные критерии на максимально допустимое."
   ]
  },
  {
   "cell_type": "code",
   "execution_count": 19,
   "id": "9f56ff00",
   "metadata": {},
   "outputs": [
    {
     "data": {
      "text/plain": [
       "0.0    15277\n",
       "2.0     4203\n",
       "1.0     4195\n",
       "5.0       12\n",
       "4.0        8\n",
       "3.0        4\n",
       "Name: balcony, dtype: int64"
      ]
     },
     "metadata": {},
     "output_type": "display_data"
    }
   ],
   "source": [
    "data.loc[(data['balcony'] >= 3) & (data['total_area'] <= 150), 'balcony'] = 2\n",
    "display(data.balcony.value_counts(dropna=False))"
   ]
  },
  {
   "cell_type": "markdown",
   "id": "713767b0",
   "metadata": {},
   "source": [
    "<div style=\"border:solid green 2px; padding: 20px\"> <h1 style=\"color:green; margin-bottom:20px\">Комментарий </h1>\n",
    "Также болконов может быть больше, если несколько квартир объеденены водну. Правильно сделал, что учел площадь квартиры.\n",
    "<br> В таких случаях лучше сортировать от нуля до пяти.\n",
    "</div>"
   ]
  },
  {
   "cell_type": "markdown",
   "id": "e565212a",
   "metadata": {},
   "source": [
    "Посмотрим количество пропущенных значений в столбце locality_name."
   ]
  },
  {
   "cell_type": "code",
   "execution_count": 20,
   "id": "fecdd71e",
   "metadata": {},
   "outputs": [
    {
     "data": {
      "text/plain": [
       "49"
      ]
     },
     "metadata": {},
     "output_type": "display_data"
    }
   ],
   "source": [
    "display(data['locality_name'].isna().sum())"
   ]
  },
  {
   "cell_type": "markdown",
   "id": "ac7d3d50",
   "metadata": {},
   "source": [
    "Пропущенных значений меньше 1% от всего количества значений. Так как более или менее достоверно восстановить пропущенные значения в рамках исследования не возможно, то целесообразно такие значения удалить."
   ]
  },
  {
   "cell_type": "code",
   "execution_count": 21,
   "id": "2c1cf922",
   "metadata": {},
   "outputs": [
    {
     "data": {
      "text/plain": [
       "0"
      ]
     },
     "metadata": {},
     "output_type": "display_data"
    }
   ],
   "source": [
    "data.dropna(subset=['locality_name'], inplace=True)\n",
    "display(data['locality_name'].isna().sum())"
   ]
  },
  {
   "cell_type": "markdown",
   "id": "1050e9c0",
   "metadata": {},
   "source": [
    "Рассмотрим уникальные значения в столбце locality_name."
   ]
  },
  {
   "cell_type": "code",
   "execution_count": 22,
   "id": "fa77abbc",
   "metadata": {},
   "outputs": [
    {
     "data": {
      "text/plain": [
       "array(['Санкт-Петербург', 'посёлок Шушары', 'городской посёлок Янино-1',\n",
       "       'посёлок Парголово', 'посёлок Мурино', 'Ломоносов', 'Сертолово',\n",
       "       'Петергоф', 'Пушкин', 'деревня Кудрово', 'Коммунар', 'Колпино',\n",
       "       'поселок городского типа Красный Бор', 'Гатчина', 'поселок Мурино',\n",
       "       'деревня Фёдоровское', 'Выборг', 'Кронштадт', 'Кировск',\n",
       "       'деревня Новое Девяткино', 'посёлок Металлострой',\n",
       "       'посёлок городского типа Лебяжье',\n",
       "       'посёлок городского типа Сиверский', 'поселок Молодцово',\n",
       "       'поселок городского типа Кузьмоловский',\n",
       "       'садовое товарищество Новая Ропша', 'Павловск',\n",
       "       'деревня Пикколово', 'Всеволожск', 'Волхов', 'Кингисепп',\n",
       "       'Приозерск', 'Сестрорецк', 'деревня Куттузи', 'посёлок Аннино',\n",
       "       'поселок городского типа Ефимовский', 'посёлок Плодовое',\n",
       "       'деревня Заклинье', 'поселок Торковичи', 'поселок Первомайское',\n",
       "       'Красное Село', 'посёлок Понтонный', 'Сясьстрой', 'деревня Старая',\n",
       "       'деревня Лесколово', 'посёлок Новый Свет', 'Сланцы',\n",
       "       'село Путилово', 'Ивангород', 'Мурино', 'Шлиссельбург',\n",
       "       'Никольское', 'Зеленогорск', 'Сосновый Бор', 'поселок Новый Свет',\n",
       "       'деревня Оржицы', 'деревня Кальтино', 'Кудрово',\n",
       "       'поселок Романовка', 'посёлок Бугры', 'поселок Бугры',\n",
       "       'поселок городского типа Рощино', 'Кириши', 'Луга', 'Волосово',\n",
       "       'Отрадное', 'село Павлово', 'поселок Оредеж', 'село Копорье',\n",
       "       'посёлок городского типа Красный Бор', 'посёлок Молодёжное',\n",
       "       'Тихвин', 'посёлок Победа', 'деревня Нурма',\n",
       "       'поселок городского типа Синявино', 'Тосно',\n",
       "       'посёлок городского типа Кузьмоловский', 'посёлок Стрельна',\n",
       "       'Бокситогорск', 'посёлок Александровская', 'деревня Лопухинка',\n",
       "       'Пикалёво', 'поселок Терволово',\n",
       "       'поселок городского типа Советский', 'Подпорожье',\n",
       "       'посёлок Петровское', 'посёлок городского типа Токсово',\n",
       "       'поселок Сельцо', 'посёлок городского типа Вырица',\n",
       "       'деревня Кипень', 'деревня Келози', 'деревня Вартемяги',\n",
       "       'посёлок Тельмана', 'поселок Севастьяново',\n",
       "       'городской поселок Большая Ижора', 'городской посёлок Павлово',\n",
       "       'деревня Агалатово', 'посёлок Новогорелово',\n",
       "       'городской посёлок Лесогорский', 'деревня Лаголово',\n",
       "       'поселок Цвелодубово', 'поселок городского типа Рахья',\n",
       "       'поселок городского типа Вырица', 'деревня Белогорка',\n",
       "       'поселок Заводской', 'городской посёлок Новоселье',\n",
       "       'деревня Большие Колпаны', 'деревня Горбунки', 'деревня Батово',\n",
       "       'деревня Заневка', 'деревня Иссад', 'Приморск',\n",
       "       'городской посёлок Фёдоровское', 'деревня Мистолово',\n",
       "       'Новая Ладога', 'поселок Зимитицы', 'поселок Барышево',\n",
       "       'деревня Разметелево', 'поселок городского типа имени Свердлова',\n",
       "       'деревня Пеники', 'поселок Рябово', 'деревня Пудомяги',\n",
       "       'поселок станции Корнево', 'деревня Низино', 'деревня Бегуницы',\n",
       "       'посёлок Поляны', 'городской посёлок Мга', 'поселок Елизаветино',\n",
       "       'посёлок городского типа Кузнечное', 'деревня Колтуши',\n",
       "       'поселок Запорожское', 'посёлок городского типа Рощино',\n",
       "       'деревня Гостилицы', 'деревня Малое Карлино',\n",
       "       'посёлок Мичуринское', 'посёлок городского типа имени Морозова',\n",
       "       'посёлок Песочный', 'посёлок Сосново', 'деревня Аро',\n",
       "       'поселок Ильичёво', 'посёлок городского типа Тайцы',\n",
       "       'деревня Малое Верево', 'деревня Извара', 'поселок станции Вещево',\n",
       "       'село Паша', 'деревня Калитино',\n",
       "       'посёлок городского типа Ульяновка', 'деревня Чудской Бор',\n",
       "       'поселок городского типа Дубровка', 'деревня Мины',\n",
       "       'поселок Войсковицы', 'посёлок городского типа имени Свердлова',\n",
       "       'деревня Коркино', 'посёлок Ропша',\n",
       "       'поселок городского типа Приладожский', 'посёлок Щеглово',\n",
       "       'посёлок Гаврилово', 'Лодейное Поле', 'деревня Рабитицы',\n",
       "       'поселок городского типа Никольский', 'деревня Кузьмолово',\n",
       "       'деревня Малые Колпаны', 'поселок Тельмана',\n",
       "       'посёлок Петро-Славянка', 'городской посёлок Назия',\n",
       "       'посёлок Репино', 'посёлок Ильичёво', 'поселок Углово',\n",
       "       'поселок Старая Малукса', 'садовое товарищество Рахья',\n",
       "       'поселок Аннино', 'поселок Победа', 'деревня Меньково',\n",
       "       'деревня Старые Бегуницы', 'посёлок Сапёрный', 'поселок Семрино',\n",
       "       'поселок Гаврилово', 'поселок Глажево', 'поселок Кобринское',\n",
       "       'деревня Гарболово', 'деревня Юкки',\n",
       "       'поселок станции Приветнинское', 'деревня Мануйлово',\n",
       "       'деревня Пчева', 'поселок Поляны', 'поселок Цвылёво',\n",
       "       'поселок Мельниково', 'посёлок Пудость', 'посёлок Усть-Луга',\n",
       "       'Светогорск', 'Любань', 'поселок Селезнёво',\n",
       "       'поселок городского типа Рябово', 'Каменногорск', 'деревня Кривко',\n",
       "       'поселок Глебычево', 'деревня Парицы', 'поселок Жилпосёлок',\n",
       "       'посёлок городского типа Мга', 'городской поселок Янино-1',\n",
       "       'посёлок Войскорово', 'село Никольское', 'посёлок Терволово',\n",
       "       'поселок Стеклянный', 'посёлок городского типа Важины',\n",
       "       'посёлок Мыза-Ивановка', 'село Русско-Высоцкое',\n",
       "       'поселок городского типа Лебяжье',\n",
       "       'поселок городского типа Форносово', 'село Старая Ладога',\n",
       "       'поселок Житково', 'городской посёлок Виллози', 'деревня Лампово',\n",
       "       'деревня Шпаньково', 'деревня Лаврики', 'посёлок Сумино',\n",
       "       'посёлок Возрождение', 'деревня Старосиверская',\n",
       "       'посёлок Кикерино', 'поселок Возрождение',\n",
       "       'деревня Старое Хинколово', 'посёлок Пригородный',\n",
       "       'посёлок Торфяное', 'городской посёлок Будогощь',\n",
       "       'поселок Суходолье', 'поселок Красная Долина', 'деревня Хапо-Ое',\n",
       "       'поселок городского типа Дружная Горка', 'поселок Лисий Нос',\n",
       "       'деревня Яльгелево', 'посёлок Стеклянный', 'село Рождествено',\n",
       "       'деревня Старополье', 'посёлок Левашово', 'деревня Сяськелево',\n",
       "       'деревня Камышовка',\n",
       "       'садоводческое некоммерческое товарищество Лесная Поляна',\n",
       "       'деревня Хязельки', 'поселок Жилгородок',\n",
       "       'посёлок городского типа Павлово', 'деревня Ялгино',\n",
       "       'поселок Новый Учхоз', 'городской посёлок Рощино',\n",
       "       'поселок Гончарово', 'поселок Почап', 'посёлок Сапёрное',\n",
       "       'посёлок Платформа 69-й километр', 'поселок Каложицы',\n",
       "       'деревня Фалилеево', 'деревня Пельгора',\n",
       "       'поселок городского типа Лесогорский', 'деревня Торошковичи',\n",
       "       'посёлок Белоостров', 'посёлок Алексеевка', 'поселок Серебрянский',\n",
       "       'поселок Лукаши', 'поселок Петровское', 'деревня Щеглово',\n",
       "       'поселок Мичуринское', 'деревня Тарасово', 'поселок Кингисеппский',\n",
       "       'посёлок при железнодорожной станции Вещево', 'поселок Ушаки',\n",
       "       'деревня Котлы', 'деревня Сижно', 'деревня Торосово',\n",
       "       'посёлок Форт Красная Горка', 'поселок городского типа Токсово',\n",
       "       'деревня Новолисино', 'посёлок станции Громово', 'деревня Глинка',\n",
       "       'посёлок Мельниково', 'поселок городского типа Назия',\n",
       "       'деревня Старая Пустошь', 'поселок Коммунары', 'поселок Починок',\n",
       "       'посёлок городского типа Вознесенье', 'деревня Разбегаево',\n",
       "       'посёлок городского типа Рябово', 'поселок Гладкое',\n",
       "       'посёлок при железнодорожной станции Приветнинское',\n",
       "       'поселок Тёсово-4', 'посёлок Жилгородок', 'деревня Бор',\n",
       "       'посёлок Коробицыно', 'деревня Большая Вруда', 'деревня Курковицы',\n",
       "       'посёлок Лисий Нос', 'городской посёлок Советский',\n",
       "       'посёлок Кобралово', 'деревня Суоранда', 'поселок Кобралово',\n",
       "       'поселок городского типа Кондратьево',\n",
       "       'коттеджный поселок Счастье', 'поселок Любань', 'деревня Реброво',\n",
       "       'деревня Зимитицы', 'деревня Тойворово', 'поселок Семиозерье',\n",
       "       'поселок Лесное', 'поселок Совхозный', 'поселок Усть-Луга',\n",
       "       'посёлок Ленинское', 'посёлок Суйда',\n",
       "       'посёлок городского типа Форносово', 'деревня Нижние Осельки',\n",
       "       'посёлок станции Свирь', 'поселок Перово', 'Высоцк',\n",
       "       'поселок Гарболово', 'село Шум', 'поселок Котельский',\n",
       "       'поселок станции Лужайка', 'деревня Большая Пустомержа',\n",
       "       'поселок Красносельское', 'деревня Вахнова Кара', 'деревня Пижма',\n",
       "       'коттеджный поселок Кивеннапа Север', 'поселок Коробицыно',\n",
       "       'поселок Ромашки', 'посёлок Перово', 'деревня Каськово',\n",
       "       'деревня Куровицы', 'посёлок Плоское', 'поселок Сумино',\n",
       "       'поселок городского типа Большая Ижора', 'поселок Кирпичное',\n",
       "       'деревня Ям-Тесово', 'деревня Раздолье', 'деревня Терпилицы',\n",
       "       'посёлок Шугозеро', 'деревня Ваганово', 'поселок Пушное',\n",
       "       'садовое товарищество Садко', 'посёлок Усть-Ижора',\n",
       "       'деревня Выскатка', 'городской посёлок Свирьстрой',\n",
       "       'поселок Громово', 'деревня Кисельня', 'посёлок Старая Малукса',\n",
       "       'деревня Трубников Бор', 'поселок Калитино',\n",
       "       'посёлок Высокоключевой', 'садовое товарищество Приладожский',\n",
       "       'посёлок Пансионат Зелёный Бор', 'деревня Ненимяки',\n",
       "       'поселок Пансионат Зелёный Бор', 'деревня Снегирёвка',\n",
       "       'деревня Рапполово', 'деревня Пустынка', 'поселок Рабитицы',\n",
       "       'деревня Большой Сабск', 'деревня Русско', 'деревня Лупполово',\n",
       "       'деревня Большое Рейзино', 'деревня Малая Романовка',\n",
       "       'поселок Дружноселье', 'поселок Пчевжа', 'поселок Володарское',\n",
       "       'деревня Нижняя', 'коттеджный посёлок Лесное', 'деревня Тихковицы',\n",
       "       'деревня Борисова Грива', 'посёлок Дзержинского'], dtype=object)"
      ]
     },
     "metadata": {},
     "output_type": "display_data"
    }
   ],
   "source": [
    "display(data.locality_name.unique())"
   ]
  },
  {
   "cell_type": "markdown",
   "id": "7de6a07e",
   "metadata": {},
   "source": [
    "Можно заметить разное написание слова поселок, посёлок и коттеджный посёлок, поселок станции и посёлок при железнодорожной станции. Думаю будет целесообразным удалить из названия тип населенного пункта."
   ]
  },
  {
   "cell_type": "code",
   "execution_count": 23,
   "id": "27ceb805",
   "metadata": {},
   "outputs": [
    {
     "data": {
      "text/plain": [
       "13679               поселок Лесное\n",
       "20687               поселок Лесное\n",
       "23048    коттеджный посёлок Лесное\n",
       "Name: locality_name, dtype: object"
      ]
     },
     "metadata": {},
     "output_type": "display_data"
    }
   ],
   "source": [
    "display(data[data['locality_name'].str.contains('Лесное') == True]['locality_name'])"
   ]
  },
  {
   "cell_type": "code",
   "execution_count": 24,
   "id": "4b7faa44",
   "metadata": {},
   "outputs": [
    {
     "data": {
      "text/plain": [
       "3891             Любань\n",
       "5633             Любань\n",
       "8832             Любань\n",
       "12925    поселок Любань\n",
       "14487    поселок Любань\n",
       "18035            Любань\n",
       "20419            Любань\n",
       "21176            Любань\n",
       "21181            Любань\n",
       "21765            Любань\n",
       "23391    поселок Любань\n",
       "Name: locality_name, dtype: object"
      ]
     },
     "metadata": {},
     "output_type": "display_data"
    }
   ],
   "source": [
    "display(data[data['locality_name'].str.contains('Любань') == True]['locality_name'])"
   ]
  },
  {
   "cell_type": "code",
   "execution_count": 25,
   "id": "8c270467",
   "metadata": {},
   "outputs": [
    {
     "data": {
      "text/plain": [
       "1982                         поселок станции Вещево\n",
       "5300                         поселок станции Вещево\n",
       "9512     посёлок при железнодорожной станции Вещево\n",
       "22925                        поселок станции Вещево\n",
       "22952                        поселок станции Вещево\n",
       "Name: locality_name, dtype: object"
      ]
     },
     "metadata": {},
     "output_type": "display_data"
    }
   ],
   "source": [
    "display(data[data['locality_name'].str.contains('Вещево') == True]['locality_name'])"
   ]
  },
  {
   "cell_type": "code",
   "execution_count": 26,
   "id": "58be4881",
   "metadata": {},
   "outputs": [
    {
     "data": {
      "text/plain": [
       "array(['Санкт-Петербург', 'Шушары', 'Янино-1', 'Парголово', 'Мурино',\n",
       "       'Ломоносов', 'Сертолово', 'Петергоф', 'Пушкин', 'Кудрово',\n",
       "       'Коммунар', 'Колпино', 'Красный Бор', 'Гатчина', 'Фёдоровское',\n",
       "       'Выборг', 'Кронштадт', 'Кировск', 'Новое Девяткино',\n",
       "       'Металлострой', 'Лебяжье', 'Сиверский', 'Молодцово',\n",
       "       'Кузьмоловский', 'Новая Ропша', 'Павловск', 'Пикколово',\n",
       "       'Всеволожск', 'Волхов', 'Кингисепп', 'Приозерск', 'Сестрорецк',\n",
       "       'Куттузи', 'Аннино', 'Ефимовский', 'Плодовое', 'Заклинье',\n",
       "       'Торковичи', 'Первомайское', 'Красное Село', 'Понтонный',\n",
       "       'Сясьстрой', 'Старая', 'Лесколово', 'Новый Свет', 'Сланцы',\n",
       "       'Путилово', 'Ивангород', 'Шлиссельбург', 'Никольское',\n",
       "       'Зеленогорск', 'Сосновый Бор', 'Оржицы', 'Кальтино', 'Романовка',\n",
       "       'Бугры', 'Рощино', 'Кириши', 'Луга', 'Волосово', 'Отрадное',\n",
       "       'Павлово', 'Оредеж', 'Копорье', 'Молодёжное', 'Тихвин', 'Победа',\n",
       "       'Нурма', 'Синявино', 'Тосно', 'Стрельна', 'Бокситогорск',\n",
       "       'Александровская', 'Лопухинка', 'Пикалёво', 'Терволово',\n",
       "       'Советский', 'Подпорожье', 'Петровское', 'Токсово', 'Сельцо',\n",
       "       'Вырица', 'Кипень', 'Келози', 'Вартемяги', 'Тельмана',\n",
       "       'Севастьяново', 'Большая Ижора', 'Агалатово', 'Новогорелово',\n",
       "       'Лесогорский', 'Лаголово', 'Цвелодубово', 'Рахья', 'Белогорка',\n",
       "       'Заводской', 'Новоселье', 'Большие Колпаны', 'Горбунки', 'Батово',\n",
       "       'Заневка', 'Иссад', 'Приморск', 'Мистолово', 'Новая Ладога',\n",
       "       'Зимитицы', 'Барышево', 'Разметелево', 'Свердлова', 'Пеники',\n",
       "       'Рябово', 'Пудомяги', 'Корнево', 'Низино', 'Бегуницы', 'Поляны',\n",
       "       'Мга', 'Елизаветино', 'Кузнечное', 'Колтуши', 'Запорожское',\n",
       "       'Гостилицы', 'Малое Карлино', 'Мичуринское', 'Морозова',\n",
       "       'Песочный', 'Сосново', 'Аро', 'Ильичёво', 'Тайцы', 'Малое Верево',\n",
       "       'Извара', 'Вещево', 'Паша', 'Калитино', 'Ульяновка', 'Чудской Бор',\n",
       "       'Дубровка', 'Мины', 'Войсковицы', 'Коркино', 'Ропша',\n",
       "       'Приладожский', 'Щеглово', 'Гаврилово', 'Лодейное Поле',\n",
       "       'Рабитицы', 'Никольский', 'Кузьмолово', 'Малые Колпаны',\n",
       "       'Петро-Славянка', 'Назия', 'Репино', 'Углово', 'Старая Малукса',\n",
       "       'Меньково', 'Старые Бегуницы', 'Сапёрный', 'Семрино', 'Глажево',\n",
       "       'Кобринское', 'Гарболово', 'Юкки', 'Приветнинское', 'Мануйлово',\n",
       "       'Пчева', 'Цвылёво', 'Мельниково', 'Пудость', 'Усть-Луга',\n",
       "       'Светогорск', 'Любань', 'Селезнёво', 'Каменногорск', 'Кривко',\n",
       "       'Глебычево', 'Парицы', 'Жилпосёлок', 'Войскорово', 'Стеклянный',\n",
       "       'Важины', 'Мыза-Ивановка', 'Русско-Высоцкое', 'Форносово',\n",
       "       'Старая Ладога', 'Житково', 'Виллози', 'Лампово', 'Шпаньково',\n",
       "       'Лаврики', 'Сумино', 'Возрождение', 'Старосиверская', 'Кикерино',\n",
       "       'Старое Хинколово', 'Пригородный', 'Торфяное', 'Будогощь',\n",
       "       'Суходолье', 'Красная Долина', 'Хапо-Ое', 'Дружная Горка',\n",
       "       'Лисий Нос', 'Яльгелево', 'Рождествено', 'Старополье', 'Левашово',\n",
       "       'Сяськелево', 'Камышовка', 'Лесная Поляна', 'Хязельки',\n",
       "       'Жилгородок', 'Ялгино', 'Новый Учхоз', 'Гончарово', 'Почап',\n",
       "       'Сапёрное', 'Платформа 69-й километр', 'Каложицы', 'Фалилеево',\n",
       "       'Пельгора', 'Торошковичи', 'Белоостров', 'Алексеевка',\n",
       "       'Серебрянский', 'Лукаши', 'Тарасово', 'Кингисеппский', 'Ушаки',\n",
       "       'Котлы', 'Сижно', 'Торосово', 'Форт Красная Горка', 'Новолисино',\n",
       "       'Громово', 'Глинка', 'Старая Пустошь', 'Коммунары', 'Починок',\n",
       "       'Вознесенье', 'Разбегаево', 'Гладкое', 'Тёсово-4', 'Бор',\n",
       "       'Коробицыно', 'Большая Вруда', 'Курковицы', 'Кобралово',\n",
       "       'Суоранда', 'Кондратьево', 'Счастье', 'Реброво', 'Тойворово',\n",
       "       'Семиозерье', 'Лесное', 'Совхозный', 'Ленинское', 'Суйда',\n",
       "       'Нижние Осельки', 'Свирь', 'Перово', 'Высоцк', 'Шум', 'Котельский',\n",
       "       'Лужайка', 'Большая Пустомержа', 'Красносельское', 'Вахнова Кара',\n",
       "       'Пижма', 'Кивеннапа Север', 'Ромашки', 'Каськово', 'Куровицы',\n",
       "       'Плоское', 'Кирпичное', 'Ям-Тесово', 'Раздолье', 'Терпилицы',\n",
       "       'Шугозеро', 'Ваганово', 'Пушное', 'Садко', 'Усть-Ижора',\n",
       "       'Выскатка', 'Свирьстрой', 'Кисельня', 'Трубников Бор',\n",
       "       'Высокоключевой', 'Пансионат Зелёный Бор', 'Ненимяки',\n",
       "       'Снегирёвка', 'Рапполово', 'Пустынка', 'Большой Сабск', 'Русско',\n",
       "       'Лупполово', 'Большое Рейзино', 'Малая Романовка', 'Дружноселье',\n",
       "       'Пчевжа', 'Володарское', 'Нижняя', 'Тихковицы', 'Борисова Грива',\n",
       "       'Дзержинского'], dtype=object)"
      ]
     },
     "metadata": {},
     "output_type": "display_data"
    }
   ],
   "source": [
    "def select_only_name(locality):\n",
    "    s= ''\n",
    "    words = locality.split()\n",
    "    for i in range(len(words)):\n",
    "        if words[i].istitle():\n",
    "            s = ' '.join(words[i:])\n",
    "            break\n",
    "    return s\n",
    "\n",
    "data['locality_name'] = data['locality_name'].apply(select_only_name)\n",
    "display(data.locality_name.unique())"
   ]
  },
  {
   "cell_type": "markdown",
   "id": "93a25067",
   "metadata": {},
   "source": [
    "<div style=\"border:solid green 2px; padding: 20px\"> <h1 style=\"color:green; margin-bottom:20px\">Комментарий </h1>\n",
    "Тут хорошо.\n",
    "</div>"
   ]
  },
  {
   "cell_type": "markdown",
   "id": "ee30a261",
   "metadata": {},
   "source": [
    "Проверка показывает, что данныев столбце locality_name после обработки представлены корректно."
   ]
  },
  {
   "cell_type": "markdown",
   "id": "7cf8b19f",
   "metadata": {},
   "source": [
    "Так как близость к центру города может иметь существенное значение на определение стоимости квартиры. Рассмотрим возможность заполнения пропусков в столбце cityCenters_nearest. Отдельно рассчитаем медианное значение по Санкт-Петербургу и пригородам."
   ]
  },
  {
   "cell_type": "code",
   "execution_count": 27,
   "id": "8b6ba8a1",
   "metadata": {},
   "outputs": [
    {
     "data": {
      "text/plain": [
       "30371.0"
      ]
     },
     "metadata": {},
     "output_type": "display_data"
    }
   ],
   "source": [
    "cityCenters_median = data[data['locality_name'] != 'Санкт-Петербург']['cityCenters_nearest'].median()\n",
    "display(cityCenters_median)"
   ]
  },
  {
   "cell_type": "code",
   "execution_count": 28,
   "id": "9e2ebe18",
   "metadata": {},
   "outputs": [
    {
     "data": {
      "text/plain": [
       "12244.5"
      ]
     },
     "metadata": {},
     "output_type": "display_data"
    }
   ],
   "source": [
    "cityCenters_sp_median = data[data['locality_name'] == 'Санкт-Петербург']['cityCenters_nearest'].median()\n",
    "display(cityCenters_sp_median)"
   ]
  },
  {
   "cell_type": "code",
   "execution_count": 29,
   "id": "1012775a",
   "metadata": {},
   "outputs": [],
   "source": [
    "data.loc[(data['locality_name'] != 'Санкт-Петербург') & (data['cityCenters_nearest'].isnull()), 'cityCenters_nearest'] \\\n",
    "    = cityCenters_median\n",
    "data.loc[(data['locality_name'] == 'Санкт-Петербург') & (data['cityCenters_nearest'].isnull()), 'cityCenters_nearest'] \\\n",
    "= cityCenters_sp_median"
   ]
  },
  {
   "cell_type": "code",
   "execution_count": 30,
   "id": "dbcdcf0f",
   "metadata": {},
   "outputs": [
    {
     "data": {
      "text/plain": [
       "count    23650.000000\n",
       "mean     17919.824968\n",
       "std      10161.256259\n",
       "min        181.000000\n",
       "25%      10939.000000\n",
       "50%      14957.000000\n",
       "75%      30371.000000\n",
       "max      65968.000000\n",
       "Name: cityCenters_nearest, dtype: float64"
      ]
     },
     "metadata": {},
     "output_type": "display_data"
    },
    {
     "name": "stdout",
     "output_type": "stream",
     "text": [
      "<class 'pandas.core.series.Series'>\n",
      "Int64Index: 23650 entries, 0 to 23698\n",
      "Series name: cityCenters_nearest\n",
      "Non-Null Count  Dtype  \n",
      "--------------  -----  \n",
      "23650 non-null  float64\n",
      "dtypes: float64(1)\n",
      "memory usage: 369.5 KB\n"
     ]
    },
    {
     "data": {
      "text/plain": [
       "None"
      ]
     },
     "metadata": {},
     "output_type": "display_data"
    }
   ],
   "source": [
    "display(data['cityCenters_nearest'].describe())\n",
    "display(data['cityCenters_nearest'].info())"
   ]
  },
  {
   "cell_type": "markdown",
   "id": "985c22c0",
   "metadata": {},
   "source": [
    "Данные заменены корректно, пропущенные значения отсутствуют."
   ]
  },
  {
   "cell_type": "code",
   "execution_count": 31,
   "id": "ea32ef1d",
   "metadata": {},
   "outputs": [
    {
     "data": {
      "text/plain": [
       "3180"
      ]
     },
     "metadata": {},
     "output_type": "display_data"
    }
   ],
   "source": [
    "display(data['days_exposition'].isnull().sum())"
   ]
  },
  {
   "cell_type": "markdown",
   "id": "a6393768",
   "metadata": {},
   "source": [
    "Данные в столбце days_exposition имеют около 10% пропущенных значений. С одной стороны это не малое значение, с другой удаление таких строк может негативно сказаться на дальнейшем исследовании, т.к. могут быть удалены важные для изучения параметры из других столбцов. Заменим пропущенные значения медианой."
   ]
  },
  {
   "cell_type": "code",
   "execution_count": 32,
   "id": "f67171b8",
   "metadata": {},
   "outputs": [
    {
     "data": {
      "text/plain": [
       "95"
      ]
     },
     "metadata": {},
     "output_type": "display_data"
    },
    {
     "name": "stdout",
     "output_type": "stream",
     "text": [
      "<class 'pandas.core.series.Series'>\n",
      "Int64Index: 23650 entries, 0 to 23698\n",
      "Series name: days_exposition\n",
      "Non-Null Count  Dtype  \n",
      "--------------  -----  \n",
      "23650 non-null  float64\n",
      "dtypes: float64(1)\n",
      "memory usage: 369.5 KB\n"
     ]
    },
    {
     "data": {
      "text/plain": [
       "None"
      ]
     },
     "metadata": {},
     "output_type": "display_data"
    }
   ],
   "source": [
    "display(round(data['days_exposition'].median()))\n",
    "data.loc[data['days_exposition'].isnull(), 'days_exposition'] = round(data['days_exposition'].median())\n",
    "display(data['days_exposition'].info())"
   ]
  },
  {
   "cell_type": "markdown",
   "id": "cd2f5bad",
   "metadata": {},
   "source": [
    "### <a id='data-type-change'><span style=\"color:black\">Замена типа данных</span></a>"
   ]
  },
  {
   "cell_type": "code",
   "execution_count": 33,
   "id": "b832f49f",
   "metadata": {},
   "outputs": [
    {
     "data": {
      "text/html": [
       "<div>\n",
       "<style scoped>\n",
       "    .dataframe tbody tr th:only-of-type {\n",
       "        vertical-align: middle;\n",
       "    }\n",
       "\n",
       "    .dataframe tbody tr th {\n",
       "        vertical-align: top;\n",
       "    }\n",
       "\n",
       "    .dataframe thead th {\n",
       "        text-align: right;\n",
       "    }\n",
       "</style>\n",
       "<table border=\"1\" class=\"dataframe\">\n",
       "  <thead>\n",
       "    <tr style=\"text-align: right;\">\n",
       "      <th></th>\n",
       "      <th>last_price</th>\n",
       "      <th>total_area</th>\n",
       "      <th>first_day_exposition</th>\n",
       "      <th>rooms</th>\n",
       "      <th>ceiling_height</th>\n",
       "      <th>floors_total</th>\n",
       "      <th>living_area</th>\n",
       "      <th>floor</th>\n",
       "      <th>is_apartment</th>\n",
       "      <th>studio</th>\n",
       "      <th>open_plan</th>\n",
       "      <th>kitchen_area</th>\n",
       "      <th>balcony</th>\n",
       "      <th>locality_name</th>\n",
       "      <th>airports_nearest</th>\n",
       "      <th>cityCenters_nearest</th>\n",
       "      <th>parks_around3000</th>\n",
       "      <th>parks_nearest</th>\n",
       "      <th>ponds_around3000</th>\n",
       "      <th>ponds_nearest</th>\n",
       "      <th>days_exposition</th>\n",
       "    </tr>\n",
       "  </thead>\n",
       "  <tbody>\n",
       "    <tr>\n",
       "      <th>0</th>\n",
       "      <td>13000000.0</td>\n",
       "      <td>108.0</td>\n",
       "      <td>2019-03-07T00:00:00</td>\n",
       "      <td>3</td>\n",
       "      <td>2.70</td>\n",
       "      <td>16.0</td>\n",
       "      <td>51.00</td>\n",
       "      <td>8</td>\n",
       "      <td>False</td>\n",
       "      <td>False</td>\n",
       "      <td>False</td>\n",
       "      <td>25.00</td>\n",
       "      <td>0.0</td>\n",
       "      <td>Санкт-Петербург</td>\n",
       "      <td>18863.0</td>\n",
       "      <td>16028.0</td>\n",
       "      <td>1.0</td>\n",
       "      <td>482.0</td>\n",
       "      <td>2.0</td>\n",
       "      <td>755.0</td>\n",
       "      <td>95.0</td>\n",
       "    </tr>\n",
       "    <tr>\n",
       "      <th>1</th>\n",
       "      <td>3350000.0</td>\n",
       "      <td>40.4</td>\n",
       "      <td>2018-12-04T00:00:00</td>\n",
       "      <td>1</td>\n",
       "      <td>2.65</td>\n",
       "      <td>11.0</td>\n",
       "      <td>18.60</td>\n",
       "      <td>1</td>\n",
       "      <td>False</td>\n",
       "      <td>False</td>\n",
       "      <td>False</td>\n",
       "      <td>11.00</td>\n",
       "      <td>2.0</td>\n",
       "      <td>Шушары</td>\n",
       "      <td>12817.0</td>\n",
       "      <td>18603.0</td>\n",
       "      <td>0.0</td>\n",
       "      <td>NaN</td>\n",
       "      <td>0.0</td>\n",
       "      <td>NaN</td>\n",
       "      <td>81.0</td>\n",
       "    </tr>\n",
       "    <tr>\n",
       "      <th>2</th>\n",
       "      <td>5196000.0</td>\n",
       "      <td>56.0</td>\n",
       "      <td>2015-08-20T00:00:00</td>\n",
       "      <td>2</td>\n",
       "      <td>2.65</td>\n",
       "      <td>5.0</td>\n",
       "      <td>34.30</td>\n",
       "      <td>4</td>\n",
       "      <td>False</td>\n",
       "      <td>False</td>\n",
       "      <td>False</td>\n",
       "      <td>8.30</td>\n",
       "      <td>0.0</td>\n",
       "      <td>Санкт-Петербург</td>\n",
       "      <td>21741.0</td>\n",
       "      <td>13933.0</td>\n",
       "      <td>1.0</td>\n",
       "      <td>90.0</td>\n",
       "      <td>2.0</td>\n",
       "      <td>574.0</td>\n",
       "      <td>558.0</td>\n",
       "    </tr>\n",
       "    <tr>\n",
       "      <th>3</th>\n",
       "      <td>64900000.0</td>\n",
       "      <td>159.0</td>\n",
       "      <td>2015-07-24T00:00:00</td>\n",
       "      <td>3</td>\n",
       "      <td>2.65</td>\n",
       "      <td>14.0</td>\n",
       "      <td>90.34</td>\n",
       "      <td>9</td>\n",
       "      <td>False</td>\n",
       "      <td>False</td>\n",
       "      <td>False</td>\n",
       "      <td>27.03</td>\n",
       "      <td>0.0</td>\n",
       "      <td>Санкт-Петербург</td>\n",
       "      <td>28098.0</td>\n",
       "      <td>6800.0</td>\n",
       "      <td>2.0</td>\n",
       "      <td>84.0</td>\n",
       "      <td>3.0</td>\n",
       "      <td>234.0</td>\n",
       "      <td>424.0</td>\n",
       "    </tr>\n",
       "    <tr>\n",
       "      <th>4</th>\n",
       "      <td>10000000.0</td>\n",
       "      <td>100.0</td>\n",
       "      <td>2018-06-19T00:00:00</td>\n",
       "      <td>2</td>\n",
       "      <td>3.03</td>\n",
       "      <td>14.0</td>\n",
       "      <td>32.00</td>\n",
       "      <td>13</td>\n",
       "      <td>False</td>\n",
       "      <td>False</td>\n",
       "      <td>False</td>\n",
       "      <td>41.00</td>\n",
       "      <td>0.0</td>\n",
       "      <td>Санкт-Петербург</td>\n",
       "      <td>31856.0</td>\n",
       "      <td>8098.0</td>\n",
       "      <td>2.0</td>\n",
       "      <td>112.0</td>\n",
       "      <td>1.0</td>\n",
       "      <td>48.0</td>\n",
       "      <td>121.0</td>\n",
       "    </tr>\n",
       "  </tbody>\n",
       "</table>\n",
       "</div>"
      ],
      "text/plain": [
       "   last_price  total_area first_day_exposition  rooms  ceiling_height  \\\n",
       "0  13000000.0       108.0  2019-03-07T00:00:00      3            2.70   \n",
       "1   3350000.0        40.4  2018-12-04T00:00:00      1            2.65   \n",
       "2   5196000.0        56.0  2015-08-20T00:00:00      2            2.65   \n",
       "3  64900000.0       159.0  2015-07-24T00:00:00      3            2.65   \n",
       "4  10000000.0       100.0  2018-06-19T00:00:00      2            3.03   \n",
       "\n",
       "   floors_total  living_area  floor is_apartment  studio  open_plan  \\\n",
       "0          16.0        51.00      8        False   False      False   \n",
       "1          11.0        18.60      1        False   False      False   \n",
       "2           5.0        34.30      4        False   False      False   \n",
       "3          14.0        90.34      9        False   False      False   \n",
       "4          14.0        32.00     13        False   False      False   \n",
       "\n",
       "   kitchen_area  balcony    locality_name  airports_nearest  \\\n",
       "0         25.00      0.0  Санкт-Петербург           18863.0   \n",
       "1         11.00      2.0           Шушары           12817.0   \n",
       "2          8.30      0.0  Санкт-Петербург           21741.0   \n",
       "3         27.03      0.0  Санкт-Петербург           28098.0   \n",
       "4         41.00      0.0  Санкт-Петербург           31856.0   \n",
       "\n",
       "   cityCenters_nearest  parks_around3000  parks_nearest  ponds_around3000  \\\n",
       "0              16028.0               1.0          482.0               2.0   \n",
       "1              18603.0               0.0            NaN               0.0   \n",
       "2              13933.0               1.0           90.0               2.0   \n",
       "3               6800.0               2.0           84.0               3.0   \n",
       "4               8098.0               2.0          112.0               1.0   \n",
       "\n",
       "   ponds_nearest  days_exposition  \n",
       "0          755.0             95.0  \n",
       "1            NaN             81.0  \n",
       "2          574.0            558.0  \n",
       "3          234.0            424.0  \n",
       "4           48.0            121.0  "
      ]
     },
     "metadata": {},
     "output_type": "display_data"
    },
    {
     "name": "stdout",
     "output_type": "stream",
     "text": [
      "<class 'pandas.core.frame.DataFrame'>\n",
      "Int64Index: 23650 entries, 0 to 23698\n",
      "Data columns (total 21 columns):\n",
      " #   Column                Non-Null Count  Dtype  \n",
      "---  ------                --------------  -----  \n",
      " 0   last_price            23650 non-null  float64\n",
      " 1   total_area            23650 non-null  float64\n",
      " 2   first_day_exposition  23650 non-null  object \n",
      " 3   rooms                 23650 non-null  int64  \n",
      " 4   ceiling_height        23650 non-null  float64\n",
      " 5   floors_total          23650 non-null  float64\n",
      " 6   living_area           23650 non-null  float64\n",
      " 7   floor                 23650 non-null  int64  \n",
      " 8   is_apartment          23650 non-null  object \n",
      " 9   studio                23650 non-null  bool   \n",
      " 10  open_plan             23650 non-null  bool   \n",
      " 11  kitchen_area          23650 non-null  float64\n",
      " 12  balcony               23650 non-null  float64\n",
      " 13  locality_name         23650 non-null  object \n",
      " 14  airports_nearest      18116 non-null  float64\n",
      " 15  cityCenters_nearest   23650 non-null  float64\n",
      " 16  parks_around3000      18140 non-null  float64\n",
      " 17  parks_nearest         8064 non-null   float64\n",
      " 18  ponds_around3000      18140 non-null  float64\n",
      " 19  ponds_nearest         9085 non-null   float64\n",
      " 20  days_exposition       23650 non-null  float64\n",
      "dtypes: bool(2), float64(14), int64(2), object(3)\n",
      "memory usage: 3.7+ MB\n"
     ]
    },
    {
     "data": {
      "text/plain": [
       "None"
      ]
     },
     "metadata": {},
     "output_type": "display_data"
    }
   ],
   "source": [
    "display(data.head())\n",
    "display(data.info())"
   ]
  },
  {
   "cell_type": "markdown",
   "id": "98ea8db8",
   "metadata": {},
   "source": [
    "Заменим типы данных в следующих столбцах: \n",
    "- last_price c float на int - не повлияет на исследование, но будет более читабельным и репрезентативным,\n",
    "- floors_total, balcony, rooms c float на int - количество может быть только целым значением,\n",
    "- floor c float на int - этажность может быть только целым значением,\n",
    "- is_apartment, studio и open_plan c object на bool - принимают только два значения True и False."
   ]
  },
  {
   "cell_type": "code",
   "execution_count": 34,
   "id": "f7e7205d",
   "metadata": {},
   "outputs": [
    {
     "name": "stdout",
     "output_type": "stream",
     "text": [
      "<class 'pandas.core.frame.DataFrame'>\n",
      "Int64Index: 23650 entries, 0 to 23698\n",
      "Data columns (total 21 columns):\n",
      " #   Column                Non-Null Count  Dtype  \n",
      "---  ------                --------------  -----  \n",
      " 0   last_price            23650 non-null  int32  \n",
      " 1   total_area            23650 non-null  float64\n",
      " 2   first_day_exposition  23650 non-null  object \n",
      " 3   rooms                 23650 non-null  int32  \n",
      " 4   ceiling_height        23650 non-null  float64\n",
      " 5   floors_total          23650 non-null  int32  \n",
      " 6   living_area           23650 non-null  float64\n",
      " 7   floor                 23650 non-null  int32  \n",
      " 8   is_apartment          23650 non-null  bool   \n",
      " 9   studio                23650 non-null  bool   \n",
      " 10  open_plan             23650 non-null  bool   \n",
      " 11  kitchen_area          23650 non-null  float64\n",
      " 12  balcony               23650 non-null  int32  \n",
      " 13  locality_name         23650 non-null  object \n",
      " 14  airports_nearest      18116 non-null  float64\n",
      " 15  cityCenters_nearest   23650 non-null  float64\n",
      " 16  parks_around3000      18140 non-null  float64\n",
      " 17  parks_nearest         8064 non-null   float64\n",
      " 18  ponds_around3000      18140 non-null  float64\n",
      " 19  ponds_nearest         9085 non-null   float64\n",
      " 20  days_exposition       23650 non-null  int32  \n",
      "dtypes: bool(3), float64(10), int32(6), object(2)\n",
      "memory usage: 3.0+ MB\n"
     ]
    },
    {
     "data": {
      "text/plain": [
       "None"
      ]
     },
     "metadata": {},
     "output_type": "display_data"
    }
   ],
   "source": [
    "def change_data_type(col, like):\n",
    "    data[col] = data[col].astype(like)\n",
    "    return col\n",
    "\n",
    "cols_int = ['last_price', 'floors_total', 'balcony', 'rooms', 'floor', 'days_exposition']\n",
    "cols_bool = ['is_apartment', 'studio', 'open_plan']\n",
    "\n",
    "for col in cols_int:\n",
    "    change_data_type(col, 'int')\n",
    "for col in cols_bool:\n",
    "    change_data_type(col, 'bool')\n",
    "\n",
    "display(data.info())"
   ]
  },
  {
   "cell_type": "markdown",
   "id": "e38abe7f",
   "metadata": {},
   "source": [
    "Значения приведены к нужным типам данным."
   ]
  },
  {
   "cell_type": "markdown",
   "id": "0306909f",
   "metadata": {},
   "source": [
    "**Выводы:** \n",
    "- В базе данных имелось много пропущенных значений, а также имеются значения, обработка которых не имеет существенного значения для исследования (во всяком случае на данном этапе). \n",
    "- Пропуски данных можно заполнять с помощью извлечения необходимых данных из других столбцов. \n",
    "- Предобработка позволяет не только избавиться от шума в данных, но зачастую и значительно снизить объем потребляемой памяти. \n",
    "- Имеется много пропусков данных, которые были получены автоматически на основе картографических данных есть смысл обратиться к тому, кто извлекал данные, для усовершенствования соответвующего алгоритма.\n"
   ]
  },
  {
   "cell_type": "markdown",
   "id": "063ce007",
   "metadata": {},
   "source": [
    "## <a id='data-counting'><span style=\"color:black\">3. Расчет данных и добавление их таблицу</span></a>"
   ]
  },
  {
   "cell_type": "markdown",
   "id": "66ae3d5c",
   "metadata": {},
   "source": [
    "### <a id='calculating-the-price-per-square-meter'><span style=\"color:black\">Расчет стоимости 1 квадратного метра</span></a>"
   ]
  },
  {
   "cell_type": "code",
   "execution_count": 35,
   "id": "d0fc987c",
   "metadata": {},
   "outputs": [],
   "source": [
    "data['price_per_meter'] = round(data['last_price'] / data['total_area'], 2)"
   ]
  },
  {
   "cell_type": "markdown",
   "id": "ce40893c",
   "metadata": {},
   "source": [
    "### <a id='determine-the-day-of-the-week-month-and-year'><span style=\"color:black\">Определение дня недели, месяца и года публикации объявления</span></a>"
   ]
  },
  {
   "cell_type": "code",
   "execution_count": 36,
   "id": "b2b19cb3",
   "metadata": {},
   "outputs": [],
   "source": [
    "data['weekday_exposition'] = pd.to_datetime(data['first_day_exposition'], format='%Y-%m-%d %H:%M').dt.weekday\n",
    "data['month_exposition'] = pd.to_datetime(data['first_day_exposition'], format='%Y-%m-%d %H:%M').dt.month\n",
    "data['year_exposition'] = pd.to_datetime(data['first_day_exposition'], format='%Y-%m-%d %H:%M').dt.year"
   ]
  },
  {
   "cell_type": "markdown",
   "id": "ef664e85",
   "metadata": {},
   "source": [
    "### <a id='categorizing-the-apartment-by-floor'><span style=\"color:black\">Категорирование квартиры по этажности</span></a>"
   ]
  },
  {
   "cell_type": "code",
   "execution_count": 37,
   "id": "d5212aef",
   "metadata": {},
   "outputs": [],
   "source": [
    "data.loc[data['floor'] == data['floors_total'],'floor_category'] = 'последний'\n",
    "data.loc[data['floor'] == 1,'floor_category'] = 'первый'\n",
    "data.loc[(data['floor'] != data['floors_total']) & (data['floor'] != 1),'floor_category'] = 'другой'"
   ]
  },
  {
   "cell_type": "markdown",
   "id": "111d4dde",
   "metadata": {},
   "source": [
    "### <a id='determination-of-the-ratio'><span style=\"color:black\">Определение соотношения жилой и общей площади, отношения площади кухни к общей</span></a>"
   ]
  },
  {
   "cell_type": "code",
   "execution_count": 38,
   "id": "1cf7357f",
   "metadata": {},
   "outputs": [
    {
     "data": {
      "text/html": [
       "<div>\n",
       "<style scoped>\n",
       "    .dataframe tbody tr th:only-of-type {\n",
       "        vertical-align: middle;\n",
       "    }\n",
       "\n",
       "    .dataframe tbody tr th {\n",
       "        vertical-align: top;\n",
       "    }\n",
       "\n",
       "    .dataframe thead th {\n",
       "        text-align: right;\n",
       "    }\n",
       "</style>\n",
       "<table border=\"1\" class=\"dataframe\">\n",
       "  <thead>\n",
       "    <tr style=\"text-align: right;\">\n",
       "      <th></th>\n",
       "      <th>last_price</th>\n",
       "      <th>total_area</th>\n",
       "      <th>first_day_exposition</th>\n",
       "      <th>rooms</th>\n",
       "      <th>ceiling_height</th>\n",
       "      <th>floors_total</th>\n",
       "      <th>living_area</th>\n",
       "      <th>floor</th>\n",
       "      <th>is_apartment</th>\n",
       "      <th>studio</th>\n",
       "      <th>open_plan</th>\n",
       "      <th>kitchen_area</th>\n",
       "      <th>balcony</th>\n",
       "      <th>locality_name</th>\n",
       "      <th>airports_nearest</th>\n",
       "      <th>cityCenters_nearest</th>\n",
       "      <th>parks_around3000</th>\n",
       "      <th>parks_nearest</th>\n",
       "      <th>ponds_around3000</th>\n",
       "      <th>ponds_nearest</th>\n",
       "      <th>days_exposition</th>\n",
       "      <th>price_per_meter</th>\n",
       "      <th>weekday_exposition</th>\n",
       "      <th>month_exposition</th>\n",
       "      <th>year_exposition</th>\n",
       "      <th>floor_category</th>\n",
       "      <th>ratio_living_total_area</th>\n",
       "      <th>ratio_kitchen_total_area</th>\n",
       "    </tr>\n",
       "  </thead>\n",
       "  <tbody>\n",
       "    <tr>\n",
       "      <th>0</th>\n",
       "      <td>13000000</td>\n",
       "      <td>108.0</td>\n",
       "      <td>2019-03-07T00:00:00</td>\n",
       "      <td>3</td>\n",
       "      <td>2.70</td>\n",
       "      <td>16</td>\n",
       "      <td>51.00</td>\n",
       "      <td>8</td>\n",
       "      <td>False</td>\n",
       "      <td>False</td>\n",
       "      <td>False</td>\n",
       "      <td>25.00</td>\n",
       "      <td>0</td>\n",
       "      <td>Санкт-Петербург</td>\n",
       "      <td>18863.0</td>\n",
       "      <td>16028.0</td>\n",
       "      <td>1.0</td>\n",
       "      <td>482.0</td>\n",
       "      <td>2.0</td>\n",
       "      <td>755.0</td>\n",
       "      <td>95</td>\n",
       "      <td>120370.37</td>\n",
       "      <td>3</td>\n",
       "      <td>3</td>\n",
       "      <td>2019</td>\n",
       "      <td>другой</td>\n",
       "      <td>0.472222</td>\n",
       "      <td>0.231481</td>\n",
       "    </tr>\n",
       "    <tr>\n",
       "      <th>1</th>\n",
       "      <td>3350000</td>\n",
       "      <td>40.4</td>\n",
       "      <td>2018-12-04T00:00:00</td>\n",
       "      <td>1</td>\n",
       "      <td>2.65</td>\n",
       "      <td>11</td>\n",
       "      <td>18.60</td>\n",
       "      <td>1</td>\n",
       "      <td>False</td>\n",
       "      <td>False</td>\n",
       "      <td>False</td>\n",
       "      <td>11.00</td>\n",
       "      <td>2</td>\n",
       "      <td>Шушары</td>\n",
       "      <td>12817.0</td>\n",
       "      <td>18603.0</td>\n",
       "      <td>0.0</td>\n",
       "      <td>NaN</td>\n",
       "      <td>0.0</td>\n",
       "      <td>NaN</td>\n",
       "      <td>81</td>\n",
       "      <td>82920.79</td>\n",
       "      <td>1</td>\n",
       "      <td>12</td>\n",
       "      <td>2018</td>\n",
       "      <td>первый</td>\n",
       "      <td>0.460396</td>\n",
       "      <td>0.272277</td>\n",
       "    </tr>\n",
       "    <tr>\n",
       "      <th>2</th>\n",
       "      <td>5196000</td>\n",
       "      <td>56.0</td>\n",
       "      <td>2015-08-20T00:00:00</td>\n",
       "      <td>2</td>\n",
       "      <td>2.65</td>\n",
       "      <td>5</td>\n",
       "      <td>34.30</td>\n",
       "      <td>4</td>\n",
       "      <td>False</td>\n",
       "      <td>False</td>\n",
       "      <td>False</td>\n",
       "      <td>8.30</td>\n",
       "      <td>0</td>\n",
       "      <td>Санкт-Петербург</td>\n",
       "      <td>21741.0</td>\n",
       "      <td>13933.0</td>\n",
       "      <td>1.0</td>\n",
       "      <td>90.0</td>\n",
       "      <td>2.0</td>\n",
       "      <td>574.0</td>\n",
       "      <td>558</td>\n",
       "      <td>92785.71</td>\n",
       "      <td>3</td>\n",
       "      <td>8</td>\n",
       "      <td>2015</td>\n",
       "      <td>другой</td>\n",
       "      <td>0.612500</td>\n",
       "      <td>0.148214</td>\n",
       "    </tr>\n",
       "    <tr>\n",
       "      <th>3</th>\n",
       "      <td>64900000</td>\n",
       "      <td>159.0</td>\n",
       "      <td>2015-07-24T00:00:00</td>\n",
       "      <td>3</td>\n",
       "      <td>2.65</td>\n",
       "      <td>14</td>\n",
       "      <td>90.34</td>\n",
       "      <td>9</td>\n",
       "      <td>False</td>\n",
       "      <td>False</td>\n",
       "      <td>False</td>\n",
       "      <td>27.03</td>\n",
       "      <td>0</td>\n",
       "      <td>Санкт-Петербург</td>\n",
       "      <td>28098.0</td>\n",
       "      <td>6800.0</td>\n",
       "      <td>2.0</td>\n",
       "      <td>84.0</td>\n",
       "      <td>3.0</td>\n",
       "      <td>234.0</td>\n",
       "      <td>424</td>\n",
       "      <td>408176.10</td>\n",
       "      <td>4</td>\n",
       "      <td>7</td>\n",
       "      <td>2015</td>\n",
       "      <td>другой</td>\n",
       "      <td>0.568176</td>\n",
       "      <td>0.170000</td>\n",
       "    </tr>\n",
       "    <tr>\n",
       "      <th>4</th>\n",
       "      <td>10000000</td>\n",
       "      <td>100.0</td>\n",
       "      <td>2018-06-19T00:00:00</td>\n",
       "      <td>2</td>\n",
       "      <td>3.03</td>\n",
       "      <td>14</td>\n",
       "      <td>32.00</td>\n",
       "      <td>13</td>\n",
       "      <td>False</td>\n",
       "      <td>False</td>\n",
       "      <td>False</td>\n",
       "      <td>41.00</td>\n",
       "      <td>0</td>\n",
       "      <td>Санкт-Петербург</td>\n",
       "      <td>31856.0</td>\n",
       "      <td>8098.0</td>\n",
       "      <td>2.0</td>\n",
       "      <td>112.0</td>\n",
       "      <td>1.0</td>\n",
       "      <td>48.0</td>\n",
       "      <td>121</td>\n",
       "      <td>100000.00</td>\n",
       "      <td>1</td>\n",
       "      <td>6</td>\n",
       "      <td>2018</td>\n",
       "      <td>другой</td>\n",
       "      <td>0.320000</td>\n",
       "      <td>0.410000</td>\n",
       "    </tr>\n",
       "  </tbody>\n",
       "</table>\n",
       "</div>"
      ],
      "text/plain": [
       "   last_price  total_area first_day_exposition  rooms  ceiling_height  \\\n",
       "0    13000000       108.0  2019-03-07T00:00:00      3            2.70   \n",
       "1     3350000        40.4  2018-12-04T00:00:00      1            2.65   \n",
       "2     5196000        56.0  2015-08-20T00:00:00      2            2.65   \n",
       "3    64900000       159.0  2015-07-24T00:00:00      3            2.65   \n",
       "4    10000000       100.0  2018-06-19T00:00:00      2            3.03   \n",
       "\n",
       "   floors_total  living_area  floor  is_apartment  studio  open_plan  \\\n",
       "0            16        51.00      8         False   False      False   \n",
       "1            11        18.60      1         False   False      False   \n",
       "2             5        34.30      4         False   False      False   \n",
       "3            14        90.34      9         False   False      False   \n",
       "4            14        32.00     13         False   False      False   \n",
       "\n",
       "   kitchen_area  balcony    locality_name  airports_nearest  \\\n",
       "0         25.00        0  Санкт-Петербург           18863.0   \n",
       "1         11.00        2           Шушары           12817.0   \n",
       "2          8.30        0  Санкт-Петербург           21741.0   \n",
       "3         27.03        0  Санкт-Петербург           28098.0   \n",
       "4         41.00        0  Санкт-Петербург           31856.0   \n",
       "\n",
       "   cityCenters_nearest  parks_around3000  parks_nearest  ponds_around3000  \\\n",
       "0              16028.0               1.0          482.0               2.0   \n",
       "1              18603.0               0.0            NaN               0.0   \n",
       "2              13933.0               1.0           90.0               2.0   \n",
       "3               6800.0               2.0           84.0               3.0   \n",
       "4               8098.0               2.0          112.0               1.0   \n",
       "\n",
       "   ponds_nearest  days_exposition  price_per_meter  weekday_exposition  \\\n",
       "0          755.0               95        120370.37                   3   \n",
       "1            NaN               81         82920.79                   1   \n",
       "2          574.0              558         92785.71                   3   \n",
       "3          234.0              424        408176.10                   4   \n",
       "4           48.0              121        100000.00                   1   \n",
       "\n",
       "   month_exposition  year_exposition floor_category  ratio_living_total_area  \\\n",
       "0                 3             2019         другой                 0.472222   \n",
       "1                12             2018         первый                 0.460396   \n",
       "2                 8             2015         другой                 0.612500   \n",
       "3                 7             2015         другой                 0.568176   \n",
       "4                 6             2018         другой                 0.320000   \n",
       "\n",
       "   ratio_kitchen_total_area  \n",
       "0                  0.231481  \n",
       "1                  0.272277  \n",
       "2                  0.148214  \n",
       "3                  0.170000  \n",
       "4                  0.410000  "
      ]
     },
     "metadata": {},
     "output_type": "display_data"
    },
    {
     "name": "stdout",
     "output_type": "stream",
     "text": [
      "<class 'pandas.core.frame.DataFrame'>\n",
      "Int64Index: 23650 entries, 0 to 23698\n",
      "Data columns (total 28 columns):\n",
      " #   Column                    Non-Null Count  Dtype  \n",
      "---  ------                    --------------  -----  \n",
      " 0   last_price                23650 non-null  int32  \n",
      " 1   total_area                23650 non-null  float64\n",
      " 2   first_day_exposition      23650 non-null  object \n",
      " 3   rooms                     23650 non-null  int32  \n",
      " 4   ceiling_height            23650 non-null  float64\n",
      " 5   floors_total              23650 non-null  int32  \n",
      " 6   living_area               23650 non-null  float64\n",
      " 7   floor                     23650 non-null  int32  \n",
      " 8   is_apartment              23650 non-null  bool   \n",
      " 9   studio                    23650 non-null  bool   \n",
      " 10  open_plan                 23650 non-null  bool   \n",
      " 11  kitchen_area              23650 non-null  float64\n",
      " 12  balcony                   23650 non-null  int32  \n",
      " 13  locality_name             23650 non-null  object \n",
      " 14  airports_nearest          18116 non-null  float64\n",
      " 15  cityCenters_nearest       23650 non-null  float64\n",
      " 16  parks_around3000          18140 non-null  float64\n",
      " 17  parks_nearest             8064 non-null   float64\n",
      " 18  ponds_around3000          18140 non-null  float64\n",
      " 19  ponds_nearest             9085 non-null   float64\n",
      " 20  days_exposition           23650 non-null  int32  \n",
      " 21  price_per_meter           23650 non-null  float64\n",
      " 22  weekday_exposition        23650 non-null  int64  \n",
      " 23  month_exposition          23650 non-null  int64  \n",
      " 24  year_exposition           23650 non-null  int64  \n",
      " 25  floor_category            23650 non-null  object \n",
      " 26  ratio_living_total_area   23650 non-null  float64\n",
      " 27  ratio_kitchen_total_area  23650 non-null  float64\n",
      "dtypes: bool(3), float64(13), int32(6), int64(3), object(3)\n",
      "memory usage: 4.2+ MB\n"
     ]
    }
   ],
   "source": [
    "data['ratio_living_total_area'] = data['living_area'] /  data['total_area']\n",
    "data['ratio_kitchen_total_area'] = data['kitchen_area'] /  data['total_area']\n",
    "display(data.head())\n",
    "data.info()"
   ]
  },
  {
   "cell_type": "markdown",
   "id": "1a670391",
   "metadata": {},
   "source": [
    "**Выводы:** Оперируя имеющимися данными можно получить дополнительную информацию и значительно расширить возможности анализа базы данных."
   ]
  },
  {
   "cell_type": "markdown",
   "id": "23b4ee83",
   "metadata": {},
   "source": [
    "<div style=\"border:solid green 2px; padding: 20px\"> <h1 style=\"color:green; margin-bottom:20px\">Комментарий </h1>\n",
    "Ту все нормально.\n",
    "</div>"
   ]
  },
  {
   "cell_type": "markdown",
   "id": "bd474847",
   "metadata": {},
   "source": [
    "## <a id='data-analysis'><span style=\"color:black\">4. Анализ данных</span></a>"
   ]
  },
  {
   "cell_type": "markdown",
   "id": "edef557c",
   "metadata": {},
   "source": [
    "### <a id='research-parameters'><span style=\"color:black\">Исследование типичных параметров продаваемых квартир: площадь, цена, число комнат и т.д.</span></a>"
   ]
  },
  {
   "cell_type": "markdown",
   "id": "2ae7c804",
   "metadata": {},
   "source": [
    "Наиболее типичными параметрами продаваемых квартир являются общая площадь, количество комнат, высота потолка, стоимость квартиры, стоимость 1 метра квадратных)"
   ]
  },
  {
   "cell_type": "code",
   "execution_count": 39,
   "id": "616f3a80",
   "metadata": {},
   "outputs": [
    {
     "data": {
      "image/png": "[encoded data removed]",
      "text/plain": [
       "<Figure size 504x216 with 1 Axes>"
      ]
     },
     "metadata": {
      "needs_background": "light"
     },
     "output_type": "display_data"
    },
    {
     "data": {
      "image/png": "[encoded data removed]",
      "text/plain": [
       "<Figure size 504x216 with 1 Axes>"
      ]
     },
     "metadata": {
      "needs_background": "light"
     },
     "output_type": "display_data"
    },
    {
     "data": {
      "image/png": "[encoded data removed]",
      "text/plain": [
       "<Figure size 504x216 with 1 Axes>"
      ]
     },
     "metadata": {
      "needs_background": "light"
     },
     "output_type": "display_data"
    },
    {
     "data": {
      "image/png": "[encoded data removed]",
      "text/plain": [
       "<Figure size 504x216 with 1 Axes>"
      ]
     },
     "metadata": {
      "needs_background": "light"
     },
     "output_type": "display_data"
    },
    {
     "data": {
      "image/png": "[encoded data removed]",
      "text/plain": [
       "<Figure size 504x216 with 1 Axes>"
      ]
     },
     "metadata": {
      "needs_background": "light"
     },
     "output_type": "display_data"
    },
    {
     "data": {
      "image/png": "[encoded data removed]",
      "text/plain": [
       "<Figure size 504x216 with 1 Axes>"
      ]
     },
     "metadata": {
      "needs_background": "light"
     },
     "output_type": "display_data"
    }
   ],
   "source": [
    "features = ['total_area', 'rooms', 'ceiling_height', 'price_per_meter', 'last_price', 'floor']\n",
    "for feature in features:\n",
    "    data.hist(feature, bins=100, figsize = (7,3), grid=True, legend=True)\n",
    "    plt.show()"
   ]
  },
  {
   "cell_type": "markdown",
   "id": "6544a630",
   "metadata": {},
   "source": [
    "<div style=\"border:solid green 2px; padding: 20px\"> <h1 style=\"color:green; margin-bottom:20px\">Комментарий </h1>\n",
    "<br> 1. Графики сторим с помощью Seaborn (это надстройка над matplotlib).\n",
    "<br> 2. Красиво оформляем. Названия, подписи и т.д.\n",
    "<br> 3. На одном графике одновременно сторим гистограммы и кривую плотности распределения вероятностей. Рядом \"ящик с усами\".\n",
    "<br> 4. Если на графике \"длинный хвост\" строим уточняющий, определив лимиты по \"ящику с усами\".\n",
    "</div>"
   ]
  },
  {
   "cell_type": "markdown",
   "id": "0bda3012",
   "metadata": {},
   "source": [
    "С помощью гистограмм можно увидеть, что наиболее часто появляются объявления о продаже квартир общей площадью до 90 кв.м., 1-2-х комнатные (реже трехкомнатные), с высотой потолка от 2,5 до 2,7 м., стоимостью за один метр квадратный до 150 тыс., расположенные на 1-5 этажах.  Стоимость квартиры нерепрезентативна - построим гистрограмму с другими параметрами."
   ]
  },
  {
   "cell_type": "code",
   "execution_count": 40,
   "id": "463fd34e",
   "metadata": {},
   "outputs": [
    {
     "data": {
      "image/png": "[encoded data removed]",
      "text/plain": [
       "<Figure size 1080x504 with 1 Axes>"
      ]
     },
     "metadata": {
      "needs_background": "light"
     },
     "output_type": "display_data"
    }
   ],
   "source": [
    "data.hist('last_price', bins=20, figsize = (15,7), grid=True, legend=True)\n",
    "plt.xlabel('Стоимость квартиры в 10 млн. руб.'), plt.ylabel('Количество объявлений')\n",
    "plt.show()"
   ]
  },
  {
   "cell_type": "markdown",
   "id": "539c88bd",
   "metadata": {},
   "source": [
    "Наиболее типично объявление со стоимостью работ до 4 млн. рублей"
   ]
  },
  {
   "cell_type": "markdown",
   "id": "d07363cf",
   "metadata": {},
   "source": [
    "<div style=\"border:solid green 2px; padding: 20px\"> <h1 style=\"color:green; margin-bottom:20px\">Комментарий </h1>\n",
    "График вообще не информативен. Смотри выше комментарий. Плюс есть правила выбора bins. \n",
    "</div>"
   ]
  },
  {
   "cell_type": "markdown",
   "id": "0f7756f4",
   "metadata": {},
   "source": [
    "### <a id='researching-days-exposition'><span style=\"color:black\">Исследование времени продажи квартиры</span></a>"
   ]
  },
  {
   "cell_type": "code",
   "execution_count": 41,
   "id": "575491ac",
   "metadata": {},
   "outputs": [
    {
     "data": {
      "image/png": "[encoded data removed]",
      "text/plain": [
       "<Figure size 432x288 with 1 Axes>"
      ]
     },
     "metadata": {
      "needs_background": "light"
     },
     "output_type": "display_data"
    },
    {
     "data": {
      "text/plain": [
       "count    23650.000000\n",
       "mean       169.222748\n",
       "std        206.550577\n",
       "min          1.000000\n",
       "25%         45.000000\n",
       "50%         95.000000\n",
       "75%        198.000000\n",
       "max       1580.000000\n",
       "Name: days_exposition, dtype: float64"
      ]
     },
     "metadata": {},
     "output_type": "display_data"
    }
   ],
   "source": [
    "data.hist(column = 'days_exposition', grid=True, legend=True)\n",
    "plt.show()\n",
    "display(data['days_exposition'].describe())"
   ]
  },
  {
   "cell_type": "code",
   "execution_count": 42,
   "id": "4b942713",
   "metadata": {},
   "outputs": [
    {
     "data": {
      "image/png": "[encoded data removed]",
      "text/plain": [
       "<Figure size 432x288 with 1 Axes>"
      ]
     },
     "metadata": {
      "needs_background": "light"
     },
     "output_type": "display_data"
    }
   ],
   "source": [
    "data.boxplot(column = 'days_exposition')\n",
    "plt.show()"
   ]
  },
  {
   "cell_type": "markdown",
   "id": "0a5959fd",
   "metadata": {},
   "source": [
    "Графики показывают, что наиболее часто квартиры продаются в первые 170 дней. При этом имеется длиный хвост до 1580 дней (более  4 лет). Диаграмма размаха показывает, что все значения после 430 являются выбросами. Описание данных показывает, что разброс данных составляет до 206 дней (скорее всего такие объявления уже теряют свою актуальность и 'висят' только потому, что их никто не снимает)."
   ]
  },
  {
   "cell_type": "markdown",
   "id": "4df17313",
   "metadata": {},
   "source": [
    "<div style=\"border:solid green 2px; padding: 20px\"> <h1 style=\"color:green; margin-bottom:20px\">Комментарий </h1>\n",
    "Прочитай про P10, P50 и P90. Иногда используются P5, P50 и P95.\n",
    "</div>"
   ]
  },
  {
   "cell_type": "markdown",
   "id": "01fd782b",
   "metadata": {},
   "source": [
    "### <a id='processing-rare&knockout-values'><span style=\"color:black\">Обработка необычных значений параметров</span></a>"
   ]
  },
  {
   "cell_type": "markdown",
   "id": "ba0ac662",
   "metadata": {},
   "source": [
    "С помощью графиков и расчетов определим выбросы в значениях основных параметров квартир."
   ]
  },
  {
   "cell_type": "code",
   "execution_count": 43,
   "id": "e0f5e851",
   "metadata": {},
   "outputs": [
    {
     "name": "stdout",
     "output_type": "stream",
     "text": [
      "Upper limit = 114.25\n"
     ]
    },
    {
     "data": {
      "image/png": "[encoded data removed]",
      "text/plain": [
       "<Figure size 432x288 with 1 Axes>"
      ]
     },
     "metadata": {
      "needs_background": "light"
     },
     "output_type": "display_data"
    },
    {
     "name": "stdout",
     "output_type": "stream",
     "text": [
      "Upper limit = 6.0\n"
     ]
    },
    {
     "data": {
      "image/png": "[encoded data removed]",
      "text/plain": [
       "<Figure size 432x288 with 1 Axes>"
      ]
     },
     "metadata": {
      "needs_background": "light"
     },
     "output_type": "display_data"
    },
    {
     "name": "stdout",
     "output_type": "stream",
     "text": [
      "Upper limit = 2.85\n",
      "Lower limit = 2.45\n"
     ]
    },
    {
     "data": {
      "image/png": "[encoded data removed]",
      "text/plain": [
       "<Figure size 432x288 with 1 Axes>"
      ]
     },
     "metadata": {
      "needs_background": "light"
     },
     "output_type": "display_data"
    },
    {
     "name": "stdout",
     "output_type": "stream",
     "text": [
      "Upper limit = 170762.95\n",
      "Lower limit = 20126.17\n"
     ]
    },
    {
     "data": {
      "image/png": "[encoded data removed]",
      "text/plain": [
       "<Figure size 432x288 with 1 Axes>"
      ]
     },
     "metadata": {
      "needs_background": "light"
     },
     "output_type": "display_data"
    },
    {
     "name": "stdout",
     "output_type": "stream",
     "text": [
      "Upper limit = 11897500.0\n"
     ]
    },
    {
     "data": {
      "image/png": "[encoded data removed]",
      "text/plain": [
       "<Figure size 432x288 with 1 Axes>"
      ]
     },
     "metadata": {
      "needs_background": "light"
     },
     "output_type": "display_data"
    },
    {
     "name": "stdout",
     "output_type": "stream",
     "text": [
      "Upper limit = 17.0\n"
     ]
    },
    {
     "data": {
      "image/png": "[encoded data removed]",
      "text/plain": [
       "<Figure size 432x288 with 1 Axes>"
      ]
     },
     "metadata": {
      "needs_background": "light"
     },
     "output_type": "display_data"
    }
   ],
   "source": [
    "def set_limit(feature):\n",
    "    Q3 = data[feature].quantile(0.75)\n",
    "    Q1 = data[feature].quantile(0.25)\n",
    "    IQR = Q3 - Q1\n",
    "    upper_limit = (Q3 + 1.5*IQR)\n",
    "    print(f'Upper limit = {round(upper_limit, 2)}')\n",
    "    lower_limit = (Q1 - 1.5*IQR)\n",
    "    if lower_limit > 0:\n",
    "        print(f'Lower limit = {round(lower_limit, 2)}')\n",
    "    limit = [round(upper_limit, 2), round(lower_limit, 2)]\n",
    "    return limit\n",
    "\n",
    "for feature in features:\n",
    "    sns.boxplot(data[feature])\n",
    "    set_limit(feature)\n",
    "    plt.show()"
   ]
  },
  {
   "cell_type": "markdown",
   "id": "d017cb04",
   "metadata": {},
   "source": [
    "<div style=\"border:solid green 2px; padding: 20px\"> <h1 style=\"color:green; margin-bottom:20px\">Комментарий </h1>\n",
    "И тут вопрос? Почему раньше не использовал seaborn в предыдущих графиках?\n",
    "<br> Лучше где-то в начале написать функцию для графика и использовать по всему ноутбуку.\n",
    "</div>"
   ]
  },
  {
   "cell_type": "markdown",
   "id": "f9165bf1",
   "metadata": {},
   "source": [
    "С помощью диаграмм размаха и произведенных расчетов можно выявить не типичные значения, которые являются выбросами. Такие данные могут соответствовать реальным отклонениям, но могут быть и просто ошибками. Попробуем отбросить не типичные значения и построим новые гистрограммы."
   ]
  },
  {
   "cell_type": "code",
   "execution_count": 44,
   "id": "64824e3a",
   "metadata": {},
   "outputs": [
    {
     "name": "stdout",
     "output_type": "stream",
     "text": [
      "Upper limit = 114.25\n"
     ]
    },
    {
     "data": {
      "image/png": "[encoded data removed]",
      "text/plain": [
       "<Figure size 504x216 with 1 Axes>"
      ]
     },
     "metadata": {
      "needs_background": "light"
     },
     "output_type": "display_data"
    },
    {
     "name": "stdout",
     "output_type": "stream",
     "text": [
      "Upper limit = 6.0\n"
     ]
    },
    {
     "data": {
      "image/png": "[encoded data removed]",
      "text/plain": [
       "<Figure size 504x216 with 1 Axes>"
      ]
     },
     "metadata": {
      "needs_background": "light"
     },
     "output_type": "display_data"
    },
    {
     "name": "stdout",
     "output_type": "stream",
     "text": [
      "Upper limit = 2.85\n",
      "Lower limit = 2.45\n"
     ]
    },
    {
     "data": {
      "image/png": "[encoded data removed]",
      "text/plain": [
       "<Figure size 504x216 with 1 Axes>"
      ]
     },
     "metadata": {
      "needs_background": "light"
     },
     "output_type": "display_data"
    },
    {
     "name": "stdout",
     "output_type": "stream",
     "text": [
      "Upper limit = 170762.95\n",
      "Lower limit = 20126.17\n"
     ]
    },
    {
     "data": {
      "image/png": "[encoded data removed]",
      "text/plain": [
       "<Figure size 504x216 with 1 Axes>"
      ]
     },
     "metadata": {
      "needs_background": "light"
     },
     "output_type": "display_data"
    },
    {
     "name": "stdout",
     "output_type": "stream",
     "text": [
      "Upper limit = 11897500.0\n"
     ]
    },
    {
     "data": {
      "image/png": "[encoded data removed]",
      "text/plain": [
       "<Figure size 504x216 with 1 Axes>"
      ]
     },
     "metadata": {
      "needs_background": "light"
     },
     "output_type": "display_data"
    },
    {
     "name": "stdout",
     "output_type": "stream",
     "text": [
      "Upper limit = 17.0\n"
     ]
    },
    {
     "data": {
      "image/png": "[encoded data removed]",
      "text/plain": [
       "<Figure size 504x216 with 1 Axes>"
      ]
     },
     "metadata": {
      "needs_background": "light"
     },
     "output_type": "display_data"
    }
   ],
   "source": [
    "features = ['total_area', 'rooms', 'ceiling_height', 'price_per_meter', 'last_price', 'floor']\n",
    "for feature in features:\n",
    "    limit = set_limit(feature)\n",
    "    clean_data = data[(data[feature] <= limit[0]) & (data[feature] >= limit[1])]\n",
    "    clean_data.hist(feature, bins=100, figsize = (7,3), grid=True, legend=True)\n",
    "    plt.show()"
   ]
  },
  {
   "cell_type": "markdown",
   "id": "aba478f0",
   "metadata": {},
   "source": [
    "После обработки выбрасов гистаграммы прибрели более репрезентативный вид. Обработка редких и выбивающихся значений является помогает выявить и отсечь не типичное поведение данных, что в итоге позволяет сделать выводы, которые могут быть применены в большинстве ситуаций. "
   ]
  },
  {
   "cell_type": "markdown",
   "id": "41bc4718",
   "metadata": {},
   "source": [
    "<div style=\"border:solid green 2px; padding: 20px\"> <h1 style=\"color:green; margin-bottom:20px\">Комментарий </h1>\n",
    "Тут хорошо.\n",
    "<br> Можно все сделать компактнее, комментарий выше.\n",
    "</div>"
   ]
  },
  {
   "cell_type": "markdown",
   "id": "94613eac",
   "metadata": {},
   "source": [
    "### <a id='research-factors-affecting-cost'><span style=\"color:black\">Исследование факторов, влияющих на стоимость квартиры</span></a>"
   ]
  },
  {
   "cell_type": "code",
   "execution_count": 45,
   "id": "70ad8eab",
   "metadata": {},
   "outputs": [
    {
     "name": "stdout",
     "output_type": "stream",
     "text": [
      "Значение коэффициента корреляции Пирсона составил 0.64, что соответствует заметной связи между last_price и total_area.\n"
     ]
    },
    {
     "data": {
      "image/png": "[encoded data removed]",
      "text/plain": [
       "<Figure size 576x432 with 2 Axes>"
      ]
     },
     "metadata": {
      "needs_background": "light"
     },
     "output_type": "display_data"
    },
    {
     "name": "stdout",
     "output_type": "stream",
     "text": [
      "Значение коэффициента корреляции Пирсона составил 0.5, что соответствует заметной связи между last_price и kitchen_area.\n"
     ]
    },
    {
     "data": {
      "image/png": "[encoded data removed]",
      "text/plain": [
       "<Figure size 576x432 with 2 Axes>"
      ]
     },
     "metadata": {
      "needs_background": "light"
     },
     "output_type": "display_data"
    },
    {
     "name": "stdout",
     "output_type": "stream",
     "text": [
      "Значение коэффициента корреляции Пирсона составил 0.58, что соответствует заметной связи между last_price и living_area.\n"
     ]
    },
    {
     "data": {
      "image/png": "[encoded data removed]",
      "text/plain": [
       "<Figure size 576x432 with 2 Axes>"
      ]
     },
     "metadata": {
      "needs_background": "light"
     },
     "output_type": "display_data"
    },
    {
     "name": "stdout",
     "output_type": "stream",
     "text": [
      "Значение коэффициента корреляции Пирсона составил 0.36, что соответствует умереной связи между last_price и rooms.\n"
     ]
    },
    {
     "data": {
      "image/png": "[encoded data removed]",
      "text/plain": [
       "<Figure size 576x432 with 2 Axes>"
      ]
     },
     "metadata": {
      "needs_background": "light"
     },
     "output_type": "display_data"
    },
    {
     "name": "stdout",
     "output_type": "stream",
     "text": [
      "Значение коэффициента корреляции Пирсона составил 0.29, что соответствует слабой связи между last_price и ceiling_height.\n"
     ]
    },
    {
     "data": {
      "image/png": "[encoded data removed]",
      "text/plain": [
       "<Figure size 576x432 with 2 Axes>"
      ]
     },
     "metadata": {
      "needs_background": "light"
     },
     "output_type": "display_data"
    },
    {
     "name": "stdout",
     "output_type": "stream",
     "text": [
      "Значение коэффициента корреляции Пирсона составил 0.03, что соответствует слабой связи между last_price и floor.\n"
     ]
    },
    {
     "data": {
      "image/png": "[encoded data removed]",
      "text/plain": [
       "<Figure size 576x432 with 2 Axes>"
      ]
     },
     "metadata": {
      "needs_background": "light"
     },
     "output_type": "display_data"
    },
    {
     "name": "stdout",
     "output_type": "stream",
     "text": [
      "Значение коэффициента корреляции Пирсона составил -0.27, что соответствует слабой связи между last_price и cityCenters_nearest.\n"
     ]
    },
    {
     "data": {
      "image/png": "[encoded data removed]",
      "text/plain": [
       "<Figure size 576x432 with 2 Axes>"
      ]
     },
     "metadata": {
      "needs_background": "light"
     },
     "output_type": "display_data"
    }
   ],
   "source": [
    "def set_correlation_coefficient(data, col):\n",
    "    if (round(data['last_price'].corr(data[col]))) < 0:\n",
    "        cor = 'отрицательной '\n",
    "    else: cor = ''\n",
    "        \n",
    "    if abs(data['last_price'].corr(data[col])) < 0.3:\n",
    "        cor += 'слабой'\n",
    "    elif abs(data['last_price'].corr(data[col])) < 0.5:\n",
    "        cor += 'умереной'\n",
    "    elif abs(data['last_price'].corr(data[col])) < 0.7:\n",
    "        cor += 'заметной'\n",
    "    elif abs(data['last_price'].corr(data[col])) < 0.9:\n",
    "        cor += 'высокой'\n",
    "    elif abs(clean_data['last_price'].corr(data[col])) < 1:\n",
    "        cor += 'весьма высокой'\n",
    "    elif abs(data['last_price'].corr(data[col])) == 1:\n",
    "        cor += 'абсолютной'\n",
    "    correlation = f'Значение коэффициента корреляции Пирсона составил {round(data[\"last_price\"].corr(data[col]), 2)}, что соответствует {cor} связи между last_price и {col}.'\n",
    "    print(correlation)\n",
    "\n",
    "features = ['total_area', 'kitchen_area', 'living_area', 'rooms', 'ceiling_height', 'floor', 'cityCenters_nearest']\n",
    "for feature in features:\n",
    "    clean_data.plot(kind='hexbin', x = 'last_price', y = feature, gridsize=10, figsize=(8, 6), sharex=False, grid=True)\n",
    "    set_correlation_coefficient(clean_data, feature)\n",
    "    plt.show()"
   ]
  },
  {
   "cell_type": "markdown",
   "id": "f5a4268b",
   "metadata": {},
   "source": [
    "<div style=\"border:solid green 2px; padding: 20px\"> <h1 style=\"color:green; margin-bottom:20px\">Комментарий </h1>\n",
    "Используй sns.pairplot.\n",
    "</div>"
   ]
  },
  {
   "cell_type": "markdown",
   "id": "65e5da73",
   "metadata": {},
   "source": [
    "1. Зависимость цены от площади.\n",
    "Как и ожидалось наибольшая зависимость стоимости квартиры наблюдается от площади, заметная корреляция имеется по всем трем показателям: общая площадь, жилая площадь, площадь кухни. Наибольший коэффициент корреляции составил 0.64, показывающий связь между общей площадью и ценой.\n",
    "\n",
    "2. Зависимость цены от числа комнат.\n",
    "Зависимости нет, коэффициент корреляции Пирсона равен 0.36. При этом на диаграмме наблюдается следующая картина: при увеличении количества комнат от 3 до 5 уменьшается стоимость квартиры. Возможно это связано с общей площадью, т.е. площадь может быть не большой, а количество маленьких комнат больше, чем например в квартире-студии большей общей площади.\n",
    "\n",
    "3. Зависимость цены от этажа.\n",
    "Зависимости не наблюдается, коэффициент корреляции Пирсона равен 0.03.\n",
    "\n",
    "4. Зависимость цены от высоты потолка.\n",
    "Зависимости не наблюдается, коэффициент корреляции Пирсона равен 0.29.\n",
    "\n",
    "5. Зависимость цены от удаленности от центра.\n",
    "Коэффициент корреляции Пирсона равен -0.27. Коэффициент отрицательный, что логично, т.к. при большем расстоянии от центра количество дорогих квартир падает."
   ]
  },
  {
   "cell_type": "markdown",
   "id": "17f3f2d2",
   "metadata": {},
   "source": [
    "Рассмотрим подробнее зависимость стоимости квартиры от ее расположения (этажности)."
   ]
  },
  {
   "cell_type": "code",
   "execution_count": 46,
   "id": "925e2ed1",
   "metadata": {},
   "outputs": [
    {
     "data": {
      "image/png": "[encoded data removed]",
      "text/plain": [
       "<Figure size 432x288 with 1 Axes>"
      ]
     },
     "metadata": {
      "needs_background": "light"
     },
     "output_type": "display_data"
    }
   ],
   "source": [
    "report = data.groupby('floor_category').agg({'last_price' : 'median'});\n",
    "report.plot(kind='line');"
   ]
  },
  {
   "cell_type": "markdown",
   "id": "46cc9bd2",
   "metadata": {},
   "source": [
    "<div style=\"border:solid green 2px; padding: 20px\"> <h1 style=\"color:green; margin-bottom:20px\">Комментарий </h1>\n",
    "Больше на галочку похоже). Тут больше гистограмма подходит.\n",
    "</div>"
   ]
  },
  {
   "cell_type": "markdown",
   "id": "3103a6bd",
   "metadata": {},
   "source": [
    "На графике явно видно, что цена на первых и последних этажах ниже, чем на средних этажах. С развитием коммерческой недвижимости на первых этажах можно ожидать, что такая зависимость может изменится."
   ]
  },
  {
   "cell_type": "markdown",
   "id": "3fd88cbb",
   "metadata": {},
   "source": [
    "Рассмотрим есть зависимость от времени подачи размещения объявления."
   ]
  },
  {
   "cell_type": "code",
   "execution_count": 47,
   "id": "cd9851a0",
   "metadata": {},
   "outputs": [
    {
     "name": "stdout",
     "output_type": "stream",
     "text": [
      "Значение коэффициента корреляции Пирсона составил 0.0, что соответствует слабой связи между last_price и weekday_exposition.\n"
     ]
    },
    {
     "data": {
      "image/png": "[encoded data removed]",
      "text/plain": [
       "<Figure size 576x432 with 2 Axes>"
      ]
     },
     "metadata": {
      "needs_background": "light"
     },
     "output_type": "display_data"
    },
    {
     "name": "stdout",
     "output_type": "stream",
     "text": [
      "Значение коэффициента корреляции Пирсона составил 0.0, что соответствует слабой связи между last_price и month_exposition.\n"
     ]
    },
    {
     "data": {
      "image/png": "[encoded data removed]",
      "text/plain": [
       "<Figure size 576x432 with 2 Axes>"
      ]
     },
     "metadata": {
      "needs_background": "light"
     },
     "output_type": "display_data"
    },
    {
     "name": "stdout",
     "output_type": "stream",
     "text": [
      "Значение коэффициента корреляции Пирсона составил -0.05, что соответствует слабой связи между last_price и year_exposition.\n"
     ]
    },
    {
     "data": {
      "image/png": "[encoded data removed]",
      "text/plain": [
       "<Figure size 576x432 with 2 Axes>"
      ]
     },
     "metadata": {
      "needs_background": "light"
     },
     "output_type": "display_data"
    }
   ],
   "source": [
    "features = ['weekday_exposition', 'month_exposition', 'year_exposition']\n",
    "for feature in features:\n",
    "    clean_data.plot(kind='hexbin', x = 'last_price', y = feature, gridsize=10, figsize=(8, 6), sharex=False, grid=True)\n",
    "    set_correlation_coefficient(clean_data, feature)\n",
    "    plt.show()"
   ]
  },
  {
   "cell_type": "markdown",
   "id": "b5bb5c88",
   "metadata": {},
   "source": [
    "Диаграмы и расчет коэффициента корреляции показывают, что зависимости между временем подачи объявления и стоимость квартиры нет."
   ]
  },
  {
   "cell_type": "markdown",
   "id": "36b1a2c9",
   "metadata": {},
   "source": [
    "<div style=\"border:solid green 2px; padding: 20px\"> <h1 style=\"color:green; margin-bottom:20px\">Комментарий </h1>\n",
    "Используй sns.pairplot  как и выше будет информативнее.\n",
    "</div>"
   ]
  },
  {
   "cell_type": "markdown",
   "id": "49beaf36",
   "metadata": {},
   "source": [
    "###  <a id='research-exposition-location'><span style=\"color:black\">Исследование 10 населённых пунктов с наибольшим числом объявлений</span></a> "
   ]
  },
  {
   "cell_type": "code",
   "execution_count": 48,
   "id": "c96be3f9",
   "metadata": {},
   "outputs": [
    {
     "name": "stdout",
     "output_type": "stream",
     "text": [
      "                 first_day_exposition  last_price\n",
      "locality_name                                    \n",
      "Санкт-Петербург                 15093   5500000.0\n",
      "Пушкин                            369   5180000.0\n",
      "Парголово                         238   4145000.0\n",
      "Шушары                            399   3990000.0\n",
      "Кудрово                           413   3900000.0\n",
      "Колпино                           336   3600000.0\n",
      "Всеволожск                        397   3450000.0\n",
      "Мурино                            504   3400000.0\n",
      "Гатчина                           307   3100000.0\n",
      "Выборг                            237   2897000.0\n"
     ]
    },
    {
     "data": {
      "image/png": "[encoded data removed]",
      "text/plain": [
       "<Figure size 504x504 with 1 Axes>"
      ]
     },
     "metadata": {},
     "output_type": "display_data"
    }
   ],
   "source": [
    "publication_by_location = (\n",
    "    clean_data.groupby('locality_name')\n",
    "    .agg({'first_day_exposition': 'count', 'last_price': 'median'})\n",
    "    .sort_values('first_day_exposition', ascending=False)\n",
    "    .head(10)\n",
    ")\n",
    "\n",
    "\n",
    "print(publication_by_location.sort_values('last_price', ascending=False))\n",
    "publication_by_location.plot(y='first_day_exposition', kind='pie', figsize=(7, 7))\n",
    "plt.show()"
   ]
  },
  {
   "cell_type": "markdown",
   "id": "346d2801",
   "metadata": {},
   "source": [
    "<div style=\"border:solid green 2px; padding: 20px\"> <h1 style=\"color:green; margin-bottom:20px\">Комментарий </h1>\n",
    "Всегда сортируй. Гистограмма с подписанными значениями компактней.\n",
    "</div>"
   ]
  },
  {
   "cell_type": "markdown",
   "id": "5403421a",
   "metadata": {},
   "source": [
    "Анализ данных 10 населённых пунктов с наибольшим числом объявлений показывает, что количество объявление в Санкт-Петербурге более чем в 3 раза превышает общее количество объявлений в 9 пригородах. При этом стоимость квартиры в Пушкино не сильно уступает стоимости квартиры в Санкт-Петербурге. Наименьшая стоимость квартир из данной выборки наблюдается в Выборге."
   ]
  },
  {
   "cell_type": "markdown",
   "id": "3c9b36ca",
   "metadata": {},
   "source": [
    "<div style=\"border:solid green 2px; padding: 20px\"> <h1 style=\"color:green; margin-bottom:20px\">Комментарий </h1>\n",
    "Не нашел ответа на вопрос \"Выделите населённые пункты с самой высокой и низкой стоимостью жилья\" в задании. \n",
    "</div>"
   ]
  },
  {
   "cell_type": "markdown",
   "id": "ad68b866",
   "metadata": {},
   "source": [
    "### <a id='research-centre-or-no-centre'><span style=\"color:black\">Исследование характеристик типичных квартир в центре и вне центра</span></a> "
   ]
  },
  {
   "cell_type": "markdown",
   "id": "6d41fedc",
   "metadata": {},
   "source": [
    "Для исследования характеристик типичных квартир в центре и вне центра определим какое расстояния будет разделять эти категории. Так как разбежка в расстоянии до центра довольна велика возьмем за основу первый квартиль."
   ]
  },
  {
   "cell_type": "code",
   "execution_count": 49,
   "id": "6ff3a5bb",
   "metadata": {},
   "outputs": [
    {
     "data": {
      "text/html": [
       "<div>\n",
       "<style scoped>\n",
       "    .dataframe tbody tr th:only-of-type {\n",
       "        vertical-align: middle;\n",
       "    }\n",
       "\n",
       "    .dataframe tbody tr th {\n",
       "        vertical-align: top;\n",
       "    }\n",
       "\n",
       "    .dataframe thead th {\n",
       "        text-align: right;\n",
       "    }\n",
       "</style>\n",
       "<table border=\"1\" class=\"dataframe\">\n",
       "  <thead>\n",
       "    <tr style=\"text-align: right;\">\n",
       "      <th></th>\n",
       "      <th>last_price</th>\n",
       "      <th>total_area</th>\n",
       "      <th>rooms</th>\n",
       "      <th>ceiling_height</th>\n",
       "      <th>floors_total</th>\n",
       "      <th>living_area</th>\n",
       "      <th>floor</th>\n",
       "      <th>kitchen_area</th>\n",
       "      <th>balcony</th>\n",
       "      <th>airports_nearest</th>\n",
       "      <th>cityCenters_nearest</th>\n",
       "      <th>parks_around3000</th>\n",
       "      <th>parks_nearest</th>\n",
       "      <th>ponds_around3000</th>\n",
       "      <th>ponds_nearest</th>\n",
       "      <th>days_exposition</th>\n",
       "      <th>price_per_meter</th>\n",
       "      <th>weekday_exposition</th>\n",
       "      <th>month_exposition</th>\n",
       "      <th>year_exposition</th>\n",
       "      <th>ratio_living_total_area</th>\n",
       "      <th>ratio_kitchen_total_area</th>\n",
       "    </tr>\n",
       "  </thead>\n",
       "  <tbody>\n",
       "    <tr>\n",
       "      <th>count</th>\n",
       "      <td>5.687000e+03</td>\n",
       "      <td>5687.000000</td>\n",
       "      <td>5687.000000</td>\n",
       "      <td>5687.000000</td>\n",
       "      <td>5687.000000</td>\n",
       "      <td>5687.000000</td>\n",
       "      <td>5687.000000</td>\n",
       "      <td>5687.000000</td>\n",
       "      <td>5687.000000</td>\n",
       "      <td>5676.000000</td>\n",
       "      <td>5687.000000</td>\n",
       "      <td>5687.000000</td>\n",
       "      <td>3612.000000</td>\n",
       "      <td>5687.000000</td>\n",
       "      <td>3591.000000</td>\n",
       "      <td>5687.000000</td>\n",
       "      <td>5.687000e+03</td>\n",
       "      <td>5687.000000</td>\n",
       "      <td>5687.000000</td>\n",
       "      <td>5687.000000</td>\n",
       "      <td>5687.000000</td>\n",
       "      <td>5687.000000</td>\n",
       "    </tr>\n",
       "    <tr>\n",
       "      <th>mean</th>\n",
       "      <td>1.195239e+07</td>\n",
       "      <td>80.690139</td>\n",
       "      <td>2.550202</td>\n",
       "      <td>2.850536</td>\n",
       "      <td>8.338140</td>\n",
       "      <td>47.381345</td>\n",
       "      <td>4.618252</td>\n",
       "      <td>13.037834</td>\n",
       "      <td>0.359240</td>\n",
       "      <td>26529.784531</td>\n",
       "      <td>6384.097767</td>\n",
       "      <td>0.939335</td>\n",
       "      <td>502.423588</td>\n",
       "      <td>1.117988</td>\n",
       "      <td>475.253968</td>\n",
       "      <td>204.304203</td>\n",
       "      <td>1.338174e+05</td>\n",
       "      <td>2.534904</td>\n",
       "      <td>6.359065</td>\n",
       "      <td>2017.238439</td>\n",
       "      <td>0.577980</td>\n",
       "      <td>0.175026</td>\n",
       "    </tr>\n",
       "    <tr>\n",
       "      <th>std</th>\n",
       "      <td>1.976582e+07</td>\n",
       "      <td>52.820262</td>\n",
       "      <td>1.352387</td>\n",
       "      <td>0.324442</td>\n",
       "      <td>4.949175</td>\n",
       "      <td>33.789388</td>\n",
       "      <td>3.230129</td>\n",
       "      <td>8.703270</td>\n",
       "      <td>0.683079</td>\n",
       "      <td>7835.539245</td>\n",
       "      <td>2754.899949</td>\n",
       "      <td>0.893765</td>\n",
       "      <td>402.546255</td>\n",
       "      <td>1.093407</td>\n",
       "      <td>267.064639</td>\n",
       "      <td>245.007166</td>\n",
       "      <td>7.796615e+04</td>\n",
       "      <td>1.750676</td>\n",
       "      <td>3.447072</td>\n",
       "      <td>1.117812</td>\n",
       "      <td>0.105687</td>\n",
       "      <td>0.076596</td>\n",
       "    </tr>\n",
       "    <tr>\n",
       "      <th>min</th>\n",
       "      <td>1.600000e+06</td>\n",
       "      <td>12.000000</td>\n",
       "      <td>0.000000</td>\n",
       "      <td>2.400000</td>\n",
       "      <td>2.000000</td>\n",
       "      <td>2.000000</td>\n",
       "      <td>1.000000</td>\n",
       "      <td>0.000000</td>\n",
       "      <td>0.000000</td>\n",
       "      <td>9258.000000</td>\n",
       "      <td>181.000000</td>\n",
       "      <td>0.000000</td>\n",
       "      <td>9.000000</td>\n",
       "      <td>0.000000</td>\n",
       "      <td>22.000000</td>\n",
       "      <td>2.000000</td>\n",
       "      <td>1.534527e+04</td>\n",
       "      <td>0.000000</td>\n",
       "      <td>1.000000</td>\n",
       "      <td>2014.000000</td>\n",
       "      <td>0.021583</td>\n",
       "      <td>0.000000</td>\n",
       "    </tr>\n",
       "    <tr>\n",
       "      <th>25%</th>\n",
       "      <td>5.300000e+06</td>\n",
       "      <td>47.000000</td>\n",
       "      <td>2.000000</td>\n",
       "      <td>2.650000</td>\n",
       "      <td>5.000000</td>\n",
       "      <td>27.400000</td>\n",
       "      <td>2.000000</td>\n",
       "      <td>8.000000</td>\n",
       "      <td>0.000000</td>\n",
       "      <td>21710.500000</td>\n",
       "      <td>4327.000000</td>\n",
       "      <td>0.000000</td>\n",
       "      <td>285.000000</td>\n",
       "      <td>0.000000</td>\n",
       "      <td>248.500000</td>\n",
       "      <td>60.000000</td>\n",
       "      <td>9.712912e+04</td>\n",
       "      <td>1.000000</td>\n",
       "      <td>3.000000</td>\n",
       "      <td>2017.000000</td>\n",
       "      <td>0.521132</td>\n",
       "      <td>0.124701</td>\n",
       "    </tr>\n",
       "    <tr>\n",
       "      <th>50%</th>\n",
       "      <td>7.730000e+06</td>\n",
       "      <td>68.000000</td>\n",
       "      <td>2.000000</td>\n",
       "      <td>2.680000</td>\n",
       "      <td>6.000000</td>\n",
       "      <td>39.000000</td>\n",
       "      <td>4.000000</td>\n",
       "      <td>10.600000</td>\n",
       "      <td>0.000000</td>\n",
       "      <td>25277.500000</td>\n",
       "      <td>6031.000000</td>\n",
       "      <td>1.000000</td>\n",
       "      <td>441.000000</td>\n",
       "      <td>1.000000</td>\n",
       "      <td>454.000000</td>\n",
       "      <td>95.000000</td>\n",
       "      <td>1.163522e+05</td>\n",
       "      <td>3.000000</td>\n",
       "      <td>6.000000</td>\n",
       "      <td>2017.000000</td>\n",
       "      <td>0.576737</td>\n",
       "      <td>0.162791</td>\n",
       "    </tr>\n",
       "    <tr>\n",
       "      <th>75%</th>\n",
       "      <td>1.200000e+07</td>\n",
       "      <td>95.700000</td>\n",
       "      <td>3.000000</td>\n",
       "      <td>3.000000</td>\n",
       "      <td>10.000000</td>\n",
       "      <td>56.650000</td>\n",
       "      <td>6.000000</td>\n",
       "      <td>15.000000</td>\n",
       "      <td>0.000000</td>\n",
       "      <td>31460.000000</td>\n",
       "      <td>8875.500000</td>\n",
       "      <td>1.000000</td>\n",
       "      <td>602.000000</td>\n",
       "      <td>2.000000</td>\n",
       "      <td>674.500000</td>\n",
       "      <td>252.000000</td>\n",
       "      <td>1.445783e+05</td>\n",
       "      <td>4.000000</td>\n",
       "      <td>9.000000</td>\n",
       "      <td>2018.000000</td>\n",
       "      <td>0.650602</td>\n",
       "      <td>0.203061</td>\n",
       "    </tr>\n",
       "    <tr>\n",
       "      <th>max</th>\n",
       "      <td>7.630000e+08</td>\n",
       "      <td>631.200000</td>\n",
       "      <td>19.000000</td>\n",
       "      <td>4.900000</td>\n",
       "      <td>28.000000</td>\n",
       "      <td>409.000000</td>\n",
       "      <td>17.000000</td>\n",
       "      <td>107.000000</td>\n",
       "      <td>5.000000</td>\n",
       "      <td>44831.000000</td>\n",
       "      <td>10842.000000</td>\n",
       "      <td>3.000000</td>\n",
       "      <td>3190.000000</td>\n",
       "      <td>3.000000</td>\n",
       "      <td>1313.000000</td>\n",
       "      <td>1572.000000</td>\n",
       "      <td>1.907500e+06</td>\n",
       "      <td>6.000000</td>\n",
       "      <td>12.000000</td>\n",
       "      <td>2019.000000</td>\n",
       "      <td>0.983447</td>\n",
       "      <td>0.636986</td>\n",
       "    </tr>\n",
       "  </tbody>\n",
       "</table>\n",
       "</div>"
      ],
      "text/plain": [
       "         last_price   total_area        rooms  ceiling_height  floors_total  \\\n",
       "count  5.687000e+03  5687.000000  5687.000000     5687.000000   5687.000000   \n",
       "mean   1.195239e+07    80.690139     2.550202        2.850536      8.338140   \n",
       "std    1.976582e+07    52.820262     1.352387        0.324442      4.949175   \n",
       "min    1.600000e+06    12.000000     0.000000        2.400000      2.000000   \n",
       "25%    5.300000e+06    47.000000     2.000000        2.650000      5.000000   \n",
       "50%    7.730000e+06    68.000000     2.000000        2.680000      6.000000   \n",
       "75%    1.200000e+07    95.700000     3.000000        3.000000     10.000000   \n",
       "max    7.630000e+08   631.200000    19.000000        4.900000     28.000000   \n",
       "\n",
       "       living_area        floor  kitchen_area      balcony  airports_nearest  \\\n",
       "count  5687.000000  5687.000000   5687.000000  5687.000000       5676.000000   \n",
       "mean     47.381345     4.618252     13.037834     0.359240      26529.784531   \n",
       "std      33.789388     3.230129      8.703270     0.683079       7835.539245   \n",
       "min       2.000000     1.000000      0.000000     0.000000       9258.000000   \n",
       "25%      27.400000     2.000000      8.000000     0.000000      21710.500000   \n",
       "50%      39.000000     4.000000     10.600000     0.000000      25277.500000   \n",
       "75%      56.650000     6.000000     15.000000     0.000000      31460.000000   \n",
       "max     409.000000    17.000000    107.000000     5.000000      44831.000000   \n",
       "\n",
       "       cityCenters_nearest  parks_around3000  parks_nearest  ponds_around3000  \\\n",
       "count          5687.000000       5687.000000    3612.000000       5687.000000   \n",
       "mean           6384.097767          0.939335     502.423588          1.117988   \n",
       "std            2754.899949          0.893765     402.546255          1.093407   \n",
       "min             181.000000          0.000000       9.000000          0.000000   \n",
       "25%            4327.000000          0.000000     285.000000          0.000000   \n",
       "50%            6031.000000          1.000000     441.000000          1.000000   \n",
       "75%            8875.500000          1.000000     602.000000          2.000000   \n",
       "max           10842.000000          3.000000    3190.000000          3.000000   \n",
       "\n",
       "       ponds_nearest  days_exposition  price_per_meter  weekday_exposition  \\\n",
       "count    3591.000000      5687.000000     5.687000e+03         5687.000000   \n",
       "mean      475.253968       204.304203     1.338174e+05            2.534904   \n",
       "std       267.064639       245.007166     7.796615e+04            1.750676   \n",
       "min        22.000000         2.000000     1.534527e+04            0.000000   \n",
       "25%       248.500000        60.000000     9.712912e+04            1.000000   \n",
       "50%       454.000000        95.000000     1.163522e+05            3.000000   \n",
       "75%       674.500000       252.000000     1.445783e+05            4.000000   \n",
       "max      1313.000000      1572.000000     1.907500e+06            6.000000   \n",
       "\n",
       "       month_exposition  year_exposition  ratio_living_total_area  \\\n",
       "count       5687.000000      5687.000000              5687.000000   \n",
       "mean           6.359065      2017.238439                 0.577980   \n",
       "std            3.447072         1.117812                 0.105687   \n",
       "min            1.000000      2014.000000                 0.021583   \n",
       "25%            3.000000      2017.000000                 0.521132   \n",
       "50%            6.000000      2017.000000                 0.576737   \n",
       "75%            9.000000      2018.000000                 0.650602   \n",
       "max           12.000000      2019.000000                 0.983447   \n",
       "\n",
       "       ratio_kitchen_total_area  \n",
       "count               5687.000000  \n",
       "mean                   0.175026  \n",
       "std                    0.076596  \n",
       "min                    0.000000  \n",
       "25%                    0.124701  \n",
       "50%                    0.162791  \n",
       "75%                    0.203061  \n",
       "max                    0.636986  "
      ]
     },
     "metadata": {},
     "output_type": "display_data"
    }
   ],
   "source": [
    "flats_center = clean_data[clean_data['cityCenters_nearest'] <= clean_data['cityCenters_nearest'].quantile(0.25)]\n",
    "display(flats_center.describe())"
   ]
  },
  {
   "cell_type": "code",
   "execution_count": 50,
   "id": "1510cd88",
   "metadata": {},
   "outputs": [],
   "source": [
    "typical_center = flats_center[(flats_center['total_area'] >= 47) & (flats_center['total_area'] <= 95.7)\n",
    "                             & (flats_center['rooms'] >= 2) & (flats_center['rooms'] <= 3)\n",
    "                             & (flats_center['floor'] >= 2) & (flats_center['floor'] <= 6)]"
   ]
  },
  {
   "cell_type": "code",
   "execution_count": 51,
   "id": "7f85baae",
   "metadata": {},
   "outputs": [
    {
     "data": {
      "text/html": [
       "<div>\n",
       "<style scoped>\n",
       "    .dataframe tbody tr th:only-of-type {\n",
       "        vertical-align: middle;\n",
       "    }\n",
       "\n",
       "    .dataframe tbody tr th {\n",
       "        vertical-align: top;\n",
       "    }\n",
       "\n",
       "    .dataframe thead th {\n",
       "        text-align: right;\n",
       "    }\n",
       "</style>\n",
       "<table border=\"1\" class=\"dataframe\">\n",
       "  <thead>\n",
       "    <tr style=\"text-align: right;\">\n",
       "      <th></th>\n",
       "      <th>last_price</th>\n",
       "      <th>total_area</th>\n",
       "      <th>rooms</th>\n",
       "      <th>ceiling_height</th>\n",
       "      <th>floors_total</th>\n",
       "      <th>living_area</th>\n",
       "      <th>floor</th>\n",
       "      <th>kitchen_area</th>\n",
       "      <th>balcony</th>\n",
       "      <th>airports_nearest</th>\n",
       "      <th>cityCenters_nearest</th>\n",
       "      <th>parks_around3000</th>\n",
       "      <th>parks_nearest</th>\n",
       "      <th>ponds_around3000</th>\n",
       "      <th>ponds_nearest</th>\n",
       "      <th>days_exposition</th>\n",
       "      <th>price_per_meter</th>\n",
       "      <th>weekday_exposition</th>\n",
       "      <th>month_exposition</th>\n",
       "      <th>year_exposition</th>\n",
       "      <th>ratio_living_total_area</th>\n",
       "      <th>ratio_kitchen_total_area</th>\n",
       "    </tr>\n",
       "  </thead>\n",
       "  <tbody>\n",
       "    <tr>\n",
       "      <th>count</th>\n",
       "      <td>1.705000e+04</td>\n",
       "      <td>17050.000000</td>\n",
       "      <td>17050.000000</td>\n",
       "      <td>17050.000000</td>\n",
       "      <td>17050.000000</td>\n",
       "      <td>17050.000000</td>\n",
       "      <td>17050.000000</td>\n",
       "      <td>17050.000000</td>\n",
       "      <td>17050.000000</td>\n",
       "      <td>11690.000000</td>\n",
       "      <td>17050.000000</td>\n",
       "      <td>11702.000000</td>\n",
       "      <td>4283.000000</td>\n",
       "      <td>11702.000000</td>\n",
       "      <td>5175.000000</td>\n",
       "      <td>17050.000000</td>\n",
       "      <td>17050.000000</td>\n",
       "      <td>17050.000000</td>\n",
       "      <td>17050.000000</td>\n",
       "      <td>17050.000000</td>\n",
       "      <td>17050.000000</td>\n",
       "      <td>17050.000000</td>\n",
       "    </tr>\n",
       "    <tr>\n",
       "      <th>mean</th>\n",
       "      <td>4.715317e+06</td>\n",
       "      <td>53.617804</td>\n",
       "      <td>1.929795</td>\n",
       "      <td>2.644951</td>\n",
       "      <td>10.740762</td>\n",
       "      <td>30.562073</td>\n",
       "      <td>5.505806</td>\n",
       "      <td>9.496255</td>\n",
       "      <td>0.580938</td>\n",
       "      <td>29767.712660</td>\n",
       "      <td>21778.697126</td>\n",
       "      <td>0.474107</td>\n",
       "      <td>476.987625</td>\n",
       "      <td>0.613399</td>\n",
       "      <td>547.669565</td>\n",
       "      <td>157.796774</td>\n",
       "      <td>87405.329197</td>\n",
       "      <td>2.576070</td>\n",
       "      <td>6.409032</td>\n",
       "      <td>2017.415367</td>\n",
       "      <td>0.564242</td>\n",
       "      <td>0.185849</td>\n",
       "    </tr>\n",
       "    <tr>\n",
       "      <th>std</th>\n",
       "      <td>3.181777e+06</td>\n",
       "      <td>23.618257</td>\n",
       "      <td>0.921424</td>\n",
       "      <td>0.131493</td>\n",
       "      <td>6.361268</td>\n",
       "      <td>14.736286</td>\n",
       "      <td>4.039920</td>\n",
       "      <td>4.507903</td>\n",
       "      <td>0.799906</td>\n",
       "      <td>14135.869572</td>\n",
       "      <td>8880.519518</td>\n",
       "      <td>0.714989</td>\n",
       "      <td>280.766528</td>\n",
       "      <td>0.810843</td>\n",
       "      <td>281.287437</td>\n",
       "      <td>190.540501</td>\n",
       "      <td>29863.604020</td>\n",
       "      <td>1.801614</td>\n",
       "      <td>3.506171</td>\n",
       "      <td>1.008334</td>\n",
       "      <td>0.098200</td>\n",
       "      <td>0.068117</td>\n",
       "    </tr>\n",
       "    <tr>\n",
       "      <th>min</th>\n",
       "      <td>4.300000e+05</td>\n",
       "      <td>13.000000</td>\n",
       "      <td>0.000000</td>\n",
       "      <td>2.400000</td>\n",
       "      <td>1.000000</td>\n",
       "      <td>3.000000</td>\n",
       "      <td>1.000000</td>\n",
       "      <td>0.000000</td>\n",
       "      <td>0.000000</td>\n",
       "      <td>0.000000</td>\n",
       "      <td>10842.000000</td>\n",
       "      <td>0.000000</td>\n",
       "      <td>1.000000</td>\n",
       "      <td>0.000000</td>\n",
       "      <td>13.000000</td>\n",
       "      <td>1.000000</td>\n",
       "      <td>7962.960000</td>\n",
       "      <td>0.000000</td>\n",
       "      <td>1.000000</td>\n",
       "      <td>2014.000000</td>\n",
       "      <td>0.069588</td>\n",
       "      <td>0.000000</td>\n",
       "    </tr>\n",
       "    <tr>\n",
       "      <th>25%</th>\n",
       "      <td>3.100000e+06</td>\n",
       "      <td>38.500000</td>\n",
       "      <td>1.000000</td>\n",
       "      <td>2.560000</td>\n",
       "      <td>5.000000</td>\n",
       "      <td>18.200000</td>\n",
       "      <td>2.000000</td>\n",
       "      <td>6.900000</td>\n",
       "      <td>0.000000</td>\n",
       "      <td>17101.000000</td>\n",
       "      <td>13904.000000</td>\n",
       "      <td>0.000000</td>\n",
       "      <td>289.000000</td>\n",
       "      <td>0.000000</td>\n",
       "      <td>332.500000</td>\n",
       "      <td>45.000000</td>\n",
       "      <td>69444.440000</td>\n",
       "      <td>1.000000</td>\n",
       "      <td>3.000000</td>\n",
       "      <td>2017.000000</td>\n",
       "      <td>0.500000</td>\n",
       "      <td>0.139375</td>\n",
       "    </tr>\n",
       "    <tr>\n",
       "      <th>50%</th>\n",
       "      <td>4.120000e+06</td>\n",
       "      <td>48.100000</td>\n",
       "      <td>2.000000</td>\n",
       "      <td>2.650000</td>\n",
       "      <td>9.000000</td>\n",
       "      <td>29.000000</td>\n",
       "      <td>4.000000</td>\n",
       "      <td>8.700000</td>\n",
       "      <td>0.000000</td>\n",
       "      <td>28421.500000</td>\n",
       "      <td>17501.000000</td>\n",
       "      <td>0.000000</td>\n",
       "      <td>463.000000</td>\n",
       "      <td>0.000000</td>\n",
       "      <td>541.000000</td>\n",
       "      <td>95.000000</td>\n",
       "      <td>88372.090000</td>\n",
       "      <td>3.000000</td>\n",
       "      <td>6.000000</td>\n",
       "      <td>2017.000000</td>\n",
       "      <td>0.568161</td>\n",
       "      <td>0.170000</td>\n",
       "    </tr>\n",
       "    <tr>\n",
       "      <th>75%</th>\n",
       "      <td>5.500000e+06</td>\n",
       "      <td>62.400000</td>\n",
       "      <td>3.000000</td>\n",
       "      <td>2.650000</td>\n",
       "      <td>16.000000</td>\n",
       "      <td>39.000000</td>\n",
       "      <td>8.000000</td>\n",
       "      <td>11.000000</td>\n",
       "      <td>1.000000</td>\n",
       "      <td>40836.500000</td>\n",
       "      <td>30371.000000</td>\n",
       "      <td>1.000000</td>\n",
       "      <td>615.500000</td>\n",
       "      <td>1.000000</td>\n",
       "      <td>758.000000</td>\n",
       "      <td>184.750000</td>\n",
       "      <td>104878.050000</td>\n",
       "      <td>4.000000</td>\n",
       "      <td>10.000000</td>\n",
       "      <td>2018.000000</td>\n",
       "      <td>0.627133</td>\n",
       "      <td>0.225806</td>\n",
       "    </tr>\n",
       "    <tr>\n",
       "      <th>max</th>\n",
       "      <td>1.300000e+08</td>\n",
       "      <td>470.300000</td>\n",
       "      <td>10.000000</td>\n",
       "      <td>4.500000</td>\n",
       "      <td>60.000000</td>\n",
       "      <td>279.600000</td>\n",
       "      <td>17.000000</td>\n",
       "      <td>71.770000</td>\n",
       "      <td>5.000000</td>\n",
       "      <td>84869.000000</td>\n",
       "      <td>65968.000000</td>\n",
       "      <td>3.000000</td>\n",
       "      <td>2131.000000</td>\n",
       "      <td>3.000000</td>\n",
       "      <td>1344.000000</td>\n",
       "      <td>1580.000000</td>\n",
       "      <td>640422.350000</td>\n",
       "      <td>6.000000</td>\n",
       "      <td>12.000000</td>\n",
       "      <td>2019.000000</td>\n",
       "      <td>1.000000</td>\n",
       "      <td>0.787879</td>\n",
       "    </tr>\n",
       "  </tbody>\n",
       "</table>\n",
       "</div>"
      ],
      "text/plain": [
       "         last_price    total_area         rooms  ceiling_height  floors_total  \\\n",
       "count  1.705000e+04  17050.000000  17050.000000    17050.000000  17050.000000   \n",
       "mean   4.715317e+06     53.617804      1.929795        2.644951     10.740762   \n",
       "std    3.181777e+06     23.618257      0.921424        0.131493      6.361268   \n",
       "min    4.300000e+05     13.000000      0.000000        2.400000      1.000000   \n",
       "25%    3.100000e+06     38.500000      1.000000        2.560000      5.000000   \n",
       "50%    4.120000e+06     48.100000      2.000000        2.650000      9.000000   \n",
       "75%    5.500000e+06     62.400000      3.000000        2.650000     16.000000   \n",
       "max    1.300000e+08    470.300000     10.000000        4.500000     60.000000   \n",
       "\n",
       "        living_area         floor  kitchen_area       balcony  \\\n",
       "count  17050.000000  17050.000000  17050.000000  17050.000000   \n",
       "mean      30.562073      5.505806      9.496255      0.580938   \n",
       "std       14.736286      4.039920      4.507903      0.799906   \n",
       "min        3.000000      1.000000      0.000000      0.000000   \n",
       "25%       18.200000      2.000000      6.900000      0.000000   \n",
       "50%       29.000000      4.000000      8.700000      0.000000   \n",
       "75%       39.000000      8.000000     11.000000      1.000000   \n",
       "max      279.600000     17.000000     71.770000      5.000000   \n",
       "\n",
       "       airports_nearest  cityCenters_nearest  parks_around3000  parks_nearest  \\\n",
       "count      11690.000000         17050.000000      11702.000000    4283.000000   \n",
       "mean       29767.712660         21778.697126          0.474107     476.987625   \n",
       "std        14135.869572          8880.519518          0.714989     280.766528   \n",
       "min            0.000000         10842.000000          0.000000       1.000000   \n",
       "25%        17101.000000         13904.000000          0.000000     289.000000   \n",
       "50%        28421.500000         17501.000000          0.000000     463.000000   \n",
       "75%        40836.500000         30371.000000          1.000000     615.500000   \n",
       "max        84869.000000         65968.000000          3.000000    2131.000000   \n",
       "\n",
       "       ponds_around3000  ponds_nearest  days_exposition  price_per_meter  \\\n",
       "count      11702.000000    5175.000000     17050.000000     17050.000000   \n",
       "mean           0.613399     547.669565       157.796774     87405.329197   \n",
       "std            0.810843     281.287437       190.540501     29863.604020   \n",
       "min            0.000000      13.000000         1.000000      7962.960000   \n",
       "25%            0.000000     332.500000        45.000000     69444.440000   \n",
       "50%            0.000000     541.000000        95.000000     88372.090000   \n",
       "75%            1.000000     758.000000       184.750000    104878.050000   \n",
       "max            3.000000    1344.000000      1580.000000    640422.350000   \n",
       "\n",
       "       weekday_exposition  month_exposition  year_exposition  \\\n",
       "count        17050.000000      17050.000000     17050.000000   \n",
       "mean             2.576070          6.409032      2017.415367   \n",
       "std              1.801614          3.506171         1.008334   \n",
       "min              0.000000          1.000000      2014.000000   \n",
       "25%              1.000000          3.000000      2017.000000   \n",
       "50%              3.000000          6.000000      2017.000000   \n",
       "75%              4.000000         10.000000      2018.000000   \n",
       "max              6.000000         12.000000      2019.000000   \n",
       "\n",
       "       ratio_living_total_area  ratio_kitchen_total_area  \n",
       "count             17050.000000              17050.000000  \n",
       "mean                  0.564242                  0.185849  \n",
       "std                   0.098200                  0.068117  \n",
       "min                   0.069588                  0.000000  \n",
       "25%                   0.500000                  0.139375  \n",
       "50%                   0.568161                  0.170000  \n",
       "75%                   0.627133                  0.225806  \n",
       "max                   1.000000                  0.787879  "
      ]
     },
     "metadata": {},
     "output_type": "display_data"
    }
   ],
   "source": [
    "no_center = clean_data[clean_data['cityCenters_nearest'] >= clean_data['cityCenters_nearest'].quantile(0.25)]\n",
    "display(no_center.describe())"
   ]
  },
  {
   "cell_type": "code",
   "execution_count": 52,
   "id": "7a577bdb",
   "metadata": {},
   "outputs": [],
   "source": [
    "typical_no_center = no_center[(no_center['total_area'] >= 38.3) & (no_center['total_area'] <= 62.7)\n",
    "                             & (no_center['rooms'] >= 1) & (no_center['rooms'] <= 3)\n",
    "                             & (no_center['floor'] >= 2) & (no_center['floor'] <= 9)]"
   ]
  },
  {
   "cell_type": "code",
   "execution_count": 53,
   "id": "78c72c53",
   "metadata": {},
   "outputs": [
    {
     "name": "stdout",
     "output_type": "stream",
     "text": [
      "Корреляцию основных факторов с ценой в центре\n",
      "Значение коэффициента корреляции Пирсона составил 0.52, что соответствует заметной связи между last_price и total_area.\n",
      "Значение коэффициента корреляции Пирсона составил -0.0, что соответствует слабой связи между last_price и rooms.\n",
      "Значение коэффициента корреляции Пирсона составил 0.18, что соответствует слабой связи между last_price и ceiling_height.\n",
      "Значение коэффициента корреляции Пирсона составил 0.08, что соответствует слабой связи между last_price и floor.\n",
      "Значение коэффициента корреляции Пирсона составил -0.22, что соответствует слабой связи между last_price и cityCenters_nearest.\n"
     ]
    }
   ],
   "source": [
    "features = ['total_area', 'rooms', 'ceiling_height', 'floor', 'cityCenters_nearest']\n",
    "print('Корреляцию основных факторов с ценой в центре')\n",
    "for feature in features:\n",
    "    set_correlation_coefficient(typical_center, feature)"
   ]
  },
  {
   "cell_type": "code",
   "execution_count": 54,
   "id": "c69227e1",
   "metadata": {},
   "outputs": [
    {
     "name": "stdout",
     "output_type": "stream",
     "text": [
      "Корреляцию основных факторов с ценой вне центра\n",
      "Значение коэффициента корреляции Пирсона составил 0.33, что соответствует умереной связи между last_price и total_area.\n",
      "Значение коэффициента корреляции Пирсона составил 0.05, что соответствует слабой связи между last_price и rooms.\n",
      "Значение коэффициента корреляции Пирсона составил 0.11, что соответствует слабой связи между last_price и ceiling_height.\n",
      "Значение коэффициента корреляции Пирсона составил 0.23, что соответствует слабой связи между last_price и floor.\n",
      "Значение коэффициента корреляции Пирсона составил -0.56, что соответствует отрицательной заметной связи между last_price и cityCenters_nearest.\n"
     ]
    }
   ],
   "source": [
    "features = ['total_area', 'rooms', 'ceiling_height', 'floor', 'cityCenters_nearest']\n",
    "print('Корреляцию основных факторов с ценой вне центра')\n",
    "for feature in features:\n",
    "    set_correlation_coefficient(typical_no_center, feature)"
   ]
  },
  {
   "cell_type": "markdown",
   "id": "2b45ba0e",
   "metadata": {},
   "source": [
    "Наблюдается снижение зависимости цены от площади. Если ранее коэффициент корреляции составлял 0.64, показывающий связь между общей площадью и ценой, то согласно выборке в центре такая связь составляет 0.52, а вне центра 0.33. Также наблюдается снижение и по всем остьльным факторам. Единственный коэффицент который увеличился (хоть и со знаком минус) - зависимость между расстоянием от центра и ценой в выборке вне центра, что является логичным."
   ]
  },
  {
   "cell_type": "markdown",
   "id": "e0c8d770",
   "metadata": {},
   "source": [
    "<div style=\"border:solid green 2px; padding: 20px\"> <h1 style=\"color:green; margin-bottom:20px\">Комментарий </h1>\n",
    "Читаем внимательно задание: \"Ваша задача — выяснить, какая область входит в центр. Создайте столбец с расстоянием до центра в километрах: округлите до целых значений. После этого посчитайте среднюю цену для каждого километра. Постройте график: он должен показывать, как цена зависит от удалённости от центра. Определите границу, где график сильно меняется — это и будет центральная зона.\"\n",
    "<br>!!! Почему первый квартиль? Переделываем. \n",
    "</div>"
   ]
  },
  {
   "cell_type": "markdown",
   "id": "096365d4",
   "metadata": {},
   "source": [
    "### <a id='research-nontypical-flat'><span style=\"color:black\">Исследование характерных параметров для апартаментов, студий и квартир свободной планировки</span></a> "
   ]
  },
  {
   "cell_type": "code",
   "execution_count": 55,
   "id": "5d458637",
   "metadata": {},
   "outputs": [
    {
     "data": {
      "text/html": [
       "<div>\n",
       "<style scoped>\n",
       "    .dataframe tbody tr th:only-of-type {\n",
       "        vertical-align: middle;\n",
       "    }\n",
       "\n",
       "    .dataframe tbody tr th {\n",
       "        vertical-align: top;\n",
       "    }\n",
       "\n",
       "    .dataframe thead th {\n",
       "        text-align: right;\n",
       "    }\n",
       "</style>\n",
       "<table border=\"1\" class=\"dataframe\">\n",
       "  <thead>\n",
       "    <tr style=\"text-align: right;\">\n",
       "      <th></th>\n",
       "      <th>last_price</th>\n",
       "      <th>total_area</th>\n",
       "      <th>rooms</th>\n",
       "      <th>ceiling_height</th>\n",
       "      <th>floors_total</th>\n",
       "      <th>living_area</th>\n",
       "      <th>floor</th>\n",
       "      <th>kitchen_area</th>\n",
       "      <th>balcony</th>\n",
       "      <th>airports_nearest</th>\n",
       "      <th>cityCenters_nearest</th>\n",
       "      <th>parks_around3000</th>\n",
       "      <th>parks_nearest</th>\n",
       "      <th>ponds_around3000</th>\n",
       "      <th>ponds_nearest</th>\n",
       "      <th>days_exposition</th>\n",
       "      <th>price_per_meter</th>\n",
       "      <th>weekday_exposition</th>\n",
       "      <th>month_exposition</th>\n",
       "      <th>year_exposition</th>\n",
       "      <th>ratio_living_total_area</th>\n",
       "      <th>ratio_kitchen_total_area</th>\n",
       "    </tr>\n",
       "  </thead>\n",
       "  <tbody>\n",
       "    <tr>\n",
       "      <th>count</th>\n",
       "      <td>2.450000e+02</td>\n",
       "      <td>245.000000</td>\n",
       "      <td>245.000000</td>\n",
       "      <td>245.000000</td>\n",
       "      <td>245.000000</td>\n",
       "      <td>245.000000</td>\n",
       "      <td>245.000000</td>\n",
       "      <td>245.000000</td>\n",
       "      <td>245.000000</td>\n",
       "      <td>157.000000</td>\n",
       "      <td>245.000000</td>\n",
       "      <td>159.000000</td>\n",
       "      <td>49.000000</td>\n",
       "      <td>159.000000</td>\n",
       "      <td>99.000000</td>\n",
       "      <td>245.000000</td>\n",
       "      <td>245.000000</td>\n",
       "      <td>245.000000</td>\n",
       "      <td>245.000000</td>\n",
       "      <td>245.000000</td>\n",
       "      <td>245.000000</td>\n",
       "      <td>245.000000</td>\n",
       "    </tr>\n",
       "    <tr>\n",
       "      <th>mean</th>\n",
       "      <td>5.525750e+06</td>\n",
       "      <td>41.670653</td>\n",
       "      <td>0.542857</td>\n",
       "      <td>2.767796</td>\n",
       "      <td>13.942857</td>\n",
       "      <td>26.557020</td>\n",
       "      <td>6.542857</td>\n",
       "      <td>4.805673</td>\n",
       "      <td>1.008163</td>\n",
       "      <td>27343.477707</td>\n",
       "      <td>19497.510204</td>\n",
       "      <td>0.503145</td>\n",
       "      <td>418.897959</td>\n",
       "      <td>0.955975</td>\n",
       "      <td>528.080808</td>\n",
       "      <td>129.538776</td>\n",
       "      <td>116014.406367</td>\n",
       "      <td>2.612245</td>\n",
       "      <td>6.893878</td>\n",
       "      <td>2017.404082</td>\n",
       "      <td>0.662735</td>\n",
       "      <td>0.081836</td>\n",
       "    </tr>\n",
       "    <tr>\n",
       "      <th>std</th>\n",
       "      <td>9.786651e+06</td>\n",
       "      <td>46.667715</td>\n",
       "      <td>1.091697</td>\n",
       "      <td>0.280037</td>\n",
       "      <td>7.308540</td>\n",
       "      <td>27.698519</td>\n",
       "      <td>4.636279</td>\n",
       "      <td>9.721714</td>\n",
       "      <td>0.914330</td>\n",
       "      <td>12807.558633</td>\n",
       "      <td>10011.712125</td>\n",
       "      <td>0.848485</td>\n",
       "      <td>271.763856</td>\n",
       "      <td>0.976599</td>\n",
       "      <td>268.759648</td>\n",
       "      <td>211.874836</td>\n",
       "      <td>61224.851783</td>\n",
       "      <td>1.681826</td>\n",
       "      <td>3.431556</td>\n",
       "      <td>0.972987</td>\n",
       "      <td>0.118825</td>\n",
       "      <td>0.103411</td>\n",
       "    </tr>\n",
       "    <tr>\n",
       "      <th>min</th>\n",
       "      <td>9.457500e+05</td>\n",
       "      <td>15.500000</td>\n",
       "      <td>0.000000</td>\n",
       "      <td>2.500000</td>\n",
       "      <td>2.000000</td>\n",
       "      <td>5.000000</td>\n",
       "      <td>1.000000</td>\n",
       "      <td>0.000000</td>\n",
       "      <td>0.000000</td>\n",
       "      <td>6989.000000</td>\n",
       "      <td>318.000000</td>\n",
       "      <td>0.000000</td>\n",
       "      <td>4.000000</td>\n",
       "      <td>0.000000</td>\n",
       "      <td>22.000000</td>\n",
       "      <td>3.000000</td>\n",
       "      <td>34375.000000</td>\n",
       "      <td>0.000000</td>\n",
       "      <td>1.000000</td>\n",
       "      <td>2014.000000</td>\n",
       "      <td>0.227273</td>\n",
       "      <td>0.000000</td>\n",
       "    </tr>\n",
       "    <tr>\n",
       "      <th>25%</th>\n",
       "      <td>2.350000e+06</td>\n",
       "      <td>25.000000</td>\n",
       "      <td>0.000000</td>\n",
       "      <td>2.650000</td>\n",
       "      <td>7.000000</td>\n",
       "      <td>16.700000</td>\n",
       "      <td>3.000000</td>\n",
       "      <td>0.000000</td>\n",
       "      <td>0.000000</td>\n",
       "      <td>18490.000000</td>\n",
       "      <td>12419.000000</td>\n",
       "      <td>0.000000</td>\n",
       "      <td>170.000000</td>\n",
       "      <td>0.000000</td>\n",
       "      <td>323.000000</td>\n",
       "      <td>29.000000</td>\n",
       "      <td>90252.710000</td>\n",
       "      <td>1.000000</td>\n",
       "      <td>4.000000</td>\n",
       "      <td>2017.000000</td>\n",
       "      <td>0.586207</td>\n",
       "      <td>0.000000</td>\n",
       "    </tr>\n",
       "    <tr>\n",
       "      <th>50%</th>\n",
       "      <td>3.100000e+06</td>\n",
       "      <td>27.810000</td>\n",
       "      <td>0.000000</td>\n",
       "      <td>2.650000</td>\n",
       "      <td>15.000000</td>\n",
       "      <td>18.620000</td>\n",
       "      <td>6.000000</td>\n",
       "      <td>0.000000</td>\n",
       "      <td>1.000000</td>\n",
       "      <td>24329.000000</td>\n",
       "      <td>17399.000000</td>\n",
       "      <td>0.000000</td>\n",
       "      <td>383.000000</td>\n",
       "      <td>1.000000</td>\n",
       "      <td>552.000000</td>\n",
       "      <td>60.000000</td>\n",
       "      <td>106227.110000</td>\n",
       "      <td>3.000000</td>\n",
       "      <td>7.000000</td>\n",
       "      <td>2017.000000</td>\n",
       "      <td>0.678571</td>\n",
       "      <td>0.000000</td>\n",
       "    </tr>\n",
       "    <tr>\n",
       "      <th>75%</th>\n",
       "      <td>4.090000e+06</td>\n",
       "      <td>34.000000</td>\n",
       "      <td>1.000000</td>\n",
       "      <td>2.760000</td>\n",
       "      <td>19.000000</td>\n",
       "      <td>23.600000</td>\n",
       "      <td>10.000000</td>\n",
       "      <td>5.180000</td>\n",
       "      <td>2.000000</td>\n",
       "      <td>35248.000000</td>\n",
       "      <td>30371.000000</td>\n",
       "      <td>1.000000</td>\n",
       "      <td>592.000000</td>\n",
       "      <td>1.000000</td>\n",
       "      <td>774.000000</td>\n",
       "      <td>113.000000</td>\n",
       "      <td>126229.510000</td>\n",
       "      <td>4.000000</td>\n",
       "      <td>10.000000</td>\n",
       "      <td>2018.000000</td>\n",
       "      <td>0.720000</td>\n",
       "      <td>0.170000</td>\n",
       "    </tr>\n",
       "    <tr>\n",
       "      <th>max</th>\n",
       "      <td>8.400000e+07</td>\n",
       "      <td>507.000000</td>\n",
       "      <td>7.000000</td>\n",
       "      <td>4.500000</td>\n",
       "      <td>35.000000</td>\n",
       "      <td>301.500000</td>\n",
       "      <td>17.000000</td>\n",
       "      <td>87.200000</td>\n",
       "      <td>2.000000</td>\n",
       "      <td>73391.000000</td>\n",
       "      <td>54490.000000</td>\n",
       "      <td>3.000000</td>\n",
       "      <td>1021.000000</td>\n",
       "      <td>3.000000</td>\n",
       "      <td>1159.000000</td>\n",
       "      <td>1572.000000</td>\n",
       "      <td>600000.000000</td>\n",
       "      <td>6.000000</td>\n",
       "      <td>12.000000</td>\n",
       "      <td>2019.000000</td>\n",
       "      <td>1.000000</td>\n",
       "      <td>0.490163</td>\n",
       "    </tr>\n",
       "  </tbody>\n",
       "</table>\n",
       "</div>"
      ],
      "text/plain": [
       "         last_price  total_area       rooms  ceiling_height  floors_total  \\\n",
       "count  2.450000e+02  245.000000  245.000000      245.000000    245.000000   \n",
       "mean   5.525750e+06   41.670653    0.542857        2.767796     13.942857   \n",
       "std    9.786651e+06   46.667715    1.091697        0.280037      7.308540   \n",
       "min    9.457500e+05   15.500000    0.000000        2.500000      2.000000   \n",
       "25%    2.350000e+06   25.000000    0.000000        2.650000      7.000000   \n",
       "50%    3.100000e+06   27.810000    0.000000        2.650000     15.000000   \n",
       "75%    4.090000e+06   34.000000    1.000000        2.760000     19.000000   \n",
       "max    8.400000e+07  507.000000    7.000000        4.500000     35.000000   \n",
       "\n",
       "       living_area       floor  kitchen_area     balcony  airports_nearest  \\\n",
       "count   245.000000  245.000000    245.000000  245.000000        157.000000   \n",
       "mean     26.557020    6.542857      4.805673    1.008163      27343.477707   \n",
       "std      27.698519    4.636279      9.721714    0.914330      12807.558633   \n",
       "min       5.000000    1.000000      0.000000    0.000000       6989.000000   \n",
       "25%      16.700000    3.000000      0.000000    0.000000      18490.000000   \n",
       "50%      18.620000    6.000000      0.000000    1.000000      24329.000000   \n",
       "75%      23.600000   10.000000      5.180000    2.000000      35248.000000   \n",
       "max     301.500000   17.000000     87.200000    2.000000      73391.000000   \n",
       "\n",
       "       cityCenters_nearest  parks_around3000  parks_nearest  ponds_around3000  \\\n",
       "count           245.000000        159.000000      49.000000        159.000000   \n",
       "mean          19497.510204          0.503145     418.897959          0.955975   \n",
       "std           10011.712125          0.848485     271.763856          0.976599   \n",
       "min             318.000000          0.000000       4.000000          0.000000   \n",
       "25%           12419.000000          0.000000     170.000000          0.000000   \n",
       "50%           17399.000000          0.000000     383.000000          1.000000   \n",
       "75%           30371.000000          1.000000     592.000000          1.000000   \n",
       "max           54490.000000          3.000000    1021.000000          3.000000   \n",
       "\n",
       "       ponds_nearest  days_exposition  price_per_meter  weekday_exposition  \\\n",
       "count      99.000000       245.000000       245.000000          245.000000   \n",
       "mean      528.080808       129.538776    116014.406367            2.612245   \n",
       "std       268.759648       211.874836     61224.851783            1.681826   \n",
       "min        22.000000         3.000000     34375.000000            0.000000   \n",
       "25%       323.000000        29.000000     90252.710000            1.000000   \n",
       "50%       552.000000        60.000000    106227.110000            3.000000   \n",
       "75%       774.000000       113.000000    126229.510000            4.000000   \n",
       "max      1159.000000      1572.000000    600000.000000            6.000000   \n",
       "\n",
       "       month_exposition  year_exposition  ratio_living_total_area  \\\n",
       "count        245.000000       245.000000               245.000000   \n",
       "mean           6.893878      2017.404082                 0.662735   \n",
       "std            3.431556         0.972987                 0.118825   \n",
       "min            1.000000      2014.000000                 0.227273   \n",
       "25%            4.000000      2017.000000                 0.586207   \n",
       "50%            7.000000      2017.000000                 0.678571   \n",
       "75%           10.000000      2018.000000                 0.720000   \n",
       "max           12.000000      2019.000000                 1.000000   \n",
       "\n",
       "       ratio_kitchen_total_area  \n",
       "count                245.000000  \n",
       "mean                   0.081836  \n",
       "std                    0.103411  \n",
       "min                    0.000000  \n",
       "25%                    0.000000  \n",
       "50%                    0.000000  \n",
       "75%                    0.170000  \n",
       "max                    0.490163  "
      ]
     },
     "metadata": {},
     "output_type": "display_data"
    }
   ],
   "source": [
    "sampling = clean_data[(clean_data['is_apartment'] == True) | (clean_data['studio'] == True) | (clean_data['open_plan'] == True)]\n",
    "display(sampling.describe())"
   ]
  },
  {
   "cell_type": "code",
   "execution_count": 56,
   "id": "7d4451ce",
   "metadata": {},
   "outputs": [
    {
     "data": {
      "text/html": [
       "<div>\n",
       "<style scoped>\n",
       "    .dataframe tbody tr th:only-of-type {\n",
       "        vertical-align: middle;\n",
       "    }\n",
       "\n",
       "    .dataframe tbody tr th {\n",
       "        vertical-align: top;\n",
       "    }\n",
       "\n",
       "    .dataframe thead th {\n",
       "        text-align: right;\n",
       "    }\n",
       "</style>\n",
       "<table border=\"1\" class=\"dataframe\">\n",
       "  <thead>\n",
       "    <tr style=\"text-align: right;\">\n",
       "      <th></th>\n",
       "      <th>last_price</th>\n",
       "      <th>total_area</th>\n",
       "      <th>rooms</th>\n",
       "      <th>ceiling_height</th>\n",
       "      <th>floors_total</th>\n",
       "      <th>living_area</th>\n",
       "      <th>floor</th>\n",
       "      <th>kitchen_area</th>\n",
       "      <th>balcony</th>\n",
       "      <th>airports_nearest</th>\n",
       "      <th>cityCenters_nearest</th>\n",
       "      <th>parks_around3000</th>\n",
       "      <th>parks_nearest</th>\n",
       "      <th>ponds_around3000</th>\n",
       "      <th>ponds_nearest</th>\n",
       "      <th>days_exposition</th>\n",
       "      <th>price_per_meter</th>\n",
       "      <th>weekday_exposition</th>\n",
       "      <th>month_exposition</th>\n",
       "      <th>year_exposition</th>\n",
       "      <th>ratio_living_total_area</th>\n",
       "      <th>ratio_kitchen_total_area</th>\n",
       "    </tr>\n",
       "  </thead>\n",
       "  <tbody>\n",
       "    <tr>\n",
       "      <th>count</th>\n",
       "      <td>2.273200e+04</td>\n",
       "      <td>22732.000000</td>\n",
       "      <td>22732.000000</td>\n",
       "      <td>22732.000000</td>\n",
       "      <td>22732.000000</td>\n",
       "      <td>22732.000000</td>\n",
       "      <td>22732.000000</td>\n",
       "      <td>22732.000000</td>\n",
       "      <td>22732.000000</td>\n",
       "      <td>17361.000000</td>\n",
       "      <td>22732.000000</td>\n",
       "      <td>17384.000000</td>\n",
       "      <td>7893.000000</td>\n",
       "      <td>17384.000000</td>\n",
       "      <td>8765.000000</td>\n",
       "      <td>22732.000000</td>\n",
       "      <td>2.273200e+04</td>\n",
       "      <td>22732.000000</td>\n",
       "      <td>22732.000000</td>\n",
       "      <td>22732.000000</td>\n",
       "      <td>22732.000000</td>\n",
       "      <td>22732.000000</td>\n",
       "    </tr>\n",
       "    <tr>\n",
       "      <th>mean</th>\n",
       "      <td>6.525844e+06</td>\n",
       "      <td>60.391447</td>\n",
       "      <td>2.084990</td>\n",
       "      <td>2.696389</td>\n",
       "      <td>10.140331</td>\n",
       "      <td>34.769834</td>\n",
       "      <td>5.284005</td>\n",
       "      <td>10.382479</td>\n",
       "      <td>0.525515</td>\n",
       "      <td>28707.568112</td>\n",
       "      <td>17929.743973</td>\n",
       "      <td>0.626323</td>\n",
       "      <td>488.556189</td>\n",
       "      <td>0.778590</td>\n",
       "      <td>517.988933</td>\n",
       "      <td>169.441712</td>\n",
       "      <td>9.901453e+04</td>\n",
       "      <td>2.565722</td>\n",
       "      <td>6.396490</td>\n",
       "      <td>2017.371239</td>\n",
       "      <td>0.567666</td>\n",
       "      <td>0.183146</td>\n",
       "    </tr>\n",
       "    <tr>\n",
       "      <th>std</th>\n",
       "      <td>1.073060e+07</td>\n",
       "      <td>35.407523</td>\n",
       "      <td>1.080007</td>\n",
       "      <td>0.217316</td>\n",
       "      <td>6.128370</td>\n",
       "      <td>22.394613</td>\n",
       "      <td>3.872776</td>\n",
       "      <td>6.044683</td>\n",
       "      <td>0.778325</td>\n",
       "      <td>12525.266891</td>\n",
       "      <td>10271.324473</td>\n",
       "      <td>0.808066</td>\n",
       "      <td>342.135217</td>\n",
       "      <td>0.943152</td>\n",
       "      <td>277.838534</td>\n",
       "      <td>206.514705</td>\n",
       "      <td>5.092715e+04</td>\n",
       "      <td>1.789120</td>\n",
       "      <td>3.491548</td>\n",
       "      <td>1.039667</td>\n",
       "      <td>0.100306</td>\n",
       "      <td>0.070494</td>\n",
       "    </tr>\n",
       "    <tr>\n",
       "      <th>min</th>\n",
       "      <td>4.300000e+05</td>\n",
       "      <td>12.000000</td>\n",
       "      <td>0.000000</td>\n",
       "      <td>2.400000</td>\n",
       "      <td>1.000000</td>\n",
       "      <td>2.000000</td>\n",
       "      <td>1.000000</td>\n",
       "      <td>0.000000</td>\n",
       "      <td>0.000000</td>\n",
       "      <td>0.000000</td>\n",
       "      <td>181.000000</td>\n",
       "      <td>0.000000</td>\n",
       "      <td>1.000000</td>\n",
       "      <td>0.000000</td>\n",
       "      <td>13.000000</td>\n",
       "      <td>1.000000</td>\n",
       "      <td>7.962960e+03</td>\n",
       "      <td>0.000000</td>\n",
       "      <td>1.000000</td>\n",
       "      <td>2014.000000</td>\n",
       "      <td>0.021583</td>\n",
       "      <td>0.000000</td>\n",
       "    </tr>\n",
       "    <tr>\n",
       "      <th>25%</th>\n",
       "      <td>3.400000e+06</td>\n",
       "      <td>40.000000</td>\n",
       "      <td>1.000000</td>\n",
       "      <td>2.600000</td>\n",
       "      <td>5.000000</td>\n",
       "      <td>19.000000</td>\n",
       "      <td>2.000000</td>\n",
       "      <td>7.000000</td>\n",
       "      <td>0.000000</td>\n",
       "      <td>18591.000000</td>\n",
       "      <td>10842.000000</td>\n",
       "      <td>0.000000</td>\n",
       "      <td>287.000000</td>\n",
       "      <td>0.000000</td>\n",
       "      <td>293.000000</td>\n",
       "      <td>45.000000</td>\n",
       "      <td>7.590092e+04</td>\n",
       "      <td>1.000000</td>\n",
       "      <td>3.000000</td>\n",
       "      <td>2017.000000</td>\n",
       "      <td>0.505882</td>\n",
       "      <td>0.135135</td>\n",
       "    </tr>\n",
       "    <tr>\n",
       "      <th>50%</th>\n",
       "      <td>4.600000e+06</td>\n",
       "      <td>52.000000</td>\n",
       "      <td>2.000000</td>\n",
       "      <td>2.650000</td>\n",
       "      <td>9.000000</td>\n",
       "      <td>30.000000</td>\n",
       "      <td>4.000000</td>\n",
       "      <td>9.000000</td>\n",
       "      <td>0.000000</td>\n",
       "      <td>26612.000000</td>\n",
       "      <td>14925.500000</td>\n",
       "      <td>0.000000</td>\n",
       "      <td>451.000000</td>\n",
       "      <td>1.000000</td>\n",
       "      <td>503.000000</td>\n",
       "      <td>95.000000</td>\n",
       "      <td>9.449735e+04</td>\n",
       "      <td>3.000000</td>\n",
       "      <td>6.000000</td>\n",
       "      <td>2017.000000</td>\n",
       "      <td>0.568200</td>\n",
       "      <td>0.170000</td>\n",
       "    </tr>\n",
       "    <tr>\n",
       "      <th>75%</th>\n",
       "      <td>6.750000e+06</td>\n",
       "      <td>69.800000</td>\n",
       "      <td>3.000000</td>\n",
       "      <td>2.700000</td>\n",
       "      <td>14.000000</td>\n",
       "      <td>42.300000</td>\n",
       "      <td>7.000000</td>\n",
       "      <td>11.800000</td>\n",
       "      <td>1.000000</td>\n",
       "      <td>36998.000000</td>\n",
       "      <td>30371.000000</td>\n",
       "      <td>1.000000</td>\n",
       "      <td>610.000000</td>\n",
       "      <td>1.000000</td>\n",
       "      <td>729.000000</td>\n",
       "      <td>199.000000</td>\n",
       "      <td>1.137402e+05</td>\n",
       "      <td>4.000000</td>\n",
       "      <td>10.000000</td>\n",
       "      <td>2018.000000</td>\n",
       "      <td>0.633758</td>\n",
       "      <td>0.220724</td>\n",
       "    </tr>\n",
       "    <tr>\n",
       "      <th>max</th>\n",
       "      <td>7.630000e+08</td>\n",
       "      <td>631.200000</td>\n",
       "      <td>19.000000</td>\n",
       "      <td>4.900000</td>\n",
       "      <td>60.000000</td>\n",
       "      <td>409.000000</td>\n",
       "      <td>17.000000</td>\n",
       "      <td>107.000000</td>\n",
       "      <td>5.000000</td>\n",
       "      <td>84869.000000</td>\n",
       "      <td>65968.000000</td>\n",
       "      <td>3.000000</td>\n",
       "      <td>3190.000000</td>\n",
       "      <td>3.000000</td>\n",
       "      <td>1344.000000</td>\n",
       "      <td>1580.000000</td>\n",
       "      <td>1.907500e+06</td>\n",
       "      <td>6.000000</td>\n",
       "      <td>12.000000</td>\n",
       "      <td>2019.000000</td>\n",
       "      <td>1.000000</td>\n",
       "      <td>0.787879</td>\n",
       "    </tr>\n",
       "  </tbody>\n",
       "</table>\n",
       "</div>"
      ],
      "text/plain": [
       "         last_price    total_area         rooms  ceiling_height  floors_total  \\\n",
       "count  2.273200e+04  22732.000000  22732.000000    22732.000000  22732.000000   \n",
       "mean   6.525844e+06     60.391447      2.084990        2.696389     10.140331   \n",
       "std    1.073060e+07     35.407523      1.080007        0.217316      6.128370   \n",
       "min    4.300000e+05     12.000000      0.000000        2.400000      1.000000   \n",
       "25%    3.400000e+06     40.000000      1.000000        2.600000      5.000000   \n",
       "50%    4.600000e+06     52.000000      2.000000        2.650000      9.000000   \n",
       "75%    6.750000e+06     69.800000      3.000000        2.700000     14.000000   \n",
       "max    7.630000e+08    631.200000     19.000000        4.900000     60.000000   \n",
       "\n",
       "        living_area         floor  kitchen_area       balcony  \\\n",
       "count  22732.000000  22732.000000  22732.000000  22732.000000   \n",
       "mean      34.769834      5.284005     10.382479      0.525515   \n",
       "std       22.394613      3.872776      6.044683      0.778325   \n",
       "min        2.000000      1.000000      0.000000      0.000000   \n",
       "25%       19.000000      2.000000      7.000000      0.000000   \n",
       "50%       30.000000      4.000000      9.000000      0.000000   \n",
       "75%       42.300000      7.000000     11.800000      1.000000   \n",
       "max      409.000000     17.000000    107.000000      5.000000   \n",
       "\n",
       "       airports_nearest  cityCenters_nearest  parks_around3000  parks_nearest  \\\n",
       "count      17361.000000         22732.000000      17384.000000    7893.000000   \n",
       "mean       28707.568112         17929.743973          0.626323     488.556189   \n",
       "std        12525.266891         10271.324473          0.808066     342.135217   \n",
       "min            0.000000           181.000000          0.000000       1.000000   \n",
       "25%        18591.000000         10842.000000          0.000000     287.000000   \n",
       "50%        26612.000000         14925.500000          0.000000     451.000000   \n",
       "75%        36998.000000         30371.000000          1.000000     610.000000   \n",
       "max        84869.000000         65968.000000          3.000000    3190.000000   \n",
       "\n",
       "       ponds_around3000  ponds_nearest  days_exposition  price_per_meter  \\\n",
       "count      17384.000000    8765.000000     22732.000000     2.273200e+04   \n",
       "mean           0.778590     517.988933       169.441712     9.901453e+04   \n",
       "std            0.943152     277.838534       206.514705     5.092715e+04   \n",
       "min            0.000000      13.000000         1.000000     7.962960e+03   \n",
       "25%            0.000000     293.000000        45.000000     7.590092e+04   \n",
       "50%            1.000000     503.000000        95.000000     9.449735e+04   \n",
       "75%            1.000000     729.000000       199.000000     1.137402e+05   \n",
       "max            3.000000    1344.000000      1580.000000     1.907500e+06   \n",
       "\n",
       "       weekday_exposition  month_exposition  year_exposition  \\\n",
       "count        22732.000000      22732.000000     22732.000000   \n",
       "mean             2.565722          6.396490      2017.371239   \n",
       "std              1.789120          3.491548         1.039667   \n",
       "min              0.000000          1.000000      2014.000000   \n",
       "25%              1.000000          3.000000      2017.000000   \n",
       "50%              3.000000          6.000000      2017.000000   \n",
       "75%              4.000000         10.000000      2018.000000   \n",
       "max              6.000000         12.000000      2019.000000   \n",
       "\n",
       "       ratio_living_total_area  ratio_kitchen_total_area  \n",
       "count             22732.000000              22732.000000  \n",
       "mean                  0.567666                  0.183146  \n",
       "std                   0.100306                  0.070494  \n",
       "min                   0.021583                  0.000000  \n",
       "25%                   0.505882                  0.135135  \n",
       "50%                   0.568200                  0.170000  \n",
       "75%                   0.633758                  0.220724  \n",
       "max                   1.000000                  0.787879  "
      ]
     },
     "metadata": {},
     "output_type": "display_data"
    }
   ],
   "source": [
    "sampling_common = clean_data[(clean_data['is_apartment'] == False) | (clean_data['studio'] == False) | (clean_data['open_plan'] == False)]\n",
    "display(sampling_common.describe())"
   ]
  },
  {
   "cell_type": "code",
   "execution_count": 57,
   "id": "225a0b0c",
   "metadata": {},
   "outputs": [
    {
     "name": "stdout",
     "output_type": "stream",
     "text": [
      "Корреляцию основных факторов с ценой по квартирам-студиям, апартаментам и квартирам со свободной планировкой\n",
      "Значение коэффициента корреляции Пирсона составил 0.88, что соответствует высокой связи между last_price и total_area.\n",
      "Значение коэффициента корреляции Пирсона составил 0.52, что соответствует заметной связи между last_price и rooms.\n",
      "Значение коэффициента корреляции Пирсона составил 0.49, что соответствует умереной связи между last_price и ceiling_height.\n",
      "Значение коэффициента корреляции Пирсона составил -0.08, что соответствует слабой связи между last_price и floor.\n",
      "Значение коэффициента корреляции Пирсона составил -0.36, что соответствует умереной связи между last_price и cityCenters_nearest.\n"
     ]
    }
   ],
   "source": [
    "features = ['total_area', 'rooms', 'ceiling_height', 'floor', 'cityCenters_nearest']\n",
    "print('Корреляцию основных факторов с ценой по квартирам-студиям, апартаментам и квартирам со свободной планировкой')\n",
    "for feature in features:\n",
    "    set_correlation_coefficient(sampling, feature)"
   ]
  },
  {
   "cell_type": "code",
   "execution_count": 58,
   "id": "b675b2fc",
   "metadata": {},
   "outputs": [
    {
     "name": "stdout",
     "output_type": "stream",
     "text": [
      "Корреляцию основных факторов с ценой по обычным квартирам\n",
      "Значение коэффициента корреляции Пирсона составил 0.64, что соответствует заметной связи между last_price и total_area.\n",
      "Значение коэффициента корреляции Пирсона составил 0.36, что соответствует умереной связи между last_price и rooms.\n",
      "Значение коэффициента корреляции Пирсона составил 0.29, что соответствует слабой связи между last_price и ceiling_height.\n",
      "Значение коэффициента корреляции Пирсона составил 0.03, что соответствует слабой связи между last_price и floor.\n",
      "Значение коэффициента корреляции Пирсона составил -0.27, что соответствует слабой связи между last_price и cityCenters_nearest.\n"
     ]
    }
   ],
   "source": [
    "features = ['total_area', 'rooms', 'ceiling_height', 'floor', 'cityCenters_nearest']\n",
    "print('Корреляцию основных факторов с ценой по обычным квартирам')\n",
    "for feature in features:\n",
    "    set_correlation_coefficient(sampling_common, feature)"
   ]
  },
  {
   "cell_type": "markdown",
   "id": "0b9b9456",
   "metadata": {},
   "source": [
    "Анализ показывает, что стоимость квартир-студий, апартаментов и квартир со свободной планировкой имеет высокую связь с общей площадью таких квартир, что связано с тем, что в таких квартир одна комната и поэтому площадь квартиры является чуть ли не основным фактором влияющим на покупку. Наблюдается увеличение зависимости от количества комнат (скорее всего это связано с тем, что в большинстве таких квартир одна комнта). Наблюдается умеренная связь с высотой потолка (возможная причина в том, что в таких помещениях (часто с одной комнатой) высокие потолки позволяю визуально увеличивать простраство, что может особенно цениться в таких квартирах). Увеличилась до умеренной связь с расстоянием до центра (возможно это связано с тем, что спрос на такие квартиры в спальных районах, а не в центре ниже)."
   ]
  },
  {
   "cell_type": "markdown",
   "id": "c2debb20",
   "metadata": {},
   "source": [
    "<div style=\"border:solid green 2px; padding: 20px\"> <h1 style=\"color:green; margin-bottom:20px\">Комментарий </h1>\n",
    "Не нашел ответа на задание:\n",
    "\"Выделите сегмент квартир в центре. Проанализируйте эту территорию и изучите следующие параметры: площадь, цена, число комнат, высота потолков. Также выделите факторы, которые влияют на стоимость квартиры (число комнат, этаж, удалённость от центра, дата размещения объявления)\".\n",
    "<br>!!! Смотри файл description_project_course2_full.\n",
    "</div>"
   ]
  },
  {
   "cell_type": "markdown",
   "id": "12c4e6f8",
   "metadata": {},
   "source": [
    "**Вывод:** Использование диаграмм и описания данных позволила прийти к следующему. \n",
    "- Наиболее часто появляются объявления о продаже квартир общей площадью до 90 кв.м., 1-2-х комнатные (реже трехкомнатные), с высотой потолка от 2,5 до 2,7 м., стоимостью за один метр квадратный до 150 тыс., расположенные на 1-5 этажах. Стоимость квартиры нерепрезентативна - построим гистрограмму с другими параметрами.\n",
    "- Часто квартиры продаются в первые 170 дней.\n",
    "- Наибольшая зависимость цены от площади.\n",
    "- Цена на первых и последних этажах ниже, чем на средних этажах. \n",
    "- Анализ показывает, что стоимость квартир-студий, апартаментов и квартир со свободной планировкой имеет высокую связь с общей площадью таких квартир, что связано с тем, что в таких квартир одна комната и поэтому площадь квартиры является чуть ли не основным фактором влияющим на покупку. Наблюдается увеличение зависимости от количества комнат (скорее всего это связано с тем, что в большинстве таких квартир одна комнта). Наблюдается умеренная связь с высотой потолка (возможная причина в том, что в таких помещениях (часто с одной комнатой) высокие потолки позволяю визуально увеличивать простраство, что может особенно цениться в таких квартирах). Увеличилась до умеренной связь с расстоянием до центра (возможно это связано с тем, что спрос на такие квартиры в спальных районах, а не в центре ниже)."
   ]
  },
  {
   "cell_type": "markdown",
   "id": "cf1129b6",
   "metadata": {},
   "source": [
    "## <a id='conclusions'><span style=\"color:black\">5. Выводы</span></a> "
   ]
  },
  {
   "cell_type": "markdown",
   "id": "ce37ea20",
   "metadata": {},
   "source": [
    "1. В ходе выполнения проекта были решены следующие задачи.\n",
    "\n",
    " - удален столбец total_images как избыточный, который в анализе данных не мог быть применен. \n",
    " - были заполнены пропущенные значения в столбце ceiling_height. Скорее всего данные не были указанны собственниками при подаче объявления, т.к. посчитали такую информацию не важной. Обычно в таком случае высота потолков имеет стандартный размер (2.5-2.7 м). \n",
    " - floors_total - пропущенные значения были заполнены значениями, указаными в столбце floor, скорее всего не были указаны продавцом при размещении объявления умышленно, чтобы скрыть расположение квартиры на последнем этаже.\n",
    " - living_area - пропущенные значения были заменены с помощью соотношения общей площади и площади кухни.\n",
    " - is_apartment. Скорее всего такие данные не были предоставлены собственниками как не существенные. Такая информация указывается только если помещение является аппартаментами, поэтому все пропущенные значения были заменены на False.\n",
    " - kitchen_area - пропущенные значения были заменены с помощью соотношения общей площади и площади кухни.\n",
    " - balcony - скорее всего человек не указал число балконов, так как их нет. Такие пропуски заменили на 0. Также заменили значения больше 2 на 2 при условии, что площадь квартиры < 150 м.кв.\n",
    " - locality_name - почистили шум в значениях данных (удалили типы населенных пунктов).\n",
    " - произведена замена типа данных в следующих столбцах: last_price c float на int, floors_total, balcony, rooms c float на int - количество может быть только целым значением, floor c float на int - этажность может быть только целым значением, is_apartment, studio и open_plan c object на bool - принимают только два значения True и False.\n",
    " - произведен расчет дополнительных данных и их добавление в исходную таблицу.\n",
    " - произведенно исследование данных на предмет закономерностей.\n",
    "\n",
    "2. В ходе анализа данных были установлены следующие зависимости.\n",
    "    - Зависимость цены от площади. Как и ожидалось наибольшая зависимость стоимости квартиры наблюдается от площади, заметная корреляция имеется по всем трем показателям: общая площадь, жилая площадь, площадь кухни. Наибольший коэффициент корреляции составил 0.64, показывающий связь между общей площадью и ценой.\n",
    "    - При выборке типовых факторов квартир в центре и вне центра наблюдается снижение зависимости цены от площади. Согласно выборке в центре такая связь составляет 0.52, а вне центра 0.33. Также наблюдается снижение и по всем остьльным факторам. Единственный коэффицент который увеличился (хоть и со знаком минус) - зависимость между расстоянием от центра и ценой в выборке вне центра, что является логичным.\n",
    "    - На графике явно видно, что цена на первых и последних этажах ниже, чем на средних этажах. С развитием коммерческой недвижимости на первых этажах можно ожидать, что такая зависимость может изменится.\n",
    "    - Анализ показывает, что стоимость квартир-студий, апартаментов и квартир со свободной планировкой имеет высокую связь с общей площадью таких квартир, что связано с тем, что в таких квартир одна комната и поэтому площадь квартиры является чуть ли не основным фактором влияющим на покупку. Наблюдается увеличение зависимости от количества комнат (скорее всего это связано с тем, что в большинстве таких квартир одна комнта). Наблюдается умеренная связь с высотой потолка (возможная причина в том, что в таких помещениях (часто с одной комнатой) высокие потолки позволяю визуально увеличивать простраство, что может особенно цениться в таких квартирах). Увеличилась до умеренной связь с расстоянием до центра (возможно это связано с тем, что спрос на такие квартиры в спальных районах, а не в центре ниже).\n",
    "    - Анализ данных 10 населённых пунктов с наибольшим числом объявлений показывает, что количество объявление в Санкт-Петербурге более чем в 3 раза превышает общее количество объявлений в 9 пригородах. При этом стоимость квартиры в Пушкино не сильно уступает стоимости квартиры в Санкт-Петербурге.\n",
    "    - Зависимость стоимости квартиры от времени подачи объявления в ходе исследования установлена не была."
   ]
  }
 ],
 "metadata": {
  "kernelspec": {
   "display_name": "Python 3 (ipykernel)",
   "language": "python",
   "name": "python3"
  },
  "language_info": {
   "codemirror_mode": {
    "name": "ipython",
    "version": 3
   },
   "file_extension": ".py",
   "mimetype": "text/x-python",
   "name": "python",
   "nbconvert_exporter": "python",
   "pygments_lexer": "ipython3",
   "version": "3.9.12"
  }
 },
 "nbformat": 4,
 "nbformat_minor": 5
}
